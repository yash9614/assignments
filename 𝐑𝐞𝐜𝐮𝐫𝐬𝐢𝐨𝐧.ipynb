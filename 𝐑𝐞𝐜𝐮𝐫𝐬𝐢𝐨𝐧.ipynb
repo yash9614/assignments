{
 "cells": [
  {
   "cell_type": "code",
   "execution_count": null,
   "id": "629f423e-d09b-47b6-ba6c-520d11d77d5b",
   "metadata": {},
   "outputs": [],
   "source": [
    "'''Q.1 Can you explain the logic and working of the Tower of Hanoi algorithm by writing a Java program?\n",
    "How does the recursion work, and how are the movements of disks between rods accomplished?'''\n",
    "def tower_of_hanoi(n, source, target, auxiliary):\n",
    "    if n > 0:\n",
    "        # Move n-1 disks from source to auxiliary rod\n",
    "        tower_of_hanoi(n-1, source, auxiliary, target)\n",
    "\n",
    "        # Move the nth disk from source to target rod\n",
    "        print(f\"Move disk {n} from {source} to {target}\")\n",
    "\n",
    "        # Move the n-1 disks from auxiliary to target rod\n",
    "        tower_of_hanoi(n-1, auxiliary, target, source)\n",
    "\n",
    "# Example usage\n",
    "num_disks = 3\n",
    "tower_of_hanoi(num_disks, 'A', 'C', 'B')\n"
   ]
  },
  {
   "cell_type": "code",
   "execution_count": 3,
   "id": "97c83ebd-7bd3-4a16-9717-e946599908bf",
   "metadata": {},
   "outputs": [
    {
     "name": "stdout",
     "output_type": "stream",
     "text": [
      "Output 1: 3\n",
      "Output 2: 5\n"
     ]
    }
   ],
   "source": [
    "'''\n",
    "Q.2 Given two strings word1 and word2, return the minimum number of operations required to convert word1\n",
    "to word2.\n",
    "Example 1:\n",
    "Input: word1 = \"horse\", word2 = \"ros\"\n",
    "Output: 3\n",
    "Explanation:\n",
    "horse -> rorse (replace 'h' with 'r')\n",
    "rorse -> rose (remove 'r')\n",
    "rose -> ros (remove 'e')\n",
    "Example 2:\n",
    "Input: word1 = \"intention\", word2 = \"execution\"\n",
    "Output: 5\n",
    "Explanation:\n",
    "intention -> inention (remove 't')\n",
    "inention -> enention (replace 'i' with 'e')\n",
    "enention -> exention (replace 'n' with 'x')\n",
    "exention -> exection (replace 'n' with 'c')\n",
    "exection -> execution (insert 'u')\n",
    "'''\n",
    "def min_distance(word1, word2):\n",
    "    m, n = len(word1), len(word2)\n",
    "\n",
    "    # Create a 2D table to store the edit distances\n",
    "    dp = [[0] * (n + 1) for _ in range(m + 1)]\n",
    "\n",
    "    # Initialize the first row and column\n",
    "    for i in range(m + 1):\n",
    "        dp[i][0] = i\n",
    "    for j in range(n + 1):\n",
    "        dp[0][j] = j\n",
    "\n",
    "    # Fill in the table\n",
    "    for i in range(1, m + 1):\n",
    "        for j in range(1, n + 1):\n",
    "            if word1[i - 1] == word2[j - 1]:\n",
    "                dp[i][j] = dp[i - 1][j - 1]\n",
    "            else:\n",
    "                dp[i][j] = 1 + min(dp[i - 1][j],      # Deletion\n",
    "                                  dp[i][j - 1],      # Insertion\n",
    "                                  dp[i - 1][j - 1])  # Substitution\n",
    "\n",
    "    return dp[m][n]\n",
    "\n",
    "# Example usage\n",
    "word1_1, word2_1 = \"horse\", \"ros\"\n",
    "word1_2, word2_2 = \"intention\", \"execution\"\n",
    "\n",
    "output_1 = min_distance(word1_1, word2_1)\n",
    "output_2 = min_distance(word1_2, word2_2)\n",
    "\n",
    "print(f\"Output 1: {output_1}\")\n",
    "print(f\"Output 2: {output_2}\")\n"
   ]
  },
  {
   "cell_type": "code",
   "execution_count": 9,
   "id": "35a233a0-9588-48df-b3ee-7e997f57db5c",
   "metadata": {},
   "outputs": [
    {
     "data": {
      "text/plain": [
       "22"
      ]
     },
     "execution_count": 9,
     "metadata": {},
     "output_type": "execute_result"
    }
   ],
   "source": [
    "'''\n",
    "Q. 3 Print the max value of the array [ 13, 1, -3, 22, 5].\n",
    "'''\n",
    "def max_of_array(arr):\n",
    "    max_value= arr[0]\n",
    "    for i in range(len(arr)):\n",
    "        if arr[i] > max_value:\n",
    "            max_value = arr[i]\n",
    "    return max_value\n",
    "\n",
    "max_of_array([ 13, 1, -3, 22, 5])"
   ]
  },
  {
   "cell_type": "code",
   "execution_count": 10,
   "id": "04a5b3f5-05f1-4127-bf02-1a892cb19fbf",
   "metadata": {},
   "outputs": [],
   "source": [
    "'''\n",
    "Q.4 Find the sum of the values of the array [92, 23, 15, -20, 10].\n",
    "'''\n",
    "\n",
    "def total_sum(arr):\n",
    "    total_sum = 0\n",
    "    for i in arr:\n",
    "        total_sum += i\n",
    "    return total_sum"
   ]
  },
  {
   "cell_type": "code",
   "execution_count": 14,
   "id": "e673f369-9270-413f-a7e2-8fd87e080a6b",
   "metadata": {},
   "outputs": [
    {
     "name": "stdin",
     "output_type": "stream",
     "text": [
      "Enter a number 154\n"
     ]
    },
    {
     "name": "stdout",
     "output_type": "stream",
     "text": [
      "not an armstrong number\n"
     ]
    }
   ],
   "source": [
    "'''\n",
    "Q.5 Given a number n. Print if it is an armstrong number or not.An armstrong number is a number if the sum\n",
    "of every digit in that number raised to the power of total digits in that number is equal to the number.\n",
    "'''\n",
    "n = int(input('Enter a number'))\n",
    "sum = 0\n",
    "order = len(str(n))\n",
    "original_n = n\n",
    "while n >0:\n",
    "    digit = n % 10\n",
    "    sum += digit ** order\n",
    "    n//=10\n",
    "if (sum == original_n):\n",
    "    print('armstrong number')\n",
    "else:\n",
    "    print('not an armstrong number')"
   ]
  },
  {
   "cell_type": "code",
   "execution_count": 12,
   "id": "1675de82-bad8-4264-88a6-01f99f958e0e",
   "metadata": {},
   "outputs": [
    {
     "data": {
      "text/plain": [
       "120"
      ]
     },
     "execution_count": 12,
     "metadata": {},
     "output_type": "execute_result"
    }
   ],
   "source": []
  }
 ],
 "metadata": {
  "kernelspec": {
   "display_name": "Python 3 (ipykernel)",
   "language": "python",
   "name": "python3"
  },
  "language_info": {
   "codemirror_mode": {
    "name": "ipython",
    "version": 3
   },
   "file_extension": ".py",
   "mimetype": "text/x-python",
   "name": "python",
   "nbconvert_exporter": "python",
   "pygments_lexer": "ipython3",
   "version": "3.10.8"
  }
 },
 "nbformat": 4,
 "nbformat_minor": 5
}
