{
 "cells": [
  {
   "cell_type": "markdown",
   "id": "aea9b1ed-8344-416c-bc15-1e29796baac4",
   "metadata": {},
   "source": [
    "Problem 1: Bank Account Create a class representing a bank account with attributes like account number, account holder name, and balance. Implement methods to deposit and withdraw money from the account."
   ]
  },
  {
   "cell_type": "code",
   "execution_count": 3,
   "id": "6e7d0fbc-adf5-428c-8438-be89dc185b9a",
   "metadata": {
    "tags": []
   },
   "outputs": [],
   "source": [
    "class BankAccount:\n",
    "    def __init__(self, account_number, account_holder_name, balance = 0.0):\n",
    "        self.account_number = account_number\n",
    "        self.account_holder_name = account_holder_name\n",
    "        self.balance = balance\n",
    "        \n",
    "        \n",
    "    def deposit(self, amount):\n",
    "        if amount > 0:\n",
    "            self.balance += amount\n",
    "            return f'${amount} deposited. New balance : {self.balance:.2f}'\n",
    "        else:\n",
    "            return f'Deposit amount must be greater than 0'\n",
    "        \n",
    "    \n",
    "    def withdraw(self, amount):\n",
    "        if amount > 0:\n",
    "            if amount <= self.balance:\n",
    "                self.balance -= amount\n",
    "                return f'${amount} withdrawn. New balance : {self.balance:.2f}'\n",
    "            else:\n",
    "                return f'Insufficient balance for withdrawal'\n",
    "        else:\n",
    "            return f'Withdrawal amount must be greater than 0'\n",
    "        \n",
    "    \n",
    "    def get_balance(self):\n",
    "        return f'Account balance for {self.account_holder_name}: ${self.balance:.2f}'\n",
    "    \n",
    "    \n",
    "    def __str__(self):\n",
    "        return f'Account Number: {self.account_number}\\nAccount Holder: {self.account_holder_name}\\nbalance : ${self.balance:.2f}'"
   ]
  },
  {
   "cell_type": "code",
   "execution_count": 6,
   "id": "fd4364d0-f2fc-4636-8b12-103584490049",
   "metadata": {
    "tags": []
   },
   "outputs": [
    {
     "name": "stdout",
     "output_type": "stream",
     "text": [
      "Account Number: 91826655\n",
      "Account Holder: Ankit Raj\n",
      "balance : $0.00\n",
      "$300 deposited. New balance : 300.00\n",
      "$100 withdrawn. New balance : 200.00\n",
      "Account balance for Ankit Raj: $200.00\n"
     ]
    }
   ],
   "source": [
    "# Example usage:\n",
    "if __name__ == \"__main__\":\n",
    "    account1 = BankAccount(\"91826655\", \"Ankit Raj\")\n",
    "    print(account1)\n",
    "    print(account1.deposit(300))\n",
    "    print(account1.withdraw(100))\n",
    "    print(account1.get_balance())"
   ]
  },
  {
   "cell_type": "markdown",
   "id": "87f7ced9-bf0c-4dea-9fb4-fb079448b81a",
   "metadata": {
    "tags": []
   },
   "source": [
    "Problem 2: Employee Management Create a class representing an employee with attributes like employee ID, name, and salary. Implement methods to calculate the yearly bonus and display employee details."
   ]
  },
  {
   "cell_type": "code",
   "execution_count": 10,
   "id": "00733a7b-e597-4483-aa19-ad9f12da925b",
   "metadata": {
    "tags": []
   },
   "outputs": [],
   "source": [
    "class Employee:\n",
    "    \n",
    "    def __init__(self, employee_id, name, salary):\n",
    "        self.employee_id = employee_id\n",
    "        self.name = name\n",
    "        self.salary = salary\n",
    "        \n",
    "    \n",
    "    def calculate_yearly_bonus(self, bonus_percentage):\n",
    "        if bonus_percentage >= 0 and bonus_percentage <= 100:\n",
    "            bonus = (bonus_percentage / 100) * self.salary\n",
    "            return bonus\n",
    "        else:\n",
    "            return 'Invalid bonus percentage'\n",
    "        \n",
    "    def display_details(self):\n",
    "        return f'Employee ID: {self.employee_id}\\nSalary: ${self.salary:.2f}'"
   ]
  },
  {
   "cell_type": "code",
   "execution_count": 15,
   "id": "9960c147-dc0b-4f62-adac-a6da3f049686",
   "metadata": {
    "tags": []
   },
   "outputs": [
    {
     "name": "stdout",
     "output_type": "stream",
     "text": [
      "Employee ID: 1001\n",
      "Salary: $60000.00\n",
      "Yearly Bonus: $6000.00\n"
     ]
    }
   ],
   "source": [
    "# Example usage:\n",
    "if __name__ == \"__main__\":\n",
    "    employee1 = Employee(1001, \"John Doe\", 60000)\n",
    "    print(employee1.display_details())\n",
    "    \n",
    "    \n",
    "    bonus_percentage = 10\n",
    "    bonus = employee1.calculate_yearly_bonus(bonus_percentage)\n",
    "    if type(bonus) == str:\n",
    "        print(bonus)\n",
    "    else:\n",
    "        print(f\"Yearly Bonus: ${bonus:.2f}\")"
   ]
  },
  {
   "cell_type": "markdown",
   "id": "c87f37a3-09f4-4723-8374-000073c78a92",
   "metadata": {},
   "source": [
    "Problem 3: Vehicle Rental Create a class representing a vehicle rental system. Implement methods to rent a vehicle, return a vehicle, and display available vehicles."
   ]
  },
  {
   "cell_type": "code",
   "execution_count": 22,
   "id": "8c182cb8-76b5-4a22-9ac6-c93207d7d850",
   "metadata": {
    "tags": []
   },
   "outputs": [],
   "source": [
    "class VehicleRentalSystem:\n",
    "    def __init__(self):\n",
    "        self.available_vehicles = {}\n",
    "\n",
    "    def rent_vehicle(self, vehicle_type, vehicle_id):\n",
    "        if vehicle_type in self.available_vehicles and vehicle_id in self.available_vehicles[vehicle_type]:\n",
    "            self.available_vehicles[vehicle_type].remove(vehicle_id)\n",
    "            return f\"Rented {vehicle_type} with ID {vehicle_id}\"\n",
    "        else:\n",
    "            return \"Vehicle not available for rent.\"\n",
    "\n",
    "    def return_vehicle(self, vehicle_type, vehicle_id):\n",
    "        if vehicle_type in self.available_vehicles:\n",
    "            self.available_vehicles[vehicle_type].append(vehicle_id)\n",
    "            return f\"Returned {vehicle_type} with ID {vehicle_id}\"\n",
    "        else:\n",
    "            return \"Invalid vehicle type.\"\n",
    "\n",
    "    def display_available_vehicles(self):\n",
    "        available = {}\n",
    "        for vehicle_type, vehicles in self.available_vehicles.items():\n",
    "            if vehicles:\n",
    "                available[vehicle_type] = vehicles\n",
    "\n",
    "        if not available:\n",
    "            return \"No vehicles available for rent.\"\n",
    "        else:\n",
    "            return available\n",
    "\n",
    "    def add_vehicle(self, vehicle_type, vehicle_id):\n",
    "        if vehicle_type not in self.available_vehicles:\n",
    "            self.available_vehicles[vehicle_type] = []\n",
    "        self.available_vehicles[vehicle_type].append(vehicle_id)\n",
    "\n"
   ]
  },
  {
   "cell_type": "code",
   "execution_count": 23,
   "id": "55308f76-3954-4bc9-a258-d13bd0e7ffc0",
   "metadata": {
    "tags": []
   },
   "outputs": [
    {
     "name": "stdout",
     "output_type": "stream",
     "text": [
      "Available Vehicles:\n",
      "{'Car': ['C101', 'C102'], 'Motorcycle': ['M201', 'M202']}\n",
      "Rented Car with ID C101\n",
      "Rented Motorcycle with ID M201\n",
      "Available Vehicles after renting:\n",
      "{'Car': ['C102'], 'Motorcycle': ['M202']}\n",
      "Returned Car with ID C101\n",
      "Returned Motorcycle with ID M202\n",
      "Available Vehicles after returning:\n",
      "{'Car': ['C102', 'C101'], 'Motorcycle': ['M202', 'M202']}\n"
     ]
    }
   ],
   "source": [
    "# Example usage:\n",
    "if __name__ == \"__main__\":\n",
    "    rental_system = VehicleRentalSystem()\n",
    "    \n",
    "    rental_system.add_vehicle(\"Car\", \"C101\")\n",
    "    rental_system.add_vehicle(\"Car\", \"C102\")\n",
    "    rental_system.add_vehicle(\"Motorcycle\", \"M201\")\n",
    "    rental_system.add_vehicle(\"Motorcycle\", \"M202\")\n",
    "\n",
    "    print(\"Available Vehicles:\")\n",
    "    print(rental_system.display_available_vehicles())\n",
    "\n",
    "    print(rental_system.rent_vehicle(\"Car\", \"C101\"))\n",
    "    print(rental_system.rent_vehicle(\"Motorcycle\", \"M201\"))\n",
    "\n",
    "    print(\"Available Vehicles after renting:\")\n",
    "    print(rental_system.display_available_vehicles())\n",
    "\n",
    "    print(rental_system.return_vehicle(\"Car\", \"C101\"))\n",
    "    print(rental_system.return_vehicle(\"Motorcycle\", \"M202\"))\n",
    "\n",
    "    print(\"Available Vehicles after returning:\")\n",
    "    print(rental_system.display_available_vehicles())"
   ]
  },
  {
   "cell_type": "markdown",
   "id": "ab6d33cb-d18e-47c3-9a7a-b3a85aa24149",
   "metadata": {},
   "source": [
    "# "
   ]
  },
  {
   "cell_type": "markdown",
   "id": "39ada65a-f649-4ccb-bdf7-049f894fb927",
   "metadata": {},
   "source": [
    "Problem 4: Library Catalog Create classes representing a library and a book. Implement methods to add books to the library, borrow books, and display available books."
   ]
  },
  {
   "cell_type": "code",
   "execution_count": 26,
   "id": "1bf1a6ba-a4b2-427f-8ae8-87d5d7e971a9",
   "metadata": {
    "tags": []
   },
   "outputs": [],
   "source": [
    "class Book:\n",
    "    def __init__(self, title, author, isbn):\n",
    "        self.title = title\n",
    "        self.author = author\n",
    "        self.isbn = isbn\n",
    "        self.available = True\n",
    "\n",
    "    def __str__(self):\n",
    "        return f\"{self.title} by {self.author}\"\n",
    "\n",
    "    def is_available(self):\n",
    "        return self.available\n",
    "\n",
    "    def borrow(self):\n",
    "        if self.available:\n",
    "            self.available = False\n",
    "            return True\n",
    "        else:\n",
    "            return False\n",
    "\n",
    "    def return_book(self):\n",
    "        if not self.available:\n",
    "            self.available = True\n",
    "            return True\n",
    "        else:\n",
    "            return False\n",
    "\n",
    "\n",
    "class Library:\n",
    "    def __init__(self):\n",
    "        self.books = []\n",
    "\n",
    "    def add_book(self, book):\n",
    "        if isinstance(book, Book):\n",
    "            self.books.append(book)\n",
    "\n",
    "    def display_available_books(self):\n",
    "        available_books = [book for book in self.books if book.is_available()]\n",
    "        if available_books:\n",
    "            print(\"Available Books:\")\n",
    "            for book in available_books:\n",
    "                print(book)\n",
    "        else:\n",
    "            print(\"No available books in the library.\")\n",
    "\n",
    "    def borrow_book(self, title):\n",
    "        for book in self.books:\n",
    "            if book.title == title:\n",
    "                if book.is_available():\n",
    "                    book.borrow()\n",
    "                    print(f\"{title} has been borrowed.\")\n",
    "                else:\n",
    "                    print(f\"{title} is not available for borrowing.\")\n",
    "                return\n",
    "        print(f\"{title} is not found in the library.\")\n",
    "\n",
    "    def return_book(self, title):\n",
    "        for book in self.books:\n",
    "            if book.title == title:\n",
    "                if not book.is_available():\n",
    "                    book.return_book()\n",
    "                    print(f\"{title} has been returned to the library.\")\n",
    "                else:\n",
    "                    print(f\"{title} is already in the library and available for borrowing.\")\n",
    "                return\n",
    "        print(f\"{title} is not found in the library.\")"
   ]
  },
  {
   "cell_type": "code",
   "execution_count": 25,
   "id": "4e586418-89d2-41d7-86dd-8afd841e4c8d",
   "metadata": {
    "tags": []
   },
   "outputs": [
    {
     "name": "stdout",
     "output_type": "stream",
     "text": [
      "Available Books:\n",
      "The Great Gatsby by F. Scott Fitzgerald\n",
      "To Kill a Mockingbird by Harper Lee\n",
      "1984 by George Orwell\n",
      "The Great Gatsby has been borrowed.\n",
      "Available Books:\n",
      "To Kill a Mockingbird by Harper Lee\n",
      "1984 by George Orwell\n",
      "The Great Gatsby has been returned to the library.\n",
      "Available Books:\n",
      "The Great Gatsby by F. Scott Fitzgerald\n",
      "To Kill a Mockingbird by Harper Lee\n",
      "1984 by George Orwell\n"
     ]
    }
   ],
   "source": [
    "# Usage example:\n",
    "if __name__ == \"__main__\":\n",
    "    library = Library()\n",
    "\n",
    "    book1 = Book(\"The Great Gatsby\", \"F. Scott Fitzgerald\", \"978-0743273565\")\n",
    "    book2 = Book(\"To Kill a Mockingbird\", \"Harper Lee\", \"978-0061120084\")\n",
    "    book3 = Book(\"1984\", \"George Orwell\", \"978-0451524935\")\n",
    "\n",
    "    library.add_book(book1)\n",
    "    library.add_book(book2)\n",
    "    library.add_book(book3)\n",
    "\n",
    "    library.display_available_books()\n",
    "\n",
    "    library.borrow_book(\"The Great Gatsby\")\n",
    "    library.display_available_books()\n",
    "\n",
    "    library.return_book(\"The Great Gatsby\")\n",
    "    library.display_available_books()"
   ]
  },
  {
   "cell_type": "markdown",
   "id": "64694376-c8ae-455c-bcb6-ee6387d24056",
   "metadata": {},
   "source": [
    "# "
   ]
  },
  {
   "cell_type": "markdown",
   "id": "d73a2def-300d-4e21-b4db-b9596063c2e0",
   "metadata": {},
   "source": [
    "#### Problem 5: Product Inventory Create classes representing a product and an inventory system. Implement methods to add products to the inventory, update product quantity, and display available products."
   ]
  },
  {
   "cell_type": "code",
   "execution_count": 28,
   "id": "2ac90be6-15f9-4e0f-8f6c-5ce644e7a0f0",
   "metadata": {
    "tags": []
   },
   "outputs": [],
   "source": [
    "class Product:\n",
    "    def __init__(self, product_id, name, price, quantity):\n",
    "        self.product_id = product_id\n",
    "        self.name = name\n",
    "        self.price = price\n",
    "        self.quantity = quantity\n",
    "\n",
    "    def __str__(self):\n",
    "        return f\"{self.name} (Product ID: {self.product_id}) - Price: ${self.price:.2f} - Quantity: {self.quantity}\"\n",
    "\n",
    "    def update_quantity(self, new_quantity):\n",
    "        if new_quantity >= 0:\n",
    "            self.quantity = new_quantity\n",
    "        else:\n",
    "            print(\"Quantity cannot be negative.\")\n",
    "\n",
    "class Inventory:\n",
    "    def __init__(self):\n",
    "        self.products = []\n",
    "\n",
    "    def add_product(self, product):\n",
    "        if isinstance(product, Product):\n",
    "            self.products.append(product)\n",
    "\n",
    "    def display_available_products(self):\n",
    "        available_products = [product for product in self.products if product.quantity > 0]\n",
    "        if available_products:\n",
    "            print(\"Available Products:\")\n",
    "            for product in available_products:\n",
    "                print(product)\n",
    "        else:\n",
    "            print(\"No available products in the inventory.\")\n"
   ]
  },
  {
   "cell_type": "code",
   "execution_count": 29,
   "id": "bf1c6ac0-2583-41e7-90ea-a5e701e73e54",
   "metadata": {
    "tags": []
   },
   "outputs": [
    {
     "name": "stdout",
     "output_type": "stream",
     "text": [
      "Available Products:\n",
      "Laptop (Product ID: 1) - Price: $999.99 - Quantity: 10\n",
      "Phone (Product ID: 2) - Price: $599.99 - Quantity: 20\n",
      "Tablet (Product ID: 3) - Price: $299.99 - Quantity: 5\n",
      "Available Products:\n",
      "Laptop (Product ID: 1) - Price: $999.99 - Quantity: 8\n",
      "Phone (Product ID: 2) - Price: $599.99 - Quantity: 25\n",
      "Tablet (Product ID: 3) - Price: $299.99 - Quantity: 5\n"
     ]
    }
   ],
   "source": [
    "# Usage example:\n",
    "if __name__ == \"__main__\":\n",
    "    inventory = Inventory()\n",
    "\n",
    "    product1 = Product(1, \"Laptop\", 999.99, 10)\n",
    "    product2 = Product(2, \"Phone\", 599.99, 20)\n",
    "    product3 = Product(3, \"Tablet\", 299.99, 5)\n",
    "\n",
    "    inventory.add_product(product1)\n",
    "    inventory.add_product(product2)\n",
    "    inventory.add_product(product3)\n",
    "\n",
    "    inventory.display_available_products()\n",
    "\n",
    "    product1.update_quantity(8)\n",
    "    product2.update_quantity(25)\n",
    "\n",
    "    inventory.display_available_products()"
   ]
  },
  {
   "cell_type": "markdown",
   "id": "afe292d9-7099-42e8-9301-e9663f658b53",
   "metadata": {},
   "source": [
    "##### "
   ]
  },
  {
   "cell_type": "markdown",
   "id": "56493112-e9af-4484-8ec1-df830ee55bcf",
   "metadata": {},
   "source": [
    "Problem 6: Shape Calculation Create a class representing a shape with attributes like length, width, and height. Implement methods to calculate the area and perimeter of the shape."
   ]
  },
  {
   "cell_type": "code",
   "execution_count": 33,
   "id": "6d89aba9-a454-4eb5-9401-51f419e1a685",
   "metadata": {
    "tags": []
   },
   "outputs": [],
   "source": [
    "class Shape:\n",
    "    def __init__(self, length, width=0, height=0):\n",
    "        self.length = length\n",
    "        self.width = width\n",
    "        self.height = height\n",
    "\n",
    "    def area(self):\n",
    "        pass\n",
    "\n",
    "    def perimeter(self):\n",
    "        pass\n",
    "\n",
    "class Rectangle(Shape):\n",
    "    def area(self):\n",
    "        return self.length * self.width\n",
    "\n",
    "    def perimeter(self):\n",
    "        return 2 * (self.length + self.width)\n",
    "\n",
    "class Square(Rectangle):\n",
    "    def __init__(self, side):\n",
    "        super().__init__(side, side)\n",
    "\n",
    "class Triangle(Shape):\n",
    "    def area(self):\n",
    "        # Using Heron's formula to calculate the area of a triangle\n",
    "        s = (self.length + self.width + self.height) / 2\n",
    "        return (s * (s - self.length) * (s - self.width) * (s - self.height)) ** 0.5\n",
    "\n",
    "    def perimeter(self):\n",
    "        return self.length + self.width + self.height"
   ]
  },
  {
   "cell_type": "code",
   "execution_count": 32,
   "id": "6086d0b3-58e2-4261-9df7-96356d3d48dc",
   "metadata": {
    "tags": []
   },
   "outputs": [
    {
     "name": "stdout",
     "output_type": "stream",
     "text": [
      "Rectangle - Area: 20, Perimeter: 18\n",
      "Square - Area: 9, Perimeter: 12\n",
      "Triangle - Area: 6.0, Perimeter: 12\n"
     ]
    }
   ],
   "source": [
    "# Usage example:\n",
    "if __name__ == \"__main__\":\n",
    "    rectangle = Rectangle(5, 4)\n",
    "    square = Square(3)\n",
    "    triangle = Triangle(3, 4, 5)\n",
    "\n",
    "    print(f\"Rectangle - Area: {rectangle.area()}, Perimeter: {rectangle.perimeter()}\")\n",
    "    print(f\"Square - Area: {square.area()}, Perimeter: {square.perimeter()}\")\n",
    "    print(f\"Triangle - Area: {triangle.area()}, Perimeter: {triangle.perimeter()}\")"
   ]
  },
  {
   "cell_type": "markdown",
   "id": "7ce188c2-7c6e-4fe5-bebb-b61748b6cd6b",
   "metadata": {},
   "source": [
    "# "
   ]
  },
  {
   "cell_type": "markdown",
   "id": "872de2d5-8d33-438e-9a58-ec91628e0c6d",
   "metadata": {},
   "source": [
    "Problem 7: Student Management Create a class representing a student with attributes like student ID, name, and grades. Implement methods to calculate the average grade and display student details."
   ]
  },
  {
   "cell_type": "code",
   "execution_count": 36,
   "id": "374b5413-1ca3-4b80-9a96-72c8c0af4b74",
   "metadata": {
    "tags": []
   },
   "outputs": [],
   "source": [
    "class Student:\n",
    "    def __init__(self, student_id, name):\n",
    "        self.student_id = student_id\n",
    "        self.name = name\n",
    "        self.grades = []\n",
    "\n",
    "    def add_grade(self, grade):\n",
    "        self.grades.append(grade)\n",
    "\n",
    "    def calculate_average_grade(self):\n",
    "        if not self.grades:\n",
    "            return 0  # To avoid division by zero\n",
    "        return sum(self.grades) / len(self.grades)\n",
    "\n",
    "    def display_student_details(self):\n",
    "        print(f\"Student ID: {self.student_id}\")\n",
    "        print(f\"Name: {self.name}\")\n",
    "        print(f\"Grades: {', '.join(map(str, self.grades))}\")\n",
    "        print(f\"Average Grade: {self.calculate_average_grade()}\")"
   ]
  },
  {
   "cell_type": "code",
   "execution_count": 37,
   "id": "2f35049a-5369-4941-9d1a-6379154b4ac2",
   "metadata": {
    "tags": []
   },
   "outputs": [
    {
     "name": "stdout",
     "output_type": "stream",
     "text": [
      "Student ID: 1\n",
      "Name: Ankit\n",
      "Grades: 95, 88, 91\n",
      "Average Grade: 91.33333333333333\n",
      "\n",
      "Student ID: 2\n",
      "Name: Raju\n",
      "Grades: 78, 85, 92\n",
      "Average Grade: 85.0\n"
     ]
    }
   ],
   "source": [
    "# Usage example:\n",
    "if __name__ == \"__main__\":\n",
    "    student1 = Student(1, \"Ankit\")\n",
    "    student1.add_grade(95)\n",
    "    student1.add_grade(88)\n",
    "    student1.add_grade(91)\n",
    "\n",
    "    student2 = Student(2,  \"Raju \")\n",
    "    student2.add_grade(78)\n",
    "    student2.add_grade(85)\n",
    "    student2.add_grade(92)\n",
    "\n",
    "    student1.display_student_details()\n",
    "    print()\n",
    "    student2.display_student_details()\n",
    "# In this code, we create a Student class with attributes for student ID, name, and a list to store the grades. We provide methods to add grades, calculate the average grade, and display the student details. The usage example demonstrates how to create two student instances, add grades to them, and display their details.\n",
    "\n",
    "# You can extend this class and add more functionality, such as methods to add more information about the student or to calculate additional statistics related to the grades.\n",
    "\n",
    "\n",
    "\n"
   ]
  },
  {
   "cell_type": "markdown",
   "id": "170d20b8-f83e-40d8-9633-0dac63cf8581",
   "metadata": {},
   "source": [
    "# "
   ]
  },
  {
   "cell_type": "markdown",
   "id": "00e33bb3-7b73-46d2-bec7-fc48bdc4b920",
   "metadata": {},
   "source": [
    "Problem 8: Email Management Create a class representing an email with attributes like sender, recipient, and subject. Implement methods to send an email and display email details."
   ]
  },
  {
   "cell_type": "code",
   "execution_count": 45,
   "id": "78975d04-4aa5-4340-8efc-128322953e2c",
   "metadata": {
    "tags": []
   },
   "outputs": [],
   "source": [
    "class Email:\n",
    "    def __init__(self, sender, recipient, subject, message):\n",
    "        self.sender = sender\n",
    "        self.recipient = recipient\n",
    "        self.subject = subject\n",
    "        self.message = message\n",
    "        self.sent = False\n",
    "\n",
    "    def send_email(self):\n",
    "        if not self.sent:\n",
    "            print(f\"Email sent from {self.sender} to {self.recipient} with subject '{self.subject}'\")\n",
    "            print(\"Message:\")\n",
    "            print(self.message)\n",
    "            self.sent = True\n",
    "        else:\n",
    "            print(\"This email has already been sent.\")\n",
    "\n",
    "    def display_email_details(self):\n",
    "        print(\"Email Details:\")\n",
    "        print(f\"Sender: {self.sender}\")\n",
    "        print(f\"Recipient: {self.recipient}\")\n",
    "        print(f\"Subject: {self.subject}\")\n",
    "        print(\"Message:\")\n",
    "        print(self.message)\n",
    "        if self.sent:\n",
    "            print(\"Status: Email has been sent.\")\n",
    "        else:\n",
    "            print(\"Status: Email has not been sent yet.\")\n"
   ]
  },
  {
   "cell_type": "code",
   "execution_count": 46,
   "id": "16f664d9-8c83-4510-8156-130301db7cc3",
   "metadata": {
    "tags": []
   },
   "outputs": [
    {
     "name": "stdout",
     "output_type": "stream",
     "text": [
      "Email Details:\n",
      "Sender: Rajesh@cwh.com\n",
      "Recipient: Rakesh@cwh.com\n",
      "Subject: Meeting Tomorrow\n",
      "Message:\n",
      "Hi Rakesh, let's meet tomorrow to discuss the project.\n",
      "Status: Email has not been sent yet.\n",
      "Email sent from Rajesh@cwh.com to Rakesh@cwh.com with subject 'Meeting Tomorrow'\n",
      "Message:\n",
      "Hi Rakesh, let's meet tomorrow to discuss the project.\n",
      "\n",
      "Email Details:\n",
      "Sender: Karina@cwh.com\n",
      "Recipient: Dev@cwh.com\n",
      "Subject: Project Update\n",
      "Message:\n",
      "Hi Dev, here's the latest update on the project.\n",
      "Status: Email has not been sent yet.\n",
      "Email sent from Karina@cwh.com to Dev@cwh.com with subject 'Project Update'\n",
      "Message:\n",
      "Hi Dev, here's the latest update on the project.\n"
     ]
    }
   ],
   "source": [
    "# Usage example:\n",
    "if __name__ == \"__main__\":\n",
    "    email1 = Email(\"Rajesh@cwh.com\", \"Rakesh@cwh.com\", \"Meeting Tomorrow\", \"Hi Rakesh, let's meet tomorrow to discuss the project.\")\n",
    "    email2 = Email(\"Karina@cwh.com\", \"Dev@cwh.com\", \"Project Update\", \"Hi Dev, here's the latest update on the project.\")\n",
    "\n",
    "    email1.display_email_details()\n",
    "    email1.send_email()\n",
    "\n",
    "    print()\n",
    "    \n",
    "    email2.display_email_details()\n",
    "    email2.send_email()"
   ]
  },
  {
   "cell_type": "markdown",
   "id": "6afadb19-cf09-43d0-b73e-599e29af9c84",
   "metadata": {},
   "source": [
    "## "
   ]
  },
  {
   "cell_type": "markdown",
   "id": "bf8905a0-5b85-482a-9518-6eee43daf1ca",
   "metadata": {},
   "source": [
    "#### Problem 9: Social Media Profile Create a class representing a social media profile with attributes like username and posts. Implement methods to add posts, display posts, and search for posts by keyword."
   ]
  },
  {
   "cell_type": "code",
   "execution_count": 49,
   "id": "10ac9620-f5de-453e-9caf-8988ad17593f",
   "metadata": {
    "tags": []
   },
   "outputs": [],
   "source": [
    "class SocialMediaProfile:\n",
    "    def __init__(self, username):\n",
    "        self.username = username\n",
    "        self.posts = []\n",
    "\n",
    "    def add_post(self, content):\n",
    "        self.posts.append(content)\n",
    "\n",
    "    def display_posts(self):\n",
    "        if not self.posts:\n",
    "            print(f\"{self.username} has no posts yet.\")\n",
    "        else:\n",
    "            print(f\"{self.username}'s Posts:\")\n",
    "            for i, post in enumerate(self.posts, 1):\n",
    "                print(f\"Post {i}: {post}\")\n",
    "\n",
    "    def search_posts(self, keyword):\n",
    "        matching_posts = [post for post in self.posts if keyword in post]\n",
    "        if matching_posts:\n",
    "            print(f\"Posts by {self.username} containing '{keyword}':\")\n",
    "            for i, post in enumerate(matching_posts, 1):\n",
    "                print(f\"Match {i}: {post}\")\n",
    "        else:\n",
    "            print(f\"No posts by {self.username} containing '{keyword}' were found.\")"
   ]
  },
  {
   "cell_type": "code",
   "execution_count": 50,
   "id": "35c3f1e2-3101-434b-9761-90aee470b15b",
   "metadata": {
    "tags": []
   },
   "outputs": [
    {
     "name": "stdout",
     "output_type": "stream",
     "text": [
      "Arjun's Posts:\n",
      "Post 1: Enjoying a beautiful day in the park.\n",
      "Post 2: Just had a great meal with friends.\n",
      "\n",
      "Bhavesh's Posts:\n",
      "Post 1: Hiking up the mountain trail.\n",
      "Post 2: New recipe I tried today - it's delicious!\n",
      "\n",
      "Posts by Arjun containing 'park':\n",
      "Match 1: Enjoying a beautiful day in the park.\n",
      "\n",
      "Posts by Bhavesh containing 'recipe':\n",
      "Match 1: New recipe I tried today - it's delicious!\n"
     ]
    }
   ],
   "source": [
    "# Usage example:\n",
    "if __name__ == \"__main__\":\n",
    "    profile1 = SocialMediaProfile(\"Arjun\")\n",
    "    profile1.add_post(\"Enjoying a beautiful day in the park.\")\n",
    "    profile1.add_post(\"Just had a great meal with friends.\")\n",
    "\n",
    "    profile2 = SocialMediaProfile(\"Bhavesh\")\n",
    "    profile2.add_post(\"Hiking up the mountain trail.\")\n",
    "    profile2.add_post(\"New recipe I tried today - it's delicious!\")\n",
    "\n",
    "    profile1.display_posts()\n",
    "    print()\n",
    "\n",
    "    profile2.display_posts()\n",
    "    print()\n",
    "\n",
    "    profile1.search_posts(\"park\")\n",
    "    print()\n",
    "\n",
    "    profile2.search_posts(\"recipe\")\n"
   ]
  },
  {
   "cell_type": "markdown",
   "id": "fc4771ad-a938-4c7f-aeea-afd00a4292de",
   "metadata": {},
   "source": [
    "# "
   ]
  },
  {
   "cell_type": "markdown",
   "id": "9d656a40-ad63-48ef-b850-c34d023a4edc",
   "metadata": {},
   "source": [
    "### Problem 10: ToDo List Create a class representing a ToDo list with attributes like tasks and due dates. Implement methods to add tasks, mark tasks as completed, and display pending tasks."
   ]
  },
  {
   "cell_type": "code",
   "execution_count": 55,
   "id": "374b77c5-8119-4590-bb57-d0721e1aeafe",
   "metadata": {
    "tags": []
   },
   "outputs": [],
   "source": [
    "class ToDoList:\n",
    "    def __init__(self):\n",
    "        self.tasks = []\n",
    "\n",
    "    def add_task(self, task, due_date=None):\n",
    "        if due_date is not None and not isinstance(due_date, str):\n",
    "            raise ValueError(\"Due date should be a string (e.g., '2029-10-31').\")\n",
    "\n",
    "        self.tasks.append({\"task\": task, \"due_date\": due_date, \"completed\": False})\n",
    "\n",
    "    def mark_task_as_completed(self, task_index):\n",
    "        if 0 <= task_index < len(self.tasks):\n",
    "            self.tasks[task_index][\"completed\"] = True\n",
    "        else:\n",
    "            print(\"Invalid task index. Please provide a valid index.\")\n",
    "\n",
    "    def display_pending_tasks(self):\n",
    "        pending_tasks = [task for task in self.tasks if not task[\"completed\"]]\n",
    "        if pending_tasks:\n",
    "            print(\"Pending Tasks:\")\n",
    "            for i, task in enumerate(pending_tasks, 1):\n",
    "                print(f\"{i}: {task['task']} (Due Date: {task['due_date']})\")\n",
    "        else:\n",
    "            print(\"No pending tasks in the ToDo list.\")"
   ]
  },
  {
   "cell_type": "code",
   "execution_count": 56,
   "id": "ac38df35-1916-47f2-a42a-ac5744a991a5",
   "metadata": {
    "tags": []
   },
   "outputs": [
    {
     "name": "stdout",
     "output_type": "stream",
     "text": [
      "Pending Tasks:\n",
      "1: Buy groceries (Due Date: 2023-09-15)\n",
      "2: Finish project (Due Date: None)\n",
      "3: Call mom (Due Date: 2023-09-20)\n",
      "4: Go for a run (Due Date: 2023-09-16)\n",
      "\n",
      "After marking some tasks as completed:\n",
      "\n",
      "Pending Tasks:\n",
      "1: Buy groceries (Due Date: 2023-09-15)\n",
      "2: Call mom (Due Date: 2023-09-20)\n"
     ]
    }
   ],
   "source": [
    "# Usage example:\n",
    "if __name__ == \"__main__\":\n",
    "    todo_list = ToDoList()\n",
    "\n",
    "    todo_list.add_task(\"Buy groceries\", \"2023-09-15\")\n",
    "    todo_list.add_task(\"Finish project\")\n",
    "    todo_list.add_task(\"Call mom\", \"2023-09-20\")\n",
    "    todo_list.add_task(\"Go for a run\", \"2023-09-16\")\n",
    "\n",
    "    todo_list.display_pending_tasks()\n",
    "\n",
    "    todo_list.mark_task_as_completed(1)\n",
    "    todo_list.mark_task_as_completed(3)\n",
    "\n",
    "    print(\"\\nAfter marking some tasks as completed:\\n\")\n",
    "\n",
    "    todo_list.display_pending_tasks()\n"
   ]
  }
 ],
 "metadata": {
  "kernelspec": {
   "display_name": "Python 3 (ipykernel)",
   "language": "python",
   "name": "python3"
  },
  "language_info": {
   "codemirror_mode": {
    "name": "ipython",
    "version": 3
   },
   "file_extension": ".py",
   "mimetype": "text/x-python",
   "name": "python",
   "nbconvert_exporter": "python",
   "pygments_lexer": "ipython3",
   "version": "3.10.9"
  }
 },
 "nbformat": 4,
 "nbformat_minor": 5
}
