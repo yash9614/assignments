{
 "cells": [
  {
   "cell_type": "code",
   "execution_count": 2,
   "id": "79204583",
   "metadata": {},
   "outputs": [
    {
     "name": "stdout",
     "output_type": "stream",
     "text": [
      "0\n",
      "1\n",
      "2\n",
      "3\n",
      "4\n",
      "5\n",
      "6\n",
      "7\n",
      "8\n",
      "9\n",
      "10\n"
     ]
    }
   ],
   "source": [
    "# 1. Write a Python program to print the numbers from 1 to 10 using a `for` loop.\n",
    "\n",
    "for i in range(11):\n",
    "    print(i)"
   ]
  },
  {
   "cell_type": "code",
   "execution_count": 6,
   "id": "33d5bfee",
   "metadata": {},
   "outputs": [
    {
     "data": {
      "text/plain": [
       "28"
      ]
     },
     "execution_count": 6,
     "metadata": {},
     "output_type": "execute_result"
    }
   ],
   "source": [
    "# 2. Create a program that calculates the sum of all numbers in a list using a `for` loop.\n",
    "\n",
    "list1 = [1,2,3,4,5,6,7]\n",
    "\n",
    "sum1 = 0\n",
    "\n",
    "for i in list1:\n",
    "    sum1 = sum1 + i\n",
    "sum1"
   ]
  },
  {
   "cell_type": "code",
   "execution_count": 9,
   "id": "e32d8dcd",
   "metadata": {},
   "outputs": [
    {
     "name": "stdout",
     "output_type": "stream",
     "text": [
      "Enter a string: Hello\n",
      "Reversed string: olleH\n"
     ]
    }
   ],
   "source": [
    "# 3. Write a program to print the characters of a string in reverse order using a `for` loop.\n",
    "\n",
    "# Input string\n",
    "input_string = input(\"Enter a string: \")\n",
    "\n",
    "# Initialize an empty string to store the reversed string\n",
    "reversed_string = \"\"\n",
    "\n",
    "# Iterate through the input_string in reverse order\n",
    "for char in reversed(input_string):\n",
    "    reversed_string += char\n",
    "\n",
    "# Print the reversed string\n",
    "print(\"Reversed string:\", reversed_string)\n"
   ]
  },
  {
   "cell_type": "code",
   "execution_count": 22,
   "id": "a09f5fb9",
   "metadata": {},
   "outputs": [
    {
     "name": "stdout",
     "output_type": "stream",
     "text": [
      "5\n"
     ]
    },
    {
     "data": {
      "text/plain": [
       "'factorial of the number is 120'"
      ]
     },
     "execution_count": 22,
     "metadata": {},
     "output_type": "execute_result"
    }
   ],
   "source": [
    "# 4. Develop a program that finds the factorial of a given number using a `for` loop.\n",
    "\n",
    "n = int(input())\n",
    "\n",
    "factorial = 1\n",
    "\n",
    "if n < 0:\n",
    "    print('Factorial is not defined for negative numbers')\n",
    "elif n == 0:\n",
    "    print('Factorial of 0 is equal to 1')\n",
    "else:\n",
    "    for i in range(1, n+1):\n",
    "        factorial *= i\n",
    "f'factorial of the number is {factorial}'"
   ]
  },
  {
   "cell_type": "code",
   "execution_count": 3,
   "id": "b6f8e380",
   "metadata": {},
   "outputs": [
    {
     "name": "stdout",
     "output_type": "stream",
     "text": [
      "6\n",
      "factorial of number is 720\n"
     ]
    }
   ],
   "source": [
    "\n",
    "n = int(input())\n",
    "\n",
    "factorial = 1\n",
    "\n",
    "if n < 0:\n",
    "    print('factorial is not defined for negative numbers')\n",
    "elif n == 0:\n",
    "    print('Factorial of 0 is 1')\n",
    "else:\n",
    "    for i in range(1, n + 1):\n",
    "        factorial *=i\n",
    "print('factorial of number is' , factorial)"
   ]
  },
  {
   "cell_type": "code",
   "execution_count": 31,
   "id": "281489ca",
   "metadata": {},
   "outputs": [
    {
     "name": "stdout",
     "output_type": "stream",
     "text": [
      "1\n",
      "3628800\n"
     ]
    }
   ],
   "source": [
    "# 5. Create a program to print the multiplication table of a given number using a `for` loop.\n",
    "\n",
    "\n",
    "n = int(input())\n",
    "\n",
    "\n",
    "for i in range(1, 11):\n",
    "    n = n * i \n",
    "print(n)\n"
   ]
  },
  {
   "cell_type": "code",
   "execution_count": 38,
   "id": "ce24eb2f",
   "metadata": {},
   "outputs": [
    {
     "name": "stdout",
     "output_type": "stream",
     "text": [
      "even no. count is: 6\n",
      "odd no. count is: 4\n"
     ]
    }
   ],
   "source": [
    "# 6. Write a program that counts the number of even and odd numbers in a list using a `for` loop.\n",
    "\n",
    "list12 = [1,2,3,4,5,6,99, 86, 88, 7654]\n",
    "\n",
    "even = 0\n",
    "\n",
    "odd = 0\n",
    "\n",
    "for num in list12:\n",
    "    if num % 2 == 0:\n",
    "        even +=1\n",
    "    else:\n",
    "        odd +=1\n",
    "print('even no. count is:', even)\n",
    "print('odd no. count is:' , odd)"
   ]
  },
  {
   "cell_type": "code",
   "execution_count": 42,
   "id": "25d92297",
   "metadata": {},
   "outputs": [
    {
     "name": "stdout",
     "output_type": "stream",
     "text": [
      "1\n",
      "4\n",
      "9\n",
      "16\n",
      "25\n"
     ]
    }
   ],
   "source": [
    "# 7. Develop a program that prints the squares of numbers from 1 to 5 using a `for` loop.\n",
    "\n",
    "n = 1\n",
    "for i in range(1, 6):\n",
    "    n = i ** 2\n",
    "    print(n)\n",
    "    "
   ]
  },
  {
   "cell_type": "code",
   "execution_count": 43,
   "id": "b63e1ca1",
   "metadata": {},
   "outputs": [
    {
     "name": "stdout",
     "output_type": "stream",
     "text": [
      "14\n"
     ]
    }
   ],
   "source": [
    "# 8. Create a program to find the length of a string without using the `len()` function.\n",
    "\n",
    "string = 'Hello pwskills'\n",
    "\n",
    "length = 0\n",
    "\n",
    "for i in string:\n",
    "    \n",
    "    length = length +1\n",
    "\n",
    "print(length)"
   ]
  },
  {
   "cell_type": "code",
   "execution_count": 50,
   "id": "cf900bc2",
   "metadata": {},
   "outputs": [
    {
     "data": {
      "text/plain": [
       "4.625"
      ]
     },
     "execution_count": 50,
     "metadata": {},
     "output_type": "execute_result"
    }
   ],
   "source": [
    "# 9. Write a program that calculates the average of a list of numbers using a `for` loop.\n",
    "\n",
    "numlist = [1,2,3,4,5,7, 7, 8]\n",
    "\n",
    "\n",
    "avg = 0\n",
    "\n",
    "for i in numlist:\n",
    "    avg = (avg + i / len(numlist))\n",
    "avg\n",
    "    "
   ]
  },
  {
   "cell_type": "code",
   "execution_count": 58,
   "id": "b8fcbbb4",
   "metadata": {},
   "outputs": [
    {
     "name": "stdout",
     "output_type": "stream",
     "text": [
      "Enter the number of Fibonacci numbers to generate: 5\n",
      "Fibonacci sequence: 0 1 1 2 3 \n"
     ]
    }
   ],
   "source": [
    "# 10. Develop a program that prints the first `n` Fibonacci numbers using a `for` loop.\n",
    "\n",
    "\n",
    "n = int(input(\"Enter the number of Fibonacci numbers to generate: \"))\n",
    "\n",
    "# Initialize the first two Fibonacci numbers\n",
    "fibonacci_sequence = [0, 1]\n",
    "\n",
    "# Check if n is less than or equal to 0\n",
    "if n <= 0:\n",
    "    print(\"Please enter a positive integer.\")\n",
    "elif n == 1:\n",
    "    print(\"Fibonacci sequence:\", fibonacci_sequence[0])\n",
    "elif n == 2:\n",
    "    print(\"Fibonacci sequence:\", fibonacci_sequence[0], fibonacci_sequence[1])\n",
    "else:\n",
    "    # Generate the Fibonacci sequence using a for loop\n",
    "    for i in range(2, n):\n",
    "        next_fibonacci = fibonacci_sequence[-1] + fibonacci_sequence[-2]\n",
    "        fibonacci_sequence.append(next_fibonacci)\n",
    "\n",
    "    # Print the Fibonacci sequence\n",
    "    print(\"Fibonacci sequence:\", end=\" \")\n",
    "    for number in fibonacci_sequence:\n",
    "        print(number, end=\" \")\n",
    "    print()"
   ]
  },
  {
   "cell_type": "code",
   "execution_count": 67,
   "id": "0eb23298",
   "metadata": {},
   "outputs": [
    {
     "name": "stdout",
     "output_type": "stream",
     "text": [
      "The list doesnt have duplicates\n"
     ]
    }
   ],
   "source": [
    "# 11. Write a program to check if a given list contains any duplicates using a `for` loop.\n",
    "numlist = [1, 2, 3, 4, 5, 7, 8]\n",
    "\n",
    "\n",
    "seen = set()\n",
    "\n",
    "has_duplicates = False\n",
    "\n",
    "\n",
    "for num in numlist:\n",
    "    if num in seen:\n",
    "        has_duplicates = True\n",
    "        break\n",
    "    seen.add(num)\n",
    "\n",
    "if has_duplicates:\n",
    "    print('The list has duplicates')\n",
    "else:\n",
    "    print('The list doesnt have duplicates')"
   ]
  },
  {
   "cell_type": "code",
   "execution_count": 68,
   "id": "2734c104",
   "metadata": {},
   "outputs": [
    {
     "data": {
      "text/plain": [
       "{1, 2, 3, 4, 5, 7, 8}"
      ]
     },
     "execution_count": 68,
     "metadata": {},
     "output_type": "execute_result"
    }
   ],
   "source": [
    "seen"
   ]
  },
  {
   "cell_type": "code",
   "execution_count": 71,
   "id": "44891215",
   "metadata": {},
   "outputs": [
    {
     "name": "stdout",
     "output_type": "stream",
     "text": [
      "The list doesn't have duplicates\n"
     ]
    }
   ],
   "source": [
    "seen = set()\n",
    "has_duplicates = False\n",
    "\n",
    "for num in numlist:\n",
    "    if num in seen:\n",
    "        has_duplicates = True\n",
    "        break\n",
    "    seen.add(num)\n",
    "\n",
    "if has_duplicates:\n",
    "    print('the list has duplicates')\n",
    "else:\n",
    "    print(\"The list doesn't have duplicates\")"
   ]
  },
  {
   "cell_type": "code",
   "execution_count": 74,
   "id": "efbb5755",
   "metadata": {},
   "outputs": [
    {
     "name": "stdout",
     "output_type": "stream",
     "text": [
      "101\n",
      "103\n",
      "107\n",
      "109\n",
      "113\n",
      "127\n",
      "131\n",
      "137\n",
      "139\n",
      "149\n",
      "151\n",
      "157\n",
      "163\n",
      "167\n",
      "173\n",
      "179\n",
      "181\n",
      "191\n",
      "193\n",
      "197\n",
      "199\n"
     ]
    }
   ],
   "source": [
    "# 12. Create a program that prints the prime numbers in a given range using a `for` loop.\n",
    "\n",
    "\n",
    "lower = 100\n",
    "\n",
    "upper = 200\n",
    "\n",
    "for num in range(lower, upper +1):\n",
    "    if num > 1:\n",
    "        for i in range (2 , num):\n",
    "            if (num % i == 0):\n",
    "                break\n",
    "        else:\n",
    "                print(num)"
   ]
  },
  {
   "cell_type": "code",
   "execution_count": 73,
   "id": "142428f6",
   "metadata": {},
   "outputs": [
    {
     "name": "stdout",
     "output_type": "stream",
     "text": [
      "Prime numbers between 900 and 1000 are:\n",
      "907\n",
      "911\n",
      "919\n",
      "929\n",
      "937\n",
      "941\n",
      "947\n",
      "953\n",
      "967\n",
      "971\n",
      "977\n",
      "983\n",
      "991\n",
      "997\n"
     ]
    }
   ],
   "source": [
    "# Python program to display all the prime numbers within an interval\n",
    "\n",
    "lower = 900\n",
    "upper = 1000\n",
    "\n",
    "print(\"Prime numbers between\", lower, \"and\", upper, \"are:\")\n",
    "\n",
    "for num in range(lower, upper + 1):\n",
    "   # all prime numbers are greater than 1\n",
    "   if num > 1:\n",
    "       for i in range(2, num):\n",
    "           if (num % i) == 0:\n",
    "               break\n",
    "       else:\n",
    "           print(num)"
   ]
  },
  {
   "cell_type": "code",
   "execution_count": 77,
   "id": "bd777440",
   "metadata": {},
   "outputs": [
    {
     "name": "stdout",
     "output_type": "stream",
     "text": [
      "2\n",
      "3\n",
      "5\n",
      "7\n"
     ]
    }
   ],
   "source": [
    "lower = 2\n",
    "\n",
    "upper = 10\n",
    "\n",
    "for num in range(lower , upper + 1):\n",
    "    if num > 1:\n",
    "        for i in range(2, num):\n",
    "            if (num % i == 0):\n",
    "                break\n",
    "        else:\n",
    "                print(num)"
   ]
  },
  {
   "cell_type": "code",
   "execution_count": 79,
   "id": "b965aecb",
   "metadata": {},
   "outputs": [
    {
     "name": "stdout",
     "output_type": "stream",
     "text": [
      "2\n",
      "3\n",
      "5\n",
      "7\n",
      "11\n",
      "13\n",
      "17\n",
      "19\n"
     ]
    }
   ],
   "source": [
    "lower = 2\n",
    "\n",
    "upper = 20\n",
    "\n",
    "\n",
    "for num in range(lower, upper +1):\n",
    "    if num > 1:\n",
    "        for i in range(2, num):\n",
    "            if (num % i == 0):\n",
    "                break\n",
    "        else:\n",
    "            print(num)"
   ]
  },
  {
   "cell_type": "code",
   "execution_count": 80,
   "id": "febab24a",
   "metadata": {},
   "outputs": [
    {
     "name": "stdout",
     "output_type": "stream",
     "text": [
      "6\n"
     ]
    }
   ],
   "source": [
    "# 13. Develop a program that counts the number of vowels in a string using a `for` loop.\n",
    "\n",
    "\n",
    "string0 = 'Develop a program'\n",
    "\n",
    "vowels = 'aeiou'\n",
    "\n",
    "count = 0\n",
    "\n",
    "for i in string0:\n",
    "    if i in vowels:\n",
    "        count+=1\n",
    "print(count)"
   ]
  },
  {
   "cell_type": "code",
   "execution_count": 88,
   "id": "8291835c",
   "metadata": {},
   "outputs": [
    {
     "name": "stdout",
     "output_type": "stream",
     "text": [
      "8666\n"
     ]
    }
   ],
   "source": [
    "# 14. Write a program to find the maximum element in a 2D list using a nested `for` loop.\n",
    "\n",
    "nested_list = [1,2,3,4,5,6,[7,7,8,8666,7,8]]\n",
    "\n",
    "# initialise the max element with a very small value\n",
    "\n",
    "max_element = float('-inf')\n",
    "\n",
    "for item in nested_list:\n",
    "    if isinstance(item, list):\n",
    "        for subitem in item:\n",
    "            if subitem > max_element:\n",
    "                max_element = subitem\n",
    "    else:\n",
    "        item  > max_element\n",
    "        max_element = item\n",
    "print(max_element)"
   ]
  },
  {
   "cell_type": "code",
   "execution_count": 89,
   "id": "77fa2ab6",
   "metadata": {},
   "outputs": [
    {
     "name": "stdout",
     "output_type": "stream",
     "text": [
      "8666\n"
     ]
    }
   ],
   "source": [
    "max_element = float('-inf')\n",
    "\n",
    "for item in nested_list:\n",
    "    if isinstance(item, list):\n",
    "        for sub_item in item:\n",
    "            if sub_item > max_element:\n",
    "                max_element = sub_item\n",
    "    else:\n",
    "        item > max_element\n",
    "        max_element = item\n",
    "print(max_element)"
   ]
  },
  {
   "cell_type": "code",
   "execution_count": 98,
   "id": "31e3749c",
   "metadata": {},
   "outputs": [
    {
     "name": "stdout",
     "output_type": "stream",
     "text": [
      "[0, 1, 3, 4, 5, 6, 7, 8, 9]\n"
     ]
    }
   ],
   "source": [
    "# 15. Create a program that removes all occurrences of a specific element from a list using a `for` loop.\n",
    "\n",
    "\n",
    "list1 = [i for i in range(10)]\n",
    "list1.append(2)\n",
    "list1\n",
    "\n",
    "to_remove = 2\n",
    "\n",
    "new_list = []\n",
    "\n",
    "for item in list1:\n",
    "    if item !=to_remove:\n",
    "        new_list.append(item)\n",
    "print(new_list)"
   ]
  },
  {
   "cell_type": "code",
   "execution_count": 16,
   "id": "31a7cd55",
   "metadata": {},
   "outputs": [
    {
     "name": "stdout",
     "output_type": "stream",
     "text": [
      "Multiplication table for 1:\n",
      "1 * 1 = 1\n",
      "1 * 2 = 2\n",
      "1 * 3 = 3\n",
      "1 * 4 = 4\n",
      "1 * 5 = 5\n",
      "1 * 6 = 6\n",
      "1 * 7 = 7\n",
      "1 * 8 = 8\n",
      "1 * 9 = 9\n",
      "1 * 10 = 10\n",
      "Multiplication table for 2:\n",
      "2 * 1 = 2\n",
      "2 * 2 = 4\n",
      "2 * 3 = 6\n",
      "2 * 4 = 8\n",
      "2 * 5 = 10\n",
      "2 * 6 = 12\n",
      "2 * 7 = 14\n",
      "2 * 8 = 16\n",
      "2 * 9 = 18\n",
      "2 * 10 = 20\n",
      "Multiplication table for 3:\n",
      "3 * 1 = 3\n",
      "3 * 2 = 6\n",
      "3 * 3 = 9\n",
      "3 * 4 = 12\n",
      "3 * 5 = 15\n",
      "3 * 6 = 18\n",
      "3 * 7 = 21\n",
      "3 * 8 = 24\n",
      "3 * 9 = 27\n",
      "3 * 10 = 30\n",
      "Multiplication table for 4:\n",
      "4 * 1 = 4\n",
      "4 * 2 = 8\n",
      "4 * 3 = 12\n",
      "4 * 4 = 16\n",
      "4 * 5 = 20\n",
      "4 * 6 = 24\n",
      "4 * 7 = 28\n",
      "4 * 8 = 32\n",
      "4 * 9 = 36\n",
      "4 * 10 = 40\n",
      "Multiplication table for 5:\n",
      "5 * 1 = 5\n",
      "5 * 2 = 10\n",
      "5 * 3 = 15\n",
      "5 * 4 = 20\n",
      "5 * 5 = 25\n",
      "5 * 6 = 30\n",
      "5 * 7 = 35\n",
      "5 * 8 = 40\n",
      "5 * 9 = 45\n",
      "5 * 10 = 50\n"
     ]
    }
   ],
   "source": [
    "# 16. Develop a program that generates a multiplication table for numbers from 1 to 5 using a nested `for` loop.\n",
    "\n",
    "\n",
    "for i in range(1, 6):\n",
    "    print(f\"Multiplication table for {i}:\")\n",
    "\n",
    "    for j in range(1, 11):\n",
    "        result = i * j\n",
    "        print(f'{i} * {j} = {result}')"
   ]
  },
  {
   "cell_type": "code",
   "execution_count": 44,
   "id": "50703e37",
   "metadata": {},
   "outputs": [
    {
     "name": "stdout",
     "output_type": "stream",
     "text": [
      "fahrenheit temperatures  [98.6, 104, 222, 302, 444]\n",
      "celsius temperatures  [37.0, 40.0, 105.55555555555556, 150.0, 228.88888888888889]\n"
     ]
    }
   ],
   "source": [
    "# 17. Write a program that converts a list of Fahrenheit temperatures to Celsius using a `for` loop.\n",
    "\n",
    "fahrenheit_temperatures = [98.6, 104, 222, 302, 444]\n",
    "\n",
    "celsius_temperatures = []\n",
    "\n",
    "for fahrenheit in fahrenheit_temperatures:\n",
    "    celsius = (fahrenheit - 32) * 5 / 9\n",
    "    celsius_temperatures.append(celsius)\n",
    "\n",
    "print('fahrenheit temperatures ', fahrenheit_temperatures)\n",
    "print('celsius temperatures ', celsius_temperatures)"
   ]
  },
  {
   "cell_type": "code",
   "execution_count": 38,
   "id": "204db412",
   "metadata": {},
   "outputs": [
    {
     "name": "stdout",
     "output_type": "stream",
     "text": [
      "common_elements =  [3, 4, 5]\n"
     ]
    }
   ],
   "source": [
    "# 18. Create a program to print the common elements from two lists using a `for` loop.\n",
    "\n",
    "list1 = [1, 2, 3, 4, 5]\n",
    "list2 = [3, 4, 5, 6, 7]\n",
    "\n",
    "common_elements = []\n",
    "\n",
    "for item1 in list1:\n",
    "    if item1 in list2:\n",
    "        common_elements.append(item1)\n",
    "print('common_elements = ', common_elements )"
   ]
  },
  {
   "cell_type": "code",
   "execution_count": 43,
   "id": "e48e6a47",
   "metadata": {},
   "outputs": [
    {
     "name": "stdout",
     "output_type": "stream",
     "text": [
      "$\n",
      "$$\n",
      "$$$\n",
      "$$$$\n",
      "$$$$$\n"
     ]
    }
   ],
   "source": [
    "# 19. Develop a program that prints the pattern of right-angled triangles using a `for` loop. Use ‘*’ to draw the\n",
    "# pattern\n",
    "\n",
    "\n",
    "for i in range(1, 6):\n",
    "    for j in range(i):\n",
    "        print('$', end = '')\n",
    "    print()"
   ]
  },
  {
   "cell_type": "code",
   "execution_count": 53,
   "id": "e1ce00fb",
   "metadata": {},
   "outputs": [
    {
     "name": "stdout",
     "output_type": "stream",
     "text": [
      "Enter the first number : 3\n",
      "Enter the second number : 6\n",
      "the greatest common divisor of 3 and 6 is 3.\n"
     ]
    }
   ],
   "source": [
    "# 20. Write a program to find the greatest common divisor (GCD) of two numbers using a `for` loop.\n",
    "\n",
    "\n",
    "num1 = int(input('Enter the first number : '))\n",
    "num2 = int(input('Enter the second number : '))\n",
    "\n",
    "min_num = min(num1, num2)\n",
    "\n",
    "gcd = 1\n",
    "\n",
    "\n",
    "for i in range(1, min_num+1):\n",
    "    if num1 % i == 0 and num2 % i == 0:\n",
    "        gcd = i\n",
    "        \n",
    "print(f'the greatest common divisor of {num1} and {num2} is {gcd}.')"
   ]
  },
  {
   "cell_type": "code",
   "execution_count": 90,
   "id": "086599fd",
   "metadata": {},
   "outputs": [
    {
     "name": "stdout",
     "output_type": "stream",
     "text": [
      "Number: 123, Digit Sum: 6\n",
      "Number: 456, Digit Sum: 15\n",
      "Number: 789, Digit Sum: 24\n",
      "Number: 987, Digit Sum: 24\n"
     ]
    }
   ],
   "source": [
    "# Advanced Level:\n",
    "# 21. Create a program that calculates the sum of the digits of numbers in a list using a list comprehension.\n",
    "\n",
    "numbers = [123, 456, 789, 987]\n",
    "\n",
    "def digit_sum(num):\n",
    "    return sum(int(digit) for digit in str(num) if digit.isdigit())\n",
    "\n",
    "digit_sums = [digit_sum(num) for num in numbers]\n",
    "\n",
    "for i in range(len(numbers)):\n",
    "    print(f\"Number: {numbers[i]}, Digit Sum: {digit_sums[i]}\")"
   ]
  },
  {
   "cell_type": "code",
   "execution_count": 91,
   "id": "0349d992",
   "metadata": {},
   "outputs": [
    {
     "name": "stdout",
     "output_type": "stream",
     "text": [
      "Enter a number: 4\n",
      "the prime factors of a number are [2, 2]\n"
     ]
    }
   ],
   "source": [
    "# 22. Write a program to find the prime factors of a given number using a `for` loop and list comprehension.\n",
    "\n",
    "number = int(input('Enter a number: '))\n",
    "\n",
    "prime_factors = []\n",
    "\n",
    "for divisor in range(2, number + 1):\n",
    "    while number % divisor == 0:\n",
    "        prime_factors.append(divisor)\n",
    "        number //= divisor\n",
    "print(f'the prime factors of a number are {prime_factors}')"
   ]
  },
  {
   "cell_type": "code",
   "execution_count": 97,
   "id": "be717d4f",
   "metadata": {},
   "outputs": [
    {
     "name": "stdout",
     "output_type": "stream",
     "text": [
      "original_list [2, 3, 5, 7, 8, 9, 9, 9, 19, 54, 34, 54]\n",
      "unique_elements [2, 3, 5, 7, 8, 19, 34]\n"
     ]
    }
   ],
   "source": [
    "# 23. Develop a program that extracts unique elements from a list and stores them in a new list using a list\n",
    "# comprehension.\n",
    "\n",
    "original_list = [2, 3, 5, 7, 8, 9, 9, 9, 19, 54, 34, 54]\n",
    "\n",
    "unique_elements = [x for x in original_list if original_list.count(x) == 1]\n",
    "\n",
    "print('original_list', original_list)\n",
    "print('unique_elements', unique_elements)"
   ]
  },
  {
   "cell_type": "code",
   "execution_count": 100,
   "id": "7eb114e6",
   "metadata": {},
   "outputs": [
    {
     "name": "stdout",
     "output_type": "stream",
     "text": [
      "Enter a limit of palindromic numbers:6\n",
      "Palindromic numbers upto 6 are [0, 1, 2, 3, 4, 5, 6]\n"
     ]
    }
   ],
   "source": [
    "# 24. Create a program that generates a list of all palindromic numbers up to a specified limit using a list\n",
    "# comprehension.\n",
    "\n",
    "limit = int(input('Enter a limit of palindromic numbers:'))\n",
    "\n",
    "palindromic_numbers = [num for num in range(limit + 1) if str(num) == str(num)[::-1]]\n",
    "\n",
    "\n",
    "print('Palindromic numbers upto', limit, 'are', palindromic_numbers)"
   ]
  },
  {
   "cell_type": "code",
   "execution_count": 101,
   "id": "9c936c10",
   "metadata": {},
   "outputs": [
    {
     "name": "stdout",
     "output_type": "stream",
     "text": [
      "nested_list [1, 2, 3, 4, 5, 6, 7, 8, [1, 2, 3, 4, 56, 7, 7], 8, 9000]\n",
      "flattened_list [1, 2, 3, 4, 5, 6, 7, 8, 1, 2, 3, 4, 56, 7, 7, 8, 9000]\n"
     ]
    }
   ],
   "source": [
    "# 25. Write a program to flatten a nested list using list comprehension.\n",
    "\n",
    "\n",
    "nested_list = [1,2,3,4,5,6,7,8, [1,2,3,4,56,7,7], 8,9000]\n",
    "\n",
    "\n",
    "flattened_list = [item for sublist in nested_list for item in (sublist if isinstance(sublist, list) else [sublist])]\n",
    "\n",
    "print('nested_list', nested_list)\n",
    "print('flattened_list', flattened_list)"
   ]
  },
  {
   "cell_type": "code",
   "execution_count": 108,
   "id": "ec599a33",
   "metadata": {},
   "outputs": [
    {
     "name": "stdout",
     "output_type": "stream",
     "text": [
      "20\n",
      "25\n"
     ]
    }
   ],
   "source": [
    "# 26. Develop a program that computes the sum of even and odd numbers in a list separately using list\n",
    "# comprehension.\n",
    "\n",
    "\n",
    "numbers = [i for i in range(1, 10)]\n",
    "\n",
    "even_sum = sum([num for num in numbers if num % 2 == 0])\n",
    "\n",
    "odd_sum = sum([num for num in numbers if num % 2 != 0])\n",
    "\n",
    "print(even_sum)\n",
    "\n",
    "print(odd_sum)"
   ]
  },
  {
   "cell_type": "code",
   "execution_count": 109,
   "id": "0b09aefa",
   "metadata": {},
   "outputs": [
    {
     "data": {
      "text/plain": [
       "[1, 9, 25, 49, 81]"
      ]
     },
     "execution_count": 109,
     "metadata": {},
     "output_type": "execute_result"
    }
   ],
   "source": [
    "# 27. Create a program that generates a list of squares of odd numbers between 1 and 10 using list\n",
    "# comprehension.\n",
    "\n",
    "odd_squares = [x ** 2 for x in range(1, 11) if x % 2 != 0]\n",
    "odd_squares"
   ]
  },
  {
   "cell_type": "code",
   "execution_count": 120,
   "id": "72419707",
   "metadata": {},
   "outputs": [
    {
     "data": {
      "text/plain": [
       "{'a': 1, 'b': 2, 'c': 3}"
      ]
     },
     "execution_count": 120,
     "metadata": {},
     "output_type": "execute_result"
    }
   ],
   "source": [
    "# 28. Write a program that combines two lists into a dictionary using list comprehension.\n",
    "\n",
    "keys = ['a', 'b', 'c']\n",
    "\n",
    "values = [1,2,3]\n",
    "\n",
    "combined_dict = {key: value for key, value in zip(keys, values)}\n",
    "\n",
    "combined_dict"
   ]
  },
  {
   "cell_type": "code",
   "execution_count": 122,
   "id": "149a55b9",
   "metadata": {},
   "outputs": [
    {
     "name": "stdout",
     "output_type": "stream",
     "text": [
      "Input String: Hello World\n",
      "List of Vowels: ['e', 'o', 'o']\n"
     ]
    }
   ],
   "source": [
    "# 29. Develop a program that extracts the vowels from a string and stores them in a list using list comprehension.\n",
    "\n",
    "input_string = 'Hello World'\n",
    "\n",
    "vowels = 'aeiouAEIOU'\n",
    "\n",
    "vowel_list = [char for char in input_string if char in vowels]\n",
    "\n",
    "print(\"Input String:\", input_string)\n",
    "print(\"List of Vowels:\", vowel_list)"
   ]
  },
  {
   "cell_type": "code",
   "execution_count": 123,
   "id": "b2116f18",
   "metadata": {},
   "outputs": [
    {
     "data": {
      "text/plain": [
       "['123', '456', '789', '']"
      ]
     },
     "execution_count": 123,
     "metadata": {},
     "output_type": "execute_result"
    }
   ],
   "source": [
    "# 30. Create a program that removes all non-numeric characters from a list of strings using list comprehension.\n",
    "\n",
    "\n",
    "string_list = [\"abc123\", \"456def\", \"7ghi89\", \"jkl\"]\n",
    "\n",
    "\n",
    "numeric_strings = [''.join(char for char in string if char.isdigit()) for string in string_list]\n",
    "\n",
    "numeric_strings"
   ]
  },
  {
   "cell_type": "code",
   "execution_count": 127,
   "id": "4d73afdc",
   "metadata": {},
   "outputs": [
    {
     "name": "stdout",
     "output_type": "stream",
     "text": [
      "Enter an upper limit of prime numbers3\n",
      "Prime numbers up  to 3 are [2, 3]\n"
     ]
    }
   ],
   "source": [
    "# 31. Write a program to generate a list of prime numbers using the Sieve of Eratosthenes algorithm and list\n",
    "# comprehension.\n",
    "\n",
    "limit = int(input('Enter an upper limit of prime numbers'))\n",
    "\n",
    "\n",
    "isprime = [True] * (limit+1)\n",
    "\n",
    "isprime[0] = isprime[1] = False\n",
    "\n",
    "for num in range(2, int(limit ** 0.5) + 1):\n",
    "    if isprime[num]:\n",
    "        for multiple in range(num * num , limit+1, num):\n",
    "            isprime[multiple] = False\n",
    "            \n",
    "prime_numbers = [num for num, prime in enumerate(isprime) if prime]\n",
    "\n",
    "prime_numbers[2:]\n",
    "\n",
    "print('Prime numbers up  to', limit, 'are', prime_numbers)"
   ]
  },
  {
   "cell_type": "code",
   "execution_count": 131,
   "id": "9f2155dc",
   "metadata": {
    "scrolled": true
   },
   "outputs": [
    {
     "name": "stdout",
     "output_type": "stream",
     "text": [
      "Enter an upper limit of pythagorean triplets2\n",
      "Pythagorean triplets upto 2 are []\n"
     ]
    }
   ],
   "source": [
    "# 32. Create a program that generates a list of all Pythagorean triplets up to a specified limit using list\n",
    "# comprehension.\n",
    "\n",
    "limit = int(input('Enter an upper limit of pythagorean triplets'))\n",
    "\n",
    "pythagorean_triplets = [(a, b, c) for a in range(1, limit + 1)\n",
    "                                  for b in range(1, limit + 1)\n",
    "                                  for c in range(1, limit + 1)\n",
    "                                  if a**2 + b**2 == c**2]\n",
    "print('Pythagorean triplets upto', limit , 'are', pythagorean_triplets)"
   ]
  },
  {
   "cell_type": "code",
   "execution_count": 146,
   "id": "1cc572aa",
   "metadata": {},
   "outputs": [
    {
     "name": "stdout",
     "output_type": "stream",
     "text": [
      "Combinations:\n",
      "(1, 'a')\n",
      "(1, 'b')\n",
      "(1, 'c')\n",
      "(2, 'a')\n",
      "(2, 'b')\n",
      "(2, 'c')\n",
      "(3, 'a')\n",
      "(3, 'b')\n",
      "(3, 'c')\n"
     ]
    }
   ],
   "source": [
    "# 33. Develop a program that generates a list of all possible combinations of two lists using list comprehension.\n",
    "\n",
    "list1 = [1,2,3]\n",
    "list2 = ['a', 'b', 'c']\n",
    "\n",
    "combinations = [(x, y) for x in list1 for y in list2]\n",
    "\n",
    "print('Combinations:')\n",
    "\n",
    "for combination in combinations:\n",
    "    print(combination)"
   ]
  },
  {
   "cell_type": "code",
   "execution_count": 3,
   "id": "4bfb9575",
   "metadata": {},
   "outputs": [
    {
     "ename": "ImportError",
     "evalue": "cannot import name 'counter' from 'collections' (C:\\Users\\91917\\anaconda3\\lib\\collections\\__init__.py)",
     "output_type": "error",
     "traceback": [
      "\u001b[1;31m---------------------------------------------------------------------------\u001b[0m",
      "\u001b[1;31mImportError\u001b[0m                               Traceback (most recent call last)",
      "Cell \u001b[1;32mIn[3], line 13\u001b[0m\n\u001b[0;32m     10\u001b[0m \u001b[38;5;28;01melse\u001b[39;00m:\n\u001b[0;32m     11\u001b[0m     median \u001b[38;5;241m=\u001b[39m sorted_numbers[n\u001b[38;5;241m/\u001b[39m\u001b[38;5;241m/\u001b[39m\u001b[38;5;241m2\u001b[39m]\n\u001b[1;32m---> 13\u001b[0m \u001b[38;5;28;01mfrom\u001b[39;00m \u001b[38;5;21;01mcollections\u001b[39;00m \u001b[38;5;28;01mimport\u001b[39;00m counter\n\u001b[0;32m     14\u001b[0m counts \u001b[38;5;241m=\u001b[39m counter(numbers)\n\u001b[0;32m     15\u001b[0m mode_value \u001b[38;5;241m=\u001b[39m \u001b[38;5;28mmax\u001b[39m(counts, key \u001b[38;5;241m=\u001b[39m counts\u001b[38;5;241m.\u001b[39mget)\n",
      "\u001b[1;31mImportError\u001b[0m: cannot import name 'counter' from 'collections' (C:\\Users\\91917\\anaconda3\\lib\\collections\\__init__.py)"
     ]
    }
   ],
   "source": [
    "# 34. Write a program that calculates the mean, median, and mode of a list of numbers using list\n",
    "# comprehension.\n",
    "\n",
    "numbers = [1, 2, 3, 4, 5, 5, 6, 7, 7, 8, 8, 9]\n",
    "mean = sum(numbers) / len(numbers)\n",
    "\n",
    "sorted_numbers = sorted(numbers)\n",
    "\n",
    "n = len(sorted_numbers)\n",
    "\n",
    "if n % 2 == 0:\n",
    "    median = (sorted_numbers[n // 2 - 1] + sorted_numbers[n//2]) / 2\n",
    "else:\n",
    "    median = sorted_numbers[n//2]\n",
    "    \n",
    "from collections import counter\n",
    "counts = counter(numbers)\n",
    "mode_value = max(counts, key = counts.get)\n",
    "\n",
    "print('List of numbers', numbers)\n",
    "print(\"Mean:\", mean)\n",
    "print(\"Median:\", median)\n",
    "print(\"Mode:\", mode_value)"
   ]
  },
  {
   "cell_type": "code",
   "execution_count": 7,
   "id": "50c066cf",
   "metadata": {},
   "outputs": [
    {
     "name": "stdout",
     "output_type": "stream",
     "text": [
      "5\n",
      "[1, 2, 4, 8, 1]\n"
     ]
    }
   ],
   "source": [
    "# 35. Create a program that generates Pascal's triangle up to a specified number of rows using list\n",
    "# comprehension.\n",
    "\n",
    "n = int(input())\n",
    "Pascals = [[1 for i in range(j)] for j in range(1, n+1)]\n",
    "\n",
    "for i in range(2, n):\n",
    "    for j in range(1, i):\n",
    "        Pascals[i][j] = Pascals[i-1][j-1] + Pascals[i][j-1]\n",
    "print(Pascals[-1])"
   ]
  },
  {
   "cell_type": "code",
   "execution_count": 12,
   "id": "39801a10",
   "metadata": {},
   "outputs": [
    {
     "name": "stdout",
     "output_type": "stream",
     "text": [
      "Factorial of 1 =  1\n",
      "Sum of digits of 1!: 1\n",
      "\n",
      "Factorial of 2 =  2\n",
      "Sum of digits of 2!: 2\n",
      "\n",
      "Factorial of 3 =  6\n",
      "Sum of digits of 3!: 6\n",
      "\n",
      "Factorial of 4 =  24\n",
      "Sum of digits of 4!: 6\n",
      "\n",
      "Factorial of 5 =  120\n",
      "Sum of digits of 5!: 3\n",
      "\n"
     ]
    }
   ],
   "source": [
    "# 36. Develop a program that calculates the sum of the digits of a factorial of numbers from 1 to 5 using list\n",
    "# comprehension.\n",
    "\n",
    "def factorial(n):\n",
    "    if n == 0:\n",
    "        return 1\n",
    "    else:\n",
    "        return n * factorial(n - 1)\n",
    "    \n",
    "for num in range(1, 6):\n",
    "    fact = factorial(num)\n",
    "    digit_sum = sum(int(digit) for digit in str(fact))\n",
    "    print(f'Factorial of {num} = ', fact)\n",
    "    print(f\"Sum of digits of {num}!:\", digit_sum)\n",
    "    print()"
   ]
  },
  {
   "cell_type": "code",
   "execution_count": 16,
   "id": "58b2ba82",
   "metadata": {},
   "outputs": [
    {
     "name": "stdout",
     "output_type": "stream",
     "text": [
      "Enter a sentence: s\n",
      "Longest word in the sentence: s\n"
     ]
    }
   ],
   "source": [
    "# 37. Write a program that finds the longest word in a sentence using list comprehension.\n",
    "\n",
    "sentence = input(\"Enter a sentence: \")\n",
    "\n",
    "words = [word.strip(\".,!?\") for word in sentence.split()]\n",
    "\n",
    "word_lengths = [len(word) for word in words]\n",
    "\n",
    "index_of_longest_word = max(range(len(word_lengths)), key=lambda i: word_lengths[i])\n",
    "\n",
    "longest_word = words[index_of_longest_word]\n",
    "\n",
    "\n",
    "print(\"Longest word in the sentence:\", longest_word)"
   ]
  },
  {
   "cell_type": "code",
   "execution_count": 18,
   "id": "f96e8191",
   "metadata": {},
   "outputs": [
    {
     "name": "stdout",
     "output_type": "stream",
     "text": [
      "Original List: ['hello', 'world', 'programming', 'is', 'fun', 'with', 'vowels']\n",
      "Filtered Strings: []\n"
     ]
    }
   ],
   "source": [
    "# 38. Create a program that filters a list of strings to include only those with more than three vowels using list\n",
    "# comprehension.\n",
    "\n",
    "string_list = [\"hello\", \"world\", \"programming\", \"is\", \"fun\", \"with\", \"vowels\"]\n",
    "\n",
    "def count_vowels(string):\n",
    "    return sum(1 for char in string if char in \"aeiouAEIOU\")\n",
    "\n",
    "filtered_strings = [string for string in string_list if count_vowels(string) > 3]\n",
    "\n",
    "# Print the filtered strings\n",
    "print(\"Original List:\", string_list)\n",
    "print(\"Filtered Strings:\", filtered_strings)\n",
    "\n"
   ]
  },
  {
   "cell_type": "code",
   "execution_count": 20,
   "id": "7a9c1706",
   "metadata": {},
   "outputs": [
    {
     "name": "stdout",
     "output_type": "stream",
     "text": [
      "Sum of the digits of numbers from 1 to 1000: 13501\n"
     ]
    }
   ],
   "source": [
    "# 39. Develop a program that calculates the sum of the digits of numbers from 1 to 1000 using list\n",
    "# comprehension.\n",
    "\n",
    "numbers = range(1, 1001)\n",
    "\n",
    "def sum_of_digits(number):\n",
    "    return sum(int(digit) for digit in str(number))\n",
    "\n",
    "digit_sums = [sum_of_digits(num) for num in numbers]\n",
    "\n",
    "total_digit_sum = sum(digit_sums)\n",
    "\n",
    "print(\"Sum of the digits of numbers from 1 to 1000:\", total_digit_sum)\n"
   ]
  },
  {
   "cell_type": "code",
   "execution_count": 21,
   "id": "30e90733",
   "metadata": {},
   "outputs": [
    {
     "name": "stdout",
     "output_type": "stream",
     "text": [
      "Prime Palindromic Numbers: [2, 3, 5, 7, 11, 101, 131, 151, 181, 191, 313, 353, 373, 383, 727, 757, 787, 797, 919, 929]\n"
     ]
    }
   ],
   "source": [
    "# 40. Write a program that generates a list of prime palindromic numbers using list comprehension.\n",
    "\n",
    "# Function to check if a number is prime\n",
    "def is_prime(n):\n",
    "    if n <= 1:\n",
    "        return False\n",
    "    if n <= 3:\n",
    "        return True\n",
    "    if n % 2 == 0 or n % 3 == 0:\n",
    "        return False\n",
    "    i = 5\n",
    "    while i * i <= n:\n",
    "        if n % i == 0 or n % (i + 2) == 0:\n",
    "            return False\n",
    "        i += 6\n",
    "    return True\n",
    "\n",
    "# Function to check if a number is palindromic\n",
    "def is_palindrome(n):\n",
    "    return str(n) == str(n)[::-1]\n",
    "\n",
    "# Use list comprehension to generate prime palindromic numbers\n",
    "prime_palindromes = [num for num in range(1, 1000) if is_prime(num) and is_palindrome(num)]\n",
    "\n",
    "# Print the list of prime palindromic numbers\n",
    "print(\"Prime Palindromic Numbers:\", prime_palindromes)\n"
   ]
  }
 ],
 "metadata": {
  "kernelspec": {
   "display_name": "Python 3 (ipykernel)",
   "language": "python",
   "name": "python3"
  },
  "language_info": {
   "codemirror_mode": {
    "name": "ipython",
    "version": 3
   },
   "file_extension": ".py",
   "mimetype": "text/x-python",
   "name": "python",
   "nbconvert_exporter": "python",
   "pygments_lexer": "ipython3",
   "version": "3.10.9"
  }
 },
 "nbformat": 4,
 "nbformat_minor": 5
}
