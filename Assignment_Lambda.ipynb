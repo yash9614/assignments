{
 "cells": [
  {
   "cell_type": "code",
   "execution_count": 9,
   "id": "1da9cd69-6ed1-4dc6-8197-568ca3f293a6",
   "metadata": {
    "tags": []
   },
   "outputs": [
    {
     "name": "stdout",
     "output_type": "stream",
     "text": [
      "1\n",
      "2\n",
      "3\n",
      "4\n",
      "5\n",
      "6\n",
      "7\n",
      "8\n",
      "9\n",
      "10\n"
     ]
    }
   ],
   "source": [
    "#For Loop :-\n",
    "\n",
    "\n",
    "# 1.\tWrite a Python program to print numbers from 1 to 10 using a for loop\n",
    "\n",
    "\n",
    "for i in range(1, 11):\n",
    "    print(i)\n"
   ]
  },
  {
   "cell_type": "code",
   "execution_count": 5,
   "id": "0eee3c48-eec2-4c66-ba0b-371c798d1751",
   "metadata": {
    "tags": []
   },
   "outputs": [
    {
     "name": "stdout",
     "output_type": "stream",
     "text": [
      "0\n",
      "1\n",
      "2\n",
      "3\n",
      "4\n",
      "5\n",
      "6\n",
      "7\n",
      "8\n",
      "9\n"
     ]
    }
   ],
   "source": [
    "# 2. Explain the difference between a for loop and a while loop in Python.\n",
    "\n",
    "'''\n",
    "A for loop and a while loop are two types of control flow statements in Python. \n",
    "\n",
    "A for loop is used to iterate over a sequence of values, \n",
    "\n",
    "while a while loop is used to repeat a block of code until a certain condition is met.\n",
    "\n",
    "Egs:\n",
    "'''\n",
    "\n",
    "for i in range(10):\n",
    "    print(i)\n",
    "    \n",
    "while i >= 10:\n",
    "    print(i)\n",
    "    i+=1\n",
    "print(i)"
   ]
  },
  {
   "cell_type": "code",
   "execution_count": 3,
   "id": "399a3d32-e9ef-4e3b-8e19-42628378cf90",
   "metadata": {
    "tags": []
   },
   "outputs": [
    {
     "name": "stdout",
     "output_type": "stream",
     "text": [
      "5050\n"
     ]
    }
   ],
   "source": [
    "# 3. Write a Python program to calculate the sum of all numbers from 1 to 100 using a for loop.\n",
    "\n",
    "add = 0\n",
    "for i in range(1, 101):\n",
    "    add+=i\n",
    "print(add)"
   ]
  },
  {
   "cell_type": "code",
   "execution_count": 13,
   "id": "a867b5b7-775a-433a-bde0-cb31dac001d2",
   "metadata": {
    "tags": []
   },
   "outputs": [
    {
     "name": "stdout",
     "output_type": "stream",
     "text": [
      "100\n",
      "101\n",
      "102\n",
      "103\n",
      "104\n",
      "105\n",
      "106\n",
      "107\n",
      "108\n",
      "109\n"
     ]
    }
   ],
   "source": [
    "# 4. How do you iterate through a list using a for loop in Python?\n",
    "\n",
    "\n",
    "# example:\n",
    "\n",
    "list_1 = [i for i in range(100, 110)]\n",
    "for items in list_1:\n",
    "          print(items)"
   ]
  },
  {
   "cell_type": "code",
   "execution_count": 14,
   "id": "35ae3359-620f-410f-b478-fe53fdeb7f60",
   "metadata": {
    "tags": []
   },
   "outputs": [
    {
     "name": "stdout",
     "output_type": "stream",
     "text": [
      "24\n"
     ]
    }
   ],
   "source": [
    "#5. Write a Python program to find the product of all elements in a list using a for loop.\n",
    "\n",
    "product = 1\n",
    "\n",
    "list2 = [i for i in range(1, 5)]\n",
    "\n",
    "for i in list2:\n",
    "    product *=i\n",
    "print(product)\n",
    "\n"
   ]
  },
  {
   "cell_type": "code",
   "execution_count": 15,
   "id": "363dd437-0a88-4ba0-994e-67d8404d7faa",
   "metadata": {
    "tags": []
   },
   "outputs": [
    {
     "data": {
      "text/plain": [
       "[1, 2, 3, 4]"
      ]
     },
     "execution_count": 15,
     "metadata": {},
     "output_type": "execute_result"
    }
   ],
   "source": [
    "list2"
   ]
  },
  {
   "cell_type": "code",
   "execution_count": 16,
   "id": "6ed79ef5-de49-499a-bf88-e65bf050ffdc",
   "metadata": {
    "tags": []
   },
   "outputs": [
    {
     "name": "stdout",
     "output_type": "stream",
     "text": [
      "2\n",
      "4\n",
      "6\n",
      "8\n",
      "10\n",
      "12\n",
      "14\n",
      "16\n",
      "18\n",
      "20\n"
     ]
    }
   ],
   "source": [
    "# 6.Create a Python program that prints all even numbers from 1 to 20 using a for loop.\n",
    "\n",
    "for i in range(1, 21):\n",
    "    if i % 2 == 0:\n",
    "        print(i)"
   ]
  },
  {
   "cell_type": "code",
   "execution_count": 18,
   "id": "b2087dbc-72cf-4cd7-be0b-559eda73b345",
   "metadata": {
    "tags": []
   },
   "outputs": [
    {
     "name": "stdin",
     "output_type": "stream",
     "text": [
      "Enter a non-negative integer: 5\n"
     ]
    },
    {
     "name": "stdout",
     "output_type": "stream",
     "text": [
      "The factorial of 5 is 120\n"
     ]
    }
   ],
   "source": [
    "# 7 .Write a Python program that calculates the factorial of a number using a for loop.\n",
    "\n",
    "\n",
    "def calculate_factorial(n):\n",
    "    if n < 0:\n",
    "        return 'Factorial is not defined for negative numbers'\n",
    "    elif n == 0:\n",
    "        return 1\n",
    "    else:\n",
    "        factorial = 1\n",
    "        for i in range(1, n+1):\n",
    "            factorial *= i\n",
    "        return factorial\n",
    "    \n",
    "num = int(input('Enter a non-negative integer:'))\n",
    "\n",
    "#calculate and display the factorial:\n",
    "\n",
    "result = calculate_factorial(num)\n",
    "\n",
    "print(f'The factorial of {num} is {result}')"
   ]
  },
  {
   "cell_type": "code",
   "execution_count": 22,
   "id": "19ab5883-7f5e-4af1-a829-6c42f237968d",
   "metadata": {
    "tags": []
   },
   "outputs": [
    {
     "name": "stdout",
     "output_type": "stream",
     "text": [
      "H\n",
      "o\n",
      "w\n",
      " \n",
      "c\n",
      "a\n",
      "n\n",
      " \n",
      "y\n",
      "o\n",
      "u\n",
      " \n",
      "i\n",
      "t\n",
      "e\n",
      "r\n",
      "a\n",
      "t\n",
      "e\n",
      " \n",
      "t\n",
      "h\n",
      "r\n",
      "o\n",
      "u\n",
      "g\n",
      "h\n",
      " \n",
      "t\n",
      "h\n",
      "e\n",
      " \n",
      "c\n",
      "h\n",
      "a\n",
      "r\n",
      "a\n",
      "c\n",
      "t\n",
      "e\n",
      "r\n",
      "s\n",
      " \n",
      "o\n",
      "f\n",
      " \n",
      "a\n",
      " \n",
      "s\n",
      "t\n",
      "r\n",
      "i\n",
      "n\n",
      "g\n",
      " \n",
      "u\n",
      "s\n",
      "i\n",
      "n\n",
      "g\n",
      " \n",
      "a\n",
      " \n",
      "f\n",
      "o\n",
      "r\n",
      " \n",
      "l\n",
      "o\n",
      "o\n",
      "p\n",
      " \n",
      "i\n",
      "n\n",
      " \n",
      "P\n",
      "y\n",
      "t\n",
      "h\n",
      "o\n",
      "n\n",
      "?\n"
     ]
    }
   ],
   "source": [
    "# 8.How can you iterate through the characters of a string using a for loop in Python?\n",
    "\n",
    "\n",
    "string = 'How can you iterate through the characters of a string using a for loop in Python?'\n",
    "\n",
    "for i in string:\n",
    "    print(i)"
   ]
  },
  {
   "cell_type": "code",
   "execution_count": 37,
   "id": "d2968545-461f-4cb5-b5c6-8085673e0746",
   "metadata": {
    "tags": []
   },
   "outputs": [
    {
     "name": "stdout",
     "output_type": "stream",
     "text": [
      "88888\n"
     ]
    }
   ],
   "source": [
    "#9. Write a Python program to find the largest number in a list using a for loop.\n",
    "\n",
    "\n",
    "\n",
    "list_0 = [10, 23, 899, 88888, 222,33]\n",
    "\n",
    "largest_number = list_0[0]\n",
    "\n",
    "for i in list_0:\n",
    "    if i  > largest_number:\n",
    "        largest_number = i\n",
    "print(largest_number)"
   ]
  },
  {
   "cell_type": "code",
   "execution_count": 42,
   "id": "9b2769a7-9d34-46ab-85e8-16761f1096b1",
   "metadata": {
    "tags": []
   },
   "outputs": [
    {
     "name": "stdin",
     "output_type": "stream",
     "text": [
      "Enter the limit for the fibonacci sequence: 4\n"
     ]
    },
    {
     "name": "stdout",
     "output_type": "stream",
     "text": [
      "0\n",
      "1\n",
      "1\n",
      "2\n",
      "3\n"
     ]
    }
   ],
   "source": [
    "#10. Create a Python program that prints the Fibonacci sequence up to a specified limit using a for loop.\n",
    "\n",
    "def print_fibonacci(limit):\n",
    "    a, b = 0,1\n",
    "    print(a)\n",
    "    while b <= limit:\n",
    "        print(b)\n",
    "        a, b = b, a + b\n",
    "limit = int(input('Enter the limit for the fibonacci sequence:'))\n",
    "print_fibonacci(limit)"
   ]
  },
  {
   "cell_type": "code",
   "execution_count": 43,
   "id": "64925f4b-69a3-40d4-b8b0-e9f87daa6d3b",
   "metadata": {
    "tags": []
   },
   "outputs": [
    {
     "name": "stdout",
     "output_type": "stream",
     "text": [
      "26\n"
     ]
    }
   ],
   "source": [
    "#11. Write a Python program to count the number of vowels in a given string using a for loop.\n",
    "\n",
    "\n",
    "\n",
    "vowels = ['a', 'e', 'i', 'o', 'u', 'A', 'E','I', 'O', 'U']\n",
    "\n",
    "\n",
    "vowel_count = 0\n",
    "\n",
    "string = 'Write a Python program to count the number of vowels in a given string using a for loop'\n",
    "\n",
    "\n",
    "for chars in string:\n",
    "    if chars in vowels:\n",
    "        vowel_count += 1\n",
    "print(vowel_count)\n",
    "\n"
   ]
  },
  {
   "cell_type": "code",
   "execution_count": 52,
   "id": "3449537c-e396-4ca2-a6ab-aa91e1a7be1d",
   "metadata": {
    "tags": []
   },
   "outputs": [
    {
     "name": "stdin",
     "output_type": "stream",
     "text": [
      "Enter a number to generate a multiplication number 4\n"
     ]
    },
    {
     "name": "stdout",
     "output_type": "stream",
     "text": [
      "4 * 1 = 4\n",
      "4 * 2 = 8\n",
      "4 * 3 = 12\n",
      "4 * 4 = 16\n",
      "4 * 5 = 20\n",
      "4 * 6 = 24\n",
      "4 * 7 = 28\n",
      "4 * 8 = 32\n",
      "4 * 9 = 36\n",
      "4 * 10 = 40\n"
     ]
    }
   ],
   "source": [
    "#12. Create a Python program that generates a multiplication table for a given number using a for loop.\n",
    "\n",
    "\n",
    "n = int(input('Enter a number to generate a multiplication number'))\n",
    "\n",
    "for i in range(1, 11):\n",
    "    for j in range(i):\n",
    "        table =  i * n\n",
    "    print(f'{n} * {i} = {table}' )"
   ]
  },
  {
   "cell_type": "code",
   "execution_count": 56,
   "id": "2f46b8b7-6502-4e19-a995-0c746f9e7784",
   "metadata": {
    "tags": []
   },
   "outputs": [
    {
     "name": "stdout",
     "output_type": "stream",
     "text": [
      "[1, 2, 3, 4, 5, 68, 6, 4, 2, 4, 5, 7]\n",
      "[7, 5, 4, 2, 4, 6, 68, 5, 4, 3, 2, 1]\n"
     ]
    }
   ],
   "source": [
    "#13. Write a Python program to reverse a list using a for loop.\n",
    "\n",
    "\n",
    "list_19 = [1,2,3,4,5,68,6,4,2,4,5,7]\n",
    "\n",
    "reversed_list = []\n",
    "\n",
    "for item in reversed(list_19):\n",
    "    reversed_list.append(item)\n",
    "print(list_19)\n",
    "print(reversed_list)"
   ]
  },
  {
   "cell_type": "code",
   "execution_count": 59,
   "id": "fc0aa14d-f036-41d7-a067-383888fbd135",
   "metadata": {
    "tags": []
   },
   "outputs": [
    {
     "name": "stdout",
     "output_type": "stream",
     "text": [
      "[112, 46, 8, 8, 2, 1, 3, 4, 5, 6]\n"
     ]
    }
   ],
   "source": [
    "#14. Write a Python program to find the common elements between two lists using a for loop.\n",
    "\n",
    "\n",
    "list_1_ = [112,46,8,8,53,2,1,3,4,5,6]\n",
    "\n",
    "list_2_ = [112,46,8,8,5,2,1,3,4,5,6, 78.6]\n",
    "\n",
    "common_elements = []\n",
    "\n",
    "for i in list_1_:\n",
    "    if i in list_2_:\n",
    "        common_elements.append(i)\n",
    "print(common_elements)"
   ]
  },
  {
   "cell_type": "code",
   "execution_count": 67,
   "id": "1d63c06a-1e58-4177-879d-2c87c40f21d5",
   "metadata": {
    "tags": []
   },
   "outputs": [
    {
     "name": "stdout",
     "output_type": "stream",
     "text": [
      "Name yash\n",
      "Age 30\n",
      "City Nashik\n",
      "course DA\n"
     ]
    }
   ],
   "source": [
    "# 15. Explain how to use a for loop to iterate through the keys and values of a dictionary in Python.\n",
    "\n",
    "dict1 = {'Name': 'yash', 'Age' : 30, 'City' : 'Nashik', 'course': 'DA'}\n",
    "\n",
    "#to get keys from a dict:\n",
    "\n",
    "for key, value in dict1.items():\n",
    "    print(key, value)\n"
   ]
  },
  {
   "cell_type": "code",
   "execution_count": 73,
   "id": "77564576-32b5-4f1d-960f-453264a5164a",
   "metadata": {
    "tags": []
   },
   "outputs": [
    {
     "name": "stdin",
     "output_type": "stream",
     "text": [
      "Enter the first number: 2\n",
      "Enter the second number: 8\n"
     ]
    },
    {
     "name": "stdout",
     "output_type": "stream",
     "text": [
      "The gcd of 2 8 is 2\n"
     ]
    }
   ],
   "source": [
    "# 16. Write a Python program to find the GCD (Greatest Common Divisor) of two numbers using a for loop.\n",
    "\n",
    "\n",
    "def calulate_gcd(a, b):\n",
    "    while b:\n",
    "        a, b = b, a % b\n",
    "    return a\n",
    "\n",
    "#Input from user:\n",
    "\n",
    "num1 = int(input('Enter the first number:'))\n",
    "\n",
    "num2 = int(input('Enter the second number:'))\n",
    "\n",
    "gcd = calulate_gcd(num1, num2)\n",
    "print('The gcd of', num1, num2, 'is', gcd)              "
   ]
  },
  {
   "cell_type": "code",
   "execution_count": 120,
   "id": "453c33f4-a46e-48bb-8cf6-a44dbda5124f",
   "metadata": {
    "tags": []
   },
   "outputs": [
    {
     "name": "stdout",
     "output_type": "stream",
     "text": [
      "palindrome\n"
     ]
    }
   ],
   "source": [
    "# 17. Create a Python program that checks if a string is a palindrome using a for loop.\n",
    "\n",
    "\n",
    "\n",
    "string_1 = 'Malayalam'\n",
    "\n",
    "string_1 = string_1.lower()\n",
    "\n",
    "empty_string = ''\n",
    "\n",
    "\n",
    "for i in string_1:\n",
    "    empty_string = i + empty_string\n",
    "if (string_1 == empty_string):\n",
    "    print('palindrome')\n",
    "else:\n",
    "    print('Not Palindrome')"
   ]
  },
  {
   "cell_type": "code",
   "execution_count": 122,
   "id": "380caa10-3a2d-470c-9959-52a339d583a1",
   "metadata": {
    "tags": []
   },
   "outputs": [
    {
     "name": "stdout",
     "output_type": "stream",
     "text": [
      "[1, 2, 3, 4, 6, 7, 8, 9, 777, 9999, 1111]\n"
     ]
    }
   ],
   "source": [
    "# 18. Write a Python program to remove duplicates from a list using a for loop.\n",
    "\n",
    "list11 = [1,2,3,4,3,2,6,7,8,9,777,9999,1111, 1111]\n",
    "\n",
    "set1 = set()\n",
    "\n",
    "for i in list11:\n",
    "    set1.add(i)\n",
    "print(list(set1))"
   ]
  },
  {
   "cell_type": "code",
   "execution_count": null,
   "id": "decb4512-ecfd-460c-af71-90c2cf29c5fb",
   "metadata": {},
   "outputs": [],
   "source": [
    "# 19. Create a Python program that counts the number of words in a sentence using a for loop."
   ]
  },
  {
   "cell_type": "code",
   "execution_count": 126,
   "id": "67c49e22-510a-4fce-93f2-0f8d05823913",
   "metadata": {
    "tags": []
   },
   "outputs": [
    {
     "data": {
      "text/plain": [
       "17"
      ]
     },
     "execution_count": 126,
     "metadata": {},
     "output_type": "execute_result"
    }
   ],
   "source": [
    "string = 'Create a Python program that counts the number of words in a sentence using a for loop'\n",
    "\n",
    "\n",
    "str_ = string.split()\n",
    "\n",
    "len(str_)"
   ]
  },
  {
   "cell_type": "code",
   "execution_count": 132,
   "id": "7d2c5798-e5f9-461c-8093-795c346e86fd",
   "metadata": {
    "tags": []
   },
   "outputs": [
    {
     "name": "stdout",
     "output_type": "stream",
     "text": [
      "Sum of all odd numbers between 1 - 50  = 625\n"
     ]
    }
   ],
   "source": [
    "#20 Write a Python program to find the sum of all odd numbers from 1 to 50 using a for loop.\n",
    "\n",
    "\n",
    "add = 0\n",
    "\n",
    "for i in range(1, 51):\n",
    "    if i % 2 != 0:\n",
    "        add += i\n",
    "print('Sum of all odd numbers between 1 - 50  =', add)"
   ]
  },
  {
   "cell_type": "code",
   "execution_count": 142,
   "id": "a62e109f-a29d-4f04-a2b2-c1092cdb3ede",
   "metadata": {
    "tags": []
   },
   "outputs": [
    {
     "name": "stdin",
     "output_type": "stream",
     "text": [
      " 1996\n"
     ]
    },
    {
     "name": "stdout",
     "output_type": "stream",
     "text": [
      "its a leap year\n"
     ]
    }
   ],
   "source": [
    "#21. Write a Python program that checks if a given year is a leap year using a for loop.\n",
    "\n",
    "\n",
    "n = int(input())\n",
    "\n",
    "if (n % 4 == 0 and n % 100 != 0) or (n % 400 == 0):\n",
    "    print('its a leap year')\n",
    "else:\n",
    "    print('Not a leap year')\n"
   ]
  },
  {
   "cell_type": "code",
   "execution_count": 143,
   "id": "6fad9c7f-8978-4b77-96a5-c0dfbf4d3a71",
   "metadata": {
    "tags": []
   },
   "outputs": [
    {
     "ename": "SyntaxError",
     "evalue": "invalid decimal literal (2341213113.py, line 3)",
     "output_type": "error",
     "traceback": [
      "\u001b[1;36m  Cell \u001b[1;32mIn[143], line 3\u001b[1;36m\u001b[0m\n\u001b[1;33m    def calculate_sqrt(number, tolerance = 1e - 6):\u001b[0m\n\u001b[1;37m                                           ^\u001b[0m\n\u001b[1;31mSyntaxError\u001b[0m\u001b[1;31m:\u001b[0m invalid decimal literal\n"
     ]
    }
   ],
   "source": [
    "# 22. Create a Python program that calculates the square root of a number using a for loop.\n",
    "\n",
    "def calculate_sqrt(number, tolerance = 1e - 6):\n",
    "    guess = number / 2.0\n",
    "    #iterate for fixed number of iterations:\n",
    "    \n",
    "    for _ in range(1000):\n",
    "        next_guess = (guess + number / guess) / 2.0\n",
    "        \n",
    "        if abs(next_guess - guess)  < tolerance:\n",
    "            return next_guess\n",
    "        guess = next_guess\n",
    "    return guess\n",
    "\n",
    "number = float(input(\"Enter a number to calculate its square root: \"))\n",
    "\n",
    "if number < 0:\n",
    "    print('Negative numbers do not have real square roots')\n",
    "    \n",
    "else:\n",
    "    square_root = calculate_sqrt(number)\n",
    "    print(f\"The square root of {number} is approximately {square_root:.6f}\")\n"
   ]
  },
  {
   "cell_type": "code",
   "execution_count": 147,
   "id": "245284ec-8afa-4a61-b173-d1124bcf622b",
   "metadata": {
    "tags": []
   },
   "outputs": [
    {
     "name": "stdin",
     "output_type": "stream",
     "text": [
      "Enter a number to calculate its square root:  36\n"
     ]
    },
    {
     "name": "stdout",
     "output_type": "stream",
     "text": [
      "The square root of 36.0 is approximately 6.000000\n"
     ]
    }
   ],
   "source": [
    "#22. Create a  Function to calculate the square root of a number using a for loop\n",
    "def calculate_square_root(number, tolerance=1e-6):\n",
    "    # Initial guess for the square root\n",
    "    guess = number / 2.0\n",
    "\n",
    "    # Iterate for a fixed number of iterations\n",
    "    for _ in range(1000):  # You can adjust the number of iterations as needed\n",
    "        # Calculate the next guess using the Babylonian method\n",
    "        next_guess = (guess + number / guess) / 2.0\n",
    "\n",
    "        # Check if the difference between the guesses is within tolerance\n",
    "        if abs(next_guess - guess) < tolerance:\n",
    "            return next_guess\n",
    "\n",
    "        guess = next_guess\n",
    "\n",
    "    return guess\n",
    "\n",
    "# Input a number for which you want to calculate the square root\n",
    "number = float(input(\"Enter a number to calculate its square root: \"))\n",
    "\n",
    "# Calculate and display the square root\n",
    "if number < 0:\n",
    "    print(\"Negative numbers do not have real square roots.\")\n",
    "else:\n",
    "    square_root = calculate_square_root(number)\n",
    "    print(f\"The square root of {number} is approximately {square_root:.6f}\")\n"
   ]
  },
  {
   "cell_type": "code",
   "execution_count": 150,
   "id": "32b3bf41-beb6-43d4-86c8-75e4b11ae38d",
   "metadata": {
    "tags": []
   },
   "outputs": [
    {
     "name": "stdin",
     "output_type": "stream",
     "text": [
      "Enter the first number: 5\n",
      "Enter the second number: 12\n"
     ]
    },
    {
     "name": "stdout",
     "output_type": "stream",
     "text": [
      "60\n"
     ]
    }
   ],
   "source": [
    "#23. Write a Python program to find the LCM (Least Common Multiple) of two numbers using a for loop.\n",
    "\n",
    "\n",
    "\n",
    "def calculate_gcd(a, b):\n",
    "    while b:\n",
    "        a, b = b, a % b\n",
    "    return a\n",
    "\n",
    "def calulate_lcm(x, y):\n",
    "    gcd = calculate_gcd(x, y)\n",
    "    lcm = (x * y) //  gcd\n",
    "    return lcm\n",
    "\n",
    "#input two numbers to find the lcm:\n",
    "\n",
    "num1 = int(input('Enter the first number:'))\n",
    "num2 = int(input('Enter the second number:'))\n",
    "\n",
    "lcm = calulate_lcm(num1, num2)\n",
    "print(lcm)"
   ]
  },
  {
   "cell_type": "code",
   "execution_count": 154,
   "id": "3fdbf46d-6a71-4ad6-80c0-cfe3b0dafaa2",
   "metadata": {
    "tags": []
   },
   "outputs": [
    {
     "name": "stdin",
     "output_type": "stream",
     "text": [
      "Enter a number: 0\n"
     ]
    },
    {
     "name": "stdout",
     "output_type": "stream",
     "text": [
      "Number = 0\n"
     ]
    }
   ],
   "source": [
    "# If else :\n",
    "\n",
    "\n",
    "#1. Write a Python program to check if a number is positive, negative, or zero using an if-else statement.\n",
    "\n",
    "n = int(input('Enter a number:'))\n",
    "\n",
    "if n < 0:\n",
    "    print('Negative number')\n",
    "elif n == 0:\n",
    "    print('Number = 0')\n",
    "else:\n",
    "    print('Postive number')"
   ]
  },
  {
   "cell_type": "code",
   "execution_count": 157,
   "id": "bd092e52-fb26-41c2-a9ab-bbdcc31838b9",
   "metadata": {
    "tags": []
   },
   "outputs": [
    {
     "name": "stdin",
     "output_type": "stream",
     "text": [
      "Enter a number 99\n"
     ]
    },
    {
     "name": "stdout",
     "output_type": "stream",
     "text": [
      "Number is odd\n"
     ]
    }
   ],
   "source": [
    "# 2. Create a Python program that checks if a given number is even or odd using an if-else statement.\n",
    "\n",
    "n = int(input('Enter a number'))\n",
    "\n",
    "if n % 2 == 0:\n",
    "    print('Number is even')\n",
    "else:\n",
    "    print('Number is odd')"
   ]
  },
  {
   "cell_type": "code",
   "execution_count": 160,
   "id": "7e068b59-ce1b-46a6-9ca1-d502a2f0aeb8",
   "metadata": {
    "tags": []
   },
   "outputs": [
    {
     "name": "stdin",
     "output_type": "stream",
     "text": [
      " 1992\n"
     ]
    },
    {
     "name": "stdout",
     "output_type": "stream",
     "text": [
      "1992 is a leap year\n"
     ]
    }
   ],
   "source": [
    "# 3.How can you use nested if-else statements in Python, and provide an example?\n",
    "\n",
    "\n",
    "'''\n",
    "using nested if - else means an if condition within an if condition:\n",
    "\n",
    "'''\n",
    "\n",
    "# example:\n",
    "\n",
    "year = int(input())\n",
    "\n",
    "if year % 4 == 0:\n",
    "    if year % 100 == 0:\n",
    "        if year % 400 == 0:\n",
    "            is_leap_year = True\n",
    "        else:\n",
    "            is_leap_year = False\n",
    "    else:\n",
    "        is_leap_year = True\n",
    "else:\n",
    "    is_leap_year = False\n",
    "\n",
    "if is_leap_year:\n",
    "    print(year, 'is a leap year')\n",
    "else:\n",
    "    print(year, 'is not a leap year')\n"
   ]
  },
  {
   "cell_type": "code",
   "execution_count": 2,
   "id": "deff5c61-0423-46bf-a319-241988fa107d",
   "metadata": {
    "tags": []
   },
   "outputs": [
    {
     "name": "stdin",
     "output_type": "stream",
     "text": [
      "Enter first number 9\n",
      "Enter second number 81\n",
      "Enter third number 888\n"
     ]
    },
    {
     "name": "stdout",
     "output_type": "stream",
     "text": [
      "888 is greatest\n"
     ]
    }
   ],
   "source": [
    "## 4. Write a Python program to determine the largest of three numbers using if-else.\n",
    "\n",
    "\n",
    "\n",
    "num1 = int(input('Enter first number'))\n",
    "num2 = int(input('Enter second number'))\n",
    "num3 = int(input('Enter third number'))\n",
    "\n",
    "greatest = num1\n",
    "\n",
    "if num1 > num2 and num1 > num3:\n",
    "    \n",
    "    print(f'{num1} is greatest')\n",
    "elif num2 > num1 and num2 > num3:\n",
    "    print(f'{num2} is greatest')\n",
    "else:\n",
    "    print(f'{num3} is greatest')"
   ]
  },
  {
   "cell_type": "code",
   "execution_count": 8,
   "id": "506d2d9d-63cf-4388-a4b1-75d7b7ba3f5e",
   "metadata": {
    "tags": []
   },
   "outputs": [
    {
     "name": "stdin",
     "output_type": "stream",
     "text": [
      "Enter a number -999\n"
     ]
    },
    {
     "name": "stdout",
     "output_type": "stream",
     "text": [
      "999.0\n"
     ]
    }
   ],
   "source": [
    "# 5. Write a Python program that calculates the absolute value of a number using if-else.\n",
    "\n",
    "num = float(input('Enter a number'))\n",
    "\n",
    "#calculate the absolute value:\n",
    "            \n",
    "if num < 0:\n",
    "         absolute_value = - num\n",
    "else:\n",
    "    absolute_value = num\n",
    "print(absolute_value)"
   ]
  },
  {
   "cell_type": "code",
   "execution_count": 11,
   "id": "520727ed-74bb-4662-889a-188680b4435e",
   "metadata": {
    "tags": []
   },
   "outputs": [
    {
     "name": "stdin",
     "output_type": "stream",
     "text": [
      "Enter a character i\n"
     ]
    },
    {
     "name": "stdout",
     "output_type": "stream",
     "text": [
      "i is a vowel\n"
     ]
    }
   ],
   "source": [
    "#6. Create a Python program that checks if a given character is a vowel or consonant using if-else.\n",
    "\n",
    "\n",
    "char = input('Enter a character')\n",
    "\n",
    "vowels = ['a', 'e', 'i', 'o', 'u', 'A', 'E', 'I', 'O', 'U']\n",
    "\n",
    "if char in vowels:\n",
    "    print(f'{char} is a vowel')\n",
    "else:\n",
    "    print(f'{char} is a consonant')"
   ]
  },
  {
   "cell_type": "code",
   "execution_count": 15,
   "id": "38880420-1f71-4914-9c77-2df258866411",
   "metadata": {
    "tags": []
   },
   "outputs": [
    {
     "name": "stdin",
     "output_type": "stream",
     "text": [
      "Enter your age 17\n"
     ]
    },
    {
     "name": "stdout",
     "output_type": "stream",
     "text": [
      "You're not eligible to vote\n"
     ]
    }
   ],
   "source": [
    "#7. Write a Python program to determine if a user is eligible to vote based on their age using if-else.\n",
    "\n",
    "\n",
    "age = int(input('Enter your age'))\n",
    "\n",
    "if age < 18:\n",
    "    print('You\\'re not eligible to vote')\n",
    "if age >= 18:\n",
    "    print('You\\'re eligible to vote')"
   ]
  },
  {
   "cell_type": "code",
   "execution_count": 16,
   "id": "2590810a-4e07-42b4-a43c-475d18873774",
   "metadata": {
    "tags": []
   },
   "outputs": [
    {
     "name": "stdin",
     "output_type": "stream",
     "text": [
      "Enter an amount 1900\n"
     ]
    },
    {
     "name": "stdout",
     "output_type": "stream",
     "text": [
      "Original Price: $1900.00\n",
      "Discount Percentage: 10%\n",
      "Discounted Price: $1710.00\n"
     ]
    }
   ],
   "source": [
    "#8. Create a Python program that calculates the discount amount based on the purchase amount using if-else.\n",
    "\n",
    "purchase_amount = float(input('Enter an amount'))\n",
    "\n",
    "\n",
    "discount_percentage = 0.0\n",
    "\n",
    "if purchase_amount >= 1000:\n",
    "    discount_percentage = 10\n",
    "elif purchase_amount >= 500:\n",
    "    discount_percentage = 5\n",
    "elif purchase_amount >= 100:\n",
    "    discount_percentage = 2\n",
    "\n",
    "discounted_amount = purchase_amount - ( purchase_amount * (discount_percentage / 100))\n",
    "\n",
    "print(f\"Original Price: ${purchase_amount:.2f}\")\n",
    "print(f\"Discount Percentage: {discount_percentage}%\")\n",
    "print(f\"Discounted Price: ${discounted_amount:.2f}\")"
   ]
  },
  {
   "cell_type": "code",
   "execution_count": 18,
   "id": "9b12bdb0-95a1-4d02-a93c-55c3e5f77daa",
   "metadata": {
    "tags": []
   },
   "outputs": [
    {
     "name": "stdin",
     "output_type": "stream",
     "text": [
      "Enter a number  2\n",
      "Enter the lower limit of the range:  1\n",
      "Enter the upper limit of the range:  3\n"
     ]
    },
    {
     "name": "stdout",
     "output_type": "stream",
     "text": [
      "2.0 is within the specified range[1.0, 3.0]\n"
     ]
    }
   ],
   "source": [
    "## 9. Write a Python program to check if a number is within a specified range using if-else.\n",
    "\n",
    "\n",
    "number = float(input('Enter a number '))\n",
    "lower_limit = float(input('Enter the lower limit of the range: '))\n",
    "upper_limit = float(input('Enter the upper limit of the range: '))\n",
    "if lower_limit <=number <= upper_limit:\n",
    "    print(f'{number} is within the specified range[{lower_limit}, {upper_limit}]')\n",
    "else:\n",
    "    print(f'{number} is not within the specified range[{lower_limit}, {upper_limit}]')\n"
   ]
  },
  {
   "cell_type": "code",
   "execution_count": 19,
   "id": "846bac80-04f2-4c84-9b74-bae068dd920c",
   "metadata": {
    "tags": []
   },
   "outputs": [
    {
     "name": "stdin",
     "output_type": "stream",
     "text": [
      "Enter a score 88\n"
     ]
    },
    {
     "name": "stdout",
     "output_type": "stream",
     "text": [
      "The student's grade is B\n"
     ]
    }
   ],
   "source": [
    "# 10. Create a Python program that determines the grade of a student based on their score using if-else.\n",
    "\n",
    "score = float(input('Enter a score'))\n",
    "\n",
    "if 90 <= score <= 100:\n",
    "    grade = 'A'\n",
    "elif 80 <= score <= 90:\n",
    "    grade = 'B'\n",
    "elif 70 <= score <= 80:\n",
    "    grade = 'C'\n",
    "elif 60 <= score <= 70:\n",
    "    grade = 'D'\n",
    "elif 0 <= score <= 60:\n",
    "    grade = 'F'\n",
    "\n",
    "else:\n",
    "    grade = 'Invalid (Score out of range)'\n",
    "print(f'The student\\'s grade is {grade}')"
   ]
  },
  {
   "cell_type": "code",
   "execution_count": 21,
   "id": "cd4da1f3-74ab-4e52-b08c-1abf0be151d1",
   "metadata": {
    "tags": []
   },
   "outputs": [
    {
     "name": "stdin",
     "output_type": "stream",
     "text": [
      "Enter some characters \n"
     ]
    },
    {
     "name": "stdout",
     "output_type": "stream",
     "text": [
      "String is empty\n"
     ]
    }
   ],
   "source": [
    "# 11.Write a Python program to check if a string is empty or not using if-else.\n",
    "\n",
    "\n",
    "string = input('Enter some characters')\n",
    "\n",
    "\n",
    "if len(string) == 0:\n",
    "    print('String is empty')\n",
    "else:\n",
    "    print('string is not empty')\n"
   ]
  },
  {
   "cell_type": "code",
   "execution_count": 29,
   "id": "c231b4d6-50db-4de1-b67e-1c24b8f05347",
   "metadata": {
    "tags": []
   },
   "outputs": [
    {
     "name": "stdin",
     "output_type": "stream",
     "text": [
      "Enter first side 2\n",
      "Enter second side 2\n",
      "Enter third side 2\n"
     ]
    },
    {
     "name": "stdout",
     "output_type": "stream",
     "text": [
      "Equilateral Triangle\n"
     ]
    }
   ],
   "source": [
    "## 12. Create a Python program that identifies the type of a triangle (e.g., equilateral, isosceles, or scalene) based on input values using if-else.\n",
    "\n",
    "\n",
    "\n",
    "Side_1 = int(input('Enter first side'))\n",
    "\n",
    "Side_2 = int(input('Enter second side'))\n",
    "\n",
    "Side_3 = int(input('Enter third side'))\n",
    "\n",
    "\n",
    "\n",
    "if Side_2 == Side_2 == Side_3:\n",
    "    print('Equilateral Triangle')\n",
    "    \n",
    "elif (Side_1 == Side_2 or Side_1 == Side_3 or Side_2 == Side_3):\n",
    "    print('Triangle is isosceles')\n",
    "\n",
    "elif (Side_1 != Side_2 != Side_3):\n",
    "    print('Scalene Triangle')"
   ]
  },
  {
   "cell_type": "code",
   "execution_count": 32,
   "id": "189d2857-1b95-471a-9a46-cf45d1e3bdf8",
   "metadata": {
    "tags": []
   },
   "outputs": [
    {
     "name": "stdin",
     "output_type": "stream",
     "text": [
      "Enter a number 2\n"
     ]
    },
    {
     "name": "stdout",
     "output_type": "stream",
     "text": [
      "Monday\n"
     ]
    }
   ],
   "source": [
    "#13.  Write a Python program to determine the day of the week based on a user-provided number using if-else.\n",
    "\n",
    "num = int(input('Enter a number'))\n",
    "days_of_the_week = ['Sunday', 'Monday', 'Tuesday', 'Wednesday', 'Thursday', 'Friday', 'Saturday']\n",
    "\n",
    "if num == 1:\n",
    "          print(days_of_the_week[0])\n",
    "elif num == 2:\n",
    "          print(days_of_the_week[1])\n",
    "elif num == 3:\n",
    "          print(days_of_the_week[3])\n",
    "elif num == 4:\n",
    "          print(days_of_the_week[4])\n",
    "          \n",
    "elif num == 5:\n",
    "          print(days_of_the_week[5])\n",
    "elif num == 6:\n",
    "          print(days_of_the_week[6])\n",
    "else:\n",
    "    print('Invalid input')"
   ]
  },
  {
   "cell_type": "code",
   "execution_count": 38,
   "id": "f5e4e879-b3d2-4587-b4df-2f52eb928763",
   "metadata": {
    "tags": []
   },
   "outputs": [
    {
     "name": "stdin",
     "output_type": "stream",
     "text": [
      "Enter a year 1992\n"
     ]
    },
    {
     "name": "stdout",
     "output_type": "stream",
     "text": [
      "1992 is a leap year\n"
     ]
    }
   ],
   "source": [
    "#14. Create a Python program that checks if a given year is a leap year using both if-else and a function.\n",
    "\n",
    "def is_leap(year):\n",
    "    if (year % 4 == 0 and year % 100 != 0) or (year % 400 == 0):\n",
    "        return True\n",
    "    else:\n",
    "        return False\n",
    "\n",
    "year = int(input('Enter a year'))\n",
    "                 \n",
    "if is_leap(year):\n",
    "                 print(f'{year} is a leap year')\n",
    "else:\n",
    "    print(f'{year} is not a leap year')"
   ]
  },
  {
   "cell_type": "code",
   "execution_count": 49,
   "id": "d10b87f7-5b86-4b64-a013-84c9ff16877a",
   "metadata": {
    "tags": []
   },
   "outputs": [
    {
     "ename": "AssertionError",
     "evalue": "Division by zero is not allowed",
     "output_type": "error",
     "traceback": [
      "\u001b[1;31m---------------------------------------------------------------------------\u001b[0m",
      "\u001b[1;31mAssertionError\u001b[0m                            Traceback (most recent call last)",
      "Cell \u001b[1;32mIn[49], line 18\u001b[0m\n\u001b[0;32m     15\u001b[0m numerator \u001b[38;5;241m=\u001b[39m \u001b[38;5;241m10\u001b[39m\n\u001b[0;32m     16\u001b[0m denominator \u001b[38;5;241m=\u001b[39m \u001b[38;5;241m0\u001b[39m\n\u001b[1;32m---> 18\u001b[0m result \u001b[38;5;241m=\u001b[39m \u001b[43mdivide\u001b[49m\u001b[43m(\u001b[49m\u001b[43mnumerator\u001b[49m\u001b[43m,\u001b[49m\u001b[43m \u001b[49m\u001b[43mdenominator\u001b[49m\u001b[43m)\u001b[49m\n\u001b[0;32m     20\u001b[0m \u001b[38;5;28mprint\u001b[39m(\u001b[38;5;124mf\u001b[39m\u001b[38;5;124m\"\u001b[39m\u001b[38;5;124mThe result of division is \u001b[39m\u001b[38;5;132;01m{\u001b[39;00mresult\u001b[38;5;132;01m}\u001b[39;00m\u001b[38;5;124m\"\u001b[39m)\n",
      "Cell \u001b[1;32mIn[49], line 12\u001b[0m, in \u001b[0;36mdivide\u001b[1;34m(a, b)\u001b[0m\n\u001b[0;32m     11\u001b[0m \u001b[38;5;28;01mdef\u001b[39;00m \u001b[38;5;21mdivide\u001b[39m(a, b):\n\u001b[1;32m---> 12\u001b[0m     \u001b[38;5;28;01massert\u001b[39;00m b \u001b[38;5;241m!=\u001b[39m \u001b[38;5;241m0\u001b[39m, \u001b[38;5;124m\"\u001b[39m\u001b[38;5;124mDivision by zero is not allowed\u001b[39m\u001b[38;5;124m\"\u001b[39m\n\u001b[0;32m     13\u001b[0m     \u001b[38;5;28;01mreturn\u001b[39;00m a \u001b[38;5;241m/\u001b[39m b\n",
      "\u001b[1;31mAssertionError\u001b[0m: Division by zero is not allowed"
     ]
    }
   ],
   "source": [
    "#15. How do you use the \"assert\" statement in Python to add debugging checks within if-else blocks?\n",
    "\n",
    "\n",
    "'''\n",
    "\n",
    "The assert statement in Python is used to add debugging checks within your code. It allows you to check if a given condition is True. If the condition is False, an AssertionError is raised, which can help you identify and fix issues in your code during development.\n",
    "\n",
    "You can use the assert statement within if-else blocks to validate certain conditions and ensure they hold true during program execution. Here's a basic example:\n",
    "'''\n",
    "\n",
    "def divide(a, b):\n",
    "    assert b != 0, \"Division by zero is not allowed\"\n",
    "    return a / b\n",
    "\n",
    "numerator = 10\n",
    "denominator = 0\n",
    "\n",
    "result = divide(numerator, denominator)\n",
    "\n",
    "print(f\"The result of division is {result}\")\n"
   ]
  },
  {
   "cell_type": "code",
   "execution_count": 50,
   "id": "a8bf4347-fdac-4a6a-a17e-f54a1085bda3",
   "metadata": {
    "tags": []
   },
   "outputs": [
    {
     "name": "stdin",
     "output_type": "stream",
     "text": [
      "Enter your age 61\n"
     ]
    },
    {
     "name": "stdout",
     "output_type": "stream",
     "text": [
      "Congratulations! You're eligible for a senior citizen discount\n"
     ]
    }
   ],
   "source": [
    "#16. Create a Python program that determines the eligibility of a person for a senior citizen discount based on age using if-else.\n",
    "\n",
    "age = int(input('Enter your age'))\n",
    "\n",
    "senior_citizen_age = 60\n",
    "\n",
    "#check eligibility of a senior citizen discount:\n",
    "\n",
    "if age >= senior_citizen_age:\n",
    "    print('Congratulations! You\\'re eligible for a senior citizen discount.')\n",
    "else:\n",
    "    print('Sorry! You\\'re not eligible for a senior citizen discount.')\n"
   ]
  },
  {
   "cell_type": "code",
   "execution_count": 63,
   "id": "fdd82471-6b27-448f-9f67-85ea24441949",
   "metadata": {
    "tags": []
   },
   "outputs": [
    {
     "name": "stdin",
     "output_type": "stream",
     "text": [
      "Enter a character:  0\n"
     ]
    },
    {
     "name": "stdout",
     "output_type": "stream",
     "text": [
      "Neither\n"
     ]
    }
   ],
   "source": [
    "# 17. Write a Python program to categorize a given character as uppercase, lowercase, or neither using if-else.\n",
    "\n",
    "\n",
    "char = input('Enter a character: ')\n",
    "if char.isupper():\n",
    "    print('Uppercase character')\n",
    "elif char.islower():\n",
    "    print('Lowercase character')\n",
    "else:\n",
    "    print('Neither')"
   ]
  },
  {
   "cell_type": "code",
   "execution_count": 69,
   "id": "fc78723e-9194-4696-8614-8f404cc18d48",
   "metadata": {
    "tags": []
   },
   "outputs": [
    {
     "name": "stdin",
     "output_type": "stream",
     "text": [
      "Enter the coefficient 'a':  2\n",
      "Enter the coefficient 'b':  3\n",
      "Enter the coefficient 'c':  4\n"
     ]
    },
    {
     "name": "stdout",
     "output_type": "stream",
     "text": [
      "Complex Root 1: -0.75 + 1.1989578808281798 i\n",
      "Complex Root 2: -0.75 - 1.1989578808281798 i\n"
     ]
    }
   ],
   "source": [
    "## 18. Write a Python program to determine the roots of a quadratic equation using if-else.\n",
    "\n",
    "a = float(input(\"Enter the coefficient 'a': \"))\n",
    "b = float(input(\"Enter the coefficient 'b': \"))\n",
    "c = float(input(\"Enter the coefficient 'c': \"))\n",
    "\n",
    "discriminant = b**2 - 4*a*c\n",
    "\n",
    "if discriminant > 0:\n",
    "    root1 = (-b + discriminant**0.5) / (2*a)\n",
    "    root2 = (-b - discriminant**0.5) / (2*a)\n",
    "    print(\"Root 1:\", root1)\n",
    "    print(\"Root 2:\", root2)\n",
    "elif discriminant == 0:\n",
    "    \n",
    "    root = -b / (2*a)\n",
    "    print(\"Root:\", root)\n",
    "else:\n",
    "    \n",
    "    real_part = -b / (2*a)\n",
    "    imaginary_part = (abs(discriminant)**0.5) / (2*a)\n",
    "    print(\"Complex Root 1:\", real_part, \"+\", imaginary_part, \"i\")\n",
    "    print(\"Complex Root 2:\", real_part, \"-\", imaginary_part, \"i\")"
   ]
  },
  {
   "cell_type": "code",
   "execution_count": 70,
   "id": "887bb603-a0a7-42c1-a58b-14b30e9281be",
   "metadata": {
    "tags": []
   },
   "outputs": [
    {
     "name": "stdin",
     "output_type": "stream",
     "text": [
      "Enter a year 1900\n"
     ]
    },
    {
     "name": "stdout",
     "output_type": "stream",
     "text": [
      "1900 is a century year\n"
     ]
    }
   ],
   "source": [
    "# 19. Create a Python program that checks if a given year is a century year or not using if-else.\n",
    "\n",
    "year = int(input('Enter a year'))\n",
    "\n",
    "if year % 100 == 0:\n",
    "    print(f'{year} is a century year')\n",
    "else:\n",
    "    print('Year is not a century year')"
   ]
  },
  {
   "cell_type": "code",
   "execution_count": 76,
   "id": "de4801e8-38da-447a-934a-eda3b8639610",
   "metadata": {
    "tags": []
   },
   "outputs": [
    {
     "name": "stdin",
     "output_type": "stream",
     "text": [
      "Enter a number :  3\n"
     ]
    },
    {
     "name": "stdout",
     "output_type": "stream",
     "text": [
      "3 is a not perfect square.\n"
     ]
    }
   ],
   "source": [
    "# 20. Write a Python program to determine if a given number is a perfect square using if-else.\n",
    "\n",
    "\n",
    "import math\n",
    "\n",
    "number = int(input('Enter a number : '))\n",
    "\n",
    "\n",
    "if number < 0:\n",
    "    print('Negative numbers are not perfect squares')\n",
    "else:\n",
    "    square_root = math.isqrt(number)\n",
    "    if square_root * square_root == number:\n",
    "        print(f'{number} is a perfect square.')\n",
    "    else:\n",
    "        print(f'{number} is a not perfect square.')"
   ]
  },
  {
   "cell_type": "code",
   "execution_count": 81,
   "id": "807a09df-e6dd-4c42-ad59-1fedd4666513",
   "metadata": {
    "tags": []
   },
   "outputs": [
    {
     "name": "stdout",
     "output_type": "stream",
     "text": [
      "0\n",
      "1\n",
      "2\n",
      "4\n",
      "5\n",
      "6\n",
      "7\n",
      "8\n",
      "9\n",
      "1\n",
      "2\n"
     ]
    },
    {
     "data": {
      "text/plain": [
       "'In this example, when the loop encounters num equal to the target, \\nthe \"break\" statement is executed, and the loop is terminated.\\n\\n'"
      ]
     },
     "execution_count": 81,
     "metadata": {},
     "output_type": "execute_result"
    }
   ],
   "source": [
    "# 21. Explain the purpose of the \"continue\" and \"break\" statements within if-else loops.\n",
    "'''\n",
    "\"continue\" Statement:\n",
    "\n",
    "Purpose: The \"continue\" statement is used to skip the rest of the current iteration of a loop and proceed to the next iteration.\n",
    "Use Case: It is typically used when a specific condition is met, and you want to skip some code within a loop but continue looping. For example, you might use it to skip processing certain elements in a list that meet a specific condition.\n",
    "Example:\n",
    "'''\n",
    "\n",
    "#Example:\n",
    "\n",
    "for i in range(10):\n",
    "    if i == 3:\n",
    "        continue\n",
    "    print(i)\n",
    "#In this example, when i is 3, the \"continue\" statement skips the print statement, and the loop continues with the next iteration.\n",
    "\n",
    "\n",
    "'''\n",
    "\"break\" Statement:\n",
    "\n",
    "Purpose: The \"break\" statement is used to exit a loop prematurely, terminating the loop's execution.\n",
    "Use Case: It is typically used when a certain condition is met that indicates you no longer need to continue looping. For example, you might use it to exit a loop when you've found the item you were searching for in a list.\n",
    "\n",
    "\n",
    "'''\n",
    "\n",
    "# Example:\n",
    "\n",
    "numbers = [i for i in range(1, 6)]\n",
    "target = 3\n",
    "\n",
    "for num in numbers:\n",
    "    if num == target:\n",
    "        break\n",
    "    print(num)\n",
    "\n",
    "'''In this example, when the loop encounters num equal to the target, \n",
    "the \"break\" statement is executed, and the loop is terminated.\n",
    "\n",
    "'''\n"
   ]
  },
  {
   "cell_type": "markdown",
   "id": "d46d84c7-5770-49bb-b60f-54e32c738835",
   "metadata": {},
   "source": [
    "## In summary:\n",
    "\n",
    "\"continue\" allows you to skip the current iteration and move to the next iteration of a loop.\n",
    "\n",
    "\n",
    "\"break\" allows you to exit the loop prematurely, terminating its execution.\n",
    "These statements are valuable for controlling the flow of loops and are used "
   ]
  },
  {
   "cell_type": "code",
   "execution_count": 88,
   "id": "fd32be3c-9d69-4a04-86a8-b78bbba450cb",
   "metadata": {
    "tags": []
   },
   "outputs": [
    {
     "name": "stdin",
     "output_type": "stream",
     "text": [
      "Enter your height :  1\n",
      "Enter your weight :  1\n"
     ]
    },
    {
     "name": "stdout",
     "output_type": "stream",
     "text": [
      "Your BMI is 1.0\n",
      "The person's BMI is 1.00, which is categorized as Underweight.\n"
     ]
    }
   ],
   "source": [
    "### 22. Create a Python program that calculates the BMI (Body Mass Index) of a person based on their weight and height using if-else.\n",
    "\n",
    "height = float(input('Enter your height : '))\n",
    "weight = float(input('Enter your weight : '))\n",
    "        \n",
    "bmi = weight / (height ** 2)\n",
    "print('Your BMI is', bmi)\n",
    "if bmi < 18.5:\n",
    "    category = 'Underweight'\n",
    "elif 18.5 <= bmi < 24.9:\n",
    "    category = 'Normal(Healthy weight)'\n",
    "elif 25 <= bmi <= 29.9:\n",
    "    category = 'Overweight'\n",
    "else:\n",
    "    category = 'Obese'\n",
    "    \n",
    "print(f\"The person's BMI is {bmi:.2f}, which is categorized as {category}.\")"
   ]
  },
  {
   "cell_type": "code",
   "execution_count": 96,
   "id": "e7b022fb-dd8f-4738-8840-aa0c8305b276",
   "metadata": {
    "tags": []
   },
   "outputs": [
    {
     "name": "stdout",
     "output_type": "stream",
     "text": [
      "[30, 32, 34, 36, 38, 40, 42, 44, 46, 48]\n"
     ]
    },
    {
     "data": {
      "text/plain": [
       "\"While the primary purpose of filter() is to filter elements based on a given function (typically a lambda function or user-defined function), you can also use if-else statements within that function to control the filtering process.\\n\\nHere's how you can use the filter() function with if-else statements to filter elements from a list:\""
      ]
     },
     "execution_count": 96,
     "metadata": {},
     "output_type": "execute_result"
    }
   ],
   "source": [
    "# 23. How can you use the \"filter()\" function with if-else statements to filter elements from a list?\n",
    "\n",
    "numbers = [i for i in range(30, 50)]\n",
    "\n",
    "def is_even(x):\n",
    "    if x % 2 == 0:\n",
    "        return True\n",
    "    else:\n",
    "        return False\n",
    "filtered_numbers = filter(is_even, numbers)\n",
    "print(list(filtered_numbers))\n",
    "\n",
    "'''While the primary purpose of filter() is to filter elements based on a given function (typically a lambda function or user-defined function), you can also use if-else statements within that function to control the filtering process.\n",
    "\n",
    "Here's how you can use the filter() function with if-else statements to filter elements from a list:'''"
   ]
  },
  {
   "cell_type": "code",
   "execution_count": 108,
   "id": "9e733e8e-1cdb-491f-8095-415809415a51",
   "metadata": {
    "tags": []
   },
   "outputs": [
    {
     "name": "stdin",
     "output_type": "stream",
     "text": [
      "Enter a number 2\n"
     ]
    },
    {
     "name": "stdout",
     "output_type": "stream",
     "text": [
      "2 is a prime number\n"
     ]
    }
   ],
   "source": [
    "#24. Write a Python program to determine if a given number is prime or not using if-else.\n",
    "\n",
    "n = int(input('Enter a number'))\n",
    "\n",
    "if n > 1:\n",
    "    is_prime = True\n",
    "    for i in range(2, n):\n",
    "        if (n % i) == 0:\n",
    "            is_Prime = False\n",
    "            break\n",
    "else:\n",
    "    is_prime = False\n",
    "    \n",
    "\n",
    "if is_prime:\n",
    "    print(n, 'is a prime number')\n",
    "else:\n",
    "    print(n, 'is not a prime number')"
   ]
  },
  {
   "cell_type": "code",
   "execution_count": 115,
   "id": "7af1bc0a-7386-43ef-893a-849aa4f23153",
   "metadata": {
    "tags": []
   },
   "outputs": [
    {
     "name": "stdout",
     "output_type": "stream",
     "text": [
      "[1, 4, 9, 16, 25]\n"
     ]
    }
   ],
   "source": [
    "\n",
    "'''Map :-\n",
    "\n",
    "\n",
    "25 . Explain the purpose of the `map()` function in Python and provide an example of how it can be used to apply a function to each element of an iterable.\n",
    "'''\n",
    "'''\n",
    "The map() function in Python is used to apply a specified function to each item (element) in an iterable (such as a list, tuple, or other iterable data structure).\n",
    "\n",
    "It returns an iterable (typically a map object or, in Python 3, a generator) containing the results of applying the function to each element in the original iterable.\n",
    "\n",
    "The purpose of map() is to transform data by applying the same operation to each item, making it a useful tool for data manipulation.\n",
    "'''\n",
    "\n",
    "\n",
    "def square(x):\n",
    "    return x ** 2\n",
    "\n",
    "\n",
    "numbers = [i for i in range(1, 6)]\n",
    "\n",
    "squared_numbers = list(map(square, numbers))\n",
    "\n",
    "print(squared_numbers)"
   ]
  },
  {
   "cell_type": "code",
   "execution_count": 117,
   "id": "babf78d1-8c4a-4a9c-aacb-9cf1c9e5943e",
   "metadata": {
    "tags": []
   },
   "outputs": [
    {
     "data": {
      "text/plain": [
       "[400, 441, 484, 529, 576, 625, 676, 729, 784, 841]"
      ]
     },
     "execution_count": 117,
     "metadata": {},
     "output_type": "execute_result"
    }
   ],
   "source": [
    "#2. Write a Python program that uses the `map()` function to square each element of a list of numbers.\n",
    "\n",
    "def square(x):\n",
    "    return x ** 2\n",
    "\n",
    "nums = [i for i in range(20, 30)]\n",
    "\n",
    "\n",
    "sq_nums = list(map(square, nums))\n",
    "\n",
    "sq_nums"
   ]
  },
  {
   "cell_type": "code",
   "execution_count": 127,
   "id": "f3962f1c-8226-468e-b368-2525edc2c8c3",
   "metadata": {
    "tags": []
   },
   "outputs": [
    {
     "data": {
      "text/plain": [
       "[1, 4, 9, 16]"
      ]
     },
     "execution_count": 127,
     "metadata": {},
     "output_type": "execute_result"
    }
   ],
   "source": [
    "# 3. How does the `map()` function differ from a list comprehension in Python, and when would you choose one over the other?\n",
    "\n",
    "'''\n",
    "The map() function and list comprehensions in Python are both used for transforming and processing data from one iterable to another, but they have different syntax and use cases. Here's how they differ, and when you might choose one over the other:\n",
    "\n",
    "Syntax:\n",
    "\n",
    "map():\n",
    "Requires a separate function to be defined and passed as an argument.\n",
    "Returns a map object (or generator in Python 3), which needs to be converted to a list or another data structure to access the results.\n",
    "List Comprehension:\n",
    "Uses a more concise and readable syntax directly within square brackets.\n",
    "Returns a new list containing the transformed elements.\n",
    "Readability and Simplicity:\n",
    "\n",
    "List comprehensions are often considered more readable and concise, making them a preferred choice for simple transformations.\n",
    "Functionality:\n",
    "\n",
    "map() is more versatile when you need to apply the same function to multiple iterables simultaneously. It can accept multiple iterable arguments and apply the function element-wise.\n",
    "List comprehensions are typically used for single iterable transformations, but you can nest them for more complex operations.\n",
    "Performance:\n",
    "\n",
    "In some cases, map() may have a slight performance advantage over list comprehensions due to its underlying C implementation, especially with large datasets. However, the difference is usually negligible in most applications.\n",
    "Generators:\n",
    "\n",
    "If you want to create a generator (an iterable that generates values lazily), you can use a generator expression within a list comprehension. However, map() itself returns a generator in Python 3, making it more memory-efficient for large datasets.\n",
    "Functional Programming:\n",
    "\n",
    "If you come from a functional programming background, you may prefer the use of map() as it follows the functional paradigm of transforming data by applying functions.\n",
    "\n",
    "'''\n",
    "#Example of map:\n",
    "\n",
    "\n",
    "numbers = [1,2,3,4,5]\n",
    "\n",
    "def square(x):\n",
    "    return x ** 2\n",
    "\n",
    "addn = list(map(square, numbers))\n",
    "addn\n",
    "\n",
    "#using list comprehension:\n",
    "\n",
    "list_comprehension = [x ** 2 for x in range(1, 5)]\n",
    "list_comprehension"
   ]
  },
  {
   "cell_type": "code",
   "execution_count": 128,
   "id": "577fb7ec-8a8d-47cf-ac75-e1b534b55a57",
   "metadata": {
    "tags": []
   },
   "outputs": [
    {
     "data": {
      "text/plain": [
       "['JAY', 'ARUN', 'PHILLIP', 'JONES', 'MARCUS', 'ALICE']"
      ]
     },
     "execution_count": 128,
     "metadata": {},
     "output_type": "execute_result"
    }
   ],
   "source": [
    "# 4. Create a Python program that uses the `map()` function to convert a list of names to uppercase.\n",
    "\n",
    "list_names = ['jay', 'arun','phillip','jones','marcus','alice']\n",
    "upper_case = list(map(lambda x: x.upper(), list_names))\n",
    "upper_case"
   ]
  },
  {
   "cell_type": "code",
   "execution_count": 129,
   "id": "ddf87888-b44a-4877-94d2-fb8bd4ca27db",
   "metadata": {
    "tags": []
   },
   "outputs": [
    {
     "data": {
      "text/plain": [
       "[3, 4, 7, 5, 6, 5]"
      ]
     },
     "execution_count": 129,
     "metadata": {},
     "output_type": "execute_result"
    }
   ],
   "source": [
    "# 5. Write a Python program that uses the `map()` function to calculate the length of each word in a list of strings.\n",
    "\n",
    "length = list(map(lambda x: len(x), list_names))\n",
    "length"
   ]
  },
  {
   "cell_type": "code",
   "execution_count": 131,
   "id": "2d057e00-47d1-484c-9b17-17ee44cab43a",
   "metadata": {
    "tags": []
   },
   "outputs": [
    {
     "data": {
      "text/plain": [
       "[11, 22, 33, 44]"
      ]
     },
     "execution_count": 131,
     "metadata": {},
     "output_type": "execute_result"
    }
   ],
   "source": [
    "# 6. How can you use the `map()` function to apply a custom function to elements of multiple lists simultaneously in Python?\n",
    "\n",
    "\n",
    "# Example:\n",
    "\n",
    "def add_elements(x, y):\n",
    "    return x + y\n",
    "\n",
    "list_10 = [1, 2, 3, 4]\n",
    "list_11 = [10, 20, 30, 40]\n",
    "\n",
    "\n",
    "result = list(map(add_elements, list_10, list_11))\n",
    "\n",
    "\n",
    "result"
   ]
  },
  {
   "cell_type": "code",
   "execution_count": 133,
   "id": "443c47cb-b4b1-46bb-8d7e-ed3d0c6ea666",
   "metadata": {
    "tags": []
   },
   "outputs": [
    {
     "data": {
      "text/plain": [
       "[102.2, 104.0, 107.6, 140.0, 71.6, 66.2, 48.2]"
      ]
     },
     "execution_count": 133,
     "metadata": {},
     "output_type": "execute_result"
    }
   ],
   "source": [
    "#7. Create a Python program that uses `map()` to convert a list of temperatures from Celsius to Fahrenheit.\n",
    "\n",
    "\n",
    "\n",
    "temp_list_celsius = [39.00, 40.00, 42.00, 60.00, 22.00, 19.00, 9.00]\n",
    "\n",
    "def cel_to_far(x):\n",
    "    F = (x * 9/5) + 32\n",
    "    return F\n",
    "\n",
    "far_list = list(map(cel_to_far, temp_list_celsius))\n",
    "far_list"
   ]
  },
  {
   "cell_type": "code",
   "execution_count": 134,
   "id": "6bd9936a-7abf-42d4-abf9-2cbb8ed774a7",
   "metadata": {
    "tags": []
   },
   "outputs": [
    {
     "data": {
      "text/plain": [
       "[4, 7, 9, 33, 99]"
      ]
     },
     "execution_count": 134,
     "metadata": {},
     "output_type": "execute_result"
    }
   ],
   "source": [
    "#8. Write a Python program that uses the `map()` function to round each element of a list of floating-point numbers to the nearest integer.\n",
    "\n",
    "\n",
    "floats_list = [4.5, 6.77, 8.95, 33.22, 99.09]\n",
    "\n",
    "rounded_list = list(map(lambda x: round(x), floats_list))\n",
    "\n",
    "rounded_list"
   ]
  },
  {
   "cell_type": "code",
   "execution_count": 146,
   "id": "c1712e4d-8e88-4bfc-b01f-2547e4518945",
   "metadata": {
    "tags": []
   },
   "outputs": [
    {
     "name": "stdout",
     "output_type": "stream",
     "text": [
      "Product: 120\n"
     ]
    }
   ],
   "source": [
    "'''\n",
    "REDUCE : \n",
    "\n",
    "1.What is the `reduce()` function in Python, and what module should you import to use it? \n",
    "\n",
    "Provide an example of its basic usage.\n",
    "\n",
    "''\n",
    "Python's reduce() is a function that implements a mathematical technique called folding or reduction.\n",
    "\n",
    "reduce() is useful when you need to apply a function to an iterable and reduce it to a single cumulative value.\n",
    "\n",
    "from functools we import reduce: from functools import reduce\n",
    "\n",
    "'''\n",
    "\n",
    "# Define a binary function to multiply two values\n",
    "\n",
    "from functools import reduce\n",
    "\n",
    "def multiply(x, y):\n",
    "    return x * y\n",
    "\n",
    "# Create a list of numbers\n",
    "numbers = [1, 2, 3, 4, 5]\n",
    "\n",
    "# Use reduce() to calculate the product of all numbers\n",
    "product = reduce(multiply, numbers)\n",
    "\n",
    "# Display the result\n",
    "print(\"Product:\", product)\n",
    "# In this example:\n",
    "\n",
    "# We import the functools module to access the reduce() function.\n",
    "\n",
    "# We define a binary function multiply that takes two arguments x and y and returns their product.\n",
    "\n",
    "# We create a list of numbers called numbers.\n",
    "\n",
    "# We use the reduce() function to calculate the product of all numbers in the list. The multiply function is applied to the elements of the list element-wise, resulting in the product.\n",
    "\n",
    "# Finally, we print the product of the numbers.\n",
    "\n",
    "# The reduce() function is particularly useful when you need to perform cumulative operations on a sequence of elements, such as calculating sums, products, or other aggregations. It's worth noting that in Python 3, the reduce() function was moved from the built-in namespace to the functools module, so you need to import it explicitly.\n",
    "\n"
   ]
  },
  {
   "cell_type": "code",
   "execution_count": 150,
   "id": "0e69093f-e464-4e13-8505-9e0f5b1db092",
   "metadata": {
    "tags": []
   },
   "outputs": [
    {
     "data": {
      "text/plain": [
       "288"
      ]
     },
     "execution_count": 150,
     "metadata": {},
     "output_type": "execute_result"
    }
   ],
   "source": [
    "#2. Write a Python program that uses the `reduce()` function to find the product of all elements in a list.\n",
    "\n",
    "\n",
    "listt = [2, 4, 1, 9, 4]\n",
    "def product(x , y):\n",
    "    return x * y\n",
    "\n",
    "from functools import reduce\n",
    "\n",
    "products = reduce(product, listt)\n",
    "products"
   ]
  },
  {
   "cell_type": "code",
   "execution_count": 153,
   "id": "1c03009e-3d9e-4c20-a132-075468c888c1",
   "metadata": {
    "tags": []
   },
   "outputs": [
    {
     "data": {
      "text/plain": [
       "67"
      ]
     },
     "execution_count": 153,
     "metadata": {},
     "output_type": "execute_result"
    }
   ],
   "source": [
    "#3. Create a Python program that uses `reduce()` to find the maximum element in a list of numbers.\n",
    "\n",
    "\n",
    "\n",
    "LIST = [2,3,5,67,8,1,4.9]\n",
    "\n",
    "\n",
    "maxn = reduce(lambda x, y: max(x, y), LIST)\n",
    "maxn"
   ]
  },
  {
   "cell_type": "code",
   "execution_count": 160,
   "id": "40657161-b308-4e7f-a376-aab35b9171cd",
   "metadata": {
    "tags": []
   },
   "outputs": [
    {
     "data": {
      "text/plain": [
       "'The reduce() function in Python is a built-in function that implements a mathematical technique called folding or reduction. reduce() is useful when you need to apply a function to an iterable and reduce it to a single cumulative value.'"
      ]
     },
     "execution_count": 160,
     "metadata": {},
     "output_type": "execute_result"
    }
   ],
   "source": [
    "# 4. How can you use the `reduce()` function to concatenate a list of strings into a single string?\n",
    "\n",
    "\n",
    "\n",
    "quote = ['The', 'reduce()', 'function', 'in', 'Python', 'is', 'a', 'built-in', 'function', 'that', 'implements', 'a', 'mathematical', 'technique', 'called', 'folding', 'or', 'reduction.', 'reduce()', 'is', 'useful', 'when', 'you', 'need', 'to', 'apply', 'a', 'function', 'to', 'an', 'iterable', 'and', 'reduce', 'it', 'to', 'a', 'single', 'cumulative', 'value.']\n",
    "\n",
    "\n",
    "\n",
    "\n",
    "\n",
    "concat_strings = concat_strings = reduce(lambda x, y: x + ' ' + y, quote)\n",
    "\n",
    "concat_strings"
   ]
  },
  {
   "cell_type": "code",
   "execution_count": null,
   "id": "61eb39ea-a528-4830-bd69-422c38770422",
   "metadata": {},
   "outputs": [],
   "source": [
    "# 6. Write a Python program that calculates the factorial of a number using the `reduce()` function."
   ]
  },
  {
   "cell_type": "code",
   "execution_count": 162,
   "id": "671ad752-a1a4-4b95-ad53-d5ddfeddeb38",
   "metadata": {
    "tags": []
   },
   "outputs": [
    {
     "data": {
      "text/plain": [
       "12"
      ]
     },
     "execution_count": 162,
     "metadata": {},
     "output_type": "execute_result"
    }
   ],
   "source": [
    "def fact(n):\n",
    "    if n == 0:\n",
    "        return 1\n",
    "    else:\n",
    "        return n * fact(n-1)\n",
    "    \n",
    "    \n",
    "reduce_factorial = reduce(lambda x, _: x * fact(_), range(1, 4))\n",
    "reduce_factorial"
   ]
  },
  {
   "cell_type": "code",
   "execution_count": 163,
   "id": "59dab325-0e15-46b9-a643-3e3ddad386a6",
   "metadata": {
    "tags": []
   },
   "outputs": [
    {
     "data": {
      "text/plain": [
       "12"
      ]
     },
     "execution_count": 163,
     "metadata": {},
     "output_type": "execute_result"
    }
   ],
   "source": [
    "# 7. Create a Python program that uses `reduce()` to find the GCD (Greatest Common Divisor) of a list of numbers.\n",
    "\n",
    "\n",
    "def gcd(a, b):\n",
    "    while b:\n",
    "        a, b = b, a % b\n",
    "        return a\n",
    "\n",
    "# List of numbers for which you want to find the GCD\n",
    "numbers = [48, 36, 24, 12]\n",
    "\n",
    "\n",
    "#use the reduce function to find GCD of the above list:\n",
    "\n",
    "gcd_result = reduce(gcd, numbers)\n",
    "gcd_result"
   ]
  },
  {
   "cell_type": "code",
   "execution_count": 166,
   "id": "75ffea23-e5ab-414b-aa26-e7ef5db67dc2",
   "metadata": {
    "tags": []
   },
   "outputs": [
    {
     "name": "stdin",
     "output_type": "stream",
     "text": [
      "Enter a number 667\n"
     ]
    },
    {
     "name": "stdout",
     "output_type": "stream",
     "text": [
      "The sum of the digits of 667 is 19\n"
     ]
    }
   ],
   "source": [
    "# 8. Write a Python program that uses the `reduce()` function to find the sum of the digits of a given number.\n",
    "\n",
    "def sum_digits(x, y):\n",
    "    return int(x) + int(y)\n",
    "\n",
    "# Input the number as a string\n",
    "\n",
    "number_str = input('Enter a number')\n",
    "\n",
    "#use the reduce() function to find the sum of digits:\n",
    "\n",
    "sum_of_digits = reduce(sum_digits, number_str)\n",
    "print(f\"The sum of the digits of {number_str} is {sum_of_digits}\")"
   ]
  },
  {
   "cell_type": "code",
   "execution_count": 174,
   "id": "7956c4c1-4273-499a-a710-2b5767d9c20a",
   "metadata": {
    "tags": []
   },
   "outputs": [
    {
     "data": {
      "text/plain": [
       "[644, 2, 4, 2, 2, 8888]"
      ]
     },
     "execution_count": 174,
     "metadata": {},
     "output_type": "execute_result"
    }
   ],
   "source": [
    "'''\n",
    "Filter :-\n",
    "\n",
    "\n",
    "1. Explain the purpose of the `filter()` function in Python and provide an example of how it can be used to filter elements from an iterable.\n",
    "'''\n",
    "\n",
    "'''\n",
    "The filter() function in Python is a built-in function used to filter elements from an iterable (e.g., a list, tuple, or other iterable objects) based on a given function, often referred to as a \"predicate\" function. The purpose of filter() is to create a new iterable (typically a filter object, which can be converted to a list or another iterable type) that contains only the elements from the original iterable for which the predicate function returns True.\n",
    "\n",
    "\n",
    "'''\n",
    "\n",
    "\n",
    "#Example of filter function to filter even numbers from a list:\n",
    "\n",
    "\n",
    "llist = [4455,644,3,2,1,4,5,5,5,333,2,2,5,7,8888]\n",
    "\n",
    "\n",
    "def is_even(number):\n",
    "    return number % 2 == 0    \n",
    "\n",
    "even_numbers = list(filter(is_even, llist))\n",
    "\n",
    "even_numbers"
   ]
  },
  {
   "cell_type": "code",
   "execution_count": 177,
   "id": "77311543-f1f0-4c70-a676-be1d8ec95383",
   "metadata": {
    "tags": []
   },
   "outputs": [
    {
     "data": {
      "text/plain": [
       "[198, 300, 4122, 88, 666, 122]"
      ]
     },
     "execution_count": 177,
     "metadata": {},
     "output_type": "execute_result"
    }
   ],
   "source": [
    "#2. Write a Python program that uses the `filter()` function to select even numbers from a list of integers.\n",
    "\n",
    "small_list = [198,221,300,4122,10987,99, 88, 666, 122]\n",
    "\n",
    "def even_numbers(number):\n",
    "    return number % 2 == 0\n",
    "\n",
    "filtered_list = list(filter(even_numbers, small_list))\n",
    "filtered_list"
   ]
  },
  {
   "cell_type": "code",
   "execution_count": 182,
   "id": "e502f255-e1e3-4745-815a-ce7f9e631ea8",
   "metadata": {
    "tags": []
   },
   "outputs": [
    {
     "data": {
      "text/plain": [
       "['arun', 'akshay', 'alice', 'amit']"
      ]
     },
     "execution_count": 182,
     "metadata": {},
     "output_type": "execute_result"
    }
   ],
   "source": [
    "# 3. Create a Python program that uses the `filter()` function to select names that start with a specific letter from a list of strings.\n",
    "\n",
    "\n",
    "names  = ['arun', 'akshay', 'bob', 'alice', 'rajesh', 'amit', 'tripti']\n",
    "\n",
    "\n",
    "#filter names starting with 'a':\n",
    "\n",
    "filtered_names = list(filter(lambda x: x[0] == 'a', names))\n",
    "\n",
    "filtered_names"
   ]
  },
  {
   "cell_type": "code",
   "execution_count": 185,
   "id": "6317c6ef-eccb-4462-b455-8e2d3e8b4a85",
   "metadata": {
    "tags": []
   },
   "outputs": [
    {
     "data": {
      "text/plain": [
       "[2,\n",
       " 3,\n",
       " 5,\n",
       " 7,\n",
       " 11,\n",
       " 13,\n",
       " 17,\n",
       " 19,\n",
       " 23,\n",
       " 29,\n",
       " 31,\n",
       " 37,\n",
       " 41,\n",
       " 43,\n",
       " 47,\n",
       " 53,\n",
       " 59,\n",
       " 61,\n",
       " 67,\n",
       " 71,\n",
       " 73,\n",
       " 79,\n",
       " 83,\n",
       " 89,\n",
       " 97]"
      ]
     },
     "execution_count": 185,
     "metadata": {},
     "output_type": "execute_result"
    }
   ],
   "source": [
    "# 4.Write a Python program that uses the `filter()` function to select prime numbers from a list of integers.\n",
    "\n",
    "\n",
    "\n",
    "list_int = [i for i in range(1, 100)]\n",
    "\n",
    "\n",
    "def is_prime(n):\n",
    "    if n > 1:\n",
    "        for i in range(2, int(n ** 0.5) + 1):\n",
    "            if n % i == 0:\n",
    "                break\n",
    "        else:\n",
    "            return n\n",
    "\n",
    "filter_lis = list(filter(is_prime, list_int))\n",
    "filter_lis"
   ]
  },
  {
   "cell_type": "code",
   "execution_count": 187,
   "id": "881498fe-c3c2-4b30-8b42-4ced5cd5657c",
   "metadata": {
    "tags": []
   },
   "outputs": [
    {
     "data": {
      "text/plain": [
       "[1, 2, 3, 4, 5]"
      ]
     },
     "execution_count": 187,
     "metadata": {},
     "output_type": "execute_result"
    }
   ],
   "source": [
    "# 5. How can you use the `filter()` function to remove None values from a list in Python?\n",
    "\n",
    "\n",
    "# Define a list with None values\n",
    "\n",
    "\n",
    "my_list = [1, None, 2, None, 3, None, 4, None, 5]\n",
    "\n",
    "# function to remove None values:\n",
    "\n",
    "def remove_none(x):\n",
    "    return x is not None\n",
    "\n",
    "# filter() function\n",
    "\n",
    "\n",
    "filter_lst = list(filter(remove_none, my_list))\n",
    "\n",
    "filter_lst"
   ]
  },
  {
   "cell_type": "code",
   "execution_count": 192,
   "id": "1641af4e-a6bc-41a6-8322-c7df5c87e956",
   "metadata": {
    "tags": []
   },
   "outputs": [
    {
     "data": {
      "text/plain": [
       "['arun', 'bheeshma', 'sakha', 'hari', 'ninad', 'nana']"
      ]
     },
     "execution_count": 192,
     "metadata": {},
     "output_type": "execute_result"
    }
   ],
   "source": [
    "# 6. Create a Python program that uses `filter()` to select words longer than a certain length from a list of strings.\n",
    "\n",
    "#returns characters with length more than 3 and filters the rest.\n",
    "\n",
    "\n",
    "def check_len(x):\n",
    "    return len(x) >= 3\n",
    "\n",
    "name_li = ['arun', 's', 'a', 'rj', 'll', 'bheeshma', 'sakha', 'hari', 'ninad', 'nana']\n",
    "\n",
    "fil_lis = list(filter(check_len, name_li))\n",
    "fil_lis"
   ]
  },
  {
   "cell_type": "code",
   "execution_count": 195,
   "id": "16bb11bc-7e99-4f70-8f7c-708b6a53f018",
   "metadata": {
    "tags": []
   },
   "outputs": [
    {
     "data": {
      "text/plain": [
       "[24, 18, 30]"
      ]
     },
     "execution_count": 195,
     "metadata": {},
     "output_type": "execute_result"
    }
   ],
   "source": [
    "#7. Write a Python program that uses the `filter()` function to select elements greater than a specified threshold from a list of values.\n",
    "\n",
    "\n",
    "# Define a list of values\n",
    "values = [12, 24, 5, 18, 9, 30, 15]\n",
    "\n",
    "\n",
    "#declare a threshold:\n",
    "\n",
    "\n",
    "threshold = 15\n",
    "\n",
    "#create a function:\n",
    "\n",
    "def select_greater_than_threshold(x):\n",
    "    return x > threshold\n",
    "\n",
    "\n",
    "selected_values = list(filter(select_greater_than_threshold, values))\n",
    "\n",
    "selected_values"
   ]
  },
  {
   "cell_type": "code",
   "execution_count": 200,
   "id": "2402d8a6-298f-44e7-8c21-3ac74ccd3dd3",
   "metadata": {
    "tags": []
   },
   "outputs": [
    {
     "name": "stdin",
     "output_type": "stream",
     "text": [
      " 5\n"
     ]
    },
    {
     "name": "stdout",
     "output_type": "stream",
     "text": [
      "120\n"
     ]
    }
   ],
   "source": [
    "# Recursion:-\n",
    "\n",
    "# 1. Explain the concept of recursion in Python. How does it differ from iteration?\n",
    "\n",
    "\n",
    "'''\n",
    "\n",
    "Recursion and iteration are two fundamental concepts in programming used for repetitive tasks, but they differ in how they achieve those repetitions.\n",
    "\n",
    "Recursion in Python is a programming technique where a function calls itself to solve a smaller version of a problem. It's essentially solving a problem by breaking it down into smaller, more manageable subproblems. In a recursive function, there are two main components:\n",
    "\n",
    "I] Base Case(s): These are the stopping conditions that determine when the recursion should stop. When the base case is met, the function returns a result without making a recursive call. Without a base case, the recursion would continue indefinitely, leading to a stack overflow.\n",
    "\n",
    "II] Recursive Case(s): These are the conditions under which the function calls itself with modified arguments. In each recursive call, the problem size should get smaller, eventually leading to the base case.\n",
    "\n",
    "'''\n",
    "\n",
    "\n",
    "'''\n",
    "In contrast, iteration is the process of repeatedly executing a block of code until a specified condition is met. It uses loops (like for and while) to repeat a set of statements until a termination condition is reached. Iteration is generally preferred when you have a specific number of repetitions or when a problem can be solved using a loop construct.\n",
    "\n",
    "Here's an example of iteration using a for loop to calculate the factorial of a number:\n",
    "\n",
    "\n",
    "'''\n",
    "n = int(input())\n",
    "factorial = 1\n",
    "for i in range(1, n+1):\n",
    "    factorial *= i\n",
    "print(factorial)"
   ]
  },
  {
   "cell_type": "code",
   "execution_count": 205,
   "id": "fdd79f47-d66c-4b43-90fa-0c4cfbbe1465",
   "metadata": {
    "tags": []
   },
   "outputs": [
    {
     "data": {
      "text/plain": [
       "120"
      ]
     },
     "execution_count": 205,
     "metadata": {},
     "output_type": "execute_result"
    }
   ],
   "source": [
    "# 2. Write a Python program to calculate the factorial of a number using recursion.\n",
    "\n",
    "def factorial(n):\n",
    "    if n == 0:\n",
    "        return 1\n",
    "    else:\n",
    "        return n * factorial(n - 1)\n",
    "    \n",
    "factorial(5)"
   ]
  },
  {
   "cell_type": "code",
   "execution_count": 207,
   "id": "60d68e0b-a7d8-4a96-ad40-c3b9fa25f03c",
   "metadata": {
    "tags": []
   },
   "outputs": [
    {
     "name": "stdout",
     "output_type": "stream",
     "text": [
      "The 10th Fibonacci number is: 55\n"
     ]
    }
   ],
   "source": [
    "# 3. Create a recursive Python function to find the nth Fibonacci number.\n",
    "\n",
    "def fibonacci(n):\n",
    "    #base cases:\n",
    "    if n == 0:\n",
    "        return 0\n",
    "    elif n == 1:\n",
    "        return 1\n",
    "    #recursive case\n",
    "    else:\n",
    "        return fibonacci(n-1) + fibonacci(n - 2)\n",
    "# Example usage:\n",
    "n = 10  # Change this to the desired Fibonacci number you want to find\n",
    "result = fibonacci(n)\n",
    "print(f\"The {n}th Fibonacci number is: {result}\")"
   ]
  },
  {
   "cell_type": "code",
   "execution_count": 211,
   "id": "92940335-83c9-4d51-b4bf-df84c2b05d57",
   "metadata": {
    "tags": []
   },
   "outputs": [
    {
     "data": {
      "text/plain": [
       "15"
      ]
     },
     "execution_count": 211,
     "metadata": {},
     "output_type": "execute_result"
    }
   ],
   "source": [
    "#4. Write a recursive Python function to calculate the sum of all elements in a list.\n",
    "\n",
    "def recursive_sum(arr):\n",
    "    if not arr:\n",
    "        return 0\n",
    "    #recursive case\n",
    "    else:\n",
    "        return arr[0] + recursive_sum(arr[1:])\n",
    "    \n",
    "sample_lis = [i for i in range(6)]\n",
    "result = recursive_sum(sample_lis)\n",
    "result"
   ]
  },
  {
   "cell_type": "raw",
   "id": "7cebacf8-3fd9-4355-8bfd-b8222420bf84",
   "metadata": {},
   "source": [
    "#5. How can you prevent a recursive function from running indefinitely, causing a stack overflow error?\n",
    "\n",
    "'''\n",
    "\n",
    "To prevent a recursive function from running indefinitely and causing a stack overflow error, you should implement the following strategies:\n",
    "\n",
    "1. **Base Case**: Ensure that your recursive function has one or more base cases that define conditions under which the recursion should stop. These base cases should be well-defined and reachable. When the base case(s) are met, the function should return a result without making further recursive calls.\n",
    "\n",
    "2. **Progress Toward Base Case**: Make sure that each recursive call reduces the problem size or moves closer to the base case(s). In other words, the arguments passed to the recursive calls should change in such a way that they eventually reach the base case.\n",
    "\n",
    "3. **Limited Recursion Depth**: In some cases, you may want to limit the depth of recursion by imposing a maximum recursion depth. This can be achieved using a counter or by tracking the depth of recursion and stopping when it exceeds a predefined threshold.\n",
    "\n",
    "4. **Memoization**: If your recursive function involves redundant calculations, consider using memoization to cache and reuse previously computed results. This can significantly improve the efficiency of recursive algorithms.\n",
    "\n",
    "5. **Testing**: Thoroughly test your recursive function with different inputs, including edge cases and large inputs, to ensure that it behaves as expected and doesn't run into infinite recursion.\n",
    "\n",
    "6. **Tail Recursion**: In languages that support tail call optimization (e.g., some functional languages), you can use tail recursion, where the recursive call is the last operation in the function. This allows the compiler or interpreter to optimize the recursion to avoid stack overflow.\n",
    "\n",
    "7. **Iteration**: In some cases, you may choose to implement an iterative solution instead of a recursive one. Iteration often consumes a constant amount of memory and can be more efficient for certain problems.\n",
    "\n",
    "Here's an example of a recursive function to calculate the factorial of a number with a base case and progress toward the base case:\n",
    "\n",
    "```python\n",
    "def factorial(n):\n",
    "    # Base case: Stop when n is 0 or 1\n",
    "    if n <= 1:\n",
    "        return 1\n",
    "    # Recursive case: Progress toward base case by reducing n\n",
    "    else:\n",
    "        return n * factorial(n - 1)\n",
    "```\n",
    "\n",
    "In this `factorial` function, the base case is when `n` is 0 or 1, and the recursive case reduces `n` by 1 in each call, ensuring that it eventually reaches the base case.\n",
    "\n",
    "By following these strategies, you can write safe and effective recursive functions that avoid stack overflow errors.\n"
   ]
  },
  {
   "cell_type": "code",
   "execution_count": 213,
   "id": "048d6885-6547-4939-9ebf-32ad375f2331",
   "metadata": {
    "tags": []
   },
   "outputs": [
    {
     "name": "stdout",
     "output_type": "stream",
     "text": [
      "The GCD of 48 and 36 is 12\n"
     ]
    }
   ],
   "source": [
    "#6. Create a recursive Python function to find the greatest common divisor (GCD) of two numbers using the Euclidean algorithm.\n",
    "\n",
    "\n",
    "def gcd(a, b):\n",
    "    #base case; gcd is a smaller number if one of them is 0\n",
    "    if b == 0:\n",
    "        return a\n",
    "    else:\n",
    "        return gcd(b, a % b)\n",
    "    \n",
    "    \n",
    "#Example usage:\n",
    "\n",
    "num1 = 48\n",
    "\n",
    "num2 = 36\n",
    "\n",
    "result = gcd(num1, num2)\n",
    "\n",
    "print(f'The GCD of {num1} and {num2} is {result}')\n"
   ]
  },
  {
   "cell_type": "code",
   "execution_count": 214,
   "id": "a6056e79-a68b-4f96-88fc-9e615454e5c2",
   "metadata": {
    "tags": []
   },
   "outputs": [
    {
     "data": {
      "text/plain": [
       "'dlroW ,olleH'"
      ]
     },
     "execution_count": 214,
     "metadata": {},
     "output_type": "execute_result"
    }
   ],
   "source": [
    "# 7. Write a recursive Python function to reverse a string.\n",
    "\n",
    "\n",
    "def reverse_string(s):\n",
    "    if len(s) <= 1:\n",
    "        return s\n",
    "    else:\n",
    "        return s[-1] + reverse_string(s[1: -1]) + s[0]\n",
    "    \n",
    "#Example usage:\n",
    "input_string = \"Hello, World\"\n",
    "result = reverse_string(input_string)\n",
    "result"
   ]
  },
  {
   "cell_type": "code",
   "execution_count": 216,
   "id": "75f3b51d-9bbd-4243-b013-8660ae4a927b",
   "metadata": {
    "tags": []
   },
   "outputs": [
    {
     "name": "stdout",
     "output_type": "stream",
     "text": [
      "8\n"
     ]
    }
   ],
   "source": [
    "# 8. Create a recursive Python function to calculate the power of a number (x^n).\n",
    "\n",
    "\n",
    "def power(x, n):\n",
    "    if n == 0:\n",
    "        return 1\n",
    "    # Recursive case: Calculate x^(n/2) using recursion.\n",
    "    half_power = power(x, n // 2)\n",
    "    if n % 2 == 0:\n",
    "        return half_power * half_power\n",
    "    else:\n",
    "        if n % 2 != 0:\n",
    "            return half_power * half_power * x\n",
    "        \n",
    "#Example usage:\n",
    "\n",
    "x = 2\n",
    "n = 3\n",
    "\n",
    "result = power(x, n)\n",
    "    \n",
    "print(result)"
   ]
  },
  {
   "cell_type": "code",
   "execution_count": 218,
   "id": "7b7b10fd-056f-4515-b930-862cb795e60c",
   "metadata": {
    "tags": []
   },
   "outputs": [
    {
     "name": "stdout",
     "output_type": "stream",
     "text": [
      "['abc', 'acb', 'bac', 'bca', 'cab', 'cba']\n"
     ]
    }
   ],
   "source": [
    "# 9. Write a recursive Python function to find all permutations of a given string.\n",
    "\n",
    "\n",
    "def get_permmutations(string):\n",
    "    if len(string) <= 1:\n",
    "        return[string]\n",
    "    \n",
    "    # List to store the permutations\n",
    "    permutations = []\n",
    "    \n",
    "    for i, char in enumerate(string):\n",
    "        rest_of_string = string[:i] + string[i+1:]\n",
    "          #recursively find the permutations of the rest of the string:\n",
    "        sub_permutations = get_permmutations(rest_of_string)\n",
    "        # Append the current character to each permutation of the remaining characters\n",
    "        for sub_permutation in sub_permutations:\n",
    "            permutations.append(char + sub_permutation)\n",
    "    return permutations\n",
    "\n",
    "# example\n",
    "\n",
    "input_string = 'abc'\n",
    "\n",
    "all_permutations = get_permmutations(input_string)\n",
    "\n",
    "print(all_permutations)"
   ]
  },
  {
   "cell_type": "code",
   "execution_count": 221,
   "id": "a725bd3e-bdb7-4b42-8220-ae6d9f8bf9b9",
   "metadata": {
    "tags": []
   },
   "outputs": [
    {
     "name": "stdin",
     "output_type": "stream",
     "text": [
      "Enter a string: malayalam\n"
     ]
    },
    {
     "name": "stdout",
     "output_type": "stream",
     "text": [
      "palindrome\n"
     ]
    }
   ],
   "source": [
    "#10. Write a recursive Python function to check if a string is a palindrome.\n",
    "\n",
    "def is_palindrome(s):\n",
    "    #remove spaces and convert to lower case.\n",
    "    s = ''.join(s.split()).lower()\n",
    "    \n",
    "    #base case: if the string is empty or only has one character, its palindrome.\n",
    "    if len(s) <= 1:\n",
    "        return True\n",
    "    #compare first and last characters:\n",
    "    if s[0] == s[-1]:\n",
    "        #recursively check the middle substring without first and last character.\n",
    "        return is_palindrome(s[1:-1])\n",
    "    else:\n",
    "        return False\n",
    "    \n",
    "    \n",
    "#input from user:\n",
    "\n",
    "input_string = input('Enter a string:' )\n",
    "\n",
    "#check if input_string is palindrome:\n",
    "\n",
    "if is_palindrome(input_string):\n",
    "    print('palindrome')\n",
    "else:\n",
    "    print('Not palindrome')\n",
    "        "
   ]
  },
  {
   "cell_type": "code",
   "execution_count": 225,
   "id": "57df8ff5-a4ec-4c1f-b10a-cde2be4dc22e",
   "metadata": {
    "tags": []
   },
   "outputs": [
    {
     "name": "stdout",
     "output_type": "stream",
     "text": [
      "All possible combinations:\n",
      "[]\n",
      "[1]\n",
      "[1, 2]\n",
      "[1, 2, 3]\n",
      "[1, 3]\n",
      "[2]\n",
      "[2, 3]\n",
      "[3]\n"
     ]
    }
   ],
   "source": [
    "#11. Create a recursive Python function to generate all possible combinations of a list of elements.\n",
    "\n",
    "\n",
    "def generate_combinations(elements):\n",
    "    def backtrack(start, path):\n",
    "        # Base case: Add the current combination to the result\n",
    "        result.append(path[:])\n",
    "        \n",
    "        # Recursive case: Explore all possible choices for the next element\n",
    "        for i in range(start, len(elements)):\n",
    "            path.append(elements[i])  # Include the current element\n",
    "            backtrack(i + 1, path)    # Recurse with the next index\n",
    "            path.pop()               # Exclude the current element\n",
    "\n",
    "    result = []\n",
    "    backtrack(0, [])\n",
    "    return result\n",
    "\n",
    "# Example usage:\n",
    "input_list = [1, 2, 3]\n",
    "combinations = generate_combinations(input_list)\n",
    "print(\"All possible combinations:\")\n",
    "for combo in combinations:\n",
    "    print(combo)\n"
   ]
  },
  {
   "cell_type": "code",
   "execution_count": 239,
   "id": "ff6ab610-6bdc-41ed-8f06-4d7e7362343c",
   "metadata": {
    "tags": []
   },
   "outputs": [
    {
     "data": {
      "text/plain": [
       "'Functions in Python. You use functions in programming to bundle a set of instructions that you want to use repeatedly or that, because of their complexity, are better self-contained in a sub-program and called when needed. \\n\\nThat means that a function is a piece of code written to carry out a specified task.\\n\\n'"
      ]
     },
     "execution_count": 239,
     "metadata": {},
     "output_type": "execute_result"
    }
   ],
   "source": [
    "'''Basics of Functions:\n",
    "\n",
    "1. What is a function in Python, and why is it used?\n",
    "'''\n",
    "\n",
    "'''Functions in Python. You use functions in programming to bundle a set of instructions that you want to use repeatedly or that, because of their complexity, are better self-contained in a sub-program and called when needed. \n",
    "\n",
    "That means that a function is a piece of code written to carry out a specified task.\n",
    "\n",
    "'''\n",
    "\n",
    "\n"
   ]
  },
  {
   "cell_type": "code",
   "execution_count": 242,
   "id": "8ceaef5d-c992-41a8-a9d9-28034b80e93f",
   "metadata": {
    "tags": []
   },
   "outputs": [
    {
     "name": "stdout",
     "output_type": "stream",
     "text": [
      "Hello world\n"
     ]
    },
    {
     "data": {
      "text/plain": [
       "7"
      ]
     },
     "execution_count": 242,
     "metadata": {},
     "output_type": "execute_result"
    }
   ],
   "source": [
    "# 2. How do you define a function in Python? Provide an example.\n",
    "\n",
    "\n",
    "\n",
    "def Hello(name):\n",
    "    print('Hello'+ ' ' + name)\n",
    "    \n",
    "Hello('world')\n",
    "\n",
    "#Function to add two numbers : \n",
    "\n",
    "\n",
    "def addition(x, y):\n",
    "    z = x + y\n",
    "    return z\n",
    "addition(2, 5)"
   ]
  },
  {
   "cell_type": "raw",
   "id": "0bd96f7a-6759-4d9a-bea4-d4acd05f77ff",
   "metadata": {},
   "source": [
    "3. Explain the difference between a function definition and a function call.\n",
    "\n",
    "In programming, especially in languages like Python, there are two distinct concepts: function definition and function call. These two concepts serve different purposes and are used at different stages of writing and executing code:\n",
    "\n",
    "    Function Definition:\n",
    "\n",
    "        Purpose: A function definition is where you define what a function does and how it should behave when called.\n",
    "\n",
    "        Syntax: In Python, a function definition starts with the def keyword, followed by the function name, parameters (if any), a colon (:), and the function body (the code that is executed when the function is called).\n",
    "\n",
    "\n",
    "    Role: The function definition serves as a blueprint or a template for the function's behavior. It specifies the function's name, input parameters, and the code to be executed when the function is called. However, defining a function does not execute its code.\n",
    "\n",
    "Function Call:\n",
    "\n",
    "    Purpose: A function call is where you actually invoke or execute a function that has been defined elsewhere in your code. It triggers the execution of the code defined in the function.\n",
    "\n",
    "    Syntax: To call a function, you use its name followed by parentheses (). If the function takes arguments, you provide them within the parentheses.\n",
    "\n",
    "    Example: result = add(3, 5)  # Calling the 'add' function with arguments 3 and 5\n",
    "\n",
    "\n",
    "Role: When you make a function call, you are telling the program to execute the code defined in the function definition. The function call can also return a result or perform some action based on its defined behavior.\n",
    "\n",
    "In summary, the main difference between a function definition and a function call is that a function definition is where you specify what a function does, its name, and its parameters, while a function call is where you actually execute that function and provide specific values for its parameters (if any). Functions are a fundamental concept in programming because they allow you to encapsulate logic, reuse code, and make your programs more organized and modular."
   ]
  },
  {
   "cell_type": "code",
   "execution_count": 244,
   "id": "77be0e71-aa9a-4cf4-8791-64482a639d90",
   "metadata": {
    "tags": []
   },
   "outputs": [
    {
     "data": {
      "text/plain": [
       "5"
      ]
     },
     "execution_count": 244,
     "metadata": {},
     "output_type": "execute_result"
    }
   ],
   "source": [
    "#4. Write a Python program that defines a function to calculate the sum of two numbers and then calls the function.\n",
    "\n",
    "\n",
    "def sum_of_nums(num1, num2):\n",
    "    return num1 + num2\n",
    "\n",
    "#Calling the function:\n",
    "\n",
    "sum_of_nums(2,3)\n",
    "    "
   ]
  },
  {
   "cell_type": "markdown",
   "id": "30153e20-dd69-43bc-84a9-9d88b583102d",
   "metadata": {},
   "source": [
    "# 5. What is a function signature, and what information does it typically include?\n",
    "\n",
    "\n",
    "A function signature is a concise way to describe essential information about a function in programming. It typically includes the following information:\n",
    "\n",
    "Function Name: The name of the function, which is used to identify and call the function in your code. This is a fundamental part of the signature.\n",
    "\n",
    "Parameters/Arguments: It specifies the input values that the function accepts. This includes the names and data types of the parameters, as well as any default values they may have. Parameters are enclosed in parentheses, and their names and data types are often listed. For example, (x: int, y: int) indicates a function that takes two integer arguments named x and y.\n",
    "\n",
    "Return Type: The data type of the value that the function returns. This is often specified after a colon (:). For example, -> int indicates that the function returns an integer.\n",
    "\n",
    "Exception Handling: In some programming languages, especially those that support checked exceptions (e.g., Java), the function signature may indicate the exceptions that the function can throw.\n",
    "\n",
    "Here's an example of a function signature in Python:\n",
    "\n",
    "def add(x: int, y: int) -> int:\n",
    "\n",
    "\n",
    "In this example:\n",
    "\n",
    "The function name is add.\n",
    "It takes two integer parameters: x and y.\n",
    "It returns an integer (-> int).\n",
    "Function signatures serve as a form of documentation and help both developers and tools understand how to use the function correctly. They are particularly useful in statically typed languages like Python, Java, and TypeScript, where the type information is explicitly declared in the signature. In dynamically typed languages like JavaScript or Ruby, function signatures may be less explicit about types but can still describe parameter names and expected behavior.\n"
   ]
  },
  {
   "cell_type": "code",
   "execution_count": 246,
   "id": "9a2f70f6-e2f6-40be-ae40-b2593583d6c6",
   "metadata": {
    "tags": []
   },
   "outputs": [
    {
     "data": {
      "text/plain": [
       "24"
      ]
     },
     "execution_count": 246,
     "metadata": {},
     "output_type": "execute_result"
    }
   ],
   "source": [
    "# 6. Create a Python function that takes two arguments and returns their product.\n",
    "\n",
    "\n",
    "def prod(x, y):\n",
    "    return x * y\n",
    "\n",
    "productt = prod(4, 6)\n",
    "productt"
   ]
  },
  {
   "cell_type": "code",
   "execution_count": null,
   "id": "1dcad27e-517c-4e88-acf8-119abca870a1",
   "metadata": {},
   "outputs": [],
   "source": [
    "# Function Parameters and Arguments:\n",
    "\n",
    "'''\n",
    "1. Explain the concepts of formal parameters and actual arguments in Python functions.\n",
    "\n",
    "In Python functions, the concepts of formal parameters and actual arguments are fundamental and essential for passing data to functions and defining their behavior. These two concepts help establish a connection between the function's definition and its usage.\n",
    "\n",
    "    Formal Parameters:\n",
    "\n",
    "        Definition: Formal parameters are placeholders for data that a function expects to receive as input. They are defined in the function's signature during its declaration (function definition). Formal parameters serve as names for the values that will be passed to the function when it is called.\n",
    "\n",
    "        Syntax: Formal parameters are specified within the parentheses of the function definition, separated by commas. They are essentially variable names that represent the values that will be passed to the function.\n",
    "    \n",
    "    '''"
   ]
  },
  {
   "cell_type": "code",
   "execution_count": 253,
   "id": "f757a955-0e41-490e-89c2-394b5859fd63",
   "metadata": {
    "tags": []
   },
   "outputs": [
    {
     "data": {
      "text/plain": [
       "'\\n    In this example, name is a formal parameter.\\n\\nRole: Formal parameters define the interface of the function,\\n\\nindicating what kind of data the function expects and how that data should be used within the function\\'s code.\\n\\nThey are local variables within the function\\'s scope, and their values are determined by the \\n\\nIn this example, name is a formal parameter.\\n\\nRole: Formal parameters define the interface of the function, indicating what kind of data the function expects and how that data should be used within the function\\'s code. They are local variables within the function\\'s scope, and their values are determined by the actual arguments provided during function calls.\\n\\n\\nActual Arguments (or Arguments):\\n\\n    Definition: Actual arguments, often referred to simply as \"arguments,\" are the actual values or expressions that are passed to a function when it is called. These arguments correspond to the formal parameters defined in the function\\'s signature.\\n\\n    Syntax: Actual arguments are provided within the parentheses when calling a function. \\n    \\n    They can be constants, variables, expressions, or even the results of other function calls.\\n\\n    Example:\\n    \\n'"
      ]
     },
     "execution_count": 253,
     "metadata": {},
     "output_type": "execute_result"
    }
   ],
   "source": [
    "#Example:\n",
    "\n",
    "def greet(name):\n",
    "    print(f\"Hello, {name}!\")\n",
    "'''\n",
    "    In this example, name is a formal parameter.\n",
    "\n",
    "Role: Formal parameters define the interface of the function,\n",
    "\n",
    "indicating what kind of data the function expects and how that data should be used within the function's code.\n",
    "\n",
    "They are local variables within the function's scope, and their values are determined by the \n",
    "\n",
    "In this example, name is a formal parameter.\n",
    "\n",
    "Role: Formal parameters define the interface of the function, indicating what kind of data the function expects and how that data should be used within the function's code. They are local variables within the function's scope, and their values are determined by the actual arguments provided during function calls.\n",
    "\n",
    "\n",
    "Actual Arguments (or Arguments):\n",
    "\n",
    "    Definition: Actual arguments, often referred to simply as \"arguments,\" are the actual values or expressions that are passed to a function when it is called. These arguments correspond to the formal parameters defined in the function's signature.\n",
    "\n",
    "    Syntax: Actual arguments are provided within the parentheses when calling a function. \n",
    "    \n",
    "    They can be constants, variables, expressions, or even the results of other function calls.\n",
    "\n",
    "    Example:\n",
    "    \n",
    "'''\n",
    "'''\n",
    "\n",
    "        In this example, \"Alice\" is an actual argument passed to the greet function.\n",
    "\n",
    "        Role: Actual arguments supply the necessary data to a function, which allows it to perform its operations. The values provided as actual arguments during a function call are assigned to the corresponding formal parameters within the function's scope, making them accessible and usable within the function's code.\n",
    "\n",
    "In summary, formal parameters are like placeholders for data in a function's definition, and actual arguments are the actual values or expressions that are provided when calling the function. The connection between these two concepts enables functions to receive input data and operate on it, making functions versatile and reusable components in Python programs.\n",
    "\n",
    "'''"
   ]
  },
  {
   "cell_type": "code",
   "execution_count": 254,
   "id": "a6ae838e-0558-4df2-a578-d0a89bc42241",
   "metadata": {
    "tags": []
   },
   "outputs": [
    {
     "name": "stdout",
     "output_type": "stream",
     "text": [
      "Hello, Aju!\n"
     ]
    }
   ],
   "source": [
    "greet(\"Aju\")\n"
   ]
  },
  {
   "cell_type": "code",
   "execution_count": 255,
   "id": "225d4a59-2aac-40d1-845e-c4f0a74711f7",
   "metadata": {
    "tags": []
   },
   "outputs": [
    {
     "name": "stdout",
     "output_type": "stream",
     "text": [
      "Hello, Guest!\n",
      "Hi, Alice!\n",
      "Hello, Bob!\n"
     ]
    }
   ],
   "source": [
    "#2. Write a Python program that defines a function with default argument values.\n",
    "def greet(name=\"Guest\", greeting=\"Hello\"):\n",
    "    \"\"\"\n",
    "    Greets a person with a custom message.\n",
    "\n",
    "    :param name: The name of the person (default is \"Guest\").\n",
    "    :param greeting: The greeting message (default is \"Hello\").\n",
    "    \"\"\"\n",
    "    print(f\"{greeting}, {name}!\")\n",
    "\n",
    "# Call the function without providing any arguments\n",
    "greet()  # Output: Hello, Guest!\n",
    "\n",
    "# Call the function with custom arguments\n",
    "greet(\"Alice\", \"Hi\")  # Output: Hi, Alice!\n",
    "\n",
    "# Call the function with only one custom argument\n",
    "greet(\"Bob\")  # Output: Hello, Bob!\n"
   ]
  },
  {
   "cell_type": "code",
   "execution_count": 256,
   "id": "aa212970-d8bd-40d8-a4b2-0b1ee8c7935a",
   "metadata": {
    "tags": []
   },
   "outputs": [
    {
     "name": "stdout",
     "output_type": "stream",
     "text": [
      "Hi, Aja.\n",
      "Hey, Kopa?\n",
      "Hola, Charlie!!!\n"
     ]
    }
   ],
   "source": [
    "# 3. How do you use keyword arguments in Python function calls? Provide an example.\n",
    "\n",
    "def greet(name, greeting=\"Hello\", punctuation=\"!\"):\n",
    "    \"\"\"\n",
    "    Greets a person with a custom message and optional punctuation.\n",
    "\n",
    "    :param name: The name of the person.\n",
    "    :param greeting: The greeting message (default is \"Hello\").\n",
    "    :param punctuation: The punctuation at the end of the greeting (default is \"!\").\n",
    "    \"\"\"\n",
    "    print(f\"{greeting}, {name}{punctuation}\")\n",
    "\n",
    "# Using keyword arguments to specify values for parameters\n",
    "greet(name=\"Aja\", greeting=\"Hi\", punctuation=\".\")\n",
    "greet(greeting=\"Hey\", name=\"Kopa\", punctuation=\"?\")\n",
    "greet(punctuation=\"!!!\", name=\"Charlie\", greeting=\"Hola\")\n"
   ]
  },
  {
   "cell_type": "code",
   "execution_count": 259,
   "id": "74fcaecb-c91b-460a-b457-f4ce7119b7f0",
   "metadata": {
    "tags": []
   },
   "outputs": [
    {
     "data": {
      "text/plain": [
       "26"
      ]
     },
     "execution_count": 259,
     "metadata": {},
     "output_type": "execute_result"
    }
   ],
   "source": [
    "# 4. Create a Python function that accepts a variable number of arguments and calculates their sum.\n",
    "\n",
    "\n",
    "def summ(*data):\n",
    "    total = 0\n",
    "    for i in data:\n",
    "        total += i\n",
    "    return total\n",
    "\n",
    "#Example usage:\n",
    "\n",
    "summ(2,3,4,5,6,6)\n"
   ]
  },
  {
   "cell_type": "code",
   "execution_count": null,
   "id": "955210ec-d36f-4664-be14-8b341ef9813e",
   "metadata": {},
   "outputs": [],
   "source": [
    "#5. What is the purpose of the `*args` and `**kwargs` syntax in function parameter lists?\n",
    "\n",
    "\n",
    "'''\n",
    "The *args and **kwargs syntax in function parameter lists in Python are used to handle variable numbers of arguments and keyword arguments, respectively. They provide flexibility when defining functions that can accept an arbitrary number of arguments without having to specify them individually.\n",
    "\n",
    "*args (Arbitrary Positional Arguments):\n",
    "\n",
    "The *args syntax allows you to pass a variable number of non-keyword (positional) arguments to a function.\n",
    "When *args is used in a function definition, it collects any extra positional arguments passed to the function into a tuple. You can then iterate over this tuple to access the arguments.\n",
    "It's often used when you want to create a function that can accept a variable number of values without specifying them in advance.\n",
    "Example:'''\n"
   ]
  },
  {
   "cell_type": "code",
   "execution_count": 260,
   "id": "06aa500b-950c-4faa-82a9-a5977f94d4f4",
   "metadata": {
    "tags": []
   },
   "outputs": [
    {
     "name": "stdout",
     "output_type": "stream",
     "text": [
      "1\n",
      "2\n",
      "3\n",
      "4\n",
      "5\n"
     ]
    }
   ],
   "source": [
    "def print_args(*args):\n",
    "    for arg in args:\n",
    "        print(arg)\n",
    "\n",
    "print_args(1, 2, 3, 4, 5)\n"
   ]
  },
  {
   "cell_type": "code",
   "execution_count": 1,
   "id": "1b2589e1-425b-449b-912f-8fdfc59f2f38",
   "metadata": {
    "tags": []
   },
   "outputs": [
    {
     "name": "stdout",
     "output_type": "stream",
     "text": [
      "name: Alice\n",
      "age: 30\n",
      "city: New York\n"
     ]
    }
   ],
   "source": [
    "def print_kwargs(**kwargs):\n",
    "    for key, value in kwargs.items():\n",
    "        print(f\"{key}: {value}\")\n",
    "\n",
    "print_kwargs(name=\"Alice\", age=30, city=\"New York\")\n"
   ]
  },
  {
   "cell_type": "raw",
   "id": "8fb3f7db-420f-42c3-beb5-748e76e1818f",
   "metadata": {
    "tags": []
   },
   "source": [
    "'''Return Values and Scoping:\n",
    "\n",
    "1. Describe the role of the `return` statement in Python functions and provide examples.\n",
    "'''\n",
    "\n",
    "In Python, the return statement plays a crucial role in functions. It allows a function to send a value back to the code that called it. When a return statement is encountered in a function, the function immediately exits, and the specified value (if any) is returned to the caller. The return statement can be used to provide output or results from a function, which can then be used in other parts of your code.\n",
    "\n",
    "Here's a basic syntax of the return statement:\n",
    "\n",
    "def function_name(parameters):\n",
    "    # Function code\n",
    "    # ...\n",
    "    return value  # Optional, can be omitted or return None implicitly\n"
   ]
  },
  {
   "cell_type": "code",
   "execution_count": 2,
   "id": "76aee2b1-8dbc-40f4-895a-00c0b0289a37",
   "metadata": {
    "tags": []
   },
   "outputs": [
    {
     "name": "stdout",
     "output_type": "stream",
     "text": [
      "7\n"
     ]
    }
   ],
   "source": [
    "# Example 1: Returning a Value\n",
    "\n",
    "def add_numbers(a, b):\n",
    "    result = a + b\n",
    "    return result\n",
    "\n",
    "sum_result = add_numbers(3, 4)\n",
    "print(sum_result)  # This will print 7\n"
   ]
  },
  {
   "cell_type": "code",
   "execution_count": 4,
   "id": "e46a2244-3bc8-4031-84b6-b6a203e729aa",
   "metadata": {
    "tags": []
   },
   "outputs": [
    {
     "name": "stdout",
     "output_type": "stream",
     "text": [
      "(16, 64)\n"
     ]
    }
   ],
   "source": [
    "'''Example 2: Returning Multiple Values\n",
    "\n",
    "Python allows you to return multiple values as a tuple using the return statement:\n",
    "'''\n",
    "\n",
    "def calculate_square_and_cube(number):\n",
    "    square = number ** 2\n",
    "    cube = number ** 3\n",
    "    return square, cube\n",
    "\n",
    "result = calculate_square_and_cube(4)\n",
    "print(result)  # This will print (16, 64)\n",
    "\n",
    "'''\n",
    "In this example, the calculate_square_and_cube function calculates both the square and cube of a number and returns them as a tuple. \n",
    "\n",
    "The caller can then unpack the returned values into separate variables.\n",
    "\n",
    "'''"
   ]
  },
  {
   "cell_type": "code",
   "execution_count": null,
   "id": "cdf3c336-3971-43a2-a665-edc57150c1fa",
   "metadata": {},
   "outputs": [],
   "source": [
    "# 2.Explain the concept of variable scope in Python, including local and global variables."
   ]
  },
  {
   "cell_type": "raw",
   "id": "8e5797cb-2595-4391-a237-e6ab0d26476d",
   "metadata": {},
   "source": [
    "Variable scope in Python refers to the region of a program where a particular variable is accessible or visible. It defines where in your code a variable can be used and whether it can be accessed from a particular part of the program. Python has two main types of variable scope: local and global.\n",
    "\n",
    "Local Variable Scope:\n",
    "\n",
    "Local variables are defined within a function or block of code and can only be accessed within that specific function or block.\n",
    "They are created when the function is called and destroyed when the function exits. They are temporary and exist only during the execution of the function.\n",
    "Local variables are not visible to code outside of the function, which means they cannot be accessed from other functions or the global scope.\n",
    "Example of a local variable:"
   ]
  },
  {
   "cell_type": "code",
   "execution_count": 6,
   "id": "0f366325-4000-4f5c-9df6-f5deec27596b",
   "metadata": {},
   "outputs": [
    {
     "name": "stdout",
     "output_type": "stream",
     "text": [
      "10\n"
     ]
    },
    {
     "ename": "NameError",
     "evalue": "name 'x' is not defined",
     "output_type": "error",
     "traceback": [
      "\u001b[1;31m---------------------------------------------------------------------------\u001b[0m",
      "\u001b[1;31mNameError\u001b[0m                                 Traceback (most recent call last)",
      "Cell \u001b[1;32mIn[6], line 6\u001b[0m\n\u001b[0;32m      3\u001b[0m     \u001b[38;5;28mprint\u001b[39m(x)\n\u001b[0;32m      5\u001b[0m my_function()  \u001b[38;5;66;03m# Prints 10\u001b[39;00m\n\u001b[1;32m----> 6\u001b[0m \u001b[38;5;28mprint\u001b[39m(\u001b[43mx\u001b[49m)\n",
      "\u001b[1;31mNameError\u001b[0m: name 'x' is not defined"
     ]
    }
   ],
   "source": [
    "def my_function():\n",
    "    x = 10  # This is a local variable\n",
    "    print(x)\n",
    "\n",
    "my_function()  # Prints 10\n",
    "print(x)  # This would result in an error because 'x' is not defined in the global scope\n"
   ]
  },
  {
   "cell_type": "raw",
   "id": "1a36d4d3-3307-48ac-b0e2-a58efe081ba0",
   "metadata": {},
   "source": [
    "2. Global Variable Scope:\n",
    "\n",
    "Global variables are defined outside of any function or block, typically at the top level of a script or module.\n",
    "They are accessible from anywhere in the program, including within functions.\n",
    "Global variables have a more extended lifespan and persist throughout the entire execution of the program.\n",
    "If you modify a global variable within a function, you need to use the global keyword to indicate that you are referring to the global variable, rather than creating a new local variable with the same name.\n",
    "Example of a global variable:"
   ]
  },
  {
   "cell_type": "code",
   "execution_count": 7,
   "id": "0ee2f168-6f25-4783-bdba-58ffa829e842",
   "metadata": {},
   "outputs": [
    {
     "name": "stdout",
     "output_type": "stream",
     "text": [
      "15\n"
     ]
    }
   ],
   "source": [
    "x = 10  # This is a global variable\n",
    "\n",
    "def my_function():\n",
    "    global x  # This indicates that we are referring to the global 'x' variable\n",
    "    x += 5\n",
    "\n",
    "my_function()\n",
    "print(x)  # Prints 15 because the global 'x' variable was modified inside the function\n"
   ]
  },
  {
   "cell_type": "code",
   "execution_count": 8,
   "id": "831bd353-8e9c-4a4e-96ab-d8b1f143db9b",
   "metadata": {},
   "outputs": [
    {
     "name": "stdout",
     "output_type": "stream",
     "text": [
      "Before Modification:\n",
      "Global Variable: 10\n",
      "After Modification:\n",
      "Global Variable: 15\n"
     ]
    }
   ],
   "source": [
    "#3. Write a Python program that demonstrates the use of global variables within functions.\n",
    "# Define a global variable\n",
    "global_variable = 10\n",
    "\n",
    "# Define a function that uses the global variable\n",
    "def modify_global_variable():\n",
    "    global global_variable  # Declare that we are using the global variable\n",
    "    global_variable += 5  # Modify the global variable inside the function\n",
    "\n",
    "# Define another function that uses the global variable\n",
    "def access_global_variable():\n",
    "    print(\"Global Variable:\", global_variable)  # Access the global variable inside the function\n",
    "\n",
    "# Print the global variable before modification\n",
    "print(\"Before Modification:\")\n",
    "access_global_variable()\n",
    "\n",
    "# Call the function to modify the global variable\n",
    "modify_global_variable()\n",
    "\n",
    "# Print the global variable after modification\n",
    "print(\"After Modification:\")\n",
    "access_global_variable()\n"
   ]
  },
  {
   "cell_type": "code",
   "execution_count": 11,
   "id": "874129de-6569-48d7-a812-460a9b2c05a0",
   "metadata": {
    "tags": []
   },
   "outputs": [
    {
     "data": {
      "text/plain": [
       "24"
      ]
     },
     "execution_count": 11,
     "metadata": {},
     "output_type": "execute_result"
    }
   ],
   "source": [
    "# 4. Create a Python function that calculates the factorial of a number and returns it.\n",
    "\n",
    "def factorial(num):\n",
    "    if num == 0:\n",
    "        return 1\n",
    "    else:\n",
    "        return num * factorial(num - 1)\n",
    "    \n",
    "    \n",
    "#Example usage:\n",
    "factorial(4)"
   ]
  },
  {
   "cell_type": "code",
   "execution_count": 23,
   "id": "351a46a3-317d-4196-83b4-10b87288ba39",
   "metadata": {
    "tags": []
   },
   "outputs": [],
   "source": [
    "# 5 . How can you access variables defined outside a function from within the function?\n",
    "\n",
    "'''\n",
    "You can access variables defined outside a function from within the function by treating them as global variables.\n",
    "\n",
    "To do this, you need to use the global keyword within the function to indicate that you are referring to a global variable,\n",
    "\n",
    "rather than creating a new local variable with the same name.\n",
    "\n",
    "Here's how you can access variables defined outside a function from within the function:\n",
    "'''"
   ]
  },
  {
   "cell_type": "code",
   "execution_count": 26,
   "id": "1a61c85e-f50d-4050-b579-72a0c9736fd8",
   "metadata": {
    "tags": []
   },
   "outputs": [
    {
     "name": "stdout",
     "output_type": "stream",
     "text": [
      "Global Variable: 10\n"
     ]
    }
   ],
   "source": [
    "# Define a global variable\n",
    "global_variable = 10\n",
    "\n",
    "# Define a function that accesses the global variable\n",
    "def access_global_variable():\n",
    "    global global_variable  # Declare that we are using the global variable\n",
    "    print(\"Global Variable:\", global_variable)  # Access the global variable inside the function\n",
    "\n",
    "# Call the function to access the global variable\n",
    "access_global_variable()\n"
   ]
  },
  {
   "cell_type": "markdown",
   "id": "ab4f796d-9f2d-4ff8-8e4c-0e0af50e9eb1",
   "metadata": {},
   "source": [
    "In this example:\n",
    "\n",
    "We define a global variable called global_variable outside of the function.\n",
    "\n",
    "Inside the access_global_variable() function, we use the global keyword to indicate that we are referring to the global variable global_variable.\n",
    "\n",
    "We print the value of the global variable within the function.\n",
    "\n",
    "When you call the access_global_variable() function, it will access and print the value of the global_variable, demonstrating how you can access variables defined outside a function from within that function."
   ]
  },
  {
   "cell_type": "raw",
   "id": "91663a66-054f-4c76-a903-25f61ca60ca1",
   "metadata": {},
   "source": [
    "# Lambda Functions and Higher-Order Functions:\n",
    "\n",
    "# 1. What are lambda functions in Python, and when are they typically used?\n",
    "\n",
    "\n",
    "Lambda function also known as anonymous function, is a one line function\n",
    "\n",
    "Lambda functions in Python, also known as \"anonymous functions\" or \"lambda expressions,\" are a way to create small, unnamed, and inline functions. They are typically used for simple operations and are defined using the lambda keyword. Lambda functions are particularly useful when you need a small function for a short period and don't want to define a full-fledged function using the def keyword.\n",
    "\n",
    "Here's the basic syntax of a lambda function:\n",
    "\n",
    "\n",
    "lambda arguments: expression\n",
    "\n",
    "\n",
    "Passing Functions as Arguments (Higher-Order Functions):\n",
    "\n",
    "Lambda functions are commonly used with functions like map(), filter(), and sorted(), where you need to provide a simple function for a specific opera"
   ]
  },
  {
   "cell_type": "code",
   "execution_count": 28,
   "id": "92bb158c-b182-41e8-813d-36a948b4bb12",
   "metadata": {
    "tags": []
   },
   "outputs": [
    {
     "data": {
      "text/plain": [
       "[1, 4, 9, 16, 25]"
      ]
     },
     "execution_count": 28,
     "metadata": {},
     "output_type": "execute_result"
    }
   ],
   "source": [
    "numbers = [1, 2, 3, 4, 5]\n",
    "\n",
    "# Using lambda with map to square each number in the list\n",
    "squared_numbers = list(map(lambda x: x**2, numbers))\n",
    "squared_numbers"
   ]
  },
  {
   "cell_type": "code",
   "execution_count": 30,
   "id": "211c3993-a24f-4489-8648-6a5a56746e74",
   "metadata": {
    "tags": []
   },
   "outputs": [
    {
     "data": {
      "text/plain": [
       "[(3, 2), (1, 5), (2, 8)]"
      ]
     },
     "execution_count": 30,
     "metadata": {},
     "output_type": "execute_result"
    }
   ],
   "source": [
    "# Short-lived Functions: When you need a quick, short function for a specific operation without defining a separate named function, \n",
    "\n",
    "# lambda functions come in handy.\n",
    "\n",
    "# Sorting a list of tuples based on the second element\n",
    "points = [(1, 5), (3, 2), (2, 8)]\n",
    "sorted_points = sorted(points, key=lambda point: point[1])\n",
    "sorted_points"
   ]
  },
  {
   "cell_type": "markdown",
   "id": "4381fbda-0fd6-4580-9125-65d89bbdf2e3",
   "metadata": {},
   "source": [
    "Functional Programming: Lambda functions are often used in functional programming to create functions on-the-fly for operations like mapping, filtering, and reducing data.\n",
    "\n",
    "t's important to note that lambda functions are limited in terms of complexity compared to regular functions defined with def. They are best suited for simple, one-liner operations. For more complex or reusable functions, it's better to define a regular function using def."
   ]
  },
  {
   "cell_type": "code",
   "execution_count": 33,
   "id": "cebb78b7-8649-4dd9-ba98-d6c26b6a1e89",
   "metadata": {
    "tags": []
   },
   "outputs": [
    {
     "data": {
      "text/plain": [
       "120"
      ]
     },
     "execution_count": 33,
     "metadata": {},
     "output_type": "execute_result"
    }
   ],
   "source": [
    "# Using lambda with reduce to find the product of elements in a list\n",
    "from functools import reduce\n",
    "numbers = [1, 2, 3, 4, 5]\n",
    "product = reduce(lambda x, y: x * y, numbers)\n",
    "product"
   ]
  },
  {
   "cell_type": "code",
   "execution_count": 39,
   "id": "80b563ef-e1c4-493b-9c53-d6ea2dd4ebfa",
   "metadata": {
    "tags": []
   },
   "outputs": [
    {
     "data": {
      "text/plain": [
       "[(0, 1), (1, 3), (6, 7), (67, 9)]"
      ]
     },
     "execution_count": 39,
     "metadata": {},
     "output_type": "execute_result"
    }
   ],
   "source": [
    "#2. Write a Python program that uses lambda functions to sort a list of tuples based on the second element.\n",
    "\n",
    "\n",
    "list30 = [(1,3), (0,1), (6,7), (67, 9)]\n",
    "\n",
    "sorted_points = sorted(list30, key = lambda x : x[1])\n",
    "sorted_points"
   ]
  },
  {
   "cell_type": "markdown",
   "id": "534d3740-a4d0-4031-bb6c-ea1999c3d49e",
   "metadata": {},
   "source": [
    "# 3.Explain the concept of higher-order functions in Python, and provide an example.\n",
    "\n",
    "In Python, a higher-order function is a function that takes one or more functions as arguments or returns a function as its result. Essentially, a higher-order function treats functions as first-class citizens, allowing them to be manipulated and used as data just like any other variable or object. Higher-order functions are a fundamental concept in functional programming and enable more flexible and modular code.\n",
    "\n",
    "Here's a simple example to illustrate the concept of higher-order functions:"
   ]
  },
  {
   "cell_type": "code",
   "execution_count": 40,
   "id": "87ed77c9-e7f5-48b6-8a3c-a438ba63605d",
   "metadata": {
    "tags": []
   },
   "outputs": [
    {
     "name": "stdout",
     "output_type": "stream",
     "text": [
      "Result 1: 8\n",
      "Result 2: 6\n",
      "Result 3: 14\n"
     ]
    }
   ],
   "source": [
    "# Define a higher-order function that takes a function as an argument\n",
    "def apply_operation(operation, x, y):\n",
    "    return operation(x, y)\n",
    "\n",
    "# Define some basic operations as functions\n",
    "def add(x, y):\n",
    "    return x + y\n",
    "\n",
    "def subtract(x, y):\n",
    "    return x - y\n",
    "\n",
    "def multiply(x, y):\n",
    "    return x * y\n",
    "\n",
    "# Using the higher-order function with different operations\n",
    "result1 = apply_operation(add, 5, 3)        # Calls add(5, 3) and returns 8\n",
    "result2 = apply_operation(subtract, 10, 4)  # Calls subtract(10, 4) and returns 6\n",
    "result3 = apply_operation(multiply, 2, 7)   # Calls multiply(2, 7) and returns 14\n",
    "\n",
    "print(\"Result 1:\", result1)\n",
    "print(\"Result 2:\", result2)\n",
    "print(\"Result 3:\", result3)\n"
   ]
  },
  {
   "cell_type": "raw",
   "id": "ef4a6637-433d-411a-bfc0-14284c7c481d",
   "metadata": {},
   "source": [
    "In this example:\n",
    "\n",
    "apply_operation is a higher-order function that takes three arguments: an operation (which is a function), and two values x and y.\n",
    "It applies the specified operation to the two values and returns the result.\n",
    "We define three basic operations (add, subtract, and multiply) as separate functions.\n",
    "\n",
    "When we call apply_operation with different operations as arguments, it invokes the specified operation function on the given values. This demonstrates how higher-order functions can accept functions as arguments and use them to perform various tasks.\n",
    "\n",
    "Higher-order functions are powerful because they allow you to write more generic and reusable code by decoupling the specific behavior (the operation) from the function that performs it. This makes it easier to extend and modify your code without changing the higher-order function itself.\n",
    "\n",
    "\n",
    "\n",
    "\n",
    "\n"
   ]
  },
  {
   "cell_type": "code",
   "execution_count": null,
   "id": "b0ed9f9a-32f7-46db-80b1-7bc09b7199c5",
   "metadata": {},
   "outputs": [],
   "source": [
    "'''4.Create a Python function that takes a list of numbers and a function as arguments, \n",
    "\n",
    "applying the function to each element in the list.'''\n"
   ]
  },
  {
   "cell_type": "code",
   "execution_count": 50,
   "id": "a8363e62-a6cc-4234-8585-15e52fcdde59",
   "metadata": {
    "tags": []
   },
   "outputs": [
    {
     "name": "stdout",
     "output_type": "stream",
     "text": [
      "Original Numbers: [1, 2, 3, 4, 5]\n",
      "Squared Numbers: [1, 4, 9, 16, 25]\n"
     ]
    }
   ],
   "source": [
    "def apply_function_to_list(numbers, func):\n",
    "    \n",
    "    result = []\n",
    "    for num in numbers:\n",
    "        result.append(func(num))\n",
    "    return result\n",
    "\n",
    "#      \n",
    "#     Apply the given function to each element in the list of numbers.\n",
    "\n",
    "#     Args:\n",
    "#     - numbers (list): A list of numbers.\n",
    "#     - func (function): The function to apply to each element in the list.\n",
    "\n",
    "#     Returns:\n",
    "#     - list: A list containing the results of applying the function to each element.\n",
    "\n",
    "# Define a sample function to be applied to the list\n",
    "def square(x):\n",
    "    return x ** 2\n",
    "\n",
    "\n",
    "    # Create a list of numbers\n",
    "numbers = [1, 2, 3, 4, 5]\n",
    "\n",
    "# Apply the 'square' function to each element in the list\n",
    "\n",
    "squared_numbers = apply_function_to_list(numbers, square)\n",
    "\n",
    "# Print the result\n",
    "\n",
    "\n",
    "print(\"Original Numbers:\", numbers)\n",
    "\n",
    "print(\"Squared Numbers:\", squared_numbers)"
   ]
  },
  {
   "cell_type": "raw",
   "id": "85d74022-709c-4e96-9e3b-9a7b3279ce6f",
   "metadata": {},
   "source": [
    "# Built-in Functions:\n",
    "\n",
    "\n",
    "#1. Describe the role of built-in functions like `len()`, `max()`, and `min()` in Python.\n",
    "\n",
    "\n",
    "len() ---- > Finds the length of a string, list, tuple, set or any data.\n",
    "\n",
    "\n",
    "max() ----> Finds the maximum value out of all the given values in the given data.\n",
    "\n",
    "\n",
    "min() -----> Finds the minimum value out of all the given values in the given data.\n"
   ]
  },
  {
   "cell_type": "code",
   "execution_count": 59,
   "id": "ae3f89d2-df91-4fd0-a208-82f68cf7bcf3",
   "metadata": {
    "tags": []
   },
   "outputs": [
    {
     "data": {
      "text/plain": [
       "[True, True, False, False, True, False]"
      ]
     },
     "execution_count": 59,
     "metadata": {},
     "output_type": "execute_result"
    }
   ],
   "source": [
    "# 2. Write a Python program that uses the `map()` function to apply a function to each element of a list.\n",
    "\n",
    "list_of_fruits = ['Apple', 'Apricot', 'Figs','Bananas', 'Jackfruit', 'Oranges']\n",
    "\n",
    "\n",
    "# applying map\n",
    "\n",
    "mapped_list = list(map(lambda x: x[0] == 'A'or x[0]  == 'J' ,list_of_fruits))\n",
    "\n",
    "mapped_list"
   ]
  },
  {
   "cell_type": "raw",
   "id": "4b7602b1-d5a6-40fc-b183-0bd1aafba994",
   "metadata": {},
   "source": [
    "# 3. How does the `filter()` function work in Python, and when would you use it?\n",
    "\n",
    "The filter() function in Python is used to filter a sequence (such as a list, tuple, or iterable) by applying a given function to each element and retaining only the elements for which the function returns True. It essentially creates a new iterable containing the elements that satisfy the specified condition.\n",
    "\n",
    "Here is the basic syntax of the filter() function:\n",
    "\n",
    "filter(function, iterable)\n",
    "\n",
    "The filter() function returns an iterator, so you typically convert it to a list or another suitable data structure to view the filtered elements.\n",
    "\n",
    "Here's an example of how the filter() function works:"
   ]
  },
  {
   "cell_type": "code",
   "execution_count": 60,
   "id": "9e8d3d56-7885-40ed-afff-1abfe51204bb",
   "metadata": {
    "tags": []
   },
   "outputs": [
    {
     "data": {
      "text/plain": [
       "['Apple', 'Apricot', 'Jackfruit']"
      ]
     },
     "execution_count": 60,
     "metadata": {},
     "output_type": "execute_result"
    }
   ],
   "source": [
    "list_of_fruits = ['Apple', 'Apricot', 'Figs','Bananas', 'Jackfruit', 'Oranges']\n",
    "\n",
    "\n",
    "# applying map\n",
    "\n",
    "mapped_list = list(filter(lambda x: x[0] == 'A'or x[0]  == 'J' ,list_of_fruits))\n",
    "\n",
    "mapped_list"
   ]
  },
  {
   "cell_type": "code",
   "execution_count": 63,
   "id": "e0b3c95c-447b-4c42-b4c6-5b88844cf9b0",
   "metadata": {
    "tags": []
   },
   "outputs": [
    {
     "data": {
      "text/plain": [
       "2520"
      ]
     },
     "execution_count": 63,
     "metadata": {},
     "output_type": "execute_result"
    }
   ],
   "source": [
    "#4. Create a Python program that uses the `reduce()` function to find the product of all elements in a list.\n",
    "\n",
    "list_num = [1,3,5,6,7,4]\n",
    "\n",
    "\n",
    "reduced_list = reduce(lambda x, y: x*y, list_num)\n",
    "\n",
    "\n",
    "reduced_list"
   ]
  },
  {
   "cell_type": "raw",
   "id": "4ac55118-5106-4ba5-b46c-f9b03590bf5e",
   "metadata": {
    "tags": []
   },
   "source": [
    "# Function Documentation and Best Practices:\n",
    "\n",
    "\n",
    "#1. Explain the purpose of docstrings in Python functions and how to write them.\n",
    "\n",
    "\n",
    "'''\n",
    "\n",
    "Example of docstring:\n",
    "\n",
    "\n",
    "'''\n",
    "\n",
    "docstrings in Python are used to provide documentation and explanations about the purpose, usage, and behavior of functions, classes, methods, and modules. They are essentially string literals enclosed in triple-quotes (single or double), placed immediately after the definition of the function, class, method, or module."
   ]
  },
  {
   "cell_type": "raw",
   "id": "e52caf84-95ef-4be3-9e69-0832a4ac0d9b",
   "metadata": {},
   "source": [
    "The main purposes of docstrings are as follows:\n",
    "\n",
    "Documentation: Docstrings serve as a form of documentation for your code. They provide information that helps other developers understand how to use the code, what it does, and any important details about its behavior.\n",
    "\n",
    "Auto-Generated Documentation: Docstrings can be extracted by tools like Python's help() function, integrated development environments (IDEs), and documentation generators like Sphinx. This makes it easier to generate official documentation for your codebase.\n",
    "\n",
    "Clarity and Readability: Well-written docstrings enhance the clarity and readability of your code by providing explanations and context right where they are needed."
   ]
  },
  {
   "cell_type": "raw",
   "id": "e62bc084-3eed-4f60-bbec-934f2942ad2c",
   "metadata": {},
   "source": [
    "PEP 257: PEP 257 is Python's official style guide for docstring conventions. It provides guidelines on how to format docstrings for functions, classes, methods, and modules. Adhering to these conventions helps maintain consistency across Python projects.\n",
    "\n",
    "Here's an example of how to access docstrings using the help() function:"
   ]
  },
  {
   "cell_type": "raw",
   "id": "87ac8a03-72e2-4c58-8eb0-cd30ea7452de",
   "metadata": {},
   "source": [
    "#2. Describe some best practices for naming functions and variables in Python, including naming conventions and guidelines.\n",
    "\n",
    "Best practices for naming functions and variables in Python follow naming conventions and guidelines for readability and maintainability. Here are some key principles:\n",
    "\n",
    "1. **Use Descriptive Names**:\n",
    "   - Choose names that clearly convey the purpose and meaning of the variable or function.\n",
    "   - Avoid single-letter variable names (e.g., `x`, `i`) unless they have a well-defined purpose.\n",
    "\n",
    "2. **Follow PEP 8**:\n",
    "   - Adhere to Python's official style guide, PEP 8, which provides naming conventions.\n",
    "   - Use lowercase letters for variable and function names, separate words with underscores (snake_case).\n",
    "   - Use uppercase letters for constants (e.g., `MAX_VALUE`).\n",
    "   - Use capitalization for class names (CamelCase).\n",
    "\n",
    "3. **Use Verb-Noun for Functions**:\n",
    "   - Function names should begin with a verb or action followed by a noun (e.g., `calculate_total`, `get_data`).\n",
    "\n",
    "4. **Be Consistent**:\n",
    "   - Maintain consistent naming conventions throughout your codebase.\n",
    "   - If your project has established naming conventions, follow them.\n",
    "\n",
    "5. **Avoid Reserved Words**:\n",
    "   - Do not use Python's reserved words (e.g., `if`, `while`, `for`) as variable or function names.\n",
    "\n",
    "6. **Use Meaningful Variable Names**:\n",
    "   - Use meaningful names that convey the content or purpose of the variable.\n",
    "   - Use plurals for collections (e.g., `users` instead of `user_list`).\n",
    "\n",
    "7. **Avoid Ambiguous Abbreviations**:\n",
    "   - Avoid excessive abbreviations that may confuse readers. Use abbreviations only if they are widely recognized (e.g., `URL` for \"Uniform Resource Locator\").\n",
    "\n",
    "8. **Use Underscore for Private Names**:\n",
    "   - Prefix variable or function names with a single underscore (e.g., `_private_variable`) to indicate that they are intended for internal use within a module.\n",
    "\n",
    "9. **Follow Domain-Specific Conventions**:\n",
    "   - In some cases, adhere to conventions specific to your project or domain.\n",
    "   - Consistency within the project is key.\n",
    "\n",
    "10. **Consider Function Side Effects**:\n",
    "    - If a function has side effects (modifies data, performs actions), indicate this in the function name (e.g., `update_database`).\n",
    "\n",
    "11. **Avoid Name Clashes**:\n",
    "    - Be cautious of naming conflicts with Python's built-in functions or modules.\n",
    "\n",
    "12. **Use All Uppercase for Constants**:\n",
    "    - Constants (variables that should not be changed) should be named in all uppercase with underscores (e.g., `PI`, `MAX_LENGTH`).\n",
    "\n",
    "13. **Keep Variable Scope in Mind**:\n",
    "    - Ensure that variable names are not reused in different scopes to avoid confusion.\n",
    "\n",
    "14. **Document Function Signatures**:\n",
    "    - Use clear and descriptive names for function parameters to make function signatures self-explanatory.\n",
    "\n",
    "15. **Review and Refactor**:\n",
    "    - Periodically review and refactor your code to improve naming clarity and adherence to conventions.\n",
    "\n",
    "By following these best practices, you can create code that is more readable, maintainable, and accessible to other developers, promoting collaboration and reducing errors.\n",
    "\n",
    "\n"
   ]
  },
  {
   "cell_type": "code",
   "execution_count": null,
   "id": "3c2c8cb3-4d5f-437a-9669-15820e6b7ecb",
   "metadata": {},
   "outputs": [],
   "source": []
  },
  {
   "cell_type": "code",
   "execution_count": null,
   "id": "d197db9f-d829-45bc-80aa-4e4ab5569a05",
   "metadata": {},
   "outputs": [],
   "source": []
  }
 ],
 "metadata": {
  "kernelspec": {
   "display_name": "Python 3 (ipykernel)",
   "language": "python",
   "name": "python3"
  },
  "language_info": {
   "codemirror_mode": {
    "name": "ipython",
    "version": 3
   },
   "file_extension": ".py",
   "mimetype": "text/x-python",
   "name": "python",
   "nbconvert_exporter": "python",
   "pygments_lexer": "ipython3",
   "version": "3.10.9"
  }
 },
 "nbformat": 4,
 "nbformat_minor": 5
}
