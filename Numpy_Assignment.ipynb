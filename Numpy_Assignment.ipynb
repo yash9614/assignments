{
 "cells": [
  {
   "cell_type": "markdown",
   "id": "59531050",
   "metadata": {},
   "source": [
    "### 1. What is a Python library? Why do we use Python libraries?\n",
    "\n",
    "A Python library is a collection of pre-written Python code that provides functionalities to perform various tasks. These libraries contain modules and functions that can be imported into your Python scripts or programs, allowing you to leverage existing code to solve problems efficiently without having to reinvent the wheel.\n",
    "\n",
    "We use Python libraries for several reasons:\n",
    "\n",
    "1. **Code Reusability:** Libraries encapsulate reusable code components that can be used across different projects, saving time and effort in writing new code from scratch.\n",
    "\n",
    "2. **Efficiency:** Python libraries often contain optimized algorithms and data structures, allowing developers to perform complex tasks efficiently without having to implement them manually.\n",
    "\n",
    "3. **Functionality:** Libraries extend the capabilities of Python by providing specialized functions and modules for specific tasks such as data analysis, web development, machine learning, scientific computing, etc.\n",
    "\n",
    "4. **Community Support:** Python has a large and active community that develops and maintains numerous libraries. These libraries are often well-documented and supported by the community, providing resources and assistance to developers.\n",
    "\n",
    "Overall, Python libraries enhance productivity, enable code reuse, and empower developers to build powerful applications by leveraging existing solutions and functionalities."
   ]
  },
  {
   "cell_type": "markdown",
   "id": "6834e453",
   "metadata": {},
   "source": [
    "### 2. What is the difference between Numpy array and List?\n",
    "\n",
    "NumPy arrays and Python lists are both used to store collections of data, but they have several differences in terms of functionality, performance, and usage:\n",
    "\n",
    "1. **Data Type and Homogeneity:**\n",
    "   - NumPy arrays are homogeneous, meaning that all elements in the array must be of the same data type. This allows for more efficient storage and computation.\n",
    "   - Python lists can contain elements of different data types, providing more flexibility but potentially sacrificing performance for certain operations.\n",
    "\n",
    "2. **Memory Efficiency:**\n",
    "   - NumPy arrays are more memory efficient compared to Python lists, especially when dealing with large datasets. This is because NumPy arrays store data in a contiguous block of memory, while Python lists store references to objects, which can lead to more memory overhead.\n",
    "   \n",
    "3. **Performance:**\n",
    "   - NumPy arrays generally offer better performance for numerical operations and mathematical computations compared to Python lists. This is due to NumPy's ability to perform vectorized operations, which are optimized and executed at the C level.\n",
    "   \n",
    "4. **Functionality and Operations:**\n",
    "   - NumPy arrays support a wide range of mathematical operations and array manipulations, such as element-wise arithmetic operations, linear algebra operations, slicing, reshaping, and broadcasting.\n",
    "   - Python lists offer more flexibility in terms of general-purpose data manipulation and support a variety of built-in methods and operations.\n",
    "\n",
    "5. **Indexing and Slicing:**\n",
    "   - Both NumPy arrays and Python lists support indexing and slicing operations. However, NumPy arrays offer more advanced indexing techniques, such as boolean indexing and fancy indexing, which allow for more expressive and efficient data selection.\n",
    "\n",
    "In summary, while Python lists provide flexibility and ease of use for general-purpose programming, NumPy arrays are optimized for numerical computations and offer superior performance and memory efficiency for tasks involving large datasets and numerical operations."
   ]
  },
  {
   "cell_type": "code",
   "execution_count": 1,
   "id": "cc6f3027",
   "metadata": {},
   "outputs": [
    {
     "name": "stdout",
     "output_type": "stream",
     "text": [
      "Array Shape: (3, 4)\n",
      "Array Size: 12\n",
      "Array Dimension: 2\n"
     ]
    }
   ],
   "source": [
    "'''3. Find the shape, size and dimension of the following array?\n",
    "[[1, 2, 3, 4]\n",
    "[5, 6, 7, 8],\n",
    "[9, 10, 11, 12]]'''\n",
    "\n",
    "import numpy as np\n",
    "\n",
    "# Define the array\n",
    "array = np.array([[1, 2, 3, 4],\n",
    "                  [5, 6, 7, 8],\n",
    "                  [9, 10, 11, 12]])\n",
    "\n",
    "# Find the shape of the array\n",
    "shape = array.shape\n",
    "\n",
    "# Find the size of the array\n",
    "size = array.size\n",
    "\n",
    "# Find the number of dimensions of the array\n",
    "dimensions = array.ndim\n",
    "\n",
    "print(\"Array Shape:\", shape)\n",
    "print(\"Array Size:\", size)\n",
    "print(\"Array Dimension:\", dimensions)\n"
   ]
  },
  {
   "cell_type": "code",
   "execution_count": 2,
   "id": "f6e46c36",
   "metadata": {},
   "outputs": [
    {
     "name": "stdout",
     "output_type": "stream",
     "text": [
      "First Row of the Array: [1 2 3 4]\n"
     ]
    }
   ],
   "source": [
    "'''4. Write python code to access the first row of the following array?\n",
    "[[1, 2, 3, 4]\n",
    "[5, 6, 7, 8],\n",
    "[9, 10, 11, 12]]'''\n",
    "\n",
    "import numpy as np\n",
    "\n",
    "# Define the array\n",
    "array = np.array([[1, 2, 3, 4],\n",
    "                  [5, 6, 7, 8],\n",
    "                  [9, 10, 11, 12]])\n",
    "\n",
    "# Access the first row\n",
    "first_row = array[0]\n",
    "\n",
    "print(\"First Row of the Array:\", first_row)\n"
   ]
  },
  {
   "cell_type": "code",
   "execution_count": 3,
   "id": "7195d62d",
   "metadata": {},
   "outputs": [
    {
     "name": "stdout",
     "output_type": "stream",
     "text": [
      "Element at the third row and fourth column: 12\n"
     ]
    }
   ],
   "source": [
    "# 5. How do you access the element at the third row and fourth column from the given numpy array?\n",
    "# [[1, 2, 3, 4]\n",
    "# [5, 6, 7, 8],\n",
    "# [9, 10, 11, 12]]\n",
    "\n",
    "array = np.array([[1, 2, 3, 4],\n",
    "                  [5, 6, 7, 8],\n",
    "                  [9, 10, 11, 12]])\n",
    "\n",
    "# Access the element at the third row (index 2) and fourth column (index 3)\n",
    "element = array[2, 3]\n",
    "\n",
    "print(\"Element at the third row and fourth column:\", element)"
   ]
  },
  {
   "cell_type": "code",
   "execution_count": 4,
   "id": "bc16329e",
   "metadata": {},
   "outputs": [
    {
     "name": "stdout",
     "output_type": "stream",
     "text": [
      "Odd-indexed elements: [ 2  4  6  8 10 12]\n"
     ]
    }
   ],
   "source": [
    "'''6. Write code to extract all odd-indexed elements from the given numpy array?\n",
    "[[1, 2, 3, 4]\n",
    "[5, 6, 7, 8],\n",
    "[9, 10, 11, 12]]'''\n",
    "\n",
    "import numpy as np\n",
    "\n",
    "# Define the array\n",
    "array = np.array([[1, 2, 3, 4],\n",
    "                  [5, 6, 7, 8],\n",
    "                  [9, 10, 11, 12]])\n",
    "\n",
    "# Extract odd-indexed elements\n",
    "odd_indexed_elements = array[:, 1::2].flatten()\n",
    "\n",
    "print(\"Odd-indexed elements:\", odd_indexed_elements)\n"
   ]
  },
  {
   "cell_type": "code",
   "execution_count": 5,
   "id": "20dcae91",
   "metadata": {},
   "outputs": [
    {
     "name": "stdout",
     "output_type": "stream",
     "text": [
      "Random 3x3 matrix with values between 0 and 1:\n",
      "[[0.63125183 0.01623426 0.87764362]\n",
      " [0.26765974 0.04108609 0.13636787]\n",
      " [0.03090199 0.88114435 0.10820247]]\n"
     ]
    }
   ],
   "source": [
    "'''7. How can you generate a random 3x3 matrix with values between 0 and 1?'''\n",
    "\n",
    "# Generate a random 3x3 matrix with values between 0 and 1\n",
    "random_matrix = np.random.random((3, 3))\n",
    "\n",
    "print(\"Random 3x3 matrix with values between 0 and 1:\")\n",
    "print(random_matrix)"
   ]
  },
  {
   "cell_type": "code",
   "execution_count": 8,
   "id": "e4eee4ef",
   "metadata": {},
   "outputs": [
    {
     "data": {
      "text/plain": [
       "'1. **`np.random.rand`:**\\n   - `np.random.rand` generates random numbers from a uniform distribution over the range [0, 1).\\n   - You specify the shape of the output array as separate arguments (not as a tuple).\\n   - Each value in the array is generated independently of the others.\\n   - This function is useful when you need random numbers from a uniform distribution.\\n\\n2. **`np.random.randn`:**\\n   - `np.random.randn` generates random numbers from a standard normal distribution (mean=0, standard deviation=1).\\n   - You specify the shape of the output array using a tuple.\\n   - The random numbers generated follow a standard normal distribution, which means they are centered around 0 with a standard deviation of 1.\\n   - This function is useful when you need random numbers from a normal distribution, which is a common requirement in statistical modeling and simulations.\\n\\nIn summary, `np.random.rand` generates random numbers from a uniform distribution over [0, 1), while `np.random.randn` generates random numbers from a standard normal distribution with mean 0 and standard deviation 1.'"
      ]
     },
     "execution_count": 8,
     "metadata": {},
     "output_type": "execute_result"
    }
   ],
   "source": [
    "\"\"\"8. Describe the difference between np.random.rand and np.random.randn?'''\n",
    "`np.random.rand` and `np.random.randn` are both functions provided by NumPy's random module for generating random numbers, but they differ in how they generate these numbers:\"\"\"\n",
    "\n",
    "'''1. **`np.random.rand`:**\n",
    "   - `np.random.rand` generates random numbers from a uniform distribution over the range [0, 1).\n",
    "   - You specify the shape of the output array as separate arguments (not as a tuple).\n",
    "   - Each value in the array is generated independently of the others.\n",
    "   - This function is useful when you need random numbers from a uniform distribution.\n",
    "\n",
    "2. **`np.random.randn`:**\n",
    "   - `np.random.randn` generates random numbers from a standard normal distribution (mean=0, standard deviation=1).\n",
    "   - You specify the shape of the output array using a tuple.\n",
    "   - The random numbers generated follow a standard normal distribution, which means they are centered around 0 with a standard deviation of 1.\n",
    "   - This function is useful when you need random numbers from a normal distribution, which is a common requirement in statistical modeling and simulations.\n",
    "\n",
    "In summary, `np.random.rand` generates random numbers from a uniform distribution over [0, 1), while `np.random.randn` generates random numbers from a standard normal distribution with mean 0 and standard deviation 1.'''"
   ]
  },
  {
   "cell_type": "code",
   "execution_count": 6,
   "id": "8da14bd1",
   "metadata": {},
   "outputs": [
    {
     "name": "stdout",
     "output_type": "stream",
     "text": [
      "Original Array:\n",
      "[[ 1  2  3  4]\n",
      " [ 5  6  7  8]\n",
      " [ 9 10 11 12]]\n",
      "\n",
      "Expanded Array:\n",
      "[[[ 1  2  3  4]\n",
      "  [ 5  6  7  8]\n",
      "  [ 9 10 11 12]]]\n"
     ]
    }
   ],
   "source": [
    "'''9. Write code to increase the dimension of the following array?\n",
    "[[1, 2, 3, 4]\n",
    "[5, 6, 7, 8],\n",
    "[9, 10, 11, 12]]'''\n",
    "\n",
    "original_array = np.array([[1, 2, 3, 4],\n",
    "                            [5, 6, 7, 8],\n",
    "                            [9, 10, 11, 12]])\n",
    "\n",
    "# Increase the dimension of the array\n",
    "expanded_array = np.expand_dims(original_array, axis=0)\n",
    "\n",
    "print(\"Original Array:\")\n",
    "print(original_array)\n",
    "print(\"\\nExpanded Array:\")\n",
    "print(expanded_array)"
   ]
  },
  {
   "cell_type": "code",
   "execution_count": 9,
   "id": "a8f8885f",
   "metadata": {},
   "outputs": [
    {
     "name": "stdout",
     "output_type": "stream",
     "text": [
      "Original Array:\n",
      "[[ 1  2  3  4]\n",
      " [ 5  6  7  8]\n",
      " [ 9 10 11 12]]\n",
      "\n",
      "Transposed Array:\n",
      "[[ 1  5  9]\n",
      " [ 2  6 10]\n",
      " [ 3  7 11]\n",
      " [ 4  8 12]]\n"
     ]
    }
   ],
   "source": [
    "'''10. How to transpose the following array in NumPy?\n",
    "[[1, 2, 3, 4]\n",
    "[5, 6, 7, 8],\n",
    "[9, 10, 11, 12]]'''\n",
    "\n",
    "# Define the array\n",
    "array = np.array([[1, 2, 3, 4],\n",
    "                  [5, 6, 7, 8],\n",
    "                  [9, 10, 11, 12]])\n",
    "\n",
    "# Transpose the array using np.transpose()\n",
    "transposed_array = np.transpose(array)\n",
    "\n",
    "# Alternatively, you can use the .T attribute\n",
    "# transposed_array = array.T\n",
    "\n",
    "print(\"Original Array:\")\n",
    "print(array)\n",
    "print(\"\\nTransposed Array:\")\n",
    "print(transposed_array)"
   ]
  },
  {
   "cell_type": "code",
   "execution_count": 10,
   "id": "0e2cea6f",
   "metadata": {},
   "outputs": [
    {
     "name": "stdout",
     "output_type": "stream",
     "text": [
      "1. Index-wise Multiplication:\n",
      "[[  1   4   9  16]\n",
      " [ 25  36  49  64]\n",
      " [ 81 100 121 144]]\n",
      "\n",
      "2. Matrix Multiplication:\n",
      "[[ 30  70 110]\n",
      " [ 70 174 278]\n",
      " [110 278 446]]\n",
      "\n",
      "3. Matrix Addition:\n",
      "[[ 2  4  6  8]\n",
      " [10 12 14 16]\n",
      " [18 20 22 24]]\n",
      "\n",
      "4. Matrix Subtraction:\n",
      "[[0 0 0 0]\n",
      " [0 0 0 0]\n",
      " [0 0 0 0]]\n",
      "\n",
      "5. Element-wise Division of B by A:\n",
      "[[1. 1. 1. 1.]\n",
      " [1. 1. 1. 1.]\n",
      " [1. 1. 1. 1.]]\n"
     ]
    }
   ],
   "source": [
    "'''11. Consider the following matrix:\n",
    "Matrix A2 [[1, 2, 3, 4] [5, 6, 7, 8],[9, 10, 11, 12]]\n",
    "Matrix B2 [[1, 2, 3, 4] [5, 6, 7, 8],[9, 10, 11, 12]]'''\n",
    "\n",
    "'''Perform the following operation using Python\n",
    "1. Index wise multiplication\n",
    "2. Matix multiplication\n",
    "3. Add both matices\n",
    "4. Subtact matrix B from matrix A\n",
    "5. Divide Matrix B by A\n",
    "'''\n",
    "\n",
    "import numpy as np\n",
    "\n",
    "# Define matrices A and B\n",
    "A = np.array([[1, 2, 3, 4],\n",
    "              [5, 6, 7, 8],\n",
    "              [9, 10, 11, 12]])\n",
    "\n",
    "B = np.array([[1, 2, 3, 4],\n",
    "              [5, 6, 7, 8],\n",
    "              [9, 10, 11, 12]])\n",
    "\n",
    "# 1. Index-wise multiplication\n",
    "index_wise_multiplication = A * B\n",
    "print(\"1. Index-wise Multiplication:\")\n",
    "print(index_wise_multiplication)\n",
    "\n",
    "# 2. Matrix multiplication\n",
    "matrix_multiplication = np.matmul(A, B.transpose())  # Assuming you meant matrix multiplication\n",
    "print(\"\\n2. Matrix Multiplication:\")\n",
    "print(matrix_multiplication)\n",
    "\n",
    "# 3. Add both matrices\n",
    "matrix_addition = A + B\n",
    "print(\"\\n3. Matrix Addition:\")\n",
    "print(matrix_addition)\n",
    "\n",
    "# 4. Subtract matrix B from matrix A\n",
    "matrix_subtraction = A - B\n",
    "print(\"\\n4. Matrix Subtraction:\")\n",
    "print(matrix_subtraction)\n",
    "\n",
    "# 5. Divide Matrix B by A\n",
    "matrix_division = np.divide(B, A)\n",
    "print(\"\\n5. Element-wise Division of B by A:\")\n",
    "print(matrix_division)\n"
   ]
  },
  {
   "cell_type": "markdown",
   "id": "5b46867c",
   "metadata": {},
   "source": [
    "### 12. Which function in Numpy can be used to swap the byte order of an array?\n",
    "\n",
    "In NumPy, you can use the `byteswap()` function to swap the byte order of an array. This function swaps the byte order of the elements in the array in place. It can be useful when dealing with data stored in binary files or when working with data that is stored in a different byte order than what your system expects.\n",
    "\n",
    "Here's how you can use `byteswap()`:\n",
    "\n",
    "```python\n",
    "import numpy as np\n",
    "\n",
    "# Create an array with a specific byte order\n",
    "array = np.array([1, 2, 3, 4], dtype=np.int32)  # Example array\n",
    "\n",
    "# Swap the byte order of the array\n",
    "array_swapped = array.byteswap()\n",
    "\n",
    "print(\"Original Array:\", array)\n",
    "print(\"Array with Swapped Byte Order:\", array_swapped)\n",
    "```\n",
    "\n",
    "This function swaps the byte order of the array elements in place and returns a new array with the swapped byte order. If the byte order of the array is already in the native byte order of the system, `byteswap()` does nothing."
   ]
  },
  {
   "cell_type": "markdown",
   "id": "84307a7e",
   "metadata": {},
   "source": [
    "### 13. What is the significance of the np.linalg.inv function?\n",
    "\n",
    "The `np.linalg.inv` function in NumPy is used to compute the inverse of a square matrix. The significance of computing the inverse of a matrix lies in various mathematical and computational applications, particularly in linear algebra and numerical computations. Here's why `np.linalg.inv` is significant:\n",
    "\n",
    "1. **Solving Linear Equations:** One of the primary applications of matrix inversion is solving systems of linear equations. Given a matrix equation \\( Ax = B \\), where \\( A \\) is a square matrix of coefficients, \\( x \\) is the vector of variables, and \\( B \\) is the constant vector, you can solve for \\( x \\) by computing the inverse of \\( A \\) and multiplying it by \\( B \\), i.e., \\( x = A^{-1}B \\).\n",
    "\n",
    "2. **Computing Determinants:** In many cases, computing the inverse of a matrix involves calculating its determinant. The determinant of a matrix provides information about the matrix's properties, such as its singularity (non-invertibility) or rank.\n",
    "\n",
    "3. **Applications in Statistics and Optimization:** In statistics and optimization problems, matrix inversion is often used in techniques like linear regression, least squares estimation, and maximum likelihood estimation.\n",
    "\n",
    "4. **Numerical Stability:** While matrix inversion provides an analytical solution to linear systems, in numerical computations, it's crucial to consider the numerical stability of the solution. Inverse matrices may not exist for singular matrices, and even if they do, computational errors can arise due to precision issues.\n",
    "\n",
    "5. **Matrix Algebra and Transformations:** Matrix inversion plays a significant role in matrix algebra, where it facilitates transformations, such as rotation, scaling, and reflection, by allowing the transformation to be undone.\n",
    "\n",
    "However, it's important to note that not all matrices have inverses. A matrix must be square and non-singular (i.e., its determinant must be non-zero) to have an inverse. In practice, you should also consider alternative methods, such as using matrix decompositions like LU decomposition or QR decomposition, for solving linear systems when applicable, as they can be more numerically stable and efficient than direct matrix inversion."
   ]
  },
  {
   "cell_type": "code",
   "execution_count": 12,
   "id": "3b2a0f45",
   "metadata": {},
   "outputs": [
    {
     "name": "stdout",
     "output_type": "stream",
     "text": [
      "Original Array:\n",
      "[ 0  1  2  3  4  5  6  7  8  9 10 11]\n",
      "\n",
      "Reshaped Array:\n",
      "[[ 0  1  2  3]\n",
      " [ 4  5  6  7]\n",
      " [ 8  9 10 11]]\n",
      "\n",
      "Reshaped Array (2x6):\n",
      "[[ 0  1  2  3  4  5]\n",
      " [ 6  7  8  9 10 11]]\n",
      "\n",
      "Reshaped Array (Single Column):\n",
      "[[ 0]\n",
      " [ 1]\n",
      " [ 2]\n",
      " [ 3]\n",
      " [ 4]\n",
      " [ 5]\n",
      " [ 6]\n",
      " [ 7]\n",
      " [ 8]\n",
      " [ 9]\n",
      " [10]\n",
      " [11]]\n"
     ]
    },
    {
     "data": {
      "text/plain": [
       "\"\\n\\nIn the examples above:\\n\\nWe first create a 1D array arr with 12 elements using np.arange(12).\\nWe then reshape arr into different shapes using np.reshape. In the first case, we reshape it into a 3x4 matrix, in the second case, into a 2x6 matrix, and in the third case, into a 2D array with a single column.\\nWhen reshaping, you can specify the new shape as a tuple. One of the dimensions can be -1, which means NumPy will automatically determine the size of that dimension based on the total number of elements in the array and the other specified dimensions.\\nIt's important to note that the reshaped array must have the same number of elements as the original array. Otherwise, NumPy will raise a ValueError.\\n\\n\\n\""
      ]
     },
     "execution_count": 12,
     "metadata": {},
     "output_type": "execute_result"
    }
   ],
   "source": [
    "'''14. What does the np.reshape function do, and how is it used?'''\n",
    "\n",
    "'''\n",
    "\n",
    "The np.reshape function in NumPy is used to change the shape of an array without changing its data. It allows you to reorganize the elements of an array into a new shape while preserving the total number of elements. The function returns a new array with the specified shape.\n",
    "\n",
    "Here's how np.reshape is used:\n",
    "\n",
    "\n",
    "'''\n",
    "\n",
    "# Create a 1D array with 12 elements\n",
    "arr = np.arange(12)\n",
    "print(\"Original Array:\")\n",
    "print(arr)\n",
    "# Output:\n",
    "# [ 0  1  2  3  4  5  6  7  8  9 10 11]\n",
    "\n",
    "# Reshape the array into a 3x4 matrix\n",
    "reshaped_arr = np.reshape(arr, (3, 4))\n",
    "print(\"\\nReshaped Array:\")\n",
    "print(reshaped_arr)\n",
    "# Output:\n",
    "# [[ 0  1  2  3]\n",
    "#  [ 4  5  6  7]\n",
    "#  [ 8  9 10 11]]\n",
    "\n",
    "# Reshape the array into a 2x6 matrix\n",
    "reshaped_arr_2 = np.reshape(arr, (2, 6))\n",
    "print(\"\\nReshaped Array (2x6):\")\n",
    "print(reshaped_arr_2)\n",
    "# Output:\n",
    "# [[ 0  1  2  3  4  5]\n",
    "#  [ 6  7  8  9 10 11]]\n",
    "\n",
    "# Reshape the array into a 2D array with a single column\n",
    "reshaped_arr_3 = np.reshape(arr, (-1, 1))\n",
    "print(\"\\nReshaped Array (Single Column):\")\n",
    "print(reshaped_arr_3)\n",
    "# Output:\n",
    "# [[ 0]\n",
    "#  [ 1]\n",
    "#  [ 2]\n",
    "#  [ 3]\n",
    "#  [ 4]\n",
    "#  [ 5]\n",
    "#  [ 6]\n",
    "#  [ 7]\n",
    "#  [ 8]\n",
    "#  [ 9]\n",
    "#  [10]\n",
    "#  [11]]\n",
    "\n",
    "'''\n",
    "\n",
    "In the examples above:\n",
    "\n",
    "We first create a 1D array arr with 12 elements using np.arange(12).\n",
    "We then reshape arr into different shapes using np.reshape. In the first case, we reshape it into a 3x4 matrix, in the second case, into a 2x6 matrix, and in the third case, into a 2D array with a single column.\n",
    "When reshaping, you can specify the new shape as a tuple. One of the dimensions can be -1, which means NumPy will automatically determine the size of that dimension based on the total number of elements in the array and the other specified dimensions.\n",
    "It's important to note that the reshaped array must have the same number of elements as the original array. Otherwise, NumPy will raise a ValueError.\n",
    "\n",
    "\n",
    "'''\n",
    "\n"
   ]
  },
  {
   "cell_type": "code",
   "execution_count": 14,
   "id": "18a4ff61",
   "metadata": {},
   "outputs": [
    {
     "name": "stdout",
     "output_type": "stream",
     "text": [
      "[[11 22 33]\n",
      " [14 25 36]]\n"
     ]
    },
    {
     "data": {
      "text/plain": [
       "\"In this example, even though the shapes of arrays A and B are different (A is 2x3 and B is 1x3), NumPy automatically broadcasts array B to the shape of A by duplicating its elements along the first dimension. Then, it performs element-wise addition between the two arrays, resulting in array C.\\n\\nBroadcasting simplifies many operations and makes code more concise and readable. It's widely used in NumPy for arithmetic operations, comparisons, and other element-wise operations between arrays of different shapes. However, it's important to understand how broadcasting works to avoid unintended behavior and ensure the correctness of your computations.\""
      ]
     },
     "execution_count": 14,
     "metadata": {},
     "output_type": "execute_result"
    }
   ],
   "source": [
    "'''15. What is broadcasting in Numpy?'''\n",
    "\n",
    "\n",
    "'''Broadcasting in NumPy is a powerful mechanism that allows arrays with different shapes to be combined in arithmetic operations, even if their shapes do not match exactly. Broadcasting makes it possible to perform element-wise operations between arrays of different shapes without explicitly reshaping or copying the data.\n",
    "\n",
    "The broadcasting rule in NumPy states that the arrays in an operation can be broadcast together if their shapes are compatible. Two dimensions are compatible when they are equal, or one of them is 1. The broadcasting process then automatically stretches or duplicates the arrays along the appropriate dimensions to make their shapes compatible for the operation.\n",
    "\n",
    "Here's a simple example to illustrate broadcasting:'''\n",
    "\n",
    "\n",
    "import numpy as np\n",
    "\n",
    "# Create a 2x3 array\n",
    "A = np.array([[1, 2, 3],\n",
    "              [4, 5, 6]])\n",
    "\n",
    "# Create a 1x3 array\n",
    "B = np.array([10, 20, 30])\n",
    "\n",
    "# Perform element-wise addition using broadcasting\n",
    "C = A + B\n",
    "\n",
    "print(C)\n",
    "\n",
    "\n",
    "'''In this example, even though the shapes of arrays A and B are different (A is 2x3 and B is 1x3), NumPy automatically broadcasts array B to the shape of A by duplicating its elements along the first dimension. Then, it performs element-wise addition between the two arrays, resulting in array C.\n",
    "\n",
    "Broadcasting simplifies many operations and makes code more concise and readable. It's widely used in NumPy for arithmetic operations, comparisons, and other element-wise operations between arrays of different shapes. However, it's important to understand how broadcasting works to avoid unintended behavior and ensure the correctness of your computations.'''"
   ]
  }
 ],
 "metadata": {
  "kernelspec": {
   "display_name": "Python 3 (ipykernel)",
   "language": "python",
   "name": "python3"
  },
  "language_info": {
   "codemirror_mode": {
    "name": "ipython",
    "version": 3
   },
   "file_extension": ".py",
   "mimetype": "text/x-python",
   "name": "python",
   "nbconvert_exporter": "python",
   "pygments_lexer": "ipython3",
   "version": "3.10.9"
  }
 },
 "nbformat": 4,
 "nbformat_minor": 5
}
