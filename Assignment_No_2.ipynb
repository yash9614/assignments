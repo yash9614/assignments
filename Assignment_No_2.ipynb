{
 "cells": [
  {
   "cell_type": "code",
   "execution_count": 121,
   "id": "ce51f6b5",
   "metadata": {},
   "outputs": [
    {
     "name": "stdout",
     "output_type": "stream",
     "text": [
      "3\n",
      "positive\n"
     ]
    }
   ],
   "source": [
    "# 1. Write a Python program to check if a given number is positive or negative.\n",
    "\n",
    "n = int(input())\n",
    "\n",
    "\n",
    "if n < 0:\n",
    "    print('negative')\n",
    "elif n > 0:\n",
    "    print('positive')\n",
    "elif n == 0:\n",
    "    print('Number is Zero')\n"
   ]
  },
  {
   "cell_type": "code",
   "execution_count": null,
   "id": "2d8bddb8",
   "metadata": {},
   "outputs": [],
   "source": [
    "### 2. Create a program that determines if a person is eligible to vote based on their age.\n",
    "\n",
    "\n",
    "Age = int(input('Enter your age \\n'))\n",
    "\n",
    "if Age < 18:\n",
    "    print(\"You're ineligible to vote\")\n",
    "else:\n",
    "    print(\"You're eligible to vote\")"
   ]
  },
  {
   "cell_type": "code",
   "execution_count": 13,
   "id": "631a3d8c",
   "metadata": {},
   "outputs": [
    {
     "name": "stdout",
     "output_type": "stream",
     "text": [
      "Enter the first number 23\n",
      "Enter the second number 55\n",
      "The maximum number between 23.0 and 55.0 is 55.0\n"
     ]
    }
   ],
   "source": [
    "# 3. Develop a program to find the maximum of two numbers using if-else statements.\n",
    "\n",
    "num1 = float(input('Enter the first number '))\n",
    "num2 = float(input('Enter the second number '))\n",
    "\n",
    "if num1 > num2:\n",
    "    max_num = num1\n",
    "else:\n",
    "    max_num = num2\n",
    "\n",
    "print(\"The maximum number between\", num1, \"and\", num2, \"is\", max_num)"
   ]
  },
  {
   "cell_type": "code",
   "execution_count": 15,
   "id": "90cbf769",
   "metadata": {},
   "outputs": [
    {
     "name": "stdout",
     "output_type": "stream",
     "text": [
      "Enter a year1999\n",
      "Year is not a leap year\n"
     ]
    }
   ],
   "source": [
    "# 4. Write a Python script to classify a given year as a leap year or not.\n",
    "\n",
    "\n",
    "year = int(input('Enter a year'))\n",
    "\n",
    "if (year % 4 == 0 and year % 100 != 0) or (year % 400 == 0):\n",
    "    print('Year is a leap year')\n",
    "else:\n",
    "    print('Year is not a leap year')"
   ]
  },
  {
   "cell_type": "code",
   "execution_count": 16,
   "id": "858d3884",
   "metadata": {},
   "outputs": [
    {
     "name": "stdout",
     "output_type": "stream",
     "text": [
      "Enter a charactere\n",
      "e is a vowel\n"
     ]
    }
   ],
   "source": [
    "# 5. Create a program that checks whether a character is a vowel or a consonant.\n",
    "\n",
    "char = input('Enter a character')\n",
    "\n",
    "char.lower()\n",
    "\n",
    "if len(char) == 1 and char.isalpha():\n",
    "    if char in 'aeiou':\n",
    "        print(char , 'is a vowel')\n",
    "    else:\n",
    "        print(char , 'is a consonant')\n",
    "else:\n",
    "    print('Please enter a single alphabet character')"
   ]
  },
  {
   "cell_type": "code",
   "execution_count": 19,
   "id": "a8a7a961",
   "metadata": {},
   "outputs": [
    {
     "name": "stdout",
     "output_type": "stream",
     "text": [
      "9\n",
      "The num is odd\n"
     ]
    }
   ],
   "source": [
    "# 6. Implement a program to determine whether a given number is even or odd.\n",
    "\n",
    "n = int(input())\n",
    "\n",
    "if n % 2 == 0:\n",
    "    print('The num is even')\n",
    "else:\n",
    "    print('The num is odd')"
   ]
  },
  {
   "cell_type": "code",
   "execution_count": 20,
   "id": "52a7cf3b",
   "metadata": {},
   "outputs": [
    {
     "name": "stdout",
     "output_type": "stream",
     "text": [
      "Enter a number-2\n",
      "absolute value = 2.0\n"
     ]
    }
   ],
   "source": [
    "# 7. Write a Python function to calculate the absolute value of a number without using the `abs()` function.\n",
    "\n",
    "\n",
    "def calculate_absolute_value(number):\n",
    "    if number < 0:\n",
    "        return -number\n",
    "    else:\n",
    "        return number\n",
    "\n",
    "num = float(input('Enter a number'))\n",
    "\n",
    "absolute_value = calculate_absolute_value(num)\n",
    "\n",
    "print('absolute value =', absolute_value)"
   ]
  },
  {
   "cell_type": "code",
   "execution_count": 21,
   "id": "10250f19",
   "metadata": {},
   "outputs": [
    {
     "name": "stdout",
     "output_type": "stream",
     "text": [
      "enter first number2\n",
      "enter second number2\n",
      "enter third number3\n",
      "3.0\n"
     ]
    }
   ],
   "source": [
    "# 8. Develop a program that determines the largest of three given numbers using if-else statements.\n",
    "\n",
    "num1 = float(input('enter first number'))\n",
    "num2 = float(input('enter second number'))\n",
    "num3 = float(input('enter third number'))\n",
    "\n",
    "if num1 >= num2 and num1 >= num3:\n",
    "    largest = num1\n",
    "elif num2 > num1 and num2 >= num3:\n",
    "    largest = num2\n",
    "else:\n",
    "    largest = num3\n",
    "print(largest)"
   ]
  },
  {
   "cell_type": "code",
   "execution_count": 36,
   "id": "48966b77",
   "metadata": {},
   "outputs": [
    {
     "name": "stdout",
     "output_type": "stream",
     "text": [
      "Palindrome\n"
     ]
    }
   ],
   "source": [
    "# 9. Create a program that checks if a given string is a palindrome.\n",
    "\n",
    "\n",
    "str1 = 'DID'\n",
    "\n",
    "str1 = str1.lower()\n",
    "if str1 == str1[::-1]:\n",
    "    print('Palindrome')\n",
    "else:\n",
    "    print('Not palindrome')"
   ]
  },
  {
   "cell_type": "code",
   "execution_count": 40,
   "id": "6a5142db",
   "metadata": {},
   "outputs": [
    {
     "name": "stdout",
     "output_type": "stream",
     "text": [
      "Enter a score: 45\n",
      "The student's grade is F\n"
     ]
    }
   ],
   "source": [
    "# 10. Write a Python program to calculate the grade based on a student's score.\n",
    "\n",
    "\n",
    "score = float(input('Enter a score: '))\n",
    "\n",
    "if 90 <= score <= 100:\n",
    "    grade =  'A'\n",
    "elif 80 <= score <= 90:\n",
    "    grade =  'B'\n",
    "elif 70 <= score <= 80:\n",
    "    grade = 'C'\n",
    "elif 60 <= score <= 70:\n",
    "    grade  = 'D'\n",
    "elif 0 <= score < 60:\n",
    "    grade = 'F'\n",
    "else:\n",
    "    grade = 'Invalid (score out of range)'\n",
    "    \n",
    "print(f\"The student's grade is {grade}\")"
   ]
  },
  {
   "cell_type": "code",
   "execution_count": 41,
   "id": "986debf5",
   "metadata": {},
   "outputs": [
    {
     "name": "stdout",
     "output_type": "stream",
     "text": [
      "3\n",
      "4\n",
      "6\n",
      "The largest number among 3.0 , 4.0 , and 6.0 is 6.0\n"
     ]
    }
   ],
   "source": [
    "# Nested If-Else Statements:\n",
    "\n",
    "# 11. Write a program to find the largest among three numbers using nested if-else statements.\n",
    "\n",
    "num1 = float(input())\n",
    "num2 = float(input())\n",
    "num3 = float(input())\n",
    "\n",
    "if num1 >= num2:\n",
    "    if num1 >= num3:\n",
    "        largest = num1\n",
    "    else:\n",
    "        largest = num3\n",
    "else:\n",
    "    if num2 >= num3:\n",
    "        largest = num2\n",
    "    else:\n",
    "        largest = num3\n",
    "print(\"The largest number among\", num1, \",\", num2, \", and\", num3, \"is\", largest)\n"
   ]
  },
  {
   "cell_type": "code",
   "execution_count": 5,
   "id": "a30d2976",
   "metadata": {},
   "outputs": [
    {
     "name": "stdout",
     "output_type": "stream",
     "text": [
      "1\n",
      "2\n",
      "1\n",
      "Triangle Type is:  Isosceles\n"
     ]
    }
   ],
   "source": [
    "# 12. Implement a program to determine if a triangle is equilateral, isosceles, or scalene.\n",
    "\n",
    "\n",
    "side1 = float(input())\n",
    "side2 = float(input())\n",
    "side3 = float(input())\n",
    "\n",
    "if side1 == side2 == side3:\n",
    "    triangle_type = 'Equilateral'\n",
    "elif side1 == side2 or side1 == side3 or side2 == side3:\n",
    "    triangle_type = 'Isosceles'\n",
    "else:\n",
    "    triangle_type = 'Scalene'\n",
    "print('Triangle Type is: ', triangle_type)"
   ]
  },
  {
   "cell_type": "code",
   "execution_count": 43,
   "id": "5833b3b2",
   "metadata": {},
   "outputs": [
    {
     "name": "stdout",
     "output_type": "stream",
     "text": [
      "1992\n",
      "1992 is a leap year\n",
      "1992 is not a century year\n"
     ]
    }
   ],
   "source": [
    "# 13. Develop a program that checks if a year is a leap year and also if it is a century year.\n",
    "\n",
    "year = int(input())\n",
    "\n",
    "\n",
    "if year % 4 == 0:\n",
    "    if year % 100 == 0:\n",
    "        if year % 400 == 0:\n",
    "            is_leap_year = True\n",
    "        else:\n",
    "            is_leap_year = False\n",
    "    else:\n",
    "        is_leap_year = True\n",
    "else:\n",
    "    is_leap_year = False\n",
    "\n",
    "is_century_year = year % 100 == 0\n",
    "\n",
    "if is_leap_year:\n",
    "    print(year, 'is a leap year')\n",
    "else:\n",
    "    print(year, 'is not a leap year')\n",
    "if is_century_year:\n",
    "    print(year, 'is a century year')\n",
    "else:\n",
    "    print(year, 'is not a century year')"
   ]
  },
  {
   "cell_type": "code",
   "execution_count": 47,
   "id": "a65a2914",
   "metadata": {},
   "outputs": [
    {
     "name": "stdout",
     "output_type": "stream",
     "text": [
      "2\n",
      "num is positive\n"
     ]
    }
   ],
   "source": [
    "# 14. Write a Python script to determine if a number is positive, negative, or zero.\n",
    "\n",
    "\n",
    "n = int(input())\n",
    "\n",
    "if n < 0:\n",
    "    print('num is negative')\n",
    "elif n == 0:\n",
    "    print('num is zero')\n",
    "else:\n",
    "    print('num is positive')"
   ]
  },
  {
   "cell_type": "code",
   "execution_count": 51,
   "id": "5f518b28",
   "metadata": {},
   "outputs": [
    {
     "name": "stdout",
     "output_type": "stream",
     "text": [
      "99\n",
      "you are an adult\n"
     ]
    }
   ],
   "source": [
    "# 15. Create a program to check if a person is a teenager (between 13 and 19 years old).\n",
    "\n",
    "age = int(input())\n",
    "\n",
    "if 0 <= age < 13:\n",
    "    print('You are a kid')\n",
    "elif 13 <= age <= 19:\n",
    "    print('You are a teenager')\n",
    "else:\n",
    "    print('you are an adult')"
   ]
  },
  {
   "cell_type": "code",
   "execution_count": 54,
   "id": "c0ceb8bc",
   "metadata": {},
   "outputs": [
    {
     "name": "stdout",
     "output_type": "stream",
     "text": [
      "67\n",
      "Acute angle\n"
     ]
    }
   ],
   "source": [
    "# 16. Develop a program that determines the type of angle based on its measure (acute, obtuse, or right).\n",
    "\n",
    "angle = float(input())\n",
    "\n",
    "if angle < 0:\n",
    "    print('Invalid angle')\n",
    "\n",
    "elif 0 <= angle < 90:\n",
    "    print('Acute angle')\n",
    "elif angle == 90:\n",
    "    print('Right Angle')\n",
    "else:\n",
    "    \n",
    "    print('Obtuse Angle')"
   ]
  },
  {
   "cell_type": "code",
   "execution_count": 55,
   "id": "058f2f51",
   "metadata": {},
   "outputs": [
    {
     "name": "stdout",
     "output_type": "stream",
     "text": [
      "Enter the coefficient 'a': 2\n",
      "Enter the coefficient 'b': 3\n",
      "Enter the coefficient 'c': 4\n",
      "Complex Root 1: -0.75 + 1.1989578808281798 i\n",
      "Complex Root 2: -0.75 - 1.1989578808281798 i\n"
     ]
    }
   ],
   "source": [
    "# 17. Write a Python program to calculate the roots of a quadratic equation.\n",
    "\n",
    "a = float(input(\"Enter the coefficient 'a': \"))\n",
    "b = float(input(\"Enter the coefficient 'b': \"))\n",
    "c = float(input(\"Enter the coefficient 'c': \"))\n",
    "\n",
    "discriminant = b**2 - 4*a*c\n",
    "\n",
    "if discriminant > 0:\n",
    "    root1 = (-b + discriminant**0.5) / (2*a)\n",
    "    root2 = (-b - discriminant**0.5) / (2*a)\n",
    "    print(\"Root 1:\", root1)\n",
    "    print(\"Root 2:\", root2)\n",
    "elif discriminant == 0:\n",
    "    \n",
    "    root = -b / (2*a)\n",
    "    print(\"Root:\", root)\n",
    "else:\n",
    "    \n",
    "    real_part = -b / (2*a)\n",
    "    imaginary_part = (abs(discriminant)**0.5) / (2*a)\n",
    "    print(\"Complex Root 1:\", real_part, \"+\", imaginary_part, \"i\")\n",
    "    print(\"Complex Root 2:\", real_part, \"-\", imaginary_part, \"i\")\n"
   ]
  },
  {
   "cell_type": "code",
   "execution_count": 57,
   "id": "00bab8f4",
   "metadata": {},
   "outputs": [
    {
     "name": "stdout",
     "output_type": "stream",
     "text": [
      "enter a number(1 for monday, 2 for tuesday etc.)5\n",
      "The day corresponding to 5 is Friday\n"
     ]
    }
   ],
   "source": [
    "# 18. Implement a program to determine the day of the week based on a user-provided number (1 for Monday, 2\n",
    "#  for Tuesday, etc.)\n",
    "\n",
    "\n",
    "day_number = int(input('enter a number(1 for monday, 2 for tuesday etc.)'))\n",
    "\n",
    "\n",
    "days_of_the_week = ['Monday', 'Tuesday', 'Wednesday', 'Thursday', 'Friday', 'Saturday', 'Sunday']\n",
    "\n",
    "if 1 <= day_number <= 7:\n",
    "    day = days_of_the_week[day_number - 1]\n",
    "    print(\"The day corresponding to\", day_number, \"is\", day)\n",
    "else:\n",
    "    print(\"Invalid input. Please enter a number between 1 and 7.\")\n"
   ]
  },
  {
   "cell_type": "code",
   "execution_count": 59,
   "id": "787e781c",
   "metadata": {},
   "outputs": [
    {
     "name": "stdout",
     "output_type": "stream",
     "text": [
      "1992\n",
      "Year is a leap year and is evenly divisible by 400\n"
     ]
    }
   ],
   "source": [
    "# 19. Create a program that determines if a year is a leap year and also if it is evenly divisible by 400.\n",
    "\n",
    "\n",
    "year = int(input())\n",
    "\n",
    "if (year % 4 == 0 and year % 100 != 0) or (year % 400 == 0):\n",
    "    print('Year is a leap year and is evenly divisible by 400')\n",
    "else:\n",
    "    print('Year is not a leap year')\n",
    "        "
   ]
  },
  {
   "cell_type": "code",
   "execution_count": 75,
   "id": "75e95f5e",
   "metadata": {},
   "outputs": [
    {
     "name": "stdout",
     "output_type": "stream",
     "text": [
      "333\n",
      "333 is not a prime number\n"
     ]
    }
   ],
   "source": [
    "# 20. Develop a program that checks if a given number is prime or not using nested if-else statements.\n",
    "\n",
    "n = int(input())\n",
    "\n",
    "if n > 1:\n",
    "    is_prime = True\n",
    "    for i in range(2, n):\n",
    "        if (n % i) == 0:\n",
    "            is_prime = False\n",
    "            break\n",
    "else:\n",
    "    is_prime = False\n",
    "\n",
    "if is_prime:\n",
    "    print(n, 'is a prime number')\n",
    "else:\n",
    "    print(n, 'is not a prime number')\n",
    "        "
   ]
  },
  {
   "cell_type": "code",
   "execution_count": 78,
   "id": "122606a9",
   "metadata": {},
   "outputs": [
    {
     "name": "stdout",
     "output_type": "stream",
     "text": [
      "Enter the student's score 56\n",
      "The student's grade is F\n"
     ]
    }
   ],
   "source": [
    "# Elif Statements:\n",
    "\n",
    "\n",
    "# 21. Write a Python program to assign grades based on different ranges of scores using elif statements.\n",
    "\n",
    "score = float(input(\"Enter the student's score \"))\n",
    "\n",
    "if 90 <= score <= 100:\n",
    "    grade = 'A'\n",
    "\n",
    "elif 80 <= score <= 90:\n",
    "    grade = 'B'\n",
    "    \n",
    "elif 70 <= score <= 80:\n",
    "    grade = 'C'\n",
    "\n",
    "elif 60 <=score <=70:\n",
    "    grade = 'D'\n",
    "    \n",
    "\n",
    "elif 0 <= score <= 60:\n",
    "    grade = 'F'\n",
    "    \n",
    "else:\n",
    "    grade= 'Invalid(Score out of range)'\n",
    "\n",
    "print(f\"The student's grade is {grade}\")"
   ]
  },
  {
   "cell_type": "code",
   "execution_count": 81,
   "id": "f1d93974",
   "metadata": {},
   "outputs": [
    {
     "name": "stdout",
     "output_type": "stream",
     "text": [
      "Enter side1 3\n",
      "Enter side2 4\n",
      "Enter side3 5\n",
      "Triangle Type is:  Scalene\n"
     ]
    }
   ],
   "source": [
    "# 22. Implement a program to determine the type of a triangle based on its angles.\n",
    "\n",
    "side1 = float(input('Enter side1 '))\n",
    "side2 = float(input('Enter side2 '))\n",
    "side3 = float(input('Enter side3 '))\n",
    "\n",
    "if side1 == side2 == side3:\n",
    "    triangle_type = 'Equilateral'\n",
    "elif side1 == side2 or side1 == side3 or side2 == side3:\n",
    "    triangle_type = 'Isosceles'\n",
    "else:\n",
    "    triangle_type = 'Scalene'\n",
    "print('Triangle Type is: ', triangle_type)\n"
   ]
  },
  {
   "cell_type": "code",
   "execution_count": 84,
   "id": "eb8f69b3",
   "metadata": {},
   "outputs": [
    {
     "name": "stdout",
     "output_type": "stream",
     "text": [
      "Enter the person's weight23\n",
      "Enter the person's height3\n",
      "The person's BMI is 2.56, which is categorized as Underweight.\n"
     ]
    }
   ],
   "source": [
    "#23. Develop a program to categorize a given person's BMI into underweight, normal, overweight, or obese using\n",
    "#elif statements.\n",
    "\n",
    "\n",
    "weight = float(input(\"Enter the person's weight\"))\n",
    "height = float(input(\"Enter the person's height\"))\n",
    "\n",
    "bmi = weight/(height ** 2)\n",
    "\n",
    "if bmi < 18.5:\n",
    "    category = 'Underweight'\n",
    "elif 18.5 <= bmi < 24.9:\n",
    "    category = 'Normal(Healthy weight)'\n",
    "elif 25 <= bmi <= 29.9:\n",
    "    category = 'Overweight'\n",
    "else:\n",
    "    category = 'Obese'\n",
    "    \n",
    "print(f\"The person's BMI is {bmi:.2f}, which is categorized as {category}.\")"
   ]
  },
  {
   "cell_type": "code",
   "execution_count": null,
   "id": "9431e001",
   "metadata": {},
   "outputs": [],
   "source": [
    "#24. Create a program that determines whether a given number is positive, negative, or zero using elif\n",
    "#statements.\n",
    "\n",
    "\n",
    "n = int(input('Enter a number : '))\n",
    "\n",
    "\n",
    "if n  == 0:\n",
    "    print('Number is Zero')\n",
    "elif n > 0:\n",
    "    print('positive')\n",
    "else:\n",
    "    print('Negative')"
   ]
  },
  {
   "cell_type": "code",
   "execution_count": 91,
   "id": "be7dd234",
   "metadata": {},
   "outputs": [
    {
     "name": "stdout",
     "output_type": "stream",
     "text": [
      "Enter a character34\n",
      "The character 34 is a Digit.\n"
     ]
    }
   ],
   "source": [
    "#25. Write a Python script to determine the type of a character (uppercase, lowercase, or special) using elif\n",
    "#statements.\n",
    "\n",
    "char = input('Enter a character')\n",
    "\n",
    "if char.isalpha():\n",
    "    if char.isupper():\n",
    "        chartype = 'Uppercase Letter'\n",
    "    else:\n",
    "        chartype = 'Lowercase Letter'\n",
    "        \n",
    "elif char.isdigit():\n",
    "    chartype = 'Digit'\n",
    "\n",
    "else:\n",
    "    chartype = 'Special character'\n",
    "    \n",
    "print(f'The character {char} is a {chartype}.')"
   ]
  },
  {
   "cell_type": "code",
   "execution_count": 96,
   "id": "da220fbd",
   "metadata": {},
   "outputs": [
    {
     "name": "stdout",
     "output_type": "stream",
     "text": [
      "Enter an amount : 34\n",
      "Original Price: $34.00\n",
      "Discount Percentage: 0.0%\n",
      "Discounted Price: $34.00\n"
     ]
    }
   ],
   "source": [
    "#26. Implement a program to calculate the discounted price based on different purchase amounts using elif\n",
    "#statements.\n",
    "\n",
    "purchase_amount = float(input('Enter an amount : '))\n",
    "\n",
    "discount_percentage = 0.0\n",
    "\n",
    "if purchase_amount >= 1000:\n",
    "                        discount_percentage = 10\n",
    "\n",
    "                        \n",
    "elif purchase_amount >= 500:\n",
    "                        discount_percentage = 5\n",
    "\n",
    "elif purchase_amount >= 100:\n",
    "                        discount_percentage = 2\n",
    "                        \n",
    "discounted_price = purchase_amount - (purchase_amount * (discount_percentage / 100))\n",
    "\n",
    "print(f\"Original Price: ${purchase_amount:.2f}\")\n",
    "print(f\"Discount Percentage: {discount_percentage}%\")\n",
    "print(f\"Discounted Price: ${discounted_price:.2f}\")"
   ]
  },
  {
   "cell_type": "code",
   "execution_count": 100,
   "id": "6c0e1dec",
   "metadata": {},
   "outputs": [
    {
     "name": "stdout",
     "output_type": "stream",
     "text": [
      "Enter electricity consumption in kWh24\n",
      "Electricity Consumption: 24.0 kWh\n",
      "Electricity Rate per Unit: $2.50 per kWh\n",
      "Total Bill: $60.00\n"
     ]
    }
   ],
   "source": [
    "#27. Develop a program to calculate the electricity bill based on different consumption slabs using elif\n",
    "#statements.\n",
    "\n",
    "consumption = float(input('Enter electricity consumption in kWh'))\n",
    "\n",
    "rate_per_unit = 0.0\n",
    "total_bill = 0.0\n",
    "\n",
    "if consumption <= 50:\n",
    "    rate_per_unit = 2.50\n",
    "\n",
    "elif consumption <= 100:\n",
    "    rate_per_unit = 3.00\n",
    "\n",
    "elif consumption <= 200:\n",
    "    rate_per_unit = 3.50\n",
    "    \n",
    "elif consumption <= 300:\n",
    "    rate_per_unit = 4.00\n",
    "    \n",
    "else:\n",
    "    rate_per_unit = 4.50\n",
    "\n",
    "    \n",
    "total_bill = consumption * rate_per_unit\n",
    "\n",
    "\n",
    "print(f\"Electricity Consumption: {consumption} kWh\")\n",
    "print(f\"Electricity Rate per Unit: ${rate_per_unit:.2f} per kWh\")\n",
    "print(f\"Total Bill: ${total_bill:.2f}\")"
   ]
  },
  {
   "cell_type": "code",
   "execution_count": 105,
   "id": "a50b689d",
   "metadata": {},
   "outputs": [
    {
     "name": "stdout",
     "output_type": "stream",
     "text": [
      "Enter the first angle(in degrees:)90\n",
      "Enter the second angle(in degrees:)90\n",
      "Enter the third angle(in degrees:)90\n",
      "Enter the fourth angle(in degrees:)90\n",
      "Enter the length of side1(in cm:)3\n",
      "Enter the length of side2(in cm:)3\n",
      "Enter the length of side3(in cm:)3\n",
      "Enter the length of side4(in cm:)4\n"
     ]
    },
    {
     "data": {
      "text/plain": [
       "'The given quadrilateral is a quadrilateral'"
      ]
     },
     "execution_count": 105,
     "metadata": {},
     "output_type": "execute_result"
    }
   ],
   "source": [
    "## 28. Create a program to determine the type of quadrilateral based on its angles and sides using elif\n",
    "# statements.\n",
    "\n",
    "\n",
    "\n",
    "angle1 = float(input('Enter the first angle(in degrees:)'))\n",
    "angle2 = float(input('Enter the second angle(in degrees:)'))\n",
    "angle3 = float(input('Enter the third angle(in degrees:)'))\n",
    "angle4 = float(input('Enter the fourth angle(in degrees:)'))\n",
    "side1 = float(input('Enter the length of side1(in cm:)'))\n",
    "side2 = float(input('Enter the length of side2(in cm:)'))\n",
    "side3 = float(input('Enter the length of side3(in cm:)'))\n",
    "side4 = float(input('Enter the length of side4(in cm:)'))\n",
    "\n",
    "if angle1 == angle2 == angle3 == angle4 == 90:\n",
    "    if side1 == side2 == side3 == side4:\n",
    "        quadrilateral_type = 'square'\n",
    "    elif side1 == side3 and side2 == side4:\n",
    "            quadrilateral_type = 'rectangle'\n",
    "    else:\n",
    "        quadrilateral_type = 'quadrilateral'\n",
    "elif angle1 == angle3 and angle2 == angle4:\n",
    "    if side1 == side3 and side2 == side4:\n",
    "        quadrilateral_type = 'rhombus'\n",
    "    else:\n",
    "        quadrilateral_type = 'paralellogram'\n",
    "else:\n",
    "    quadrilateral_type = 'quadrilateral'\n",
    "\n",
    "f'The given quadrilateral is a {quadrilateral_type}'"
   ]
  },
  {
   "cell_type": "code",
   "execution_count": 115,
   "id": "c46e4765",
   "metadata": {},
   "outputs": [
    {
     "name": "stdout",
     "output_type": "stream",
     "text": [
      "Enter a monthh\n",
      "The season for H is Invalid Month.\n"
     ]
    }
   ],
   "source": [
    "# 29. Write a Python script to determine the season based on a user-provided month using elif statements.\n",
    "\n",
    "\n",
    "\n",
    "month = input('Enter a month').lower()\n",
    "\n",
    "if month in ['december', 'january', 'february']:\n",
    "    season = 'Winter'\n",
    "elif month in ['march', 'april', 'may']:\n",
    "    season = 'spring'\n",
    "elif month in ['june', 'july', 'august']:\n",
    "    season = 'summer'\n",
    "elif month in ['september', 'october', 'november']:\n",
    "    season = 'Fall(Autumn)'\n",
    "else:\n",
    "    season == 'Invalid month'\n",
    "\n",
    "print(f'The season for {month.capitalize()} is {season}.' )"
   ]
  },
  {
   "cell_type": "code",
   "execution_count": 112,
   "id": "1476277e",
   "metadata": {},
   "outputs": [
    {
     "name": "stdout",
     "output_type": "stream",
     "text": [
      "Enter a month: 9\n",
      "The season for 9 is Invalid Month.\n"
     ]
    }
   ],
   "source": [
    "# Input the month from the user as a string\n",
    "month = input(\"Enter a month: \").lower()  # Convert to lowercase for case-insensitive comparison\n",
    "\n",
    "# Determine the season based on the month using elif statements\n",
    "if month in [\"december\", \"january\", \"february\"]:\n",
    "    season = \"Winter\"\n",
    "elif month in [\"march\", \"april\", \"may\"]:\n",
    "    season = \"Spring\"\n",
    "elif month in [\"june\", \"july\", \"august\"]:\n",
    "    season = \"Summer\"\n",
    "elif month in [\"september\", \"october\", \"november\"]:\n",
    "    season = \"Fall (Autumn)\"\n",
    "else:\n",
    "    season = \"Invalid Month\"\n",
    "\n",
    "# Print the determined season\n",
    "print(f\"The season for {month.capitalize()} is {season}.\")\n"
   ]
  },
  {
   "cell_type": "code",
   "execution_count": 122,
   "id": "aa322e6b",
   "metadata": {},
   "outputs": [
    {
     "name": "stdout",
     "output_type": "stream",
     "text": [
      "Enter a year: 333\n",
      "Enter a month (1-12): 4\n",
      "The year 333 is a Common Year.\n",
      "The month 4 has 30 days.\n"
     ]
    }
   ],
   "source": [
    "# 30. Implement a program to determine the type of a year (leap or common) and month (30 or 31 days) using\n",
    "# elif statements.\n",
    "\n",
    "\n",
    "year = int(input(\"Enter a year: \"))\n",
    "month = int(input(\"Enter a month (1-12): \"))\n",
    "\n",
    "if (year % 4 == 0 and year % 100 != 0) or (year % 400 == 0):\n",
    "    is_leap_year = True\n",
    "    \n",
    "else:\n",
    "    is_leap_year = False\n",
    "if month == 2:\n",
    "    if is_leap_year == True:\n",
    "        days_in_month = 29\n",
    "    else:\n",
    "        days_in_month = 28\n",
    "elif month in [4, 6, 9, 11]:\n",
    "    days_in_month = 30\n",
    "else:\n",
    "    days_in_month = 31\n",
    "\n",
    "if is_leap_year:\n",
    "    year_type = 'Leap Year'\n",
    "else:\n",
    "    year_type = 'Common Year'\n",
    "    \n",
    "print(f\"The year {year} is a {year_type}.\")\n",
    "print(f\"The month {month} has {days_in_month} days.\")"
   ]
  },
  {
   "cell_type": "code",
   "execution_count": 125,
   "id": "445049a0",
   "metadata": {},
   "outputs": [
    {
     "name": "stdout",
     "output_type": "stream",
     "text": [
      "-1\n",
      "negative\n"
     ]
    }
   ],
   "source": [
    "# Basic Level:\n",
    "\n",
    "# 1. Write a Python program that checks if a given number is positive, negative, or zero.\n",
    "\n",
    "\n",
    "n = int(input())\n",
    "\n",
    "\n",
    "if n < 0:\n",
    "    print('negative')\n",
    "elif n > 0:\n",
    "    print('positive')\n",
    "else:\n",
    "    print('Number is zero')"
   ]
  },
  {
   "cell_type": "code",
   "execution_count": 126,
   "id": "bc0d7af2",
   "metadata": {},
   "outputs": [
    {
     "name": "stdout",
     "output_type": "stream",
     "text": [
      "Enter your age: 19\n",
      "You are eligible to vote!\n"
     ]
    }
   ],
   "source": [
    "# 2. Create a program to determine if a person is eligible to vote based on their age.\n",
    "\n",
    "\n",
    "# Input the person's age\n",
    "age = int(input(\"Enter your age: \"))\n",
    "\n",
    "# Check if the person is eligible to vote\n",
    "if age >= 18:\n",
    "    print(\"You are eligible to vote!\")\n",
    "else:\n",
    "    print(\"You are not eligible to vote.\")"
   ]
  },
  {
   "cell_type": "code",
   "execution_count": 129,
   "id": "1dc58df2",
   "metadata": {},
   "outputs": [
    {
     "name": "stdout",
     "output_type": "stream",
     "text": [
      "Enter the first number: 99\n",
      "Enter the second number: 99\n",
      "The maximum of 99.0 and 99.0 is 99.0\n"
     ]
    }
   ],
   "source": [
    "# Input two numbers\n",
    "num1 = float(input(\"Enter the first number: \"))\n",
    "num2 = float(input(\"Enter the second number: \"))\n",
    "\n",
    "# Find the maximum using conditional statements\n",
    "if num1 > num2:\n",
    "    maximum = num1\n",
    "else:\n",
    "    maximum = num2\n",
    "\n",
    "# Print the maximum number\n",
    "print(\"The maximum of\", num1, \"and\", num2, \"is\", maximum)\n"
   ]
  },
  {
   "cell_type": "code",
   "execution_count": 131,
   "id": "575ae690",
   "metadata": {},
   "outputs": [
    {
     "name": "stdout",
     "output_type": "stream",
     "text": [
      "Enter a score: 11\n",
      "The student's grade is F\n"
     ]
    }
   ],
   "source": [
    "# 4. Develop a program that calculates the grade of a student based on their exam score.\n",
    "\n",
    "\n",
    "score = float(input('Enter a score: '))\n",
    "\n",
    "if 90 <= score <= 100:\n",
    "    grade =  'A'\n",
    "elif 80 <= score <= 90:\n",
    "    grade =  'B'\n",
    "elif 70 <= score <= 80:\n",
    "    grade = 'C'\n",
    "elif 60 <= score <= 70:\n",
    "    grade  = 'D'\n",
    "elif 0 <= score < 60:\n",
    "    grade = 'F'\n",
    "else:\n",
    "    grade = 'Invalid (score out of range)'\n",
    "    \n",
    "print(f\"The student's grade is {grade}\")"
   ]
  },
  {
   "cell_type": "code",
   "execution_count": 133,
   "id": "aa5f0048",
   "metadata": {},
   "outputs": [
    {
     "name": "stdout",
     "output_type": "stream",
     "text": [
      "Enter a year1111\n",
      "Year is not a leap year\n"
     ]
    }
   ],
   "source": [
    "# 5. Create a program that checks if a year is a leap year or not.\n",
    "\n",
    "year = int(input('Enter a year'))\n",
    "\n",
    "if (year % 4 == 0 and year % 100 != 0) or (year % 400 == 0):\n",
    "    print('Year is a leap year')\n",
    "else:\n",
    "    print('Year is not a leap year')"
   ]
  },
  {
   "cell_type": "code",
   "execution_count": 137,
   "id": "d726cfb7",
   "metadata": {},
   "outputs": [
    {
     "name": "stdout",
     "output_type": "stream",
     "text": [
      "22\n",
      "Acute angle\n"
     ]
    }
   ],
   "source": [
    "# 6. Write a program to classify a triangle based on its sides' lengths.\n",
    "\n",
    "angle = float(input())\n",
    "if angle < 0:\n",
    "    print('Invalid angle')\n",
    "\n",
    "elif 0 <= angle < 90:\n",
    "    print('Acute angle')\n",
    "elif angle == 90:\n",
    "    print('Right Angle')\n",
    "else:\n",
    "    \n",
    "    print('Obtuse Angle')\n",
    "\n"
   ]
  },
  {
   "cell_type": "code",
   "execution_count": 139,
   "id": "9e39a37d",
   "metadata": {},
   "outputs": [
    {
     "name": "stdout",
     "output_type": "stream",
     "text": [
      "enter first number1\n",
      "enter second number2\n",
      "enter third number3\n",
      "3.0\n"
     ]
    }
   ],
   "source": [
    "# 7. Build a program that determines the largest of three given numbers.\n",
    "\n",
    "num1 = float(input('enter first number'))\n",
    "num2 = float(input('enter second number'))\n",
    "num3 = float(input('enter third number'))\n",
    "\n",
    "if num1 >= num2 and num1 >= num3:\n",
    "    largest = num1\n",
    "elif num2 > num1 and num2 >= num3:\n",
    "    largest = num2\n",
    "else:\n",
    "    largest = num3\n",
    "print(largest)"
   ]
  },
  {
   "cell_type": "markdown",
   "id": "1f23715e",
   "metadata": {},
   "source": [
    "<!--  -->"
   ]
  },
  {
   "cell_type": "code",
   "execution_count": 141,
   "id": "c9e55cef",
   "metadata": {},
   "outputs": [
    {
     "name": "stdout",
     "output_type": "stream",
     "text": [
      "Enter a characterr\n",
      "r is a consonant\n"
     ]
    }
   ],
   "source": [
    "# 8. Develop a program that checks whether a character is a vowel or a consonant.\n",
    "\n",
    "char = input('Enter a character')\n",
    "\n",
    "char.lower()\n",
    "\n",
    "if len(char) == 1 and char.isalpha():\n",
    "    if char in 'aeiou':\n",
    "        print(char , 'is a vowel')\n",
    "    else:\n",
    "        print(char , 'is a consonant')\n",
    "else:\n",
    "    print('Please enter a single alphabet character')\n"
   ]
  },
  {
   "cell_type": "code",
   "execution_count": 143,
   "id": "a0daa5df",
   "metadata": {},
   "outputs": [
    {
     "name": "stdout",
     "output_type": "stream",
     "text": [
      "Shopping Cart:\n",
      "Price: $10.00 x Quantity: 2 = Subtotal: $20.00\n",
      "Price: $20.00 x Quantity: 3 = Subtotal: $60.00\n",
      "Price: $30.00 x Quantity: 1 = Subtotal: $30.00\n",
      "Price: $40.00 x Quantity: 4 = Subtotal: $160.00\n",
      "Total Cost Before Discounts: $270.00\n",
      "Discount Applied: $27.00\n",
      "Total Cost After Discounts: $243.00\n"
     ]
    }
   ],
   "source": [
    "# 9. Create a program to calculate the total cost of a shopping cart based on discounts.\n",
    "\n",
    "# Input the item prices and quantities in the shopping cart\n",
    "item_prices = [10.0, 20.0, 30.0, 40.0]  # Example prices\n",
    "item_quantities = [2, 3, 1, 4]  # Example quantities\n",
    "\n",
    "# Calculate the total cost before discounts\n",
    "total_cost_before_discounts = sum(price * quantity for price, quantity in zip(item_prices, item_quantities))\n",
    "\n",
    "# Calculate the discount based on the total cost\n",
    "discount = 0.0\n",
    "if total_cost_before_discounts >= 100:\n",
    "    discount = 0.1 * total_cost_before_discounts\n",
    "elif total_cost_before_discounts >= 50:\n",
    "    discount = 0.05 * total_cost_before_discounts\n",
    "\n",
    "# Calculate the total cost after applying the discount\n",
    "total_cost_after_discounts = total_cost_before_discounts - discount\n",
    "\n",
    "# Print the results\n",
    "print(\"Shopping Cart:\")\n",
    "for price, quantity in zip(item_prices, item_quantities):\n",
    "    print(f\"Price: ${price:.2f} x Quantity: {quantity} = Subtotal: ${price * quantity:.2f}\")\n",
    "print(f\"Total Cost Before Discounts: ${total_cost_before_discounts:.2f}\")\n",
    "print(f\"Discount Applied: ${discount:.2f}\")\n",
    "print(f\"Total Cost After Discounts: ${total_cost_after_discounts:.2f}\")\n",
    "\n"
   ]
  },
  {
   "cell_type": "code",
   "execution_count": 146,
   "id": "b380d382",
   "metadata": {},
   "outputs": [
    {
     "name": "stdout",
     "output_type": "stream",
     "text": [
      "Enter a number: 22\n",
      "The num is even\n"
     ]
    }
   ],
   "source": [
    "# 10. Write a program that checks if a given number is even or odd.\n",
    "\n",
    "n = int(input('Enter a number: '))\n",
    "\n",
    "if n % 2 == 0:\n",
    "    print('The num is even')\n",
    "else:\n",
    "    print('The num is odd')\n"
   ]
  },
  {
   "cell_type": "code",
   "execution_count": 148,
   "id": "b7c89376",
   "metadata": {},
   "outputs": [
    {
     "name": "stdout",
     "output_type": "stream",
     "text": [
      "Enter the coefficient 'a': 6\n",
      "Enter the coefficient 'b': 7\n",
      "Enter the coefficient 'c': 8\n",
      "Complex Root 1: -0.5833333333333334 + 0.9965217285917832 i\n",
      "Complex Root 2: -0.5833333333333334 - 0.9965217285917832 i\n"
     ]
    }
   ],
   "source": [
    "# Intermediate Level:\n",
    "# 11. Write a program that calculates the roots of a quadratic equation .\n",
    "\n",
    "\n",
    "a = float(input(\"Enter the coefficient 'a': \"))\n",
    "b = float(input(\"Enter the coefficient 'b': \"))\n",
    "c = float(input(\"Enter the coefficient 'c': \"))\n",
    "\n",
    "discriminant = b**2 - 4*a*c\n",
    "\n",
    "if discriminant > 0:\n",
    "    root1 = (-b + discriminant**0.5) / (2*a)\n",
    "    root2 = (-b - discriminant**0.5) / (2*a)\n",
    "    print(\"Root 1:\", root1)\n",
    "    print(\"Root 2:\", root2)\n",
    "elif discriminant == 0:\n",
    "    \n",
    "    root = -b / (2*a)\n",
    "    print(\"Root:\", root)\n",
    "else:\n",
    "    \n",
    "    real_part = -b / (2*a)\n",
    "    imaginary_part = (abs(discriminant)**0.5) / (2*a)\n",
    "    print(\"Complex Root 1:\", real_part, \"+\", imaginary_part, \"i\")\n",
    "    print(\"Complex Root 2:\", real_part, \"-\", imaginary_part, \"i\")"
   ]
  },
  {
   "cell_type": "code",
   "execution_count": 149,
   "id": "116fe5f9",
   "metadata": {},
   "outputs": [
    {
     "name": "stdout",
     "output_type": "stream",
     "text": [
      "Enter the day number (1-7): 2\n",
      "Day 2 is Monday.\n"
     ]
    }
   ],
   "source": [
    "# 12. Create a program that determines the day of the week based on the day number (1-7).\n",
    "\n",
    "# Input the day number (1-7)\n",
    "day_number = int(input(\"Enter the day number (1-7): \"))\n",
    "\n",
    "# Define a list of day names\n",
    "day_names = [\"Sunday\", \"Monday\", \"Tuesday\", \"Wednesday\", \"Thursday\", \"Friday\", \"Saturday\"]\n",
    "\n",
    "# Check if the day number is valid\n",
    "if 1 <= day_number <= 7:\n",
    "    day_name = day_names[day_number - 1]  \n",
    "    print(f\"Day {day_number} is {day_name}.\")\n",
    "else:\n",
    "    print(\"Invalid day number. Please enter a number between 1 and 7.\")\n",
    "\n"
   ]
  },
  {
   "cell_type": "code",
   "execution_count": 150,
   "id": "e8d6da56",
   "metadata": {},
   "outputs": [
    {
     "name": "stdout",
     "output_type": "stream",
     "text": [
      "Enter a non-negative integer: 4\n",
      "4! = 24\n"
     ]
    }
   ],
   "source": [
    "# 13. Develop a program that calculates the factorial of a given number using recursion.\n",
    "\n",
    "# Recursive function to calculate the factorial of a number\n",
    "def factorial(n):\n",
    "    if n == 0:\n",
    "        return 1  # Base case: 0! is 1\n",
    "    else:\n",
    "        return n * factorial(n - 1)  # Recursive case: n! = n * (n-1)!\n",
    "\n",
    "# Input the number for which you want to calculate the factorial\n",
    "num = int(input(\"Enter a non-negative integer: \"))\n",
    "\n",
    "# Check if the input is a non-negative integer\n",
    "if num < 0:\n",
    "    print(\"Factorial is undefined for negative numbers.\")\n",
    "else:\n",
    "    result = factorial(num)\n",
    "    print(f\"{num}! = {result}\")\n"
   ]
  },
  {
   "cell_type": "code",
   "execution_count": 151,
   "id": "ea0c1773",
   "metadata": {},
   "outputs": [
    {
     "name": "stdout",
     "output_type": "stream",
     "text": [
      "Enter the first number: 3\n",
      "Enter the second number: 5\n",
      "Enter the third number: 6\n",
      "The largest number among 3.0 , 5.0 , and 6.0 is 6.0\n"
     ]
    }
   ],
   "source": [
    "# 14. Write a program to find the largest among three numbers without using the `max()` function.\n",
    "\n",
    "\n",
    "# Input three numbers\n",
    "num1 = float(input(\"Enter the first number: \"))\n",
    "num2 = float(input(\"Enter the second number: \"))\n",
    "num3 = float(input(\"Enter the third number: \"))\n",
    "\n",
    "# Find the largest number using conditional statements\n",
    "if num1 >= num2 and num1 >= num3:\n",
    "    largest = num1\n",
    "elif num2 >= num1 and num2 >= num3:\n",
    "    largest = num2\n",
    "else:\n",
    "    largest = num3\n",
    "\n",
    "# Print the largest number\n",
    "print(\"The largest number among\", num1, \",\", num2, \", and\", num3, \"is\", largest)"
   ]
  },
  {
   "cell_type": "code",
   "execution_count": 152,
   "id": "0a52bfb0",
   "metadata": {},
   "outputs": [
    {
     "name": "stdout",
     "output_type": "stream",
     "text": [
      "\n",
      "ATM Menu:\n",
      "1. Display Balance\n",
      "2. Deposit Money\n",
      "3. Withdraw Money\n",
      "4. Exit\n",
      "Enter your choice (1/2/3/4): 5\n",
      "Invalid choice. Please select a valid option (1/2/3/4).\n",
      "\n",
      "ATM Menu:\n",
      "1. Display Balance\n",
      "2. Deposit Money\n",
      "3. Withdraw Money\n",
      "4. Exit\n",
      "Enter your choice (1/2/3/4): 9\n",
      "Invalid choice. Please select a valid option (1/2/3/4).\n",
      "\n",
      "ATM Menu:\n",
      "1. Display Balance\n",
      "2. Deposit Money\n",
      "3. Withdraw Money\n",
      "4. Exit\n",
      "Enter your choice (1/2/3/4): 3\n",
      "Enter the amount to withdraw: $600\n",
      "$600.00 has been withdrawn from your account.\n",
      "Your account balance is: $400.00\n",
      "\n",
      "ATM Menu:\n",
      "1. Display Balance\n",
      "2. Deposit Money\n",
      "3. Withdraw Money\n",
      "4. Exit\n"
     ]
    },
    {
     "ename": "KeyboardInterrupt",
     "evalue": "Interrupted by user",
     "output_type": "error",
     "traceback": [
      "\u001b[1;31m---------------------------------------------------------------------------\u001b[0m",
      "\u001b[1;31mKeyboardInterrupt\u001b[0m                         Traceback (most recent call last)",
      "Cell \u001b[1;32mIn[152], line 38\u001b[0m\n\u001b[0;32m     35\u001b[0m \u001b[38;5;28mprint\u001b[39m(\u001b[38;5;124m\"\u001b[39m\u001b[38;5;124m3. Withdraw Money\u001b[39m\u001b[38;5;124m\"\u001b[39m)\n\u001b[0;32m     36\u001b[0m \u001b[38;5;28mprint\u001b[39m(\u001b[38;5;124m\"\u001b[39m\u001b[38;5;124m4. Exit\u001b[39m\u001b[38;5;124m\"\u001b[39m)\n\u001b[1;32m---> 38\u001b[0m choice \u001b[38;5;241m=\u001b[39m \u001b[38;5;28;43minput\u001b[39;49m\u001b[43m(\u001b[49m\u001b[38;5;124;43m\"\u001b[39;49m\u001b[38;5;124;43mEnter your choice (1/2/3/4): \u001b[39;49m\u001b[38;5;124;43m\"\u001b[39;49m\u001b[43m)\u001b[49m\n\u001b[0;32m     40\u001b[0m \u001b[38;5;28;01mif\u001b[39;00m choice \u001b[38;5;241m==\u001b[39m \u001b[38;5;124m'\u001b[39m\u001b[38;5;124m1\u001b[39m\u001b[38;5;124m'\u001b[39m:\n\u001b[0;32m     41\u001b[0m     display_balance()\n",
      "File \u001b[1;32m~\\anaconda3\\lib\\site-packages\\ipykernel\\kernelbase.py:1175\u001b[0m, in \u001b[0;36mKernel.raw_input\u001b[1;34m(self, prompt)\u001b[0m\n\u001b[0;32m   1171\u001b[0m \u001b[38;5;28;01mif\u001b[39;00m \u001b[38;5;129;01mnot\u001b[39;00m \u001b[38;5;28mself\u001b[39m\u001b[38;5;241m.\u001b[39m_allow_stdin:\n\u001b[0;32m   1172\u001b[0m     \u001b[38;5;28;01mraise\u001b[39;00m StdinNotImplementedError(\n\u001b[0;32m   1173\u001b[0m         \u001b[38;5;124m\"\u001b[39m\u001b[38;5;124mraw_input was called, but this frontend does not support input requests.\u001b[39m\u001b[38;5;124m\"\u001b[39m\n\u001b[0;32m   1174\u001b[0m     )\n\u001b[1;32m-> 1175\u001b[0m \u001b[38;5;28;01mreturn\u001b[39;00m \u001b[38;5;28;43mself\u001b[39;49m\u001b[38;5;241;43m.\u001b[39;49m\u001b[43m_input_request\u001b[49m\u001b[43m(\u001b[49m\n\u001b[0;32m   1176\u001b[0m \u001b[43m    \u001b[49m\u001b[38;5;28;43mstr\u001b[39;49m\u001b[43m(\u001b[49m\u001b[43mprompt\u001b[49m\u001b[43m)\u001b[49m\u001b[43m,\u001b[49m\n\u001b[0;32m   1177\u001b[0m \u001b[43m    \u001b[49m\u001b[38;5;28;43mself\u001b[39;49m\u001b[38;5;241;43m.\u001b[39;49m\u001b[43m_parent_ident\u001b[49m\u001b[43m[\u001b[49m\u001b[38;5;124;43m\"\u001b[39;49m\u001b[38;5;124;43mshell\u001b[39;49m\u001b[38;5;124;43m\"\u001b[39;49m\u001b[43m]\u001b[49m\u001b[43m,\u001b[49m\n\u001b[0;32m   1178\u001b[0m \u001b[43m    \u001b[49m\u001b[38;5;28;43mself\u001b[39;49m\u001b[38;5;241;43m.\u001b[39;49m\u001b[43mget_parent\u001b[49m\u001b[43m(\u001b[49m\u001b[38;5;124;43m\"\u001b[39;49m\u001b[38;5;124;43mshell\u001b[39;49m\u001b[38;5;124;43m\"\u001b[39;49m\u001b[43m)\u001b[49m\u001b[43m,\u001b[49m\n\u001b[0;32m   1179\u001b[0m \u001b[43m    \u001b[49m\u001b[43mpassword\u001b[49m\u001b[38;5;241;43m=\u001b[39;49m\u001b[38;5;28;43;01mFalse\u001b[39;49;00m\u001b[43m,\u001b[49m\n\u001b[0;32m   1180\u001b[0m \u001b[43m\u001b[49m\u001b[43m)\u001b[49m\n",
      "File \u001b[1;32m~\\anaconda3\\lib\\site-packages\\ipykernel\\kernelbase.py:1217\u001b[0m, in \u001b[0;36mKernel._input_request\u001b[1;34m(self, prompt, ident, parent, password)\u001b[0m\n\u001b[0;32m   1214\u001b[0m             \u001b[38;5;28;01mbreak\u001b[39;00m\n\u001b[0;32m   1215\u001b[0m \u001b[38;5;28;01mexcept\u001b[39;00m \u001b[38;5;167;01mKeyboardInterrupt\u001b[39;00m:\n\u001b[0;32m   1216\u001b[0m     \u001b[38;5;66;03m# re-raise KeyboardInterrupt, to truncate traceback\u001b[39;00m\n\u001b[1;32m-> 1217\u001b[0m     \u001b[38;5;28;01mraise\u001b[39;00m \u001b[38;5;167;01mKeyboardInterrupt\u001b[39;00m(\u001b[38;5;124m\"\u001b[39m\u001b[38;5;124mInterrupted by user\u001b[39m\u001b[38;5;124m\"\u001b[39m) \u001b[38;5;28;01mfrom\u001b[39;00m \u001b[38;5;28;01mNone\u001b[39;00m\n\u001b[0;32m   1218\u001b[0m \u001b[38;5;28;01mexcept\u001b[39;00m \u001b[38;5;167;01mException\u001b[39;00m:\n\u001b[0;32m   1219\u001b[0m     \u001b[38;5;28mself\u001b[39m\u001b[38;5;241m.\u001b[39mlog\u001b[38;5;241m.\u001b[39mwarning(\u001b[38;5;124m\"\u001b[39m\u001b[38;5;124mInvalid Message:\u001b[39m\u001b[38;5;124m\"\u001b[39m, exc_info\u001b[38;5;241m=\u001b[39m\u001b[38;5;28;01mTrue\u001b[39;00m)\n",
      "\u001b[1;31mKeyboardInterrupt\u001b[0m: Interrupted by user"
     ]
    }
   ],
   "source": [
    "# 15. Create a program that simulates a basic ATM transaction menu.\n",
    "\n",
    "\n",
    "# Initialize the account balance\n",
    "account_balance = 1000.0\n",
    "\n",
    "# Define a function to display the account balance\n",
    "def display_balance():\n",
    "    print(f\"Your account balance is: ${account_balance:.2f}\")\n",
    "\n",
    "# Define a function to deposit money\n",
    "def deposit():\n",
    "    global account_balance\n",
    "    amount = float(input(\"Enter the amount to deposit: $\"))\n",
    "    account_balance += amount\n",
    "    print(f\"${amount:.2f} has been deposited into your account.\")\n",
    "    display_balance()\n",
    "\n",
    "# Define a function to withdraw money\n",
    "def withdraw():\n",
    "    global account_balance\n",
    "    amount = float(input(\"Enter the amount to withdraw: $\"))\n",
    "    if amount <= account_balance:\n",
    "        account_balance -= amount\n",
    "        print(f\"${amount:.2f} has been withdrawn from your account.\")\n",
    "    else:\n",
    "        print(\"Insufficient funds.\")\n",
    "    display_balance()\n",
    "\n",
    "# Main menu loop\n",
    "while True:\n",
    "    print(\"\\nATM Menu:\")\n",
    "    print(\"1. Display Balance\")\n",
    "    print(\"2. Deposit Money\")\n",
    "    print(\"3. Withdraw Money\")\n",
    "    print(\"4. Exit\")\n",
    "    \n",
    "    choice = input(\"Enter your choice (1/2/3/4): \")\n",
    "    \n",
    "    if choice == '1':\n",
    "        display_balance()\n",
    "    elif choice == '2':\n",
    "        deposit()\n",
    "    elif choice == '3':\n",
    "        withdraw()\n",
    "    elif choice == '4':\n",
    "        print(\"Thank you for using the ATM. Have a great day!\")\n",
    "        break\n",
    "    else:\n",
    "        print(\"Invalid choice. Please select a valid option (1/2/3/4).\")\n"
   ]
  },
  {
   "cell_type": "code",
   "execution_count": 153,
   "id": "8e72e382",
   "metadata": {},
   "outputs": [
    {
     "name": "stdout",
     "output_type": "stream",
     "text": [
      "Palindrome\n"
     ]
    }
   ],
   "source": [
    "# 16. Build a program that checks if a given string is a palindrome or not.\n",
    "\n",
    "str1 = 'DID'\n",
    "\n",
    "str1 = str1.lower()\n",
    "if str1 == str1[::-1]:\n",
    "    print('Palindrome')\n",
    "else:\n",
    "    print('Not palindrome')"
   ]
  },
  {
   "cell_type": "code",
   "execution_count": 156,
   "id": "9508ad46",
   "metadata": {},
   "outputs": [
    {
     "name": "stdout",
     "output_type": "stream",
     "text": [
      "Enter a list of numbers separated by spaces: 3\n",
      "Please enter at least three numbers to calculate the average.\n"
     ]
    }
   ],
   "source": [
    "##### 17. Write a program that calculates the average of a list of numbers, excluding the smallest and largest values.\n",
    "# Input a list of numbers\n",
    "numbers = input(\"Enter a list of numbers separated by spaces: \").split()\n",
    "numbers = [float(num) for num in numbers]\n",
    "\n",
    "# Check if there are at least 3 numbers in the list\n",
    "if len(numbers) < 3:\n",
    "    print(\"Please enter at least three numbers to calculate the average.\")\n",
    "else:\n",
    "    # Find the smallest and largest values in the list\n",
    "    smallest = min(numbers)\n",
    "    largest = max(numbers)\n",
    "\n",
    "    # Remove the smallest and largest values from the list\n",
    "    numbers.remove(smallest)\n",
    "    numbers.remove(largest)\n",
    "\n",
    "    # Calculate the average of the remaining numbers\n",
    "    average = sum(numbers) / len(numbers)\n",
    "\n",
    "    # Print the result\n",
    "    print(\"Excluding the smallest value\", smallest, \"and the largest value\", largest)\n",
    "    print(\"The average of the remaining numbers is:\", average)\n"
   ]
  },
  {
   "cell_type": "code",
   "execution_count": 157,
   "id": "41472faa",
   "metadata": {},
   "outputs": [
    {
     "name": "stdout",
     "output_type": "stream",
     "text": [
      "Enter the temperature in Celsius: 45\n",
      "45.0 degrees Celsius is equal to 113.00 degrees Fahrenheit\n"
     ]
    }
   ],
   "source": [
    "# 18. Develop a program that converts a given temperature from Celsius to Fahrenheit.\n",
    "\n",
    "\n",
    "# Input the temperature in Celsius\n",
    "celsius = float(input(\"Enter the temperature in Celsius: \"))\n",
    "\n",
    "# Convert Celsius to Fahrenheit\n",
    "fahrenheit = (celsius * 9/5) + 32\n",
    "\n",
    "# Print the converted temperature\n",
    "print(f\"{celsius} degrees Celsius is equal to {fahrenheit:.2f} degrees Fahrenheit\")\n"
   ]
  },
  {
   "cell_type": "code",
   "execution_count": 159,
   "id": "3e6c3691",
   "metadata": {},
   "outputs": [
    {
     "name": "stdout",
     "output_type": "stream",
     "text": [
      "\n",
      "Calculator Menu:\n",
      "1. Addition\n",
      "2. Subtraction\n",
      "3. Multiplication\n",
      "4. Division\n",
      "5. Quit\n",
      "Enter your choice (1/2/3/4/5): 1\n",
      "Enter the first number: 2\n",
      "Enter the second number: 3\n",
      "Addition result: 5.0\n",
      "\n",
      "Calculator Menu:\n",
      "1. Addition\n",
      "2. Subtraction\n",
      "3. Multiplication\n",
      "4. Division\n",
      "5. Quit\n"
     ]
    },
    {
     "ename": "KeyboardInterrupt",
     "evalue": "Interrupted by user",
     "output_type": "error",
     "traceback": [
      "\u001b[1;31m---------------------------------------------------------------------------\u001b[0m",
      "\u001b[1;31mKeyboardInterrupt\u001b[0m                         Traceback (most recent call last)",
      "Cell \u001b[1;32mIn[159], line 28\u001b[0m\n\u001b[0;32m     25\u001b[0m \u001b[38;5;28mprint\u001b[39m(\u001b[38;5;124m\"\u001b[39m\u001b[38;5;124m4. Division\u001b[39m\u001b[38;5;124m\"\u001b[39m)\n\u001b[0;32m     26\u001b[0m \u001b[38;5;28mprint\u001b[39m(\u001b[38;5;124m\"\u001b[39m\u001b[38;5;124m5. Quit\u001b[39m\u001b[38;5;124m\"\u001b[39m)\n\u001b[1;32m---> 28\u001b[0m choice \u001b[38;5;241m=\u001b[39m \u001b[38;5;28;43minput\u001b[39;49m\u001b[43m(\u001b[49m\u001b[38;5;124;43m\"\u001b[39;49m\u001b[38;5;124;43mEnter your choice (1/2/3/4/5): \u001b[39;49m\u001b[38;5;124;43m\"\u001b[39;49m\u001b[43m)\u001b[49m\n\u001b[0;32m     30\u001b[0m \u001b[38;5;28;01mif\u001b[39;00m choice \u001b[38;5;241m==\u001b[39m \u001b[38;5;124m'\u001b[39m\u001b[38;5;124m5\u001b[39m\u001b[38;5;124m'\u001b[39m:\n\u001b[0;32m     31\u001b[0m     \u001b[38;5;28mprint\u001b[39m(\u001b[38;5;124m\"\u001b[39m\u001b[38;5;124mThank you for using the calculator. Goodbye!\u001b[39m\u001b[38;5;124m\"\u001b[39m)\n",
      "File \u001b[1;32m~\\anaconda3\\lib\\site-packages\\ipykernel\\kernelbase.py:1175\u001b[0m, in \u001b[0;36mKernel.raw_input\u001b[1;34m(self, prompt)\u001b[0m\n\u001b[0;32m   1171\u001b[0m \u001b[38;5;28;01mif\u001b[39;00m \u001b[38;5;129;01mnot\u001b[39;00m \u001b[38;5;28mself\u001b[39m\u001b[38;5;241m.\u001b[39m_allow_stdin:\n\u001b[0;32m   1172\u001b[0m     \u001b[38;5;28;01mraise\u001b[39;00m StdinNotImplementedError(\n\u001b[0;32m   1173\u001b[0m         \u001b[38;5;124m\"\u001b[39m\u001b[38;5;124mraw_input was called, but this frontend does not support input requests.\u001b[39m\u001b[38;5;124m\"\u001b[39m\n\u001b[0;32m   1174\u001b[0m     )\n\u001b[1;32m-> 1175\u001b[0m \u001b[38;5;28;01mreturn\u001b[39;00m \u001b[38;5;28;43mself\u001b[39;49m\u001b[38;5;241;43m.\u001b[39;49m\u001b[43m_input_request\u001b[49m\u001b[43m(\u001b[49m\n\u001b[0;32m   1176\u001b[0m \u001b[43m    \u001b[49m\u001b[38;5;28;43mstr\u001b[39;49m\u001b[43m(\u001b[49m\u001b[43mprompt\u001b[49m\u001b[43m)\u001b[49m\u001b[43m,\u001b[49m\n\u001b[0;32m   1177\u001b[0m \u001b[43m    \u001b[49m\u001b[38;5;28;43mself\u001b[39;49m\u001b[38;5;241;43m.\u001b[39;49m\u001b[43m_parent_ident\u001b[49m\u001b[43m[\u001b[49m\u001b[38;5;124;43m\"\u001b[39;49m\u001b[38;5;124;43mshell\u001b[39;49m\u001b[38;5;124;43m\"\u001b[39;49m\u001b[43m]\u001b[49m\u001b[43m,\u001b[49m\n\u001b[0;32m   1178\u001b[0m \u001b[43m    \u001b[49m\u001b[38;5;28;43mself\u001b[39;49m\u001b[38;5;241;43m.\u001b[39;49m\u001b[43mget_parent\u001b[49m\u001b[43m(\u001b[49m\u001b[38;5;124;43m\"\u001b[39;49m\u001b[38;5;124;43mshell\u001b[39;49m\u001b[38;5;124;43m\"\u001b[39;49m\u001b[43m)\u001b[49m\u001b[43m,\u001b[49m\n\u001b[0;32m   1179\u001b[0m \u001b[43m    \u001b[49m\u001b[43mpassword\u001b[49m\u001b[38;5;241;43m=\u001b[39;49m\u001b[38;5;28;43;01mFalse\u001b[39;49;00m\u001b[43m,\u001b[49m\n\u001b[0;32m   1180\u001b[0m \u001b[43m\u001b[49m\u001b[43m)\u001b[49m\n",
      "File \u001b[1;32m~\\anaconda3\\lib\\site-packages\\ipykernel\\kernelbase.py:1217\u001b[0m, in \u001b[0;36mKernel._input_request\u001b[1;34m(self, prompt, ident, parent, password)\u001b[0m\n\u001b[0;32m   1214\u001b[0m             \u001b[38;5;28;01mbreak\u001b[39;00m\n\u001b[0;32m   1215\u001b[0m \u001b[38;5;28;01mexcept\u001b[39;00m \u001b[38;5;167;01mKeyboardInterrupt\u001b[39;00m:\n\u001b[0;32m   1216\u001b[0m     \u001b[38;5;66;03m# re-raise KeyboardInterrupt, to truncate traceback\u001b[39;00m\n\u001b[1;32m-> 1217\u001b[0m     \u001b[38;5;28;01mraise\u001b[39;00m \u001b[38;5;167;01mKeyboardInterrupt\u001b[39;00m(\u001b[38;5;124m\"\u001b[39m\u001b[38;5;124mInterrupted by user\u001b[39m\u001b[38;5;124m\"\u001b[39m) \u001b[38;5;28;01mfrom\u001b[39;00m \u001b[38;5;28;01mNone\u001b[39;00m\n\u001b[0;32m   1218\u001b[0m \u001b[38;5;28;01mexcept\u001b[39;00m \u001b[38;5;167;01mException\u001b[39;00m:\n\u001b[0;32m   1219\u001b[0m     \u001b[38;5;28mself\u001b[39m\u001b[38;5;241m.\u001b[39mlog\u001b[38;5;241m.\u001b[39mwarning(\u001b[38;5;124m\"\u001b[39m\u001b[38;5;124mInvalid Message:\u001b[39m\u001b[38;5;124m\"\u001b[39m, exc_info\u001b[38;5;241m=\u001b[39m\u001b[38;5;28;01mTrue\u001b[39;00m)\n",
      "\u001b[1;31mKeyboardInterrupt\u001b[0m: Interrupted by user"
     ]
    }
   ],
   "source": [
    "# 19. Create a program that simulates a basic calculator for addition, subtraction, multiplication, and division.\n",
    "\n",
    "\n",
    "# Define functions for each operation\n",
    "def add(x, y):\n",
    "    return x + y\n",
    "\n",
    "def subtract(x, y):\n",
    "    return x - y\n",
    "\n",
    "def multiply(x, y):\n",
    "    return x * y\n",
    "\n",
    "def divide(x, y):\n",
    "    if y == 0:\n",
    "        return \"Error: Division by zero\"\n",
    "    return x / y\n",
    "\n",
    "# Main calculator loop\n",
    "while True:\n",
    "    print(\"\\nCalculator Menu:\")\n",
    "    print(\"1. Addition\")\n",
    "    print(\"2. Subtraction\")\n",
    "    print(\"3. Multiplication\")\n",
    "    print(\"4. Division\")\n",
    "    print(\"5. Quit\")\n",
    "    \n",
    "    choice = input(\"Enter your choice (1/2/3/4/5): \")\n",
    "    \n",
    "    if choice == '5':\n",
    "        print(\"Thank you for using the calculator. Goodbye!\")\n",
    "        break\n",
    "    \n",
    "    if choice in ('1', '2', '3', '4'):\n",
    "        num1 = float(input(\"Enter the first number: \"))\n",
    "        num2 = float(input(\"Enter the second number: \"))\n",
    "        \n",
    "        if choice == '1':\n",
    "            result = add(num1, num2)\n",
    "            operation = \"Addition\"\n",
    "        elif choice == '2':\n",
    "            result = subtract(num1, num2)\n",
    "            operation = \"Subtraction\"\n",
    "        elif choice == '3':\n",
    "            result = multiply(num1, num2)\n",
    "            operation = \"Multiplication\"\n",
    "        else:\n",
    "            result = divide(num1, num2)\n",
    "            operation = \"Division\"\n",
    "        \n",
    "        print(f\"{operation} result: {result}\")\n",
    "    else:\n",
    "        print(\"Invalid choice. Please select a valid option (1/2/3/4/5).\")\n"
   ]
  },
  {
   "cell_type": "code",
   "execution_count": 161,
   "id": "407db525",
   "metadata": {},
   "outputs": [
    {
     "name": "stdout",
     "output_type": "stream",
     "text": [
      "Enter the coefficient a: 4\n",
      "Enter the coefficient b: 5\n",
      "Enter the coefficient c: 6\n",
      "Enter the coefficient d: 7\n",
      "Roots of the cubic equation:\n",
      "Root: 0.428+0.944j\n",
      "Root: -0.839-0.472j\n",
      "Root: -0.213-0.818j\n"
     ]
    }
   ],
   "source": [
    "# 20. Write a program that determines the roots of a cubic equation using the Cardano formula.\n",
    "\n",
    "import math\n",
    "\n",
    "# Function to find the roots of a cubic equation using Cardano's formula\n",
    "def cubic_roots(a, b, c, d):\n",
    "    # Calculate coefficients of the depressed cubic equation\n",
    "    p = (3 * a * c - b ** 2) / (3 * a ** 2)\n",
    "    q = (2 * b ** 3 - 9 * a * b * c + 27 * a ** 2 * d) / (27 * a ** 3)\n",
    "\n",
    "    # Calculate the discriminant of the depressed cubic equation\n",
    "    discriminant = (q / 2) ** 2 + (p / 3) ** 3\n",
    "\n",
    "    if discriminant > 0:\n",
    "        # Three real roots\n",
    "        u = (-q / 2 + discriminant ** 0.5) ** (1/3)\n",
    "        v = (-q / 2 - discriminant ** 0.5) ** (1/3)\n",
    "        real_root1 = u + v - b / (3 * a)\n",
    "        real_root2 = (-1 / 2) * (u + v) - b / (3 * a)\n",
    "        real_root3 = (u - v) * math.sqrt(3) / 2\n",
    "        return real_root1, real_root2, real_root3\n",
    "\n",
    "    elif discriminant == 0:\n",
    "        # One real root and two complex roots\n",
    "        if q < 0:\n",
    "            real_root1 = (q / 2) ** (1/3) - b / (3 * a)\n",
    "            complex_root1 = -(q / 2) ** (1/3) - b / (3 * a)\n",
    "            complex_root2 = complex_root3 = math.sqrt(3) * (q / 2) ** (1/3) / 2\n",
    "        else:\n",
    "            real_root1 = -(q / 2) ** (1/3) - b / (3 * a)\n",
    "            complex_root1 = (q / 2) ** (1/3) - b / (3 * a)\n",
    "            complex_root2 = complex_root3 = -math.sqrt(3) * (q / 2) ** (1/3) / 2\n",
    "        return real_root1, complex_root1, complex_root2, complex_root3\n",
    "\n",
    "    else:\n",
    "        # One real root and two complex roots\n",
    "        r = ((-(q / 2) ** 2 + (discriminant) ** 0.5) ** 0.5) ** (1/3)\n",
    "        theta = math.acos(-(q / (2 * r)))\n",
    "        real_root1 = 2 * r * math.cos(theta / 3) - b / (3 * a)\n",
    "        complex_root1 = 2 * r * math.cos((theta + 2 * math.pi) / 3) - b / (3 * a)\n",
    "        complex_root2 = 2 * r * math.cos((theta - 2 * math.pi) / 3) - b / (3 * a)\n",
    "        return real_root1, complex_root1, complex_root2\n",
    "\n",
    "# Input coefficients of the cubic equation: ax^3 + bx^2 + cx + d = 0\n",
    "a = float(input(\"Enter the coefficient a: \"))\n",
    "b = float(input(\"Enter the coefficient b: \"))\n",
    "c = float(input(\"Enter the coefficient c: \"))\n",
    "d = float(input(\"Enter the coefficient d: \"))\n",
    "\n",
    "# Find and print the roots of the cubic equation\n",
    "roots = cubic_roots(a, b, c, d)\n",
    "print(\"Roots of the cubic equation:\")\n",
    "for root in roots:\n",
    "    print(f\"Root: {root:.3f}\")\n"
   ]
  },
  {
   "cell_type": "code",
   "execution_count": 162,
   "id": "2f3f052f",
   "metadata": {},
   "outputs": [
    {
     "name": "stdout",
     "output_type": "stream",
     "text": [
      "Enter your annual income: $344\n",
      "Your income tax for the year is: $34.40\n"
     ]
    }
   ],
   "source": [
    "# Advanced Level:\n",
    "# 21. Create a program that calculates the income tax based on the user's income and tax brackets.\n",
    "\n",
    "# Define tax brackets and rates\n",
    "tax_brackets = [(0, 10000), (10001, 40000), (40001, 80000), (80001, float(\"inf\"))]\n",
    "tax_rates = [0.1, 0.2, 0.3, 0.4]\n",
    "\n",
    "# Input the user's income\n",
    "income = float(input(\"Enter your annual income: $\"))\n",
    "\n",
    "# Initialize the total tax\n",
    "total_tax = 0\n",
    "\n",
    "# Calculate the income tax\n",
    "for bracket, rate in zip(tax_brackets, tax_rates):\n",
    "    min_income, max_income = bracket\n",
    "    if income <= min_income:\n",
    "        tax = 0\n",
    "    elif income <= max_income:\n",
    "        tax = (income - min_income) * rate\n",
    "    else:\n",
    "        tax = (max_income - min_income) * rate\n",
    "    total_tax += tax\n",
    "    if income <= max_income:\n",
    "        break\n",
    "\n",
    "# Print the income tax\n",
    "print(f\"Your income tax for the year is: ${total_tax:.2f}\")\n"
   ]
  },
  {
   "cell_type": "code",
   "execution_count": 163,
   "id": "77e27353",
   "metadata": {},
   "outputs": [
    {
     "name": "stdout",
     "output_type": "stream",
     "text": [
      "Welcome to Rock-Paper-Scissors!\n",
      "Choose rock, paper, or scissors: rock\n",
      "You chose rock.\n",
      "The computer chose paper.\n",
      "Computer wins!\n",
      "Play again? (yes/no): no\n",
      "Thanks for playing!\n"
     ]
    }
   ],
   "source": [
    "# 22. Write a program that simulates a rock-paper-scissors game against the computer.\n",
    "\n",
    "\n",
    "import random\n",
    "\n",
    "def get_user_choice():\n",
    "    while True:\n",
    "        user_choice = input(\"Choose rock, paper, or scissors: \").lower()\n",
    "        if user_choice in [\"rock\", \"paper\", \"scissors\"]:\n",
    "            return user_choice\n",
    "        else:\n",
    "            print(\"Invalid choice. Please choose rock, paper, or scissors.\")\n",
    "\n",
    "def get_computer_choice():\n",
    "    choices = [\"rock\", \"paper\", \"scissors\"]\n",
    "    return random.choice(choices)\n",
    "\n",
    "def determine_winner(user_choice, computer_choice):\n",
    "    if user_choice == computer_choice:\n",
    "        return \"It's a tie!\"\n",
    "    elif (\n",
    "        (user_choice == \"rock\" and computer_choice == \"scissors\")\n",
    "        or (user_choice == \"paper\" and computer_choice == \"rock\")\n",
    "        or (user_choice == \"scissors\" and computer_choice == \"paper\")\n",
    "    ):\n",
    "        return \"You win!\"\n",
    "    else:\n",
    "        return \"Computer wins!\"\n",
    "\n",
    "def main():\n",
    "    print(\"Welcome to Rock-Paper-Scissors!\")\n",
    "\n",
    "    while True:\n",
    "        user_choice = get_user_choice()\n",
    "        computer_choice = get_computer_choice()\n",
    "\n",
    "        print(f\"You chose {user_choice}.\")\n",
    "        print(f\"The computer chose {computer_choice}.\")\n",
    "\n",
    "        result = determine_winner(user_choice, computer_choice)\n",
    "        print(result)\n",
    "\n",
    "        play_again = input(\"Play again? (yes/no): \").lower()\n",
    "        if play_again != \"yes\":\n",
    "            break\n",
    "\n",
    "    print(\"Thanks for playing!\")\n",
    "\n",
    "if __name__ == \"__main__\":\n",
    "    main()\n"
   ]
  },
  {
   "cell_type": "code",
   "execution_count": 164,
   "id": "add38080",
   "metadata": {},
   "outputs": [
    {
     "name": "stdout",
     "output_type": "stream",
     "text": [
      "Password Generator\n",
      "Enter the desired password length: 9\n",
      "Include lowercase letters? (yes/no): yes\n",
      "Include uppercase letters? (yes/no): yes\n",
      "Include digits? (yes/no): yes\n",
      "Include special characters? (yes/no): yes\n",
      "Your generated password is: OA<ELyF!d\n"
     ]
    },
    {
     "ename": "KeyboardInterrupt",
     "evalue": "Interrupted by user",
     "output_type": "error",
     "traceback": [
      "\u001b[1;31m---------------------------------------------------------------------------\u001b[0m",
      "\u001b[1;31mKeyboardInterrupt\u001b[0m                         Traceback (most recent call last)",
      "Cell \u001b[1;32mIn[164], line 49\u001b[0m\n\u001b[0;32m     46\u001b[0m             \u001b[38;5;28mprint\u001b[39m(\u001b[38;5;124m\"\u001b[39m\u001b[38;5;124mError: Please enter a valid password length (a positive integer).\u001b[39m\u001b[38;5;124m\"\u001b[39m)\n\u001b[0;32m     48\u001b[0m \u001b[38;5;28;01mif\u001b[39;00m \u001b[38;5;18m__name__\u001b[39m \u001b[38;5;241m==\u001b[39m \u001b[38;5;124m\"\u001b[39m\u001b[38;5;124m__main__\u001b[39m\u001b[38;5;124m\"\u001b[39m:\n\u001b[1;32m---> 49\u001b[0m     \u001b[43mmain\u001b[49m\u001b[43m(\u001b[49m\u001b[43m)\u001b[49m\n",
      "Cell \u001b[1;32mIn[164], line 41\u001b[0m, in \u001b[0;36mmain\u001b[1;34m()\u001b[0m\n\u001b[0;32m     38\u001b[0m \u001b[38;5;28;01mif\u001b[39;00m password:\n\u001b[0;32m     39\u001b[0m     \u001b[38;5;28mprint\u001b[39m(\u001b[38;5;124mf\u001b[39m\u001b[38;5;124m\"\u001b[39m\u001b[38;5;124mYour generated password is: \u001b[39m\u001b[38;5;132;01m{\u001b[39;00mpassword\u001b[38;5;132;01m}\u001b[39;00m\u001b[38;5;124m\"\u001b[39m)\n\u001b[1;32m---> 41\u001b[0m another_password \u001b[38;5;241m=\u001b[39m \u001b[38;5;28;43minput\u001b[39;49m\u001b[43m(\u001b[49m\u001b[38;5;124;43m\"\u001b[39;49m\u001b[38;5;124;43mGenerate another password? (yes/no): \u001b[39;49m\u001b[38;5;124;43m\"\u001b[39;49m\u001b[43m)\u001b[49m\u001b[38;5;241m.\u001b[39mlower()\n\u001b[0;32m     42\u001b[0m \u001b[38;5;28;01mif\u001b[39;00m another_password \u001b[38;5;241m!=\u001b[39m \u001b[38;5;124m\"\u001b[39m\u001b[38;5;124myes\u001b[39m\u001b[38;5;124m\"\u001b[39m:\n\u001b[0;32m     43\u001b[0m     \u001b[38;5;28;01mbreak\u001b[39;00m\n",
      "File \u001b[1;32m~\\anaconda3\\lib\\site-packages\\ipykernel\\kernelbase.py:1175\u001b[0m, in \u001b[0;36mKernel.raw_input\u001b[1;34m(self, prompt)\u001b[0m\n\u001b[0;32m   1171\u001b[0m \u001b[38;5;28;01mif\u001b[39;00m \u001b[38;5;129;01mnot\u001b[39;00m \u001b[38;5;28mself\u001b[39m\u001b[38;5;241m.\u001b[39m_allow_stdin:\n\u001b[0;32m   1172\u001b[0m     \u001b[38;5;28;01mraise\u001b[39;00m StdinNotImplementedError(\n\u001b[0;32m   1173\u001b[0m         \u001b[38;5;124m\"\u001b[39m\u001b[38;5;124mraw_input was called, but this frontend does not support input requests.\u001b[39m\u001b[38;5;124m\"\u001b[39m\n\u001b[0;32m   1174\u001b[0m     )\n\u001b[1;32m-> 1175\u001b[0m \u001b[38;5;28;01mreturn\u001b[39;00m \u001b[38;5;28;43mself\u001b[39;49m\u001b[38;5;241;43m.\u001b[39;49m\u001b[43m_input_request\u001b[49m\u001b[43m(\u001b[49m\n\u001b[0;32m   1176\u001b[0m \u001b[43m    \u001b[49m\u001b[38;5;28;43mstr\u001b[39;49m\u001b[43m(\u001b[49m\u001b[43mprompt\u001b[49m\u001b[43m)\u001b[49m\u001b[43m,\u001b[49m\n\u001b[0;32m   1177\u001b[0m \u001b[43m    \u001b[49m\u001b[38;5;28;43mself\u001b[39;49m\u001b[38;5;241;43m.\u001b[39;49m\u001b[43m_parent_ident\u001b[49m\u001b[43m[\u001b[49m\u001b[38;5;124;43m\"\u001b[39;49m\u001b[38;5;124;43mshell\u001b[39;49m\u001b[38;5;124;43m\"\u001b[39;49m\u001b[43m]\u001b[49m\u001b[43m,\u001b[49m\n\u001b[0;32m   1178\u001b[0m \u001b[43m    \u001b[49m\u001b[38;5;28;43mself\u001b[39;49m\u001b[38;5;241;43m.\u001b[39;49m\u001b[43mget_parent\u001b[49m\u001b[43m(\u001b[49m\u001b[38;5;124;43m\"\u001b[39;49m\u001b[38;5;124;43mshell\u001b[39;49m\u001b[38;5;124;43m\"\u001b[39;49m\u001b[43m)\u001b[49m\u001b[43m,\u001b[49m\n\u001b[0;32m   1179\u001b[0m \u001b[43m    \u001b[49m\u001b[43mpassword\u001b[49m\u001b[38;5;241;43m=\u001b[39;49m\u001b[38;5;28;43;01mFalse\u001b[39;49;00m\u001b[43m,\u001b[49m\n\u001b[0;32m   1180\u001b[0m \u001b[43m\u001b[49m\u001b[43m)\u001b[49m\n",
      "File \u001b[1;32m~\\anaconda3\\lib\\site-packages\\ipykernel\\kernelbase.py:1217\u001b[0m, in \u001b[0;36mKernel._input_request\u001b[1;34m(self, prompt, ident, parent, password)\u001b[0m\n\u001b[0;32m   1214\u001b[0m             \u001b[38;5;28;01mbreak\u001b[39;00m\n\u001b[0;32m   1215\u001b[0m \u001b[38;5;28;01mexcept\u001b[39;00m \u001b[38;5;167;01mKeyboardInterrupt\u001b[39;00m:\n\u001b[0;32m   1216\u001b[0m     \u001b[38;5;66;03m# re-raise KeyboardInterrupt, to truncate traceback\u001b[39;00m\n\u001b[1;32m-> 1217\u001b[0m     \u001b[38;5;28;01mraise\u001b[39;00m \u001b[38;5;167;01mKeyboardInterrupt\u001b[39;00m(\u001b[38;5;124m\"\u001b[39m\u001b[38;5;124mInterrupted by user\u001b[39m\u001b[38;5;124m\"\u001b[39m) \u001b[38;5;28;01mfrom\u001b[39;00m \u001b[38;5;28;01mNone\u001b[39;00m\n\u001b[0;32m   1218\u001b[0m \u001b[38;5;28;01mexcept\u001b[39;00m \u001b[38;5;167;01mException\u001b[39;00m:\n\u001b[0;32m   1219\u001b[0m     \u001b[38;5;28mself\u001b[39m\u001b[38;5;241m.\u001b[39mlog\u001b[38;5;241m.\u001b[39mwarning(\u001b[38;5;124m\"\u001b[39m\u001b[38;5;124mInvalid Message:\u001b[39m\u001b[38;5;124m\"\u001b[39m, exc_info\u001b[38;5;241m=\u001b[39m\u001b[38;5;28;01mTrue\u001b[39;00m)\n",
      "\u001b[1;31mKeyboardInterrupt\u001b[0m: Interrupted by user"
     ]
    }
   ],
   "source": [
    "# 23. Develop a program that generates a random password based on user preferences (length, complexity).\n",
    "\n",
    "import random\n",
    "import string\n",
    "\n",
    "def generate_password(length, include_lowercase, include_uppercase, include_digits, include_special_chars):\n",
    "    characters = \"\"\n",
    "    \n",
    "    if include_lowercase:\n",
    "        characters += string.ascii_lowercase\n",
    "    if include_uppercase:\n",
    "        characters += string.ascii_uppercase\n",
    "    if include_digits:\n",
    "        characters += string.digits\n",
    "    if include_special_chars:\n",
    "        characters += string.punctuation\n",
    "\n",
    "    if len(characters) == 0:\n",
    "        print(\"Error: You must include at least one character type.\")\n",
    "        return None\n",
    "\n",
    "    password = ''.join(random.choice(characters) for _ in range(length))\n",
    "    return password\n",
    "\n",
    "def main():\n",
    "    print(\"Password Generator\")\n",
    "\n",
    "    while True:\n",
    "        try:\n",
    "            length = int(input(\"Enter the desired password length: \"))\n",
    "            include_lowercase = input(\"Include lowercase letters? (yes/no): \").lower() == \"yes\"\n",
    "            include_uppercase = input(\"Include uppercase letters? (yes/no): \").lower() == \"yes\"\n",
    "            include_digits = input(\"Include digits? (yes/no): \").lower() == \"yes\"\n",
    "            include_special_chars = input(\"Include special characters? (yes/no): \").lower() == \"yes\"\n",
    "\n",
    "            password = generate_password(length, include_lowercase, include_uppercase, include_digits, include_special_chars)\n",
    "\n",
    "            if password:\n",
    "                print(f\"Your generated password is: {password}\")\n",
    "\n",
    "            another_password = input(\"Generate another password? (yes/no): \").lower()\n",
    "            if another_password != \"yes\":\n",
    "                break\n",
    "\n",
    "        except ValueError:\n",
    "            print(\"Error: Please enter a valid password length (a positive integer).\")\n",
    "\n",
    "if __name__ == \"__main__\":\n",
    "    main()\n"
   ]
  },
  {
   "cell_type": "code",
   "execution_count": null,
   "id": "24680ed8",
   "metadata": {},
   "outputs": [],
   "source": [
    "# 24. Create a program that implements a simple text-based adventure game with branching scenarios.\n",
    "\n",
    "import time\n",
    "\n",
    "def introduction():\n",
    "    print(\"Welcome to the Text-Based Adventure Game!\")\n",
    "    print(\"You find yourself in a dark forest. It's getting late, and you need to find your way out.\")\n",
    "    time.sleep(1)\n",
    "    print(\"You come to a crossroads with three different paths.\")\n",
    "    time.sleep(1)\n",
    "\n",
    "def crossroads():\n",
    "    print(\"You are at the crossroads.\")\n",
    "    print(\"You can go:\")\n",
    "    print(\"1. Left into a dense thicket.\")\n",
    "    print(\"2. Right towards a faint light.\")\n",
    "    print(\"3. Straight ahead into a cave entrance.\")\n",
    "    \n",
    "    choice = input(\"Which path will you choose? (1/2/3): \")\n",
    "    \n",
    "    if choice == \"1\":\n",
    "        thicket()\n",
    "    elif choice == \"2\":\n",
    "        light()\n",
    "    elif choice == \"3\":\n",
    "        cave()\n",
    "    else:\n",
    "        print(\"Invalid choice. Please select 1, 2, or 3.\")\n",
    "        crossroads()\n",
    "\n",
    "def thicket():\n",
    "    print(\"You enter the dense thicket, but it becomes too dark and tangled.\")\n",
    "    print(\"You can't move forward and decide to turn back.\")\n",
    "    crossroads()\n",
    "\n",
    "def light():\n",
    "    print(\"You follow the faint light, and it leads you to a cozy cottage.\")\n",
    "    print(\"An old man inside offers you shelter and a warm meal.\")\n",
    "    time.sleep(1)\n",
    "    print(\"You spend the night and wake up well-rested.\")\n",
    "    time.sleep(1)\n",
    "    print(\"In the morning, the old man shows you the way out of the forest.\")\n",
    "    time.sleep(1)\n",
    "    print(\"Congratulations, you've safely escaped the forest!\")\n",
    "    time.sleep(1)\n",
    "    play_again()\n",
    "\n",
    "def cave():\n",
    "    print(\"You enter the cave and find a hidden treasure chest!\")\n",
    "    print(\"You open it and discover a bag of gold coins.\")\n",
    "    time.sleep(1)\n",
    "    print(\"With your newfound wealth, you can live comfortably for the rest of your life.\")\n",
    "    time.sleep(1)\n",
    "    print(\"Congratulations, you've become a rich adventurer!\")\n",
    "    time.sleep(1)\n",
    "    play_again()\n",
    "\n",
    "def play_again():\n",
    "    choice = input(\"Do you want to play again? (yes/no): \").lower()\n",
    "    if choice == \"yes\":\n",
    "        start_game()\n",
    "    elif choice == \"no\":\n",
    "        print(\"Thank you for playing! Goodbye.\")\n",
    "        exit()\n",
    "    else:\n",
    "        print(\"Invalid choice. Please enter 'yes' or 'no'.\")\n",
    "        play_again()\n",
    "\n",
    "def start_game():\n",
    "    introduction()\n",
    "    crossroads()\n",
    "\n",
    "if __name__ == \"__main__\":\n",
    "    start_game()"
   ]
  },
  {
   "cell_type": "code",
   "execution_count": null,
   "id": "c4ac451b",
   "metadata": {},
   "outputs": [],
   "source": [
    "# 25. Build a program that solves a linear equation for x, considering different cases.\n",
    "\n",
    "def solve_linear_equation(coeff_a, coeff_b):\n",
    "    if coeff_a == 0:\n",
    "        if coeff_b == 0:\n",
    "            return \"Infinite solutions (x can be any real number)\"\n",
    "        else:\n",
    "            return \"No solution (contradiction)\"\n",
    "    else:\n",
    "        x = -coeff_b / coeff_a\n",
    "        return f\"The solution is x = {x}\"\n",
    "\n",
    "def main():\n",
    "    print(\"Linear Equation Solver\")\n",
    "    print(\"This program solves equations in the form: ax + b = 0\")\n",
    "    \n",
    "    while True:\n",
    "        try:\n",
    "            coeff_a = float(input(\"Enter the coefficient 'a': \"))\n",
    "            coeff_b = float(input(\"Enter the coefficient 'b': \"))\n",
    "            \n",
    "            result = solve_linear_equation(coeff_a, coeff_b)\n",
    "            print(result)\n",
    "            \n",
    "            another_equation = input(\"Do you want to solve another equation? (yes/no): \").lower()\n",
    "            if another_equation != \"yes\":\n",
    "                break\n",
    "        \n",
    "        except ValueError:\n",
    "            print(\"Error: Please enter valid numeric coefficients.\")\n",
    "\n",
    "if __name__ == \"__main__\":\n",
    "    main()\n"
   ]
  },
  {
   "cell_type": "code",
   "execution_count": 166,
   "id": "0b852ab1",
   "metadata": {},
   "outputs": [
    {
     "name": "stdout",
     "output_type": "stream",
     "text": [
      "Welcome to the Quiz Game!\n",
      "Question 1: What is the capital of France?\n",
      "1. London\n",
      "2. Madrid\n",
      "3. Paris\n",
      "Enter your choice (1/2/3): 1\n",
      "Wrong! The correct answer was 3: Paris\n",
      "\n",
      "Question 2: Which planet is known as the Red Planet?\n",
      "1. Mars\n",
      "2. Venus\n",
      "3. Jupiter\n",
      "Enter your choice (1/2/3): 1\n",
      "Correct!\n",
      "\n",
      "Question 3: What is the largest mammal in the world?\n",
      "1. Elephant\n",
      "2. Giraffe\n",
      "3. Blue Whale\n",
      "Enter your choice (1/2/3): 3\n",
      "Correct!\n",
      "\n",
      "You scored 2/3.\n"
     ]
    }
   ],
   "source": [
    "# 26. Write a program that simulates a basic quiz game with multiple-choice questions and scoring.\n",
    "\n",
    "class Question:\n",
    "    def __init__(self, text, choices, correct_choice):\n",
    "        self.text = text\n",
    "        self.choices = choices\n",
    "        self.correct_choice = correct_choice\n",
    "\n",
    "    def is_correct(self, user_choice):\n",
    "        return user_choice == self.correct_choice\n",
    "\n",
    "def run_quiz(questions):\n",
    "    score = 0\n",
    "\n",
    "    for i, question in enumerate(questions, start=1):\n",
    "        print(f\"Question {i}: {question.text}\")\n",
    "        for j, choice in enumerate(question.choices, start=1):\n",
    "            print(f\"{j}. {choice}\")\n",
    "        \n",
    "        user_choice = int(input(\"Enter your choice (1/2/3): \"))\n",
    "        \n",
    "        if 1 <= user_choice <= len(question.choices):\n",
    "            if question.is_correct(user_choice):\n",
    "                print(\"Correct!\\n\")\n",
    "                score += 1\n",
    "            else:\n",
    "                print(f\"Wrong! The correct answer was {question.correct_choice}: {question.choices[question.correct_choice - 1]}\\n\")\n",
    "        else:\n",
    "            print(\"Invalid choice. Skipping this question.\\n\")\n",
    "    \n",
    "    print(f\"You scored {score}/{len(questions)}.\")\n",
    "\n",
    "def main():\n",
    "    print(\"Welcome to the Quiz Game!\")\n",
    "    questions = [\n",
    "        Question(\"What is the capital of France?\", [\"London\", \"Madrid\", \"Paris\"], 3),\n",
    "        Question(\"Which planet is known as the Red Planet?\", [\"Mars\", \"Venus\", \"Jupiter\"], 1),\n",
    "        Question(\"What is the largest mammal in the world?\", [\"Elephant\", \"Giraffe\", \"Blue Whale\"], 3),\n",
    "    ]\n",
    "\n",
    "    run_quiz(questions)\n",
    "\n",
    "if __name__ == \"__main__\":\n",
    "    main()\n",
    "\n"
   ]
  },
  {
   "cell_type": "code",
   "execution_count": 167,
   "id": "89504a9a",
   "metadata": {},
   "outputs": [
    {
     "name": "stdout",
     "output_type": "stream",
     "text": [
      "Enter a year to check if it's prime: 4\n",
      "4 is not a prime year.\n"
     ]
    }
   ],
   "source": [
    "# 27. Develop a program that determines whether a given year is a prime number or not.\n",
    "\n",
    "def is_prime(year):\n",
    "    if year <= 1:\n",
    "        return False\n",
    "    elif year == 2:\n",
    "        return True\n",
    "    elif year % 2 == 0:\n",
    "        return False\n",
    "    else:\n",
    "        for divisor in range(3, int(year**0.5) + 1, 2):\n",
    "            if year % divisor == 0:\n",
    "                return False\n",
    "        return True\n",
    "\n",
    "def main():\n",
    "    try:\n",
    "        year = int(input(\"Enter a year to check if it's prime: \"))\n",
    "        if is_prime(year):\n",
    "            print(f\"{year} is a prime year.\")\n",
    "        else:\n",
    "            print(f\"{year} is not a prime year.\")\n",
    "    except ValueError:\n",
    "        print(\"Invalid input. Please enter a valid year.\")\n",
    "\n",
    "if __name__ == \"__main__\":\n",
    "    main()\n"
   ]
  },
  {
   "cell_type": "code",
   "execution_count": 168,
   "id": "82adbf0c",
   "metadata": {},
   "outputs": [
    {
     "name": "stdout",
     "output_type": "stream",
     "text": [
      "Enter the first number: 4\n",
      "Enter the second number: 5\n",
      "Enter the third number: 56\n",
      "Numbers in ascending order: (4.0, 5.0, 56.0)\n"
     ]
    }
   ],
   "source": [
    "# 28. Create a program that sorts three numbers in ascending order using conditional statements.\n",
    "\n",
    "def sort_three_numbers(num1, num2, num3):\n",
    "    if num1 <= num2 <= num3:\n",
    "        return num1, num2, num3\n",
    "    elif num1 <= num3 <= num2:\n",
    "        return num1, num3, num2\n",
    "    elif num2 <= num1 <= num3:\n",
    "        return num2, num1, num3\n",
    "    elif num2 <= num3 <= num1:\n",
    "        return num2, num3, num1\n",
    "    elif num3 <= num1 <= num2:\n",
    "        return num3, num1, num2\n",
    "    else:\n",
    "        return num3, num2, num1\n",
    "\n",
    "def main():\n",
    "    try:\n",
    "        num1 = float(input(\"Enter the first number: \"))\n",
    "        num2 = float(input(\"Enter the second number: \"))\n",
    "        num3 = float(input(\"Enter the third number: \"))\n",
    "\n",
    "        sorted_nums = sort_three_numbers(num1, num2, num3)\n",
    "\n",
    "        print(\"Numbers in ascending order:\", sorted_nums)\n",
    "    except ValueError:\n",
    "        print(\"Invalid input. Please enter valid numbers.\")\n",
    "\n",
    "if __name__ == \"__main__\":\n",
    "    main()\n",
    "\n"
   ]
  },
  {
   "cell_type": "code",
   "execution_count": 171,
   "id": "1fd33e66",
   "metadata": {},
   "outputs": [
    {
     "name": "stdout",
     "output_type": "stream",
     "text": [
      "Quartic Equation Solver\n",
      "This program finds an approximation of the roots of a quartic equation of the form:\n",
      "ax^4 + bx^3 + cx^2 + dx + e = 0\n",
      "Enter the coefficient 'a': 2\n",
      "Enter the coefficient 'b': 3\n",
      "Enter the coefficient 'c': 4\n",
      "Enter the coefficient 'd': 5\n",
      "Enter the coefficient 'e': 6\n",
      "Enter the initial guess for a root: 6\n",
      "No root found within the maximum number of iterations.\n"
     ]
    }
   ],
   "source": [
    "# 29. Build a program that determines the roots of a quartic equation using numerical methods.\n",
    "\n",
    "import sympy as sp\n",
    "\n",
    "def newton_raphson_quartic(coefficients, initial_guess, tolerance, max_iterations):\n",
    "    x = sp.symbols('x')\n",
    "    f = sum(coeff * x**i for i, coeff in enumerate(coefficients))\n",
    "    f_prime = sp.diff(f, x)\n",
    "    x_n = initial_guess\n",
    "    iteration = 0\n",
    "\n",
    "    while iteration < max_iterations:\n",
    "        f_val = f.subs(x, x_n)\n",
    "        f_prime_val = f_prime.subs(x, x_n)\n",
    "\n",
    "        if abs(f_val) < tolerance:\n",
    "            return x_n\n",
    "        \n",
    "        x_n = x_n - f_val / f_prime_val\n",
    "        iteration += 1\n",
    "\n",
    "    return None  # No root found within max_iterations\n",
    "\n",
    "def main():\n",
    "    print(\"Quartic Equation Solver\")\n",
    "    print(\"This program finds an approximation of the roots of a quartic equation of the form:\")\n",
    "    print(\"ax^4 + bx^3 + cx^2 + dx + e = 0\")\n",
    "\n",
    "    # Get user input for coefficients\n",
    "    a = float(input(\"Enter the coefficient 'a': \"))\n",
    "    b = float(input(\"Enter the coefficient 'b': \"))\n",
    "    c = float(input(\"Enter the coefficient 'c': \"))\n",
    "    d = float(input(\"Enter the coefficient 'd': \"))\n",
    "    e = float(input(\"Enter the coefficient 'e': \"))\n",
    "\n",
    "    coefficients = [a, b, c, d, e]\n",
    "\n",
    "    # Set initial guess, tolerance, and maximum iterations\n",
    "    initial_guess = float(input(\"Enter the initial guess for a root: \"))\n",
    "    tolerance = 1e-6\n",
    "    max_iterations = 1000\n",
    "\n",
    "    root = newton_raphson_quartic(coefficients, initial_guess, tolerance, max_iterations)\n",
    "\n",
    "    if root is not None:\n",
    "        print(f\"An approximate root is: {root:.6f}\")\n",
    "    else:\n",
    "        print(\"No root found within the maximum number of iterations.\")\n",
    "\n",
    "if __name__ == \"__main__\":\n",
    "    main()\n",
    "\n"
   ]
  },
  {
   "cell_type": "code",
   "execution_count": 172,
   "id": "42f8cfbb",
   "metadata": {},
   "outputs": [
    {
     "name": "stdout",
     "output_type": "stream",
     "text": [
      "BMI Calculator\n",
      "This program calculates your BMI and provides health recommendations.\n",
      "Enter your weight in kilograms: 56\n",
      "Enter your height in meters: 7\n",
      "Your BMI is: 1.14\n",
      "You are in the 'underweight' category.\n",
      "Health Recommendations:\n",
      "- Consider increasing your calorie intake.\n",
      "- Consult with a healthcare provider.\n"
     ]
    }
   ],
   "source": [
    "# 30. Write a program that calculates the BMI (Body Mass Index) and provides health recommendations based\n",
    "# on the user's input.\n",
    "\n",
    "def calculate_bmi(weight_kg, height_m):\n",
    "    return weight_kg / (height_m ** 2)\n",
    "\n",
    "def interpret_bmi(bmi):\n",
    "    if bmi < 18.5:\n",
    "        return \"underweight\"\n",
    "    elif 18.5 <= bmi < 24.9:\n",
    "        return \"healthy weight\"\n",
    "    elif 25 <= bmi < 29.9:\n",
    "        return \"overweight\"\n",
    "    else:\n",
    "        return \"obese\"\n",
    "\n",
    "def main():\n",
    "    print(\"BMI Calculator\")\n",
    "    print(\"This program calculates your BMI and provides health recommendations.\")\n",
    "\n",
    "    try:\n",
    "        weight_kg = float(input(\"Enter your weight in kilograms: \"))\n",
    "        height_m = float(input(\"Enter your height in meters: \"))\n",
    "\n",
    "        if weight_kg <= 0 or height_m <= 0:\n",
    "            print(\"Invalid input. Weight and height must be positive values.\")\n",
    "            return\n",
    "\n",
    "        bmi = calculate_bmi(weight_kg, height_m)\n",
    "        health_status = interpret_bmi(bmi)\n",
    "\n",
    "        print(f\"Your BMI is: {bmi:.2f}\")\n",
    "        print(f\"You are in the '{health_status}' category.\")\n",
    "\n",
    "        if health_status != \"healthy weight\":\n",
    "            print(\"Health Recommendations:\")\n",
    "            if health_status == \"underweight\":\n",
    "                print(\"- Consider increasing your calorie intake.\")\n",
    "                print(\"- Consult with a healthcare provider.\")\n",
    "            else:\n",
    "                print(\"- Consider a balanced diet and regular exercise.\")\n",
    "                print(\"- Consult with a healthcare provider for personalized advice.\")\n",
    "\n",
    "    except ValueError:\n",
    "        print(\"Invalid input. Please enter valid numeric values for weight and height.\")\n",
    "\n",
    "if __name__ == \"__main__\":\n",
    "    main()\n"
   ]
  },
  {
   "cell_type": "code",
   "execution_count": 173,
   "id": "2a6a79cd",
   "metadata": {},
   "outputs": [
    {
     "name": "stdout",
     "output_type": "stream",
     "text": [
      "Password Validator\n",
      "This program checks if a password meets complexity requirements.\n",
      "Enter your password: iniiii\n",
      "Password is not valid. Please ensure it meets the complexity requirements.\n"
     ]
    }
   ],
   "source": [
    "# Challenge Level:\n",
    "# 31. Create a program that validates a password based on complexity rules (length, characters, etc.).\n",
    "\n",
    "import re\n",
    "\n",
    "def is_valid_password(password):\n",
    "    # Check password length\n",
    "    if len(password) < 8:\n",
    "        return False\n",
    "    \n",
    "    # Check for at least one uppercase letter\n",
    "    if not any(char.isupper() for char in password):\n",
    "        return False\n",
    "\n",
    "    # Check for at least one lowercase letter\n",
    "    if not any(char.islower() for char in password):\n",
    "        return False\n",
    "\n",
    "    # Check for at least one digit\n",
    "    if not any(char.isdigit() for char in password):\n",
    "        return False\n",
    "\n",
    "    # Check for at least one special character (e.g., !, @, #, $, %, etc.)\n",
    "    if not re.search(r'[!@#$%^&*(),.?\":{}|<>]', password):\n",
    "        return False\n",
    "\n",
    "    # Check for consecutive characters (e.g., \"abc\", \"123\")\n",
    "    for i in range(len(password) - 2):\n",
    "        if ord(password[i]) + 1 == ord(password[i + 1]) and ord(password[i]) + 2 == ord(password[i + 2]):\n",
    "            return False\n",
    "\n",
    "    # Check for password sequences (e.g., \"12345\", \"abcdef\")\n",
    "    if password in ('12345', '23456', '34567', '45678', '56789', '67890',\n",
    "                    'abcdefghijklmnopqrstuvwxyz', 'zyxwvutsrqponmlkjihgfedcba'):\n",
    "        return False\n",
    "\n",
    "    return True\n",
    "\n",
    "def main():\n",
    "    print(\"Password Validator\")\n",
    "    print(\"This program checks if a password meets complexity requirements.\")\n",
    "\n",
    "    password = input(\"Enter your password: \")\n",
    "\n",
    "    if is_valid_password(password):\n",
    "        print(\"Password is valid.\")\n",
    "    else:\n",
    "        print(\"Password is not valid. Please ensure it meets the complexity requirements.\")\n",
    "\n",
    "if __name__ == \"__main__\":\n",
    "    main()\n",
    "\n"
   ]
  },
  {
   "cell_type": "code",
   "execution_count": 176,
   "id": "f1bfeddd",
   "metadata": {},
   "outputs": [
    {
     "name": "stdout",
     "output_type": "stream",
     "text": [
      "Matrix Addition and Subtraction\n",
      "\n",
      "Enter the first matrix:\n"
     ]
    },
    {
     "ename": "KeyboardInterrupt",
     "evalue": "Interrupted by user",
     "output_type": "error",
     "traceback": [
      "\u001b[1;31m---------------------------------------------------------------------------\u001b[0m",
      "\u001b[1;31mKeyboardInterrupt\u001b[0m                         Traceback (most recent call last)",
      "Cell \u001b[1;32mIn[176], line 87\u001b[0m\n\u001b[0;32m     84\u001b[0m         \u001b[38;5;28mprint\u001b[39m(\u001b[38;5;124m\"\u001b[39m\u001b[38;5;130;01m\\n\u001b[39;00m\u001b[38;5;124mMatrix subtraction is not possible due to different dimensions.\u001b[39m\u001b[38;5;124m\"\u001b[39m)\n\u001b[0;32m     86\u001b[0m \u001b[38;5;28;01mif\u001b[39;00m \u001b[38;5;18m__name__\u001b[39m \u001b[38;5;241m==\u001b[39m \u001b[38;5;124m\"\u001b[39m\u001b[38;5;124m__main__\u001b[39m\u001b[38;5;124m\"\u001b[39m:\n\u001b[1;32m---> 87\u001b[0m     \u001b[43mmain\u001b[49m\u001b[43m(\u001b[49m\u001b[43m)\u001b[49m\n",
      "Cell \u001b[1;32mIn[176], line 57\u001b[0m, in \u001b[0;36mmain\u001b[1;34m()\u001b[0m\n\u001b[0;32m     54\u001b[0m \u001b[38;5;28mprint\u001b[39m(\u001b[38;5;124m\"\u001b[39m\u001b[38;5;124mMatrix Addition and Subtraction\u001b[39m\u001b[38;5;124m\"\u001b[39m)\n\u001b[0;32m     56\u001b[0m \u001b[38;5;28mprint\u001b[39m(\u001b[38;5;124m\"\u001b[39m\u001b[38;5;130;01m\\n\u001b[39;00m\u001b[38;5;124mEnter the first matrix:\u001b[39m\u001b[38;5;124m\"\u001b[39m)\n\u001b[1;32m---> 57\u001b[0m matrix1 \u001b[38;5;241m=\u001b[39m \u001b[43minput_matrix\u001b[49m\u001b[43m(\u001b[49m\u001b[43m)\u001b[49m\n\u001b[0;32m     59\u001b[0m \u001b[38;5;28mprint\u001b[39m(\u001b[38;5;124m\"\u001b[39m\u001b[38;5;130;01m\\n\u001b[39;00m\u001b[38;5;124mEnter the second matrix:\u001b[39m\u001b[38;5;124m\"\u001b[39m)\n\u001b[0;32m     60\u001b[0m matrix2 \u001b[38;5;241m=\u001b[39m input_matrix()\n",
      "Cell \u001b[1;32mIn[176], line 29\u001b[0m, in \u001b[0;36minput_matrix\u001b[1;34m()\u001b[0m\n\u001b[0;32m     27\u001b[0m \u001b[38;5;28;01mdef\u001b[39;00m \u001b[38;5;21minput_matrix\u001b[39m():\n\u001b[0;32m     28\u001b[0m     \u001b[38;5;28;01mtry\u001b[39;00m:\n\u001b[1;32m---> 29\u001b[0m         rows \u001b[38;5;241m=\u001b[39m \u001b[38;5;28mint\u001b[39m(\u001b[38;5;28;43minput\u001b[39;49m\u001b[43m(\u001b[49m\u001b[38;5;124;43m\"\u001b[39;49m\u001b[38;5;124;43mEnter the number of rows: \u001b[39;49m\u001b[38;5;124;43m\"\u001b[39;49m\u001b[43m)\u001b[49m)\n\u001b[0;32m     30\u001b[0m         columns \u001b[38;5;241m=\u001b[39m \u001b[38;5;28mint\u001b[39m(\u001b[38;5;28minput\u001b[39m(\u001b[38;5;124m\"\u001b[39m\u001b[38;5;124mEnter the number of columns: \u001b[39m\u001b[38;5;124m\"\u001b[39m))\n\u001b[0;32m     31\u001b[0m         matrix \u001b[38;5;241m=\u001b[39m []\n",
      "File \u001b[1;32m~\\anaconda3\\lib\\site-packages\\ipykernel\\kernelbase.py:1175\u001b[0m, in \u001b[0;36mKernel.raw_input\u001b[1;34m(self, prompt)\u001b[0m\n\u001b[0;32m   1171\u001b[0m \u001b[38;5;28;01mif\u001b[39;00m \u001b[38;5;129;01mnot\u001b[39;00m \u001b[38;5;28mself\u001b[39m\u001b[38;5;241m.\u001b[39m_allow_stdin:\n\u001b[0;32m   1172\u001b[0m     \u001b[38;5;28;01mraise\u001b[39;00m StdinNotImplementedError(\n\u001b[0;32m   1173\u001b[0m         \u001b[38;5;124m\"\u001b[39m\u001b[38;5;124mraw_input was called, but this frontend does not support input requests.\u001b[39m\u001b[38;5;124m\"\u001b[39m\n\u001b[0;32m   1174\u001b[0m     )\n\u001b[1;32m-> 1175\u001b[0m \u001b[38;5;28;01mreturn\u001b[39;00m \u001b[38;5;28;43mself\u001b[39;49m\u001b[38;5;241;43m.\u001b[39;49m\u001b[43m_input_request\u001b[49m\u001b[43m(\u001b[49m\n\u001b[0;32m   1176\u001b[0m \u001b[43m    \u001b[49m\u001b[38;5;28;43mstr\u001b[39;49m\u001b[43m(\u001b[49m\u001b[43mprompt\u001b[49m\u001b[43m)\u001b[49m\u001b[43m,\u001b[49m\n\u001b[0;32m   1177\u001b[0m \u001b[43m    \u001b[49m\u001b[38;5;28;43mself\u001b[39;49m\u001b[38;5;241;43m.\u001b[39;49m\u001b[43m_parent_ident\u001b[49m\u001b[43m[\u001b[49m\u001b[38;5;124;43m\"\u001b[39;49m\u001b[38;5;124;43mshell\u001b[39;49m\u001b[38;5;124;43m\"\u001b[39;49m\u001b[43m]\u001b[49m\u001b[43m,\u001b[49m\n\u001b[0;32m   1178\u001b[0m \u001b[43m    \u001b[49m\u001b[38;5;28;43mself\u001b[39;49m\u001b[38;5;241;43m.\u001b[39;49m\u001b[43mget_parent\u001b[49m\u001b[43m(\u001b[49m\u001b[38;5;124;43m\"\u001b[39;49m\u001b[38;5;124;43mshell\u001b[39;49m\u001b[38;5;124;43m\"\u001b[39;49m\u001b[43m)\u001b[49m\u001b[43m,\u001b[49m\n\u001b[0;32m   1179\u001b[0m \u001b[43m    \u001b[49m\u001b[43mpassword\u001b[49m\u001b[38;5;241;43m=\u001b[39;49m\u001b[38;5;28;43;01mFalse\u001b[39;49;00m\u001b[43m,\u001b[49m\n\u001b[0;32m   1180\u001b[0m \u001b[43m\u001b[49m\u001b[43m)\u001b[49m\n",
      "File \u001b[1;32m~\\anaconda3\\lib\\site-packages\\ipykernel\\kernelbase.py:1217\u001b[0m, in \u001b[0;36mKernel._input_request\u001b[1;34m(self, prompt, ident, parent, password)\u001b[0m\n\u001b[0;32m   1214\u001b[0m             \u001b[38;5;28;01mbreak\u001b[39;00m\n\u001b[0;32m   1215\u001b[0m \u001b[38;5;28;01mexcept\u001b[39;00m \u001b[38;5;167;01mKeyboardInterrupt\u001b[39;00m:\n\u001b[0;32m   1216\u001b[0m     \u001b[38;5;66;03m# re-raise KeyboardInterrupt, to truncate traceback\u001b[39;00m\n\u001b[1;32m-> 1217\u001b[0m     \u001b[38;5;28;01mraise\u001b[39;00m \u001b[38;5;167;01mKeyboardInterrupt\u001b[39;00m(\u001b[38;5;124m\"\u001b[39m\u001b[38;5;124mInterrupted by user\u001b[39m\u001b[38;5;124m\"\u001b[39m) \u001b[38;5;28;01mfrom\u001b[39;00m \u001b[38;5;28;01mNone\u001b[39;00m\n\u001b[0;32m   1218\u001b[0m \u001b[38;5;28;01mexcept\u001b[39;00m \u001b[38;5;167;01mException\u001b[39;00m:\n\u001b[0;32m   1219\u001b[0m     \u001b[38;5;28mself\u001b[39m\u001b[38;5;241m.\u001b[39mlog\u001b[38;5;241m.\u001b[39mwarning(\u001b[38;5;124m\"\u001b[39m\u001b[38;5;124mInvalid Message:\u001b[39m\u001b[38;5;124m\"\u001b[39m, exc_info\u001b[38;5;241m=\u001b[39m\u001b[38;5;28;01mTrue\u001b[39;00m)\n",
      "\u001b[1;31mKeyboardInterrupt\u001b[0m: Interrupted by user"
     ]
    }
   ],
   "source": [
    "# 32. Develop a program that performs matrix addition and subtraction based on user input.\n",
    "\n",
    "def matrix_addition(matrix1, matrix2):\n",
    "    if len(matrix1) != len(matrix2) or len(matrix1[0]) != len(matrix2[0]):\n",
    "        return None  # Matrices must have the same dimensions for addition\n",
    "\n",
    "    result = [[0 for _ in range(len(matrix1[0]))] for _ in range(len(matrix1))]\n",
    "\n",
    "    for i in range(len(matrix1)):\n",
    "        for j in range(len(matrix1[0])):\n",
    "            result[i][j] = matrix1[i][j] + matrix2[i][j]\n",
    "\n",
    "    return result\n",
    "\n",
    "def matrix_subtraction(matrix1, matrix2):\n",
    "    if len(matrix1) != len(matrix2) or len(matrix1[0]) != len(matrix2[0]):\n",
    "        return None  # Matrices must have the same dimensions for subtraction\n",
    "\n",
    "    result = [[0 for _ in range(len(matrix1[0]))] for _ in range(len(matrix1))]\n",
    "\n",
    "    for i in range(len(matrix1)):\n",
    "        for j in range(len(matrix1[0])):\n",
    "            result[i][j] = matrix1[i][j] - matrix2[i][j]\n",
    "\n",
    "    return result\n",
    "\n",
    "def input_matrix():\n",
    "    try:\n",
    "        rows = int(input(\"Enter the number of rows: \"))\n",
    "        columns = int(input(\"Enter the number of columns: \"))\n",
    "        matrix = []\n",
    "\n",
    "        for i in range(rows):\n",
    "            row = []\n",
    "            print(f\"Enter row {i + 1} (separate elements with spaces):\")\n",
    "            row_elements = input().split()\n",
    "            if len(row_elements) != columns:\n",
    "                print(\"Invalid input. Each row must have the same number of elements as columns.\")\n",
    "                return None\n",
    "            for element in row_elements:\n",
    "                row.append(float(element))\n",
    "            matrix.append(row)\n",
    "\n",
    "        return matrix\n",
    "    except ValueError:\n",
    "        print(\"Invalid input. Please enter valid numeric values for matrix elements.\")\n",
    "        return None\n",
    "\n",
    "def display_matrix(matrix):\n",
    "    for row in matrix:\n",
    "        print(' '.join(map(str, row)))\n",
    "\n",
    "def main():\n",
    "    print(\"Matrix Addition and Subtraction\")\n",
    "    \n",
    "    print(\"\\nEnter the first matrix:\")\n",
    "    matrix1 = input_matrix()\n",
    "\n",
    "    print(\"\\nEnter the second matrix:\")\n",
    "    matrix2 = input_matrix()\n",
    "\n",
    "    if matrix1 is None or matrix2 is None:\n",
    "        return\n",
    "\n",
    "    print(\"\\nMatrix 1:\")\n",
    "    display_matrix(matrix1)\n",
    "\n",
    "    print(\"\\nMatrix 2:\")\n",
    "    display_matrix(matrix2)\n",
    "\n",
    "    addition_result = matrix_addition(matrix1, matrix2)\n",
    "    subtraction_result = matrix_subtraction(matrix1, matrix2)\n",
    "\n",
    "    if addition_result is not None:\n",
    "        print(\"\\nMatrix Addition (Matrix 1 + Matrix 2):\")\n",
    "        display_matrix(addition_result)\n",
    "    else:\n",
    "        print(\"\\nMatrix addition is not possible due to different dimensions.\")\n",
    "\n",
    "    if subtraction_result is not None:\n",
    "        print(\"\\nMatrix Subtraction (Matrix 1 - Matrix 2):\")\n",
    "        display_matrix(subtraction_result)\n",
    "    else:\n",
    "        print(\"\\nMatrix subtraction is not possible due to different dimensions.\")\n",
    "\n",
    "if __name__ == \"__main__\":\n",
    "    main()\n"
   ]
  },
  {
   "cell_type": "code",
   "execution_count": 177,
   "id": "509cae36",
   "metadata": {},
   "outputs": [
    {
     "name": "stdout",
     "output_type": "stream",
     "text": [
      "Greatest Common Divisor (GCD) Calculator\n",
      "This program calculates the GCD of two numbers using the Euclidean algorithm.\n"
     ]
    },
    {
     "ename": "KeyboardInterrupt",
     "evalue": "Interrupted by user",
     "output_type": "error",
     "traceback": [
      "\u001b[1;31m---------------------------------------------------------------------------\u001b[0m",
      "\u001b[1;31mKeyboardInterrupt\u001b[0m                         Traceback (most recent call last)",
      "Cell \u001b[1;32mIn[177], line 28\u001b[0m\n\u001b[0;32m     25\u001b[0m         \u001b[38;5;28mprint\u001b[39m(\u001b[38;5;124m\"\u001b[39m\u001b[38;5;124mInvalid input. Please enter valid integers.\u001b[39m\u001b[38;5;124m\"\u001b[39m)\n\u001b[0;32m     27\u001b[0m \u001b[38;5;28;01mif\u001b[39;00m \u001b[38;5;18m__name__\u001b[39m \u001b[38;5;241m==\u001b[39m \u001b[38;5;124m\"\u001b[39m\u001b[38;5;124m__main__\u001b[39m\u001b[38;5;124m\"\u001b[39m:\n\u001b[1;32m---> 28\u001b[0m     \u001b[43mmain\u001b[49m\u001b[43m(\u001b[49m\u001b[43m)\u001b[49m\n",
      "Cell \u001b[1;32mIn[177], line 14\u001b[0m, in \u001b[0;36mmain\u001b[1;34m()\u001b[0m\n\u001b[0;32m     11\u001b[0m \u001b[38;5;28mprint\u001b[39m(\u001b[38;5;124m\"\u001b[39m\u001b[38;5;124mThis program calculates the GCD of two numbers using the Euclidean algorithm.\u001b[39m\u001b[38;5;124m\"\u001b[39m)\n\u001b[0;32m     13\u001b[0m \u001b[38;5;28;01mtry\u001b[39;00m:\n\u001b[1;32m---> 14\u001b[0m     num1 \u001b[38;5;241m=\u001b[39m \u001b[38;5;28mint\u001b[39m(\u001b[38;5;28;43minput\u001b[39;49m\u001b[43m(\u001b[49m\u001b[38;5;124;43m\"\u001b[39;49m\u001b[38;5;124;43mEnter the first number: \u001b[39;49m\u001b[38;5;124;43m\"\u001b[39;49m\u001b[43m)\u001b[49m)\n\u001b[0;32m     15\u001b[0m     num2 \u001b[38;5;241m=\u001b[39m \u001b[38;5;28mint\u001b[39m(\u001b[38;5;28minput\u001b[39m(\u001b[38;5;124m\"\u001b[39m\u001b[38;5;124mEnter the second number: \u001b[39m\u001b[38;5;124m\"\u001b[39m))\n\u001b[0;32m     17\u001b[0m     \u001b[38;5;28;01mif\u001b[39;00m num1 \u001b[38;5;241m<\u001b[39m \u001b[38;5;241m0\u001b[39m \u001b[38;5;129;01mor\u001b[39;00m num2 \u001b[38;5;241m<\u001b[39m \u001b[38;5;241m0\u001b[39m:\n",
      "File \u001b[1;32m~\\anaconda3\\lib\\site-packages\\ipykernel\\kernelbase.py:1175\u001b[0m, in \u001b[0;36mKernel.raw_input\u001b[1;34m(self, prompt)\u001b[0m\n\u001b[0;32m   1171\u001b[0m \u001b[38;5;28;01mif\u001b[39;00m \u001b[38;5;129;01mnot\u001b[39;00m \u001b[38;5;28mself\u001b[39m\u001b[38;5;241m.\u001b[39m_allow_stdin:\n\u001b[0;32m   1172\u001b[0m     \u001b[38;5;28;01mraise\u001b[39;00m StdinNotImplementedError(\n\u001b[0;32m   1173\u001b[0m         \u001b[38;5;124m\"\u001b[39m\u001b[38;5;124mraw_input was called, but this frontend does not support input requests.\u001b[39m\u001b[38;5;124m\"\u001b[39m\n\u001b[0;32m   1174\u001b[0m     )\n\u001b[1;32m-> 1175\u001b[0m \u001b[38;5;28;01mreturn\u001b[39;00m \u001b[38;5;28;43mself\u001b[39;49m\u001b[38;5;241;43m.\u001b[39;49m\u001b[43m_input_request\u001b[49m\u001b[43m(\u001b[49m\n\u001b[0;32m   1176\u001b[0m \u001b[43m    \u001b[49m\u001b[38;5;28;43mstr\u001b[39;49m\u001b[43m(\u001b[49m\u001b[43mprompt\u001b[49m\u001b[43m)\u001b[49m\u001b[43m,\u001b[49m\n\u001b[0;32m   1177\u001b[0m \u001b[43m    \u001b[49m\u001b[38;5;28;43mself\u001b[39;49m\u001b[38;5;241;43m.\u001b[39;49m\u001b[43m_parent_ident\u001b[49m\u001b[43m[\u001b[49m\u001b[38;5;124;43m\"\u001b[39;49m\u001b[38;5;124;43mshell\u001b[39;49m\u001b[38;5;124;43m\"\u001b[39;49m\u001b[43m]\u001b[49m\u001b[43m,\u001b[49m\n\u001b[0;32m   1178\u001b[0m \u001b[43m    \u001b[49m\u001b[38;5;28;43mself\u001b[39;49m\u001b[38;5;241;43m.\u001b[39;49m\u001b[43mget_parent\u001b[49m\u001b[43m(\u001b[49m\u001b[38;5;124;43m\"\u001b[39;49m\u001b[38;5;124;43mshell\u001b[39;49m\u001b[38;5;124;43m\"\u001b[39;49m\u001b[43m)\u001b[49m\u001b[43m,\u001b[49m\n\u001b[0;32m   1179\u001b[0m \u001b[43m    \u001b[49m\u001b[43mpassword\u001b[49m\u001b[38;5;241;43m=\u001b[39;49m\u001b[38;5;28;43;01mFalse\u001b[39;49;00m\u001b[43m,\u001b[49m\n\u001b[0;32m   1180\u001b[0m \u001b[43m\u001b[49m\u001b[43m)\u001b[49m\n",
      "File \u001b[1;32m~\\anaconda3\\lib\\site-packages\\ipykernel\\kernelbase.py:1217\u001b[0m, in \u001b[0;36mKernel._input_request\u001b[1;34m(self, prompt, ident, parent, password)\u001b[0m\n\u001b[0;32m   1214\u001b[0m             \u001b[38;5;28;01mbreak\u001b[39;00m\n\u001b[0;32m   1215\u001b[0m \u001b[38;5;28;01mexcept\u001b[39;00m \u001b[38;5;167;01mKeyboardInterrupt\u001b[39;00m:\n\u001b[0;32m   1216\u001b[0m     \u001b[38;5;66;03m# re-raise KeyboardInterrupt, to truncate traceback\u001b[39;00m\n\u001b[1;32m-> 1217\u001b[0m     \u001b[38;5;28;01mraise\u001b[39;00m \u001b[38;5;167;01mKeyboardInterrupt\u001b[39;00m(\u001b[38;5;124m\"\u001b[39m\u001b[38;5;124mInterrupted by user\u001b[39m\u001b[38;5;124m\"\u001b[39m) \u001b[38;5;28;01mfrom\u001b[39;00m \u001b[38;5;28;01mNone\u001b[39;00m\n\u001b[0;32m   1218\u001b[0m \u001b[38;5;28;01mexcept\u001b[39;00m \u001b[38;5;167;01mException\u001b[39;00m:\n\u001b[0;32m   1219\u001b[0m     \u001b[38;5;28mself\u001b[39m\u001b[38;5;241m.\u001b[39mlog\u001b[38;5;241m.\u001b[39mwarning(\u001b[38;5;124m\"\u001b[39m\u001b[38;5;124mInvalid Message:\u001b[39m\u001b[38;5;124m\"\u001b[39m, exc_info\u001b[38;5;241m=\u001b[39m\u001b[38;5;28;01mTrue\u001b[39;00m)\n",
      "\u001b[1;31mKeyboardInterrupt\u001b[0m: Interrupted by user"
     ]
    }
   ],
   "source": [
    "# 33. Write a program that calculates the greatest common divisor (GCD) of two numbers using the Euclidean\n",
    "# algorithm.\n",
    "\n",
    "def euclidean_gcd(a, b):\n",
    "    while b:\n",
    "        a, b = b, a % b\n",
    "    return a\n",
    "\n",
    "def main():\n",
    "    print(\"Greatest Common Divisor (GCD) Calculator\")\n",
    "    print(\"This program calculates the GCD of two numbers using the Euclidean algorithm.\")\n",
    "\n",
    "    try:\n",
    "        num1 = int(input(\"Enter the first number: \"))\n",
    "        num2 = int(input(\"Enter the second number: \"))\n",
    "\n",
    "        if num1 < 0 or num2 < 0:\n",
    "            print(\"Invalid input. Please enter positive integers.\")\n",
    "            return\n",
    "\n",
    "        gcd = euclidean_gcd(num1, num2)\n",
    "        print(f\"The GCD of {num1} and {num2} is: {gcd}\")\n",
    "\n",
    "    except ValueError:\n",
    "        print(\"Invalid input. Please enter valid integers.\")\n",
    "\n",
    "if __name__ == \"__main__\":\n",
    "    main()\n",
    "\n",
    "\n"
   ]
  },
  {
   "cell_type": "code",
   "execution_count": null,
   "id": "bc072c82",
   "metadata": {},
   "outputs": [],
   "source": [
    "# 34. Build a program that performs matrix multiplication using nested loops and conditional statements.\n",
    "\n",
    "\n",
    "def matrix_multiply(matrix1, matrix2):\n",
    "    if len(matrix1[0]) != len(matrix2):\n",
    "        return None  # Matrices cannot be multiplied if the number of columns in matrix1 is not equal to the number of rows in matrix2\n",
    "\n",
    "    result = [[0 for _ in range(len(matrix2[0]))] for _ in range(len(matrix1))]\n",
    "\n",
    "    for i in range(len(matrix1)):\n",
    "        for j in range(len(matrix2[0])):\n",
    "            for k in range(len(matrix2)):\n",
    "                result[i][j] += matrix1[i][k] * matrix2[k][j]\n",
    "\n",
    "    return result\n",
    "\n",
    "def input_matrix(rows, columns):\n",
    "    try:\n",
    "        matrix = []\n",
    "\n",
    "        for i in range(rows):\n",
    "            row = []\n",
    "            print(f\"Enter row {i + 1} (separate elements with spaces):\")\n",
    "            row_elements = input().split()\n",
    "            if len(row_elements) != columns:\n",
    "                print(\"Invalid input. Each row must have the same number of elements as columns.\")\n",
    "                return None\n",
    "            for element in row_elements:\n",
    "                row.append(float(element))\n",
    "            matrix.append(row)\n",
    "\n",
    "        return matrix\n",
    "    except ValueError:\n",
    "        print(\"Invalid input. Please enter valid numeric values for matrix elements.\")\n",
    "        return None\n",
    "\n",
    "def display_matrix(matrix):\n",
    "    for row in matrix:\n",
    "        print(' '.join(map(str, row)))\n",
    "\n",
    "def main():\n",
    "   \n",
    "\n"
   ]
  },
  {
   "cell_type": "code",
   "execution_count": 178,
   "id": "0f5ae14c",
   "metadata": {},
   "outputs": [
    {
     "name": "stdout",
     "output_type": "stream",
     "text": [
      "Welcome to Tic-Tac-Toe!\n",
      "  |   |  \n",
      "---------\n",
      "  |   |  \n",
      "---------\n",
      "  |   |  \n",
      "---------\n",
      "Your turn (X)\n",
      "Enter your move (1-9): 5\n",
      "  |   |  \n",
      "---------\n",
      "  | X |  \n",
      "---------\n",
      "  |   |  \n",
      "---------\n",
      "Computer's turn (O)\n",
      "  |   |  \n",
      "---------\n",
      "O | X |  \n",
      "---------\n",
      "  |   |  \n",
      "---------\n",
      "Your turn (X)\n",
      "Enter your move (1-9): 6\n",
      "  |   |  \n",
      "---------\n",
      "O | X | X\n",
      "---------\n",
      "  |   |  \n",
      "---------\n",
      "Computer's turn (O)\n",
      "O |   |  \n",
      "---------\n",
      "O | X | X\n",
      "---------\n",
      "  |   |  \n",
      "---------\n",
      "Your turn (X)\n",
      "Enter your move (1-9): 9\n",
      "O |   |  \n",
      "---------\n",
      "O | X | X\n",
      "---------\n",
      "  |   | X\n",
      "---------\n",
      "Computer's turn (O)\n",
      "O |   |  \n",
      "---------\n",
      "O | X | X\n",
      "---------\n",
      "  | O | X\n",
      "---------\n",
      "Your turn (X)\n",
      "Enter your move (1-9): 8\n",
      "That position is already taken. Choose another.\n",
      "Enter your move (1-9): 5\n",
      "That position is already taken. Choose another.\n",
      "Enter your move (1-9): 4\n",
      "That position is already taken. Choose another.\n",
      "Enter your move (1-9): 1\n",
      "That position is already taken. Choose another.\n",
      "Enter your move (1-9): \n",
      "Invalid input. Please enter a number between 1 and 9.\n",
      "Enter your move (1-9): 6\n",
      "That position is already taken. Choose another.\n",
      "Enter your move (1-9): 9\n",
      "That position is already taken. Choose another.\n",
      "Enter your move (1-9): 0\n",
      "Invalid move. Please enter a number between 1 and 9.\n",
      "Enter your move (1-9): 2\n",
      "O | X |  \n",
      "---------\n",
      "O | X | X\n",
      "---------\n",
      "  | O | X\n",
      "---------\n",
      "Computer's turn (O)\n",
      "O | X | O\n",
      "---------\n",
      "O | X | X\n",
      "---------\n",
      "  | O | X\n",
      "---------\n",
      "Your turn (X)\n",
      "Enter your move (1-9): 4\n",
      "That position is already taken. Choose another.\n",
      "Enter your move (1-9): 5\n",
      "That position is already taken. Choose another.\n",
      "Enter your move (1-9): 6\n",
      "That position is already taken. Choose another.\n",
      "Enter your move (1-9): 7\n",
      "O | X | O\n",
      "---------\n",
      "O | X | X\n",
      "---------\n",
      "X | O | X\n",
      "---------\n",
      "It's a tie!\n",
      "Game Over!\n"
     ]
    }
   ],
   "source": [
    "# 35. Create a program that simulates a basic text-based tic-tac-toe game against the computer.\n",
    "\n",
    "\n",
    "import random\n",
    "\n",
    "def print_board(board):\n",
    "    for row in board:\n",
    "        print(\" | \".join(row))\n",
    "        print(\"-\" * 9)\n",
    "\n",
    "def check_winner(board, player):\n",
    "    # Check rows, columns, and diagonals for a win\n",
    "    for i in range(3):\n",
    "        if all(board[i][j] == player for j in range(3)) or all(board[j][i] == player for j in range(3)):\n",
    "            return True\n",
    "    if all(board[i][i] == player for i in range(3)) or all(board[i][2 - i] == player for i in range(3)):\n",
    "        return True\n",
    "    return False\n",
    "\n",
    "def is_board_full(board):\n",
    "    return all(board[i][j] != \" \" for i in range(3) for j in range(3))\n",
    "\n",
    "def get_player_move(board):\n",
    "    while True:\n",
    "        try:\n",
    "            move = int(input(\"Enter your move (1-9): \"))\n",
    "            if move < 1 or move > 9:\n",
    "                print(\"Invalid move. Please enter a number between 1 and 9.\")\n",
    "            else:\n",
    "                row, col = divmod(move - 1, 3)\n",
    "                if board[row][col] == \" \":\n",
    "                    return row, col\n",
    "                else:\n",
    "                    print(\"That position is already taken. Choose another.\")\n",
    "        except ValueError:\n",
    "            print(\"Invalid input. Please enter a number between 1 and 9.\")\n",
    "\n",
    "def get_computer_move(board):\n",
    "    empty_cells = [(i, j) for i in range(3) for j in range(3) if board[i][j] == \" \"]\n",
    "    return random.choice(empty_cells)\n",
    "\n",
    "def play_tic_tac_toe():\n",
    "    board = [[\" \" for _ in range(3)] for _ in range(3)]\n",
    "    player_symbol = \"X\"\n",
    "    computer_symbol = \"O\"\n",
    "    current_player = \"player\"\n",
    "\n",
    "    print(\"Welcome to Tic-Tac-Toe!\")\n",
    "\n",
    "    while True:\n",
    "        print_board(board)\n",
    "\n",
    "        if current_player == \"player\":\n",
    "            print(\"Your turn (X)\")\n",
    "            row, col = get_player_move(board)\n",
    "            board[row][col] = player_symbol\n",
    "            if check_winner(board, player_symbol):\n",
    "                print_board(board)\n",
    "                print(\"Congratulations! You win!\")\n",
    "                break\n",
    "            elif is_board_full(board):\n",
    "                print_board(board)\n",
    "                print(\"It's a tie!\")\n",
    "                break\n",
    "            current_player = \"computer\"\n",
    "        else:\n",
    "            print(\"Computer's turn (O)\")\n",
    "            row, col = get_computer_move(board)\n",
    "            board[row][col] = computer_symbol\n",
    "            if check_winner(board, computer_symbol):\n",
    "                print_board(board)\n",
    "                print(\"Computer wins! Better luck next time.\")\n",
    "                break\n",
    "            elif is_board_full(board):\n",
    "                print_board(board)\n",
    "                print(\"It's a tie!\")\n",
    "                break\n",
    "            current_player = \"player\"\n",
    "\n",
    "    print(\"Game Over!\")\n",
    "\n",
    "if __name__ == \"__main__\":\n",
    "    play_tic_tac_toe()\n"
   ]
  },
  {
   "cell_type": "code",
   "execution_count": 179,
   "id": "3c7d2480",
   "metadata": {},
   "outputs": [
    {
     "name": "stdout",
     "output_type": "stream",
     "text": [
      "Fibonacci Number Generator (Iterative)\n",
      "Enter the number of Fibonacci numbers to generate: 2\n",
      "The first 2 Fibonacci numbers are:\n",
      "[0, 1]\n"
     ]
    }
   ],
   "source": [
    "# 36. Write a program that generates Fibonacci numbers up to a specified term using iterative methods.\n",
    "\n",
    "\n",
    "def generate_fibonacci(n):\n",
    "    fibonacci_sequence = [0, 1]\n",
    "\n",
    "    if n <= 0:\n",
    "        return []\n",
    "    elif n == 1:\n",
    "        return [0]\n",
    "    elif n == 2:\n",
    "        return fibonacci_sequence\n",
    "\n",
    "    while len(fibonacci_sequence) < n:\n",
    "        next_term = fibonacci_sequence[-1] + fibonacci_sequence[-2]\n",
    "        fibonacci_sequence.append(next_term)\n",
    "\n",
    "    return fibonacci_sequence\n",
    "\n",
    "def main():\n",
    "    print(\"Fibonacci Number Generator (Iterative)\")\n",
    "    try:\n",
    "        n = int(input(\"Enter the number of Fibonacci numbers to generate: \"))\n",
    "        if n < 0:\n",
    "            print(\"Please enter a non-negative integer.\")\n",
    "        else:\n",
    "            fibonacci_sequence = generate_fibonacci(n)\n",
    "            print(f\"The first {n} Fibonacci numbers are:\")\n",
    "            print(fibonacci_sequence)\n",
    "    except ValueError:\n",
    "        print(\"Invalid input. Please enter a valid integer.\")\n",
    "\n",
    "if __name__ == \"__main__\":\n",
    "    main()\n"
   ]
  },
  {
   "cell_type": "code",
   "execution_count": 180,
   "id": "cc388195",
   "metadata": {},
   "outputs": [
    {
     "name": "stdout",
     "output_type": "stream",
     "text": [
      "Fibonacci Term Calculator (Memoization)\n"
     ]
    },
    {
     "ename": "KeyboardInterrupt",
     "evalue": "Interrupted by user",
     "output_type": "error",
     "traceback": [
      "\u001b[1;31m---------------------------------------------------------------------------\u001b[0m",
      "\u001b[1;31mKeyboardInterrupt\u001b[0m                         Traceback (most recent call last)",
      "Cell \u001b[1;32mIn[180], line 35\u001b[0m\n\u001b[0;32m     32\u001b[0m         \u001b[38;5;28mprint\u001b[39m(\u001b[38;5;124m\"\u001b[39m\u001b[38;5;124mInvalid input. Please enter a valid integer.\u001b[39m\u001b[38;5;124m\"\u001b[39m)\n\u001b[0;32m     34\u001b[0m \u001b[38;5;28;01mif\u001b[39;00m \u001b[38;5;18m__name__\u001b[39m \u001b[38;5;241m==\u001b[39m \u001b[38;5;124m\"\u001b[39m\u001b[38;5;124m__main__\u001b[39m\u001b[38;5;124m\"\u001b[39m:\n\u001b[1;32m---> 35\u001b[0m     \u001b[43mmain\u001b[49m\u001b[43m(\u001b[49m\u001b[43m)\u001b[49m\n",
      "Cell \u001b[1;32mIn[180], line 25\u001b[0m, in \u001b[0;36mmain\u001b[1;34m()\u001b[0m\n\u001b[0;32m     23\u001b[0m \u001b[38;5;28mprint\u001b[39m(\u001b[38;5;124m\"\u001b[39m\u001b[38;5;124mFibonacci Term Calculator (Memoization)\u001b[39m\u001b[38;5;124m\"\u001b[39m)\n\u001b[0;32m     24\u001b[0m \u001b[38;5;28;01mtry\u001b[39;00m:\n\u001b[1;32m---> 25\u001b[0m     n \u001b[38;5;241m=\u001b[39m \u001b[38;5;28mint\u001b[39m(\u001b[38;5;28;43minput\u001b[39;49m\u001b[43m(\u001b[49m\u001b[38;5;124;43m\"\u001b[39;49m\u001b[38;5;124;43mEnter the value of n to calculate the nth Fibonacci term: \u001b[39;49m\u001b[38;5;124;43m\"\u001b[39;49m\u001b[43m)\u001b[49m)\n\u001b[0;32m     26\u001b[0m     \u001b[38;5;28;01mif\u001b[39;00m n \u001b[38;5;241m<\u001b[39m \u001b[38;5;241m0\u001b[39m:\n\u001b[0;32m     27\u001b[0m         \u001b[38;5;28mprint\u001b[39m(\u001b[38;5;124m\"\u001b[39m\u001b[38;5;124mPlease enter a non-negative integer.\u001b[39m\u001b[38;5;124m\"\u001b[39m)\n",
      "File \u001b[1;32m~\\anaconda3\\lib\\site-packages\\ipykernel\\kernelbase.py:1175\u001b[0m, in \u001b[0;36mKernel.raw_input\u001b[1;34m(self, prompt)\u001b[0m\n\u001b[0;32m   1171\u001b[0m \u001b[38;5;28;01mif\u001b[39;00m \u001b[38;5;129;01mnot\u001b[39;00m \u001b[38;5;28mself\u001b[39m\u001b[38;5;241m.\u001b[39m_allow_stdin:\n\u001b[0;32m   1172\u001b[0m     \u001b[38;5;28;01mraise\u001b[39;00m StdinNotImplementedError(\n\u001b[0;32m   1173\u001b[0m         \u001b[38;5;124m\"\u001b[39m\u001b[38;5;124mraw_input was called, but this frontend does not support input requests.\u001b[39m\u001b[38;5;124m\"\u001b[39m\n\u001b[0;32m   1174\u001b[0m     )\n\u001b[1;32m-> 1175\u001b[0m \u001b[38;5;28;01mreturn\u001b[39;00m \u001b[38;5;28;43mself\u001b[39;49m\u001b[38;5;241;43m.\u001b[39;49m\u001b[43m_input_request\u001b[49m\u001b[43m(\u001b[49m\n\u001b[0;32m   1176\u001b[0m \u001b[43m    \u001b[49m\u001b[38;5;28;43mstr\u001b[39;49m\u001b[43m(\u001b[49m\u001b[43mprompt\u001b[49m\u001b[43m)\u001b[49m\u001b[43m,\u001b[49m\n\u001b[0;32m   1177\u001b[0m \u001b[43m    \u001b[49m\u001b[38;5;28;43mself\u001b[39;49m\u001b[38;5;241;43m.\u001b[39;49m\u001b[43m_parent_ident\u001b[49m\u001b[43m[\u001b[49m\u001b[38;5;124;43m\"\u001b[39;49m\u001b[38;5;124;43mshell\u001b[39;49m\u001b[38;5;124;43m\"\u001b[39;49m\u001b[43m]\u001b[49m\u001b[43m,\u001b[49m\n\u001b[0;32m   1178\u001b[0m \u001b[43m    \u001b[49m\u001b[38;5;28;43mself\u001b[39;49m\u001b[38;5;241;43m.\u001b[39;49m\u001b[43mget_parent\u001b[49m\u001b[43m(\u001b[49m\u001b[38;5;124;43m\"\u001b[39;49m\u001b[38;5;124;43mshell\u001b[39;49m\u001b[38;5;124;43m\"\u001b[39;49m\u001b[43m)\u001b[49m\u001b[43m,\u001b[49m\n\u001b[0;32m   1179\u001b[0m \u001b[43m    \u001b[49m\u001b[43mpassword\u001b[49m\u001b[38;5;241;43m=\u001b[39;49m\u001b[38;5;28;43;01mFalse\u001b[39;49;00m\u001b[43m,\u001b[49m\n\u001b[0;32m   1180\u001b[0m \u001b[43m\u001b[49m\u001b[43m)\u001b[49m\n",
      "File \u001b[1;32m~\\anaconda3\\lib\\site-packages\\ipykernel\\kernelbase.py:1217\u001b[0m, in \u001b[0;36mKernel._input_request\u001b[1;34m(self, prompt, ident, parent, password)\u001b[0m\n\u001b[0;32m   1214\u001b[0m             \u001b[38;5;28;01mbreak\u001b[39;00m\n\u001b[0;32m   1215\u001b[0m \u001b[38;5;28;01mexcept\u001b[39;00m \u001b[38;5;167;01mKeyboardInterrupt\u001b[39;00m:\n\u001b[0;32m   1216\u001b[0m     \u001b[38;5;66;03m# re-raise KeyboardInterrupt, to truncate traceback\u001b[39;00m\n\u001b[1;32m-> 1217\u001b[0m     \u001b[38;5;28;01mraise\u001b[39;00m \u001b[38;5;167;01mKeyboardInterrupt\u001b[39;00m(\u001b[38;5;124m\"\u001b[39m\u001b[38;5;124mInterrupted by user\u001b[39m\u001b[38;5;124m\"\u001b[39m) \u001b[38;5;28;01mfrom\u001b[39;00m \u001b[38;5;28;01mNone\u001b[39;00m\n\u001b[0;32m   1218\u001b[0m \u001b[38;5;28;01mexcept\u001b[39;00m \u001b[38;5;167;01mException\u001b[39;00m:\n\u001b[0;32m   1219\u001b[0m     \u001b[38;5;28mself\u001b[39m\u001b[38;5;241m.\u001b[39mlog\u001b[38;5;241m.\u001b[39mwarning(\u001b[38;5;124m\"\u001b[39m\u001b[38;5;124mInvalid Message:\u001b[39m\u001b[38;5;124m\"\u001b[39m, exc_info\u001b[38;5;241m=\u001b[39m\u001b[38;5;28;01mTrue\u001b[39;00m)\n",
      "\u001b[1;31mKeyboardInterrupt\u001b[0m: Interrupted by user"
     ]
    }
   ],
   "source": [
    "# 37. Develop a program that calculates the nth term of the Fibonacci sequence using memoization.\n",
    "\n",
    "\n",
    "# Initialize a dictionary to store previously computed Fibonacci terms\n",
    "fibonacci_cache = {}\n",
    "\n",
    "def fibonacci(n):\n",
    "    # Check if the term is already cached\n",
    "    if n in fibonacci_cache:\n",
    "        return fibonacci_cache[n]\n",
    "\n",
    "    # Calculate Fibonacci term recursively\n",
    "    if n <= 1:\n",
    "        result = n\n",
    "    else:\n",
    "        result = fibonacci(n - 1) + fibonacci(n - 2)\n",
    "\n",
    "    # Cache the result and return it\n",
    "    fibonacci_cache[n] = result\n",
    "    return result\n",
    "\n",
    "def main():\n",
    "    print(\"Fibonacci Term Calculator (Memoization)\")\n",
    "    try:\n",
    "        n = int(input(\"Enter the value of n to calculate the nth Fibonacci term: \"))\n",
    "        if n < 0:\n",
    "            print(\"Please enter a non-negative integer.\")\n",
    "        else:\n",
    "            fibonacci_result = fibonacci(n)\n",
    "            print(f\"The {n}th Fibonacci term is: {fibonacci_result}\")\n",
    "    except ValueError:\n",
    "        print(\"Invalid input. Please enter a valid integer.\")\n",
    "\n",
    "if __name__ == \"__main__\":\n",
    "    main()\n"
   ]
  },
  {
   "cell_type": "code",
   "execution_count": null,
   "id": "16d6aaff",
   "metadata": {},
   "outputs": [],
   "source": [
    "# 38. Create a program that generates a calendar for a given month and year using conditional statements.\n",
    "\n",
    "\n",
    "import calendar\n",
    "\n",
    "def generate_calendar(year, month):\n",
    "    cal = calendar.month(year, month)\n",
    "    return cal\n",
    "\n",
    "def main():\n",
    "    print(\"Calendar Generator\")\n",
    "    try:\n",
    "        year = int(input(\"Enter the year (e.g., 2023): \"))\n",
    "        month = int(input(\"Enter the month (1-12): \"))\n",
    "\n",
    "        if month < 1 or month > 12:\n",
    "            print(\"Invalid month. Please enter a number between 1 and 12.\")\n",
    "            return\n",
    "\n",
    "        calendar_output = generate_calendar(year, month)\n",
    "        print(\"\\nCalendar:\")\n",
    "        print(calendar_output)\n",
    "\n",
    "    except ValueError:\n",
    "        print(\"Invalid input. Please enter valid integers.\")\n",
    "\n",
    "if __name__ == \"__main__\":\n",
    "    main()\n"
   ]
  },
  {
   "cell_type": "code",
   "execution_count": 181,
   "id": "e8a1c054",
   "metadata": {},
   "outputs": [],
   "source": [
    "# 39. Build a program that simulates a basic text-based blackjack game against the computer.\n",
    "\n",
    "\n",
    "import random\n",
    "\n",
    "# Initialize the deck\n",
    "suits = ['Hearts', 'Diamonds', 'Clubs', 'Spades']\n",
    "ranks = ['Two', 'Three', 'Four', 'Five', 'Six', 'Seven', 'Eight', 'Nine', 'Ten', 'Jack', 'Queen', 'King', 'Ace']\n",
    "values = {'Two': 2, 'Three': 3, 'Four': 4, 'Five': 5, 'Six': 6, 'Seven': 7, 'Eight': 8, 'Nine': 9, 'Ten': 10,\n",
    "          'Jack': 10, 'Queen': 10, 'King': 10, 'Ace': 11}\n",
    "\n",
    "class Card:\n",
    "    def __init__(self, suit, rank):\n",
    "        self.suit = suit\n",
    "        self.rank = rank\n",
    "\n",
    "    def __str__(self):\n",
    "        return f\"{self.rank} of {self.suit}\"\n",
    "\n",
    "class Deck:\n",
    "    def __init__(self):\n",
    "        self.deck = [Card(suit, rank) for suit in suits for rank in ranks]\n",
    "\n",
    "    def shuffle(self):\n",
    "        random.shuffle(self.deck)\n",
    "\n",
    "    def deal(self):\n",
    "        return self.deck.pop()\n",
    "\n",
    "class Hand:\n",
    "    def __init__(self):\n",
    "        self.cards = []\n",
    "        self.value = 0\n",
    "        self.aces = 0\n",
    "\n",
    "    def add_card(self, card):\n",
    "        self.cards.append(card)\n",
    "        self.value += values[card.rank]\n",
    "        if card.rank == 'Ace':\n",
    "            self.aces += 1\n",
    "\n",
    "    def adjust_for_ace(self):\n",
    "        while self.value > 21 and self.aces:\n",
    "            self.value -= 10\n",
    "            self.aces -= 1\n",
    "\n",
    "def show_some(player, dealer):\n",
    "    print(\"\\nPlayer's hand:\")\n",
    "    for card in player.cards:\n",
    "        print(card)\n",
    "    print(f\"Total value: {player.value}\")\n",
    "\n",
    "    print(\"\\nDealer's hand:\")\n",
    "    print(dealer.cards[0])\n",
    "    print(\"One card face down.\")\n",
    "\n",
    "def show_all(player, dealer):\n",
    "    print(\"\\nPlayer's hand:\")\n",
    "    for card in player.cards:\n",
    "        print(card)\n",
    "    print(f\"Total value: {player.value}\")\n",
    "\n",
    "    print(\"\\nDealer's hand:\")\n",
    "    for card in dealer.cards:\n",
    "        print(card)\n",
    "    print(f\"Total value: {dealer.value}\")\n",
    "\n",
    "def take_bet(chips):\n",
    "    while True:\n",
    "        try:\n",
    "            bet = int(input(\"Place your bet: \"))\n",
    "            if bet <= chips:\n",
    "                return bet\n",
    "            else:\n",
    "                print(\"You don't have enough chips.\")\n",
    "        except ValueError:\n",
    "            print(\"Invalid input. Please enter a valid integer.\")\n",
    "\n",
    "def hit(deck, hand):\n",
    "    hand.add_card(deck.deal())\n",
    "    hand.adjust_for_ace()\n",
    "\n",
    "def player_busts(player_chips):\n",
    "    print(\"Player busts!\")\n",
    "    player_chips.lose_bet()\n",
    "\n",
    "def player_wins(player_chips):\n",
    "    print(\"Player wins!\")\n",
    "    player_chips.win_bet()\n",
    "\n",
    "def dealer_busts(player_chips):\n",
    "    print(\"Dealer busts! Player wins!\")\n",
    "    player_chips.win_bet()\n",
    "\n",
    "def dealer_wins(player_chips):\n",
    "    print(\"Dealer wins!\")\n",
    "    player_chips.lose_bet()\n",
    "\n",
    "def push():\n",
    "    print(\"It's a push! The game is a tie.\")\n",
    "\n",
    "class Chips:\n",
    "    def __init__(self):\n",
    "        self.total = 100\n",
    "        self.bet = 0\n",
    "\n",
    "    def win_bet(self):\n",
    "        self.total += self.bet\n",
    "\n",
    "    def lose_bet(self):\n",
    "        self.total -= self.bet\n",
    "\n",
    "def main():\n",
    "    print(\"Welcome to Blackjack!\")\n",
    "\n",
    "    while True:\n",
    "        # Initialize the deck, player's chips, and hands\n",
    "        deck = Deck()\n",
    "        deck.shuffle()\n",
    "        player_chips = Chips()\n",
    "        player_hand = Hand()\n",
    "        dealer_hand = Hand()\n",
    "\n",
    "        # Take the player's bet\n",
    "        player_chips.bet = take_bet(player_chips)\n",
    "\n",
    "        # Deal the initial two cards to the player and dealer\n",
    "        for _ in range(2):\n",
    "            player_hand.add_card(deck.deal())\n",
    "            dealer_hand.add_card(deck.deal())\n",
    "\n",
    "        # Show some cards (one dealer card hidden)\n",
    "        show_some(player_hand, dealer_hand)\n",
    "\n",
    "        # Player's turn\n",
    "        while player_hand.value < 21:\n",
    "            choice = input(\"Do you want to hit or stand? Enter 'h' or 's': \").lower()\n",
    "            if choice == 'h':\n",
    "                hit(deck, player_hand)\n",
    "                show_some(player_hand, dealer_hand)\n",
    "            elif choice == 's':\n",
    "                break\n",
    "            else:\n",
    "                print(\"Invalid choice. Please enter 'h' or 's'.\")\n",
    "\n",
    "        # Check if the player busts\n",
    "        if player_hand.value > 21:\n",
    "            player_busts(player_chips)\n",
    "        else:\n",
    "            # Dealer's turn\n",
    "            while dealer_hand.value < 17:\n",
    "                hit(deck, dealer_hand)\n",
    "\n",
    "            # Show all cards\n",
    "            show_all(player_hand, dealer_hand)\n",
    "\n",
    "            # Determine the winner\n",
    "            if dealer_hand.value > 21:\n",
    "                dealer_busts(player_chips)\n",
    "            elif dealer_hand.value > player_hand.value:\n",
    "                dealer_wins(player_chips)\n",
    "            elif dealer_hand.value < player_hand.value:\n",
    "                player_wins(player_chips)\n",
    "            else:\n",
    "                push()\n",
    "\n",
    "        # Display player's remaining chips\n",
    "        print(f\"Player's chips: {player_chips.total}\")\n",
    "\n",
    "        # Ask if the player wants to play again\n",
    "        play_again = input(\"Do you want to play again? Enter 'yes' or 'no': \").lower()\n"
   ]
  },
  {
   "cell_type": "code",
   "execution_count": 182,
   "id": "c614a447",
   "metadata": {},
   "outputs": [
    {
     "name": "stdout",
     "output_type": "stream",
     "text": [
      "Prime Factor Calculator\n",
      "Enter a positive integer to find its prime factors: 7\n",
      "7 is a prime number, and it has no prime factors other than itself.\n"
     ]
    }
   ],
   "source": [
    "# 40. Write a program that generates the prime factors of a given number using trial division.\n",
    "\n",
    "\n",
    "def prime_factors(n):\n",
    "    factors = []\n",
    "    divisor = 2  # Start with the smallest prime number\n",
    "\n",
    "    while divisor <= n:\n",
    "        if n % divisor == 0:\n",
    "            factors.append(divisor)\n",
    "            n = n // divisor  # Update n by dividing it by the divisor\n",
    "        else:\n",
    "            divisor += 1  # Try the next number\n",
    "\n",
    "    return factors\n",
    "\n",
    "def main():\n",
    "    print(\"Prime Factor Calculator\")\n",
    "    try:\n",
    "        n = int(input(\"Enter a positive integer to find its prime factors: \"))\n",
    "        if n < 2:\n",
    "            print(\"Prime factors are only defined for integers greater than or equal to 2.\")\n",
    "        else:\n",
    "            factors = prime_factors(n)\n",
    "            if len(factors) == 1 and factors[0] == n:\n",
    "                print(f\"{n} is a prime number, and it has no prime factors other than itself.\")\n",
    "            else:\n",
    "                print(f\"The prime factors of {n} are: {', '.join(map(str, factors))}\")\n",
    "    except ValueError:\n",
    "        print(\"Invalid input. Please enter a valid positive integer.\")\n",
    "\n",
    "if __name__ == \"__main__\":\n",
    "    main()\n"
   ]
  }
 ],
 "metadata": {
  "kernelspec": {
   "display_name": "Python 3 (ipykernel)",
   "language": "python",
   "name": "python3"
  },
  "language_info": {
   "codemirror_mode": {
    "name": "ipython",
    "version": 3
   },
   "file_extension": ".py",
   "mimetype": "text/x-python",
   "name": "python",
   "nbconvert_exporter": "python",
   "pygments_lexer": "ipython3",
   "version": "3.10.9"
  }
 },
 "nbformat": 4,
 "nbformat_minor": 5
}
