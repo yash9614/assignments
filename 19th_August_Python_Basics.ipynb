{
 "cells": [
  {
   "cell_type": "raw",
   "id": "7c3d41fc-0200-4f11-a0e3-0b63f8c74f80",
   "metadata": {},
   "source": [
    "# TOPIC: Python Basics Variable"
   ]
  },
  {
   "cell_type": "markdown",
   "id": "b0533b75-7f6b-46c3-8d28-961663743abe",
   "metadata": {},
   "source": [
    " 1. Declare two variables, `x` and `y`, and assign them integer values.\n",
    " Swap the values of these variables without using any temporary variable.\n",
    " "
   ]
  },
  {
   "cell_type": "code",
   "execution_count": 50,
   "id": "dbed0f77-15e1-4b1c-af86-f9f9d9554cb1",
   "metadata": {},
   "outputs": [
    {
     "name": "stdout",
     "output_type": "stream",
     "text": [
      "The value of x: 6\n",
      "The value of y: 4\n"
     ]
    }
   ],
   "source": [
    "#Program to swap two numbers without using third variable in python:\n",
    "\n",
    "#  Declare two variables\n",
    "\n",
    "x = 4\n",
    "\n",
    "y = 6\n",
    "\n",
    "\n",
    "\n",
    "#Perform operation on the variables:\n",
    "\n",
    "\n",
    "x = x + y\n",
    "\n",
    "y = x - y\n",
    "\n",
    "\n",
    "#Print the value of x & y:\n",
    "\n",
    "x\n",
    "\n",
    "y\n",
    "\n",
    "\n",
    "#Last operation:\n",
    "\n",
    "x = x - y\n",
    "\n",
    "\n",
    "# Print the swapped values:\n",
    "\n",
    "print('The value of x:', x)\n",
    "\n",
    "print('The value of y:', y)"
   ]
  },
  {
   "cell_type": "code",
   "execution_count": null,
   "id": "019b1039-7897-4e04-9a49-586c8fc379f8",
   "metadata": {},
   "outputs": [],
   "source": []
  },
  {
   "cell_type": "markdown",
   "id": "1a666fc6-40f5-4688-8ba9-e67385c8e2a3",
   "metadata": {},
   "source": [
    "# "
   ]
  },
  {
   "cell_type": "markdown",
   "id": "c167d4bf-b9ef-411d-801a-d7c10ca7e89c",
   "metadata": {},
   "source": [
    " 2. Create a program that calculates the area of a rectangle. Take the\n",
    "length and width as inputs from the user and store them in variables.\n",
    "Calculate and display the area.\n"
   ]
  },
  {
   "cell_type": "code",
   "execution_count": 44,
   "id": "cb4d12b4-a389-44b5-aba0-e0b7a2d0c104",
   "metadata": {},
   "outputs": [
    {
     "name": "stdin",
     "output_type": "stream",
     "text": [
      "Enter the length: 2\n",
      "Enter the width: 3\n"
     ]
    },
    {
     "data": {
      "text/plain": [
       "'Area of triangle = 6.0'"
      ]
     },
     "execution_count": 44,
     "metadata": {},
     "output_type": "execute_result"
    }
   ],
   "source": [
    "length = float(input('Enter the length:'))\n",
    "\n",
    "width = float(input('Enter the width:'))\n",
    "\n",
    "area = length * width\n",
    "\n",
    "f'Area of triangle = {area}'"
   ]
  },
  {
   "cell_type": "markdown",
   "id": "ad8f49eb-8c53-4695-bbae-2373a6cbbf6b",
   "metadata": {},
   "source": [
    "# "
   ]
  },
  {
   "cell_type": "markdown",
   "id": "be8e8c7b-55dd-42f7-9853-0b73e6bd5a1b",
   "metadata": {},
   "source": [
    "# \n",
    "3. Write a Python program that converts temperature from Celsius to\n",
    "Fahrenheit. Take the temperature in Celsius as input, store it in a\n",
    "variable, convert it to Fahrenheit, and display the result.\n"
   ]
  },
  {
   "cell_type": "code",
   "execution_count": 47,
   "id": "101e0b6f-155f-48c8-abf1-40cd60d79cfa",
   "metadata": {},
   "outputs": [
    {
     "name": "stdin",
     "output_type": "stream",
     "text": [
      "Enter temperature in Celsius 37.4\n"
     ]
    },
    {
     "data": {
      "text/plain": [
       "'Temperature in Farenheit = 99.32'"
      ]
     },
     "execution_count": 47,
     "metadata": {},
     "output_type": "execute_result"
    }
   ],
   "source": [
    "temp_celsius = float(input('Enter temperature in Celsius'))\n",
    "\n",
    "temp_fahrenheit = (temp_celsius * 9/5) + 32\n",
    "\n",
    "\n",
    "f'Temperature in Farenheit = {temp_fahrenheit}'"
   ]
  },
  {
   "cell_type": "markdown",
   "id": "3bc80d73-969a-4a06-9df4-f3ddc9bdd801",
   "metadata": {},
   "source": [
    "# "
   ]
  },
  {
   "cell_type": "markdown",
   "id": "763da5a8-a578-4d6f-98d6-acdcd0f6abf8",
   "metadata": {},
   "source": [
    "# "
   ]
  },
  {
   "cell_type": "raw",
   "id": "3bc84a27-a749-462b-bd40-4a35737ba19d",
   "metadata": {},
   "source": [
    "TOPIC: String Based Questions"
   ]
  },
  {
   "cell_type": "markdown",
   "id": "4da7c378-4baa-4199-bd03-c06883726439",
   "metadata": {},
   "source": [
    "# \n",
    "1. Write a Python program that takes a string as input and prints the\n",
    "length of the string."
   ]
  },
  {
   "cell_type": "code",
   "execution_count": 53,
   "id": "a56c2dd2-d040-41d5-b2db-fc08374b29bc",
   "metadata": {},
   "outputs": [
    {
     "name": "stdin",
     "output_type": "stream",
     "text": [
      " 4\n"
     ]
    },
    {
     "name": "stdout",
     "output_type": "stream",
     "text": [
      "1\n"
     ]
    }
   ],
   "source": [
    "string_1 = input()\n",
    "\n",
    "\n",
    "print(len(string_1))"
   ]
  },
  {
   "cell_type": "markdown",
   "id": "d636f134-81e4-4932-a2f8-d24c2b19cc84",
   "metadata": {},
   "source": [
    "\n",
    "2. Create a program that takes a sentence from the user and counts the\n",
    "number of vowels (a, e, i, o, u) in the string.\n"
   ]
  },
  {
   "cell_type": "code",
   "execution_count": 63,
   "id": "3f03f420-20c0-443c-93c5-05703fe1dd4c",
   "metadata": {},
   "outputs": [
    {
     "name": "stdin",
     "output_type": "stream",
     "text": [
      "Enter a sentence: The quick brown fox jumped over the lazy dog.\n"
     ]
    },
    {
     "data": {
      "text/plain": [
       "'Number of vowels = 12'"
      ]
     },
     "execution_count": 63,
     "metadata": {},
     "output_type": "execute_result"
    }
   ],
   "source": [
    "sentence = input('Enter a sentence:')\n",
    "\n",
    "sentence_lower = sentence.lower()\n",
    "\n",
    "vowel_count = 0\n",
    "\n",
    "for i in sentence_lower:\n",
    "    if(i == 'a' or i == 'e' or i == 'i' or i == 'o' or i =='u'):\n",
    "        vowel_count += 1\n",
    "        \n",
    "f'Number of vowels = {vowel_count}'"
   ]
  },
  {
   "cell_type": "markdown",
   "id": "a250610c-57a8-40ee-b824-7357d7775b7f",
   "metadata": {},
   "source": [
    "\n",
    "3. Given a string, reverse the order of characters using string slicing and\n",
    "print the reversed string.\n",
    "\n"
   ]
  },
  {
   "cell_type": "code",
   "execution_count": 64,
   "id": "320f0812-3a49-4157-9aa0-d2601c2d0888",
   "metadata": {},
   "outputs": [
    {
     "data": {
      "text/plain": [
       "'lecxE & LQS ,nohtyP'"
      ]
     },
     "execution_count": 64,
     "metadata": {},
     "output_type": "execute_result"
    }
   ],
   "source": [
    "string_0 = 'Python, SQL & Excel'\n",
    "\n",
    "reverse_string_0 = string_0[::-1]\n",
    "\n",
    "reverse_string_0"
   ]
  },
  {
   "cell_type": "markdown",
   "id": "8cb764f1-4194-4087-a1d7-9f1e3723b7e9",
   "metadata": {},
   "source": [
    "4. Write a program that takes a string as input and checks if it is a\n",
    "palindrome (reads the same forwards and backwards)."
   ]
  },
  {
   "cell_type": "code",
   "execution_count": 123,
   "id": "3ccd4104-2bf7-4765-805b-38242622cfcd",
   "metadata": {},
   "outputs": [
    {
     "name": "stdin",
     "output_type": "stream",
     "text": [
      " noon noon noon\n"
     ]
    },
    {
     "name": "stdout",
     "output_type": "stream",
     "text": [
      "palindrome\n"
     ]
    }
   ],
   "source": [
    "string_1 = input()\n",
    "\n",
    "new_string = ''\n",
    "\n",
    "for i in string_1:\n",
    "    new_string = i + new_string\n",
    "\n",
    "if string_1 == new_string:\n",
    "    print('palindrome')\n",
    "else:\n",
    "    ('Not palindrome')"
   ]
  },
  {
   "cell_type": "markdown",
   "id": "141bab6b-20e4-42e5-a13c-7826a1a4ebbf",
   "metadata": {},
   "source": [
    "#### \n",
    "5. Create a program that takes a string as input and removes all the\n",
    "spaces from it. Print the modified string without spaces.\n"
   ]
  },
  {
   "cell_type": "code",
   "execution_count": 120,
   "id": "ad465cbe-031f-41e4-ad45-22c00db9a7ed",
   "metadata": {},
   "outputs": [
    {
     "name": "stdin",
     "output_type": "stream",
     "text": [
      " pp y i i i \n"
     ]
    },
    {
     "name": "stdout",
     "output_type": "stream",
     "text": [
      "ppyiii\n"
     ]
    }
   ],
   "source": [
    "input_1 = input()\n",
    "\n",
    "\n",
    "modified_string = input_1.replace(' ', '')\n",
    "\n",
    "print(modified_string)"
   ]
  },
  {
   "cell_type": "code",
   "execution_count": 122,
   "id": "779c6f95-c9b6-4a96-95e9-1a019076b49a",
   "metadata": {},
   "outputs": [
    {
     "name": "stdin",
     "output_type": "stream",
     "text": [
      " p y t h o n\n"
     ]
    },
    {
     "name": "stdout",
     "output_type": "stream",
     "text": [
      "python\n"
     ]
    }
   ],
   "source": [
    "input_1 = input()\n",
    "\n",
    "\n",
    "modified_string = input_1.replace(' ', '')\n",
    "\n",
    "print(modified_string)"
   ]
  },
  {
   "cell_type": "code",
   "execution_count": null,
   "id": "474cb79c-b7df-4c5f-a775-e5bacc55d25f",
   "metadata": {},
   "outputs": [],
   "source": []
  }
 ],
 "metadata": {
  "kernelspec": {
   "display_name": "Python 3 (ipykernel)",
   "language": "python",
   "name": "python3"
  },
  "language_info": {
   "codemirror_mode": {
    "name": "ipython",
    "version": 3
   },
   "file_extension": ".py",
   "mimetype": "text/x-python",
   "name": "python",
   "nbconvert_exporter": "python",
   "pygments_lexer": "ipython3",
   "version": "3.10.9"
  }
 },
 "nbformat": 4,
 "nbformat_minor": 5
}
